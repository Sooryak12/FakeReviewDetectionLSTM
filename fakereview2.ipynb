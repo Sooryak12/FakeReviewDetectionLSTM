{
  "nbformat": 4,
  "nbformat_minor": 0,
  "metadata": {
    "kernelspec": {
      "display_name": "Python 3",
      "language": "python",
      "name": "python3"
    },
    "language_info": {
      "codemirror_mode": {
        "name": "ipython",
        "version": 3
      },
      "file_extension": ".py",
      "mimetype": "text/x-python",
      "name": "python",
      "nbconvert_exporter": "python",
      "pygments_lexer": "ipython3",
      "version": "3.7.4"
    },
    "colab": {
      "name": "fakereview2.ipynb",
      "provenance": [],
      "collapsed_sections": []
    }
  },
  "cells": [
    {
      "cell_type": "code",
      "metadata": {
        "id": "Z9W3Az_urFtj",
        "colab_type": "code",
        "colab": {
          "base_uri": "https://localhost:8080/",
          "height": 70
        },
        "outputId": "548c0575-e849-49e3-ccc6-824dff882da8"
      },
      "source": [
        "import pandas as pd\n",
        "import numpy as np\n",
        "import matplotlib.pyplot as plt\n",
        "import seaborn as sns\n",
        "%matplotlib inline\n",
        "import re\n"
      ],
      "execution_count": 1,
      "outputs": [
        {
          "output_type": "stream",
          "text": [
            "/usr/local/lib/python3.6/dist-packages/statsmodels/tools/_testing.py:19: FutureWarning: pandas.util.testing is deprecated. Use the functions in the public API at pandas.testing instead.\n",
            "  import pandas.util.testing as tm\n"
          ],
          "name": "stderr"
        }
      ]
    },
    {
      "cell_type": "code",
      "metadata": {
        "id": "r1VSebGBrFto",
        "colab_type": "code",
        "colab": {
          "base_uri": "https://localhost:8080/",
          "height": 84
        },
        "outputId": "8201adb4-78a8-4f33-b42c-feba30296de0"
      },
      "source": [
        "import nltk\n",
        "from nltk.tokenize import word_tokenize\n",
        "nltk.download('stopwords')\n",
        "from nltk.corpus import stopwords\n",
        "stopwords=stopwords.words(\"english\")\n",
        "nltk.download('wordnet')\n",
        "from nltk.stem import WordNetLemmatizer\n"
      ],
      "execution_count": 5,
      "outputs": [
        {
          "output_type": "stream",
          "text": [
            "[nltk_data] Downloading package stopwords to /root/nltk_data...\n",
            "[nltk_data]   Package stopwords is already up-to-date!\n",
            "[nltk_data] Downloading package wordnet to /root/nltk_data...\n",
            "[nltk_data]   Unzipping corpora/wordnet.zip.\n"
          ],
          "name": "stdout"
        }
      ]
    },
    {
      "cell_type": "code",
      "metadata": {
        "id": "uEGJuURWrFtr",
        "colab_type": "code",
        "colab": {}
      },
      "source": [
        "url=\"https://raw.githubusercontent.com/Sooryak12/FakeReviewDetectionLSTM/master/selected.txt\"\n"
      ],
      "execution_count": 103,
      "outputs": []
    },
    {
      "cell_type": "code",
      "metadata": {
        "id": "Wy7lhMw9rvNV",
        "colab_type": "code",
        "colab": {
          "base_uri": "https://localhost:8080/",
          "height": 246
        },
        "outputId": "f5e447a8-7231-4f1f-8d9f-6eb8c1d9faa0"
      },
      "source": [
        "df=pd.read_csv(url,delimiter=\"\\t\")\n",
        "df.head()"
      ],
      "execution_count": 104,
      "outputs": [
        {
          "output_type": "execute_result",
          "data": {
            "text/html": [
              "<div>\n",
              "<style scoped>\n",
              "    .dataframe tbody tr th:only-of-type {\n",
              "        vertical-align: middle;\n",
              "    }\n",
              "\n",
              "    .dataframe tbody tr th {\n",
              "        vertical-align: top;\n",
              "    }\n",
              "\n",
              "    .dataframe thead th {\n",
              "        text-align: right;\n",
              "    }\n",
              "</style>\n",
              "<table border=\"1\" class=\"dataframe\">\n",
              "  <thead>\n",
              "    <tr style=\"text-align: right;\">\n",
              "      <th></th>\n",
              "      <th>DOC_ID</th>\n",
              "      <th>LABEL</th>\n",
              "      <th>RATING</th>\n",
              "      <th>VERIFIED_PURCHASE</th>\n",
              "      <th>PRODUCT_CATEGORY</th>\n",
              "      <th>PRODUCT_ID</th>\n",
              "      <th>PRODUCT_TITLE</th>\n",
              "      <th>REVIEW_TITLE</th>\n",
              "      <th>REVIEW_TEXT</th>\n",
              "    </tr>\n",
              "  </thead>\n",
              "  <tbody>\n",
              "    <tr>\n",
              "      <th>0</th>\n",
              "      <td>1</td>\n",
              "      <td>__label1__</td>\n",
              "      <td>4</td>\n",
              "      <td>N</td>\n",
              "      <td>PC</td>\n",
              "      <td>B00008NG7N</td>\n",
              "      <td>Targus PAUK10U Ultra Mini USB Keypad, Black</td>\n",
              "      <td>useful</td>\n",
              "      <td>When least you think so, this product will sav...</td>\n",
              "    </tr>\n",
              "    <tr>\n",
              "      <th>1</th>\n",
              "      <td>2</td>\n",
              "      <td>__label1__</td>\n",
              "      <td>4</td>\n",
              "      <td>Y</td>\n",
              "      <td>Wireless</td>\n",
              "      <td>B00LH0Y3NM</td>\n",
              "      <td>Note 3 Battery : Stalion Strength Replacement ...</td>\n",
              "      <td>New era for batteries</td>\n",
              "      <td>Lithium batteries are something new introduced...</td>\n",
              "    </tr>\n",
              "    <tr>\n",
              "      <th>2</th>\n",
              "      <td>3</td>\n",
              "      <td>__label1__</td>\n",
              "      <td>3</td>\n",
              "      <td>N</td>\n",
              "      <td>Baby</td>\n",
              "      <td>B000I5UZ1Q</td>\n",
              "      <td>Fisher-Price Papasan Cradle Swing, Starlight</td>\n",
              "      <td>doesn't swing very well.</td>\n",
              "      <td>I purchased this swing for my baby. She is 6 m...</td>\n",
              "    </tr>\n",
              "    <tr>\n",
              "      <th>3</th>\n",
              "      <td>4</td>\n",
              "      <td>__label1__</td>\n",
              "      <td>4</td>\n",
              "      <td>N</td>\n",
              "      <td>Office Products</td>\n",
              "      <td>B003822IRA</td>\n",
              "      <td>Casio MS-80B Standard Function Desktop Calculator</td>\n",
              "      <td>Great computing!</td>\n",
              "      <td>I was looking for an inexpensive desk calcolat...</td>\n",
              "    </tr>\n",
              "    <tr>\n",
              "      <th>4</th>\n",
              "      <td>5</td>\n",
              "      <td>__label1__</td>\n",
              "      <td>4</td>\n",
              "      <td>N</td>\n",
              "      <td>Beauty</td>\n",
              "      <td>B00PWSAXAM</td>\n",
              "      <td>Shine Whitening - Zero Peroxide Teeth Whitenin...</td>\n",
              "      <td>Only use twice a week</td>\n",
              "      <td>I only use it twice a week and the results are...</td>\n",
              "    </tr>\n",
              "  </tbody>\n",
              "</table>\n",
              "</div>"
            ],
            "text/plain": [
              "   DOC_ID  ...                                        REVIEW_TEXT\n",
              "0       1  ...  When least you think so, this product will sav...\n",
              "1       2  ...  Lithium batteries are something new introduced...\n",
              "2       3  ...  I purchased this swing for my baby. She is 6 m...\n",
              "3       4  ...  I was looking for an inexpensive desk calcolat...\n",
              "4       5  ...  I only use it twice a week and the results are...\n",
              "\n",
              "[5 rows x 9 columns]"
            ]
          },
          "metadata": {
            "tags": []
          },
          "execution_count": 104
        }
      ]
    },
    {
      "cell_type": "code",
      "metadata": {
        "id": "Mzlf6fxHrFtv",
        "colab_type": "code",
        "colab": {
          "base_uri": "https://localhost:8080/",
          "height": 185
        },
        "outputId": "b73f045d-c15f-4171-addf-bf9e4797b2c5"
      },
      "source": [
        "df.isnull().sum()"
      ],
      "execution_count": 9,
      "outputs": [
        {
          "output_type": "execute_result",
          "data": {
            "text/plain": [
              "DOC_ID               0\n",
              "LABEL                0\n",
              "RATING               0\n",
              "VERIFIED_PURCHASE    0\n",
              "PRODUCT_CATEGORY     0\n",
              "PRODUCT_ID           0\n",
              "PRODUCT_TITLE        0\n",
              "REVIEW_TITLE         0\n",
              "REVIEW_TEXT          0\n",
              "dtype: int64"
            ]
          },
          "metadata": {
            "tags": []
          },
          "execution_count": 9
        }
      ]
    },
    {
      "cell_type": "code",
      "metadata": {
        "id": "3oKTYn9_rFtx",
        "colab_type": "code",
        "colab": {
          "base_uri": "https://localhost:8080/",
          "height": 538
        },
        "outputId": "62fa9eb6-5b35-4046-bf6d-54821d5d546f"
      },
      "source": [
        "df[\"PRODUCT_CATEGORY\"].value_counts()"
      ],
      "execution_count": 10,
      "outputs": [
        {
          "output_type": "execute_result",
          "data": {
            "text/plain": [
              "Home Improvement          700\n",
              "Health & Personal Care    700\n",
              "Musical Instruments       700\n",
              "Grocery                   700\n",
              "Outdoors                  700\n",
              "Home                      700\n",
              "Toys                      700\n",
              "Office Products           700\n",
              "Books                     700\n",
              "Video DVD                 700\n",
              "Pet Products              700\n",
              "Kitchen                   700\n",
              "Apparel                   700\n",
              "Electronics               700\n",
              "Beauty                    700\n",
              "Furniture                 700\n",
              "Tools                     700\n",
              "Jewelry                   700\n",
              "Wireless                  700\n",
              "Sports                    700\n",
              "Lawn and Garden           700\n",
              "Camera                    700\n",
              "PC                        700\n",
              "Automotive                700\n",
              "Baby                      700\n",
              "Home Entertainment        700\n",
              "Watches                   700\n",
              "Video Games               700\n",
              "Luggage                   700\n",
              "Shoes                     700\n",
              "Name: PRODUCT_CATEGORY, dtype: int64"
            ]
          },
          "metadata": {
            "tags": []
          },
          "execution_count": 10
        }
      ]
    },
    {
      "cell_type": "code",
      "metadata": {
        "id": "Ov5DL2lOrFt0",
        "colab_type": "code",
        "colab": {}
      },
      "source": [
        "df[\"LABEL\"]=df[\"LABEL\"].replace(['__label2__','__label1__'],['0','1'])"
      ],
      "execution_count": 11,
      "outputs": []
    },
    {
      "cell_type": "code",
      "metadata": {
        "id": "LtiPSOuYrFt3",
        "colab_type": "code",
        "colab": {}
      },
      "source": [
        "dfs=df[[\"REVIEW_TEXT\",\"LABEL\",\"PRODUCT_CATEGORY\"]]\n",
        "dfs = dfs.rename(columns={'REVIEW_TEXT': 'reviews',\"LABEL\":\"label\",\"PRODUCT_CATEGORY\":\"cat\"})"
      ],
      "execution_count": 65,
      "outputs": []
    },
    {
      "cell_type": "code",
      "metadata": {
        "id": "4-dHysdUrFt6",
        "colab_type": "code",
        "colab": {
          "base_uri": "https://localhost:8080/",
          "height": 185
        },
        "outputId": "812b24df-bb15-4447-bb31-c98e9104e12d"
      },
      "source": [
        "dfs.info()"
      ],
      "execution_count": 13,
      "outputs": [
        {
          "output_type": "stream",
          "text": [
            "<class 'pandas.core.frame.DataFrame'>\n",
            "RangeIndex: 21000 entries, 0 to 20999\n",
            "Data columns (total 3 columns):\n",
            " #   Column   Non-Null Count  Dtype \n",
            "---  ------   --------------  ----- \n",
            " 0   reviews  21000 non-null  object\n",
            " 1   label    21000 non-null  object\n",
            " 2   cat      21000 non-null  object\n",
            "dtypes: object(3)\n",
            "memory usage: 492.3+ KB\n"
          ],
          "name": "stdout"
        }
      ]
    },
    {
      "cell_type": "code",
      "metadata": {
        "id": "dQ6QrpaerFt9",
        "colab_type": "code",
        "colab": {}
      },
      "source": [
        "dfs[\"reviews\"]=dfs[\"reviews\"].apply(lambda x:x.lower())\n",
        "dfs[\"reviews\"] = dfs[\"reviews\"].apply(lambda x: re.sub(\"[^a-zA-Z]\", \" \", x))\n",
        "dfs[\"reviews\"] = dfs[\"reviews\"].apply(lambda x: re.sub(\"\\s+\", \" \", x))"
      ],
      "execution_count": 66,
      "outputs": []
    },
    {
      "cell_type": "code",
      "metadata": {
        "id": "j5Yqq2MhrFuA",
        "colab_type": "code",
        "colab": {
          "base_uri": "https://localhost:8080/",
          "height": 67
        },
        "outputId": "d16ee63e-230a-4c85-f1c0-2d6dffc7b40f"
      },
      "source": [
        "dfs[\"label\"].value_counts()"
      ],
      "execution_count": 15,
      "outputs": [
        {
          "output_type": "execute_result",
          "data": {
            "text/plain": [
              "0    10500\n",
              "1    10500\n",
              "Name: label, dtype: int64"
            ]
          },
          "metadata": {
            "tags": []
          },
          "execution_count": 15
        }
      ]
    },
    {
      "cell_type": "markdown",
      "metadata": {
        "id": "dOWWD2TYrFuC",
        "colab_type": "text"
      },
      "source": [
        "The Data is Unbiased"
      ]
    },
    {
      "cell_type": "code",
      "metadata": {
        "id": "qHZfhRJyrFuD",
        "colab_type": "code",
        "colab": {
          "base_uri": "https://localhost:8080/",
          "height": 195
        },
        "outputId": "c7b77c2a-a2ec-44a8-fae2-e0981df30c0d"
      },
      "source": [
        "dfs.head()"
      ],
      "execution_count": 16,
      "outputs": [
        {
          "output_type": "execute_result",
          "data": {
            "text/html": [
              "<div>\n",
              "<style scoped>\n",
              "    .dataframe tbody tr th:only-of-type {\n",
              "        vertical-align: middle;\n",
              "    }\n",
              "\n",
              "    .dataframe tbody tr th {\n",
              "        vertical-align: top;\n",
              "    }\n",
              "\n",
              "    .dataframe thead th {\n",
              "        text-align: right;\n",
              "    }\n",
              "</style>\n",
              "<table border=\"1\" class=\"dataframe\">\n",
              "  <thead>\n",
              "    <tr style=\"text-align: right;\">\n",
              "      <th></th>\n",
              "      <th>reviews</th>\n",
              "      <th>label</th>\n",
              "      <th>cat</th>\n",
              "    </tr>\n",
              "  </thead>\n",
              "  <tbody>\n",
              "    <tr>\n",
              "      <th>0</th>\n",
              "      <td>when least you think so this product will save...</td>\n",
              "      <td>1</td>\n",
              "      <td>PC</td>\n",
              "    </tr>\n",
              "    <tr>\n",
              "      <th>1</th>\n",
              "      <td>lithium batteries are something new introduced...</td>\n",
              "      <td>1</td>\n",
              "      <td>Wireless</td>\n",
              "    </tr>\n",
              "    <tr>\n",
              "      <th>2</th>\n",
              "      <td>i purchased this swing for my baby she is mont...</td>\n",
              "      <td>1</td>\n",
              "      <td>Baby</td>\n",
              "    </tr>\n",
              "    <tr>\n",
              "      <th>3</th>\n",
              "      <td>i was looking for an inexpensive desk calcolat...</td>\n",
              "      <td>1</td>\n",
              "      <td>Office Products</td>\n",
              "    </tr>\n",
              "    <tr>\n",
              "      <th>4</th>\n",
              "      <td>i only use it twice a week and the results are...</td>\n",
              "      <td>1</td>\n",
              "      <td>Beauty</td>\n",
              "    </tr>\n",
              "  </tbody>\n",
              "</table>\n",
              "</div>"
            ],
            "text/plain": [
              "                                             reviews label              cat\n",
              "0  when least you think so this product will save...     1               PC\n",
              "1  lithium batteries are something new introduced...     1         Wireless\n",
              "2  i purchased this swing for my baby she is mont...     1             Baby\n",
              "3  i was looking for an inexpensive desk calcolat...     1  Office Products\n",
              "4  i only use it twice a week and the results are...     1           Beauty"
            ]
          },
          "metadata": {
            "tags": []
          },
          "execution_count": 16
        }
      ]
    },
    {
      "cell_type": "code",
      "metadata": {
        "id": "N8LbnnvGrFuF",
        "colab_type": "code",
        "colab": {
          "base_uri": "https://localhost:8080/",
          "height": 34
        },
        "outputId": "47ee0bbd-aebf-40eb-f16c-c06840cc69c2"
      },
      "source": [
        "\"not\" in stopwords"
      ],
      "execution_count": 17,
      "outputs": [
        {
          "output_type": "execute_result",
          "data": {
            "text/plain": [
              "True"
            ]
          },
          "metadata": {
            "tags": []
          },
          "execution_count": 17
        }
      ]
    },
    {
      "cell_type": "code",
      "metadata": {
        "id": "7FKtWiryrFuI",
        "colab_type": "code",
        "colab": {
          "base_uri": "https://localhost:8080/",
          "height": 50
        },
        "outputId": "3cd61e32-6a3e-4843-cc1f-bc4356229331"
      },
      "source": [
        "nltk.download('punkt')\n",
        "def stop(text):\n",
        "    clean_sent =[]\n",
        "    for w in word_tokenize(text):\n",
        "        if not w in stopwords:\n",
        "            clean_sent.append(w)\n",
        "    return \" \".join(clean_sent)\n",
        "\n",
        "wordnet_lemmatizer = WordNetLemmatizer()\n",
        "\n",
        "def lemmatize(text):\n",
        "\n",
        "    word_tokens = nltk.word_tokenize(text)\n",
        "    lemmatized_word = [wordnet_lemmatizer.lemmatize(word) for word in word_tokens]\n",
        "    return (\" \".join(lemmatized_word))\n",
        "\n",
        "\n",
        "\n",
        "def tokenizee(text):\n",
        "    return word_tokenize(text)"
      ],
      "execution_count": 20,
      "outputs": [
        {
          "output_type": "stream",
          "text": [
            "[nltk_data] Downloading package punkt to /root/nltk_data...\n",
            "[nltk_data]   Unzipping tokenizers/punkt.zip.\n"
          ],
          "name": "stdout"
        }
      ]
    },
    {
      "cell_type": "code",
      "metadata": {
        "id": "cjN6B7YprFuL",
        "colab_type": "code",
        "colab": {}
      },
      "source": [
        "dfs[\"reviews\"]=dfs[\"reviews\"].apply(lemmatize)\n",
        "dfs[\"reviews\"]=dfs[\"reviews\"].apply(stop)\n",
        "dfs[\"reviews\"]=dfs[\"reviews\"].apply(tokenizee)\n"
      ],
      "execution_count": 67,
      "outputs": []
    },
    {
      "cell_type": "code",
      "metadata": {
        "id": "r2tBl1FArFuN",
        "colab_type": "code",
        "colab": {
          "base_uri": "https://localhost:8080/",
          "height": 34
        },
        "outputId": "f2282e34-90c6-4308-de6b-0e8a9267ce3d"
      },
      "source": [
        "dfs[\"reviews\"][10]"
      ],
      "execution_count": 22,
      "outputs": [
        {
          "output_type": "execute_result",
          "data": {
            "text/plain": [
              "['unfortunately', 'work', 'made', 'sick', 'throw', 'two', 'time', 'tried']"
            ]
          },
          "metadata": {
            "tags": []
          },
          "execution_count": 22
        }
      ]
    },
    {
      "cell_type": "code",
      "metadata": {
        "id": "5EMj1QlUrFuP",
        "colab_type": "code",
        "colab": {}
      },
      "source": [
        "length=[]\n",
        "for i in range (len(dfs[\"reviews\"])):\n",
        "    length.append(len(dfs[\"reviews\"][i]))"
      ],
      "execution_count": 68,
      "outputs": []
    },
    {
      "cell_type": "code",
      "metadata": {
        "id": "GyX4TqGBrFuS",
        "colab_type": "code",
        "colab": {
          "base_uri": "https://localhost:8080/",
          "height": 592
        },
        "outputId": "e9691d32-5982-4381-e720-15e8b76c5a2e"
      },
      "source": [
        "plt.figure(figsize=(10,10))\n",
        "sns.countplot(length)\n",
        "plt.show()"
      ],
      "execution_count": 24,
      "outputs": [
        {
          "output_type": "display_data",
          "data": {
            "image/png": "[encoded data removed]",
            "text/plain": [
              "<Figure size 720x720 with 1 Axes>"
            ]
          },
          "metadata": {
            "tags": [],
            "needs_background": "light"
          }
        }
      ]
    },
    {
      "cell_type": "markdown",
      "metadata": {
        "id": "iojjjiVkrFuU",
        "colab_type": "text"
      },
      "source": [
        "We see that there are many outliers and the data is heavily left skewed.So we have to do much more analysis to select the proper lenth for the text to embedd."
      ]
    },
    {
      "cell_type": "code",
      "metadata": {
        "id": "6KjC9hmxrFuV",
        "colab_type": "code",
        "colab": {}
      },
      "source": [
        "txt=\" mean:{} \\n median:{} \\n maximum length:{} \\n minimum length:{}\".format(np.mean(length),np.median(length),np.max(length),np.min(length))"
      ],
      "execution_count": 25,
      "outputs": []
    },
    {
      "cell_type": "code",
      "metadata": {
        "id": "npz_vaTprFuX",
        "colab_type": "code",
        "colab": {
          "base_uri": "https://localhost:8080/",
          "height": 84
        },
        "outputId": "1ef98631-8ace-45e9-af82-f84bdecd69d1"
      },
      "source": [
        "print(txt)"
      ],
      "execution_count": 26,
      "outputs": [
        {
          "output_type": "stream",
          "text": [
            " mean:35.187714285714286 \n",
            " median:22.0 \n",
            " maximum length:1436 \n",
            " minimum length:5\n"
          ],
          "name": "stdout"
        }
      ]
    },
    {
      "cell_type": "code",
      "metadata": {
        "id": "DPYXcWs5rFua",
        "colab_type": "code",
        "colab": {}
      },
      "source": [
        "def category(x):\n",
        "    if 0<x<11:\n",
        "        return 5\n",
        "    elif 10<x<21:\n",
        "        return 15\n",
        "    elif 20<x<31:\n",
        "        return 25\n",
        "    elif 30<x<41:\n",
        "        return 35\n",
        "    elif 40<x<50:\n",
        "        return 45\n",
        "    elif 50<x<61:\n",
        "        return 55\n",
        "    elif 60<x<101:\n",
        "        return 80\n",
        "    elif 100<x<301:\n",
        "        return 150\n",
        "    elif 300<x<601:\n",
        "        return 450\n",
        "    elif 600<x<1001:\n",
        "        return 800\n",
        "    elif 1000<x<1501:\n",
        "        return 1250\n",
        "    "
      ],
      "execution_count": 27,
      "outputs": []
    },
    {
      "cell_type": "code",
      "metadata": {
        "id": "T86FOb73rFud",
        "colab_type": "code",
        "colab": {}
      },
      "source": [
        "cat=[]\n",
        "for i in range(len(length)):\n",
        "    cat.append(category(length[i]))"
      ],
      "execution_count": 28,
      "outputs": []
    },
    {
      "cell_type": "code",
      "metadata": {
        "id": "Z6s4J15zrFug",
        "colab_type": "code",
        "colab": {
          "base_uri": "https://localhost:8080/",
          "height": 606
        },
        "outputId": "3e5bcb8f-f452-4603-ba50-faeccb47d6e6"
      },
      "source": [
        "plt.figure(figsize=(10,10))\n",
        "ax=sns.countplot(cat)\n",
        "ax.set(xlabel=\"Mean Text length\")\n",
        "plt.show()"
      ],
      "execution_count": 29,
      "outputs": [
        {
          "output_type": "display_data",
          "data": {
            "image/png": "[encoded data removed]",
            "text/plain": [
              "<Figure size 720x720 with 1 Axes>"
            ]
          },
          "metadata": {
            "tags": [],
            "needs_background": "light"
          }
        }
      ]
    },
    {
      "cell_type": "code",
      "metadata": {
        "id": "Npw3mjC8rFui",
        "colab_type": "code",
        "colab": {
          "base_uri": "https://localhost:8080/",
          "height": 34
        },
        "outputId": "eb06a704-0e09-4df6-cc1f-4b792677cdfb"
      },
      "source": [
        "(15+25+35)/3"
      ],
      "execution_count": 30,
      "outputs": [
        {
          "output_type": "execute_result",
          "data": {
            "text/plain": [
              "25.0"
            ]
          },
          "metadata": {
            "tags": []
          },
          "execution_count": 30
        }
      ]
    },
    {
      "cell_type": "markdown",
      "metadata": {
        "id": "pVP3hcA3rFul",
        "colab_type": "text"
      },
      "source": [
        "Ideal Text size will be of 30-40"
      ]
    },
    {
      "cell_type": "code",
      "metadata": {
        "id": "L-ta_8YArFul",
        "colab_type": "code",
        "colab": {
          "base_uri": "https://localhost:8080/",
          "height": 34
        },
        "outputId": "dbc33f23-5464-43ac-d065-f20e4d93a96d"
      },
      "source": [
        "c=0\n",
        "for i in range(len(length)):\n",
        "    if 40> length[i]>1:\n",
        "      c+=1\n",
        "print(c)"
      ],
      "execution_count": 31,
      "outputs": [
        {
          "output_type": "stream",
          "text": [
            "16321\n"
          ],
          "name": "stdout"
        }
      ]
    },
    {
      "cell_type": "markdown",
      "metadata": {
        "id": "2UMk_3kSrFuo",
        "colab_type": "text"
      },
      "source": [
        "Texts with text size >700 is just 7 .We can remove them.\n",
        "The above mentioned values are the index of outliers."
      ]
    },
    {
      "cell_type": "code",
      "metadata": {
        "id": "1uWmnP-PrFup",
        "colab_type": "code",
        "colab": {
          "base_uri": "https://localhost:8080/",
          "height": 34
        },
        "outputId": "7ad0116f-1416-4bd6-c12e-309ea70244e9"
      },
      "source": [
        "len(length)"
      ],
      "execution_count": 32,
      "outputs": [
        {
          "output_type": "execute_result",
          "data": {
            "text/plain": [
              "21000"
            ]
          },
          "metadata": {
            "tags": []
          },
          "execution_count": 32
        }
      ]
    },
    {
      "cell_type": "code",
      "metadata": {
        "id": "xXBf0f5QrFus",
        "colab_type": "code",
        "colab": {
          "base_uri": "https://localhost:8080/",
          "height": 34
        },
        "outputId": "52b9198d-a895-4345-a7b6-5520de6d1d0b"
      },
      "source": [
        "19921/21000"
      ],
      "execution_count": 33,
      "outputs": [
        {
          "output_type": "execute_result",
          "data": {
            "text/plain": [
              "0.9486190476190476"
            ]
          },
          "metadata": {
            "tags": []
          },
          "execution_count": 33
        }
      ]
    },
    {
      "cell_type": "code",
      "metadata": {
        "id": "dX1GMPZBrFuv",
        "colab_type": "code",
        "colab": {
          "base_uri": "https://localhost:8080/",
          "height": 34
        },
        "outputId": "41dfb867-f4b7-4e1b-b98d-8d7cd7ea55ae"
      },
      "source": [
        "16321/21000"
      ],
      "execution_count": 34,
      "outputs": [
        {
          "output_type": "execute_result",
          "data": {
            "text/plain": [
              "0.7771904761904762"
            ]
          },
          "metadata": {
            "tags": []
          },
          "execution_count": 34
        }
      ]
    },
    {
      "cell_type": "code",
      "metadata": {
        "id": "BL-Q-l7brFuy",
        "colab_type": "code",
        "colab": {
          "base_uri": "https://localhost:8080/",
          "height": 34
        },
        "outputId": "26b65456-5fa8-48e1-cece-3a7f5780fe2b"
      },
      "source": [
        "19030/21000"
      ],
      "execution_count": 35,
      "outputs": [
        {
          "output_type": "execute_result",
          "data": {
            "text/plain": [
              "0.9061904761904762"
            ]
          },
          "metadata": {
            "tags": []
          },
          "execution_count": 35
        }
      ]
    },
    {
      "cell_type": "markdown",
      "metadata": {
        "id": "pXO79l_arFu1",
        "colab_type": "text"
      },
      "source": [
        "90% of the data lies with text size between 1 and 70.So we can remove all the other data.\n",
        "77% of the data lies with text size between 40.As LSTM takes long time to train .This data is enough i guess."
      ]
    },
    {
      "cell_type": "code",
      "metadata": {
        "id": "fkLXXX2GrFu2",
        "colab_type": "code",
        "colab": {
          "base_uri": "https://localhost:8080/",
          "height": 34
        },
        "outputId": "8b3fd629-de51-40af-cb18-0975f40230ad"
      },
      "source": [
        "dfs.columns"
      ],
      "execution_count": 36,
      "outputs": [
        {
          "output_type": "execute_result",
          "data": {
            "text/plain": [
              "Index(['reviews', 'label', 'cat'], dtype='object')"
            ]
          },
          "metadata": {
            "tags": []
          },
          "execution_count": 36
        }
      ]
    },
    {
      "cell_type": "code",
      "metadata": {
        "id": "DxkRFvbzrFu5",
        "colab_type": "code",
        "colab": {}
      },
      "source": [
        "dfs[\"length\"]=length"
      ],
      "execution_count": 69,
      "outputs": []
    },
    {
      "cell_type": "code",
      "metadata": {
        "id": "2J-_JR94rFu-",
        "colab_type": "code",
        "colab": {
          "base_uri": "https://localhost:8080/",
          "height": 195
        },
        "outputId": "5851d6f5-7e12-458a-92d3-f2b28f57413b"
      },
      "source": [
        "dfs.head()"
      ],
      "execution_count": 38,
      "outputs": [
        {
          "output_type": "execute_result",
          "data": {
            "text/html": [
              "<div>\n",
              "<style scoped>\n",
              "    .dataframe tbody tr th:only-of-type {\n",
              "        vertical-align: middle;\n",
              "    }\n",
              "\n",
              "    .dataframe tbody tr th {\n",
              "        vertical-align: top;\n",
              "    }\n",
              "\n",
              "    .dataframe thead th {\n",
              "        text-align: right;\n",
              "    }\n",
              "</style>\n",
              "<table border=\"1\" class=\"dataframe\">\n",
              "  <thead>\n",
              "    <tr style=\"text-align: right;\">\n",
              "      <th></th>\n",
              "      <th>reviews</th>\n",
              "      <th>label</th>\n",
              "      <th>cat</th>\n",
              "      <th>length</th>\n",
              "    </tr>\n",
              "  </thead>\n",
              "  <tbody>\n",
              "    <tr>\n",
              "      <th>0</th>\n",
              "      <td>[least, think, product, save, day, keep, aroun...</td>\n",
              "      <td>1</td>\n",
              "      <td>PC</td>\n",
              "      <td>10</td>\n",
              "    </tr>\n",
              "    <tr>\n",
              "      <th>1</th>\n",
              "      <td>[lithium, battery, something, new, introduced,...</td>\n",
              "      <td>1</td>\n",
              "      <td>Wireless</td>\n",
              "      <td>40</td>\n",
              "    </tr>\n",
              "    <tr>\n",
              "      <th>2</th>\n",
              "      <td>[purchased, swing, baby, month, ha, pretty, mu...</td>\n",
              "      <td>1</td>\n",
              "      <td>Baby</td>\n",
              "      <td>22</td>\n",
              "    </tr>\n",
              "    <tr>\n",
              "      <th>3</th>\n",
              "      <td>[wa, looking, inexpensive, desk, calcolatur, w...</td>\n",
              "      <td>1</td>\n",
              "      <td>Office Products</td>\n",
              "      <td>21</td>\n",
              "    </tr>\n",
              "    <tr>\n",
              "      <th>4</th>\n",
              "      <td>[use, twice, week, result, great, used, teeth,...</td>\n",
              "      <td>1</td>\n",
              "      <td>Beauty</td>\n",
              "      <td>27</td>\n",
              "    </tr>\n",
              "  </tbody>\n",
              "</table>\n",
              "</div>"
            ],
            "text/plain": [
              "                                             reviews  ... length\n",
              "0  [least, think, product, save, day, keep, aroun...  ...     10\n",
              "1  [lithium, battery, something, new, introduced,...  ...     40\n",
              "2  [purchased, swing, baby, month, ha, pretty, mu...  ...     22\n",
              "3  [wa, looking, inexpensive, desk, calcolatur, w...  ...     21\n",
              "4  [use, twice, week, result, great, used, teeth,...  ...     27\n",
              "\n",
              "[5 rows x 4 columns]"
            ]
          },
          "metadata": {
            "tags": []
          },
          "execution_count": 38
        }
      ]
    },
    {
      "cell_type": "code",
      "metadata": {
        "id": "WZ26t8WYrFvB",
        "colab_type": "code",
        "colab": {
          "base_uri": "https://localhost:8080/",
          "height": 202
        },
        "outputId": "6bba46b2-1e2c-4b6c-8dfc-0a6f4f4b48c8"
      },
      "source": [
        "dfs.info()"
      ],
      "execution_count": 39,
      "outputs": [
        {
          "output_type": "stream",
          "text": [
            "<class 'pandas.core.frame.DataFrame'>\n",
            "RangeIndex: 21000 entries, 0 to 20999\n",
            "Data columns (total 4 columns):\n",
            " #   Column   Non-Null Count  Dtype \n",
            "---  ------   --------------  ----- \n",
            " 0   reviews  21000 non-null  object\n",
            " 1   label    21000 non-null  object\n",
            " 2   cat      21000 non-null  object\n",
            " 3   length   21000 non-null  int64 \n",
            "dtypes: int64(1), object(3)\n",
            "memory usage: 656.4+ KB\n"
          ],
          "name": "stdout"
        }
      ]
    },
    {
      "cell_type": "code",
      "metadata": {
        "id": "LEsC3u5drFvE",
        "colab_type": "code",
        "colab": {}
      },
      "source": [
        "dfs=dfs[dfs[\"length\"]<41]"
      ],
      "execution_count": 70,
      "outputs": []
    },
    {
      "cell_type": "code",
      "metadata": {
        "id": "qz1l84iTrFvH",
        "colab_type": "code",
        "colab": {}
      },
      "source": [
        "test_dfs=dfs"
      ],
      "execution_count": 71,
      "outputs": []
    },
    {
      "cell_type": "code",
      "metadata": {
        "id": "7k46tjaUxTUX",
        "colab_type": "code",
        "colab": {}
      },
      "source": [
        "dfs=test_dfs"
      ],
      "execution_count": 87,
      "outputs": []
    },
    {
      "cell_type": "code",
      "metadata": {
        "id": "0CAYPVEwrFvM",
        "colab_type": "code",
        "colab": {
          "base_uri": "https://localhost:8080/",
          "height": 202
        },
        "outputId": "d72efe5a-b0dd-4971-ea18-56a487e6d665"
      },
      "source": [
        "dfs.info()"
      ],
      "execution_count": 90,
      "outputs": [
        {
          "output_type": "stream",
          "text": [
            "<class 'pandas.core.frame.DataFrame'>\n",
            "Int64Index: 16461 entries, 0 to 20998\n",
            "Data columns (total 4 columns):\n",
            " #   Column   Non-Null Count  Dtype  \n",
            "---  ------   --------------  -----  \n",
            " 0   reviews  16461 non-null  object \n",
            " 1   label    16461 non-null  float32\n",
            " 2   cat      16461 non-null  object \n",
            " 3   length   16461 non-null  int64  \n",
            "dtypes: float32(1), int64(1), object(2)\n",
            "memory usage: 1.2+ MB\n"
          ],
          "name": "stdout"
        }
      ]
    },
    {
      "cell_type": "code",
      "metadata": {
        "id": "gmR8HIRGw37z",
        "colab_type": "code",
        "colab": {}
      },
      "source": [
        "dfs[\"label\"]=dfs[\"label\"].astype(np.float32)"
      ],
      "execution_count": 91,
      "outputs": []
    },
    {
      "cell_type": "markdown",
      "metadata": {
        "id": "QgvqsH4UrFvQ",
        "colab_type": "text"
      },
      "source": [
        "we removed the outlier texts."
      ]
    },
    {
      "cell_type": "code",
      "metadata": {
        "id": "AvN5Em6MrFvQ",
        "colab_type": "code",
        "colab": {
          "base_uri": "https://localhost:8080/",
          "height": 538
        },
        "outputId": "2273923d-5646-4fad-b789-b26af61b264e"
      },
      "source": [
        "dfs[\"cat\"].value_counts()"
      ],
      "execution_count": 43,
      "outputs": [
        {
          "output_type": "execute_result",
          "data": {
            "text/plain": [
              "Jewelry                   648\n",
              "Shoes                     633\n",
              "Apparel                   622\n",
              "Watches                   600\n",
              "Office Products           584\n",
              "Furniture                 580\n",
              "Automotive                573\n",
              "Home                      567\n",
              "Wireless                  567\n",
              "Musical Instruments       561\n",
              "Outdoors                  556\n",
              "Tools                     554\n",
              "Sports                    554\n",
              "Toys                      548\n",
              "Lawn and Garden           546\n",
              "Luggage                   545\n",
              "Health & Personal Care    545\n",
              "Home Improvement          539\n",
              "Grocery                   537\n",
              "Baby                      536\n",
              "Beauty                    536\n",
              "Video Games               534\n",
              "Electronics               532\n",
              "Pet Products              526\n",
              "Kitchen                   524\n",
              "PC                        523\n",
              "Video DVD                 510\n",
              "Camera                    505\n",
              "Home Entertainment        459\n",
              "Books                     417\n",
              "Name: cat, dtype: int64"
            ]
          },
          "metadata": {
            "tags": []
          },
          "execution_count": 43
        }
      ]
    },
    {
      "cell_type": "code",
      "metadata": {
        "id": "v5nxgNuIrFvV",
        "colab_type": "code",
        "colab": {
          "base_uri": "https://localhost:8080/",
          "height": 67
        },
        "outputId": "c441087e-588f-462e-e272-d8f24eafb8cf"
      },
      "source": [
        "dfs[\"label\"].value_counts()"
      ],
      "execution_count": 44,
      "outputs": [
        {
          "output_type": "execute_result",
          "data": {
            "text/plain": [
              "1    8803\n",
              "0    7658\n",
              "Name: label, dtype: int64"
            ]
          },
          "metadata": {
            "tags": []
          },
          "execution_count": 44
        }
      ]
    },
    {
      "cell_type": "code",
      "metadata": {
        "id": "vGw-njwex4E8",
        "colab_type": "code",
        "colab": {
          "base_uri": "https://localhost:8080/",
          "height": 185
        },
        "outputId": "0a932616-ef33-4cef-fa68-b213fcb43020"
      },
      "source": [
        "dfs[\"reviews\"][0]"
      ],
      "execution_count": 89,
      "outputs": [
        {
          "output_type": "execute_result",
          "data": {
            "text/plain": [
              "['least',\n",
              " 'think',\n",
              " 'product',\n",
              " 'save',\n",
              " 'day',\n",
              " 'keep',\n",
              " 'around',\n",
              " 'case',\n",
              " 'need',\n",
              " 'something']"
            ]
          },
          "metadata": {
            "tags": []
          },
          "execution_count": 89
        }
      ]
    },
    {
      "cell_type": "code",
      "metadata": {
        "id": "5LfA5ymyrFvY",
        "colab_type": "code",
        "colab": {}
      },
      "source": [
        "def untokenize(textlist):\n",
        "    sen=\"\"\n",
        "    for text in textlist:\n",
        "        sen+=text\n",
        "        sen+=\" \"\n",
        "    return sen  "
      ],
      "execution_count": 45,
      "outputs": []
    },
    {
      "cell_type": "code",
      "metadata": {
        "id": "2lHkpbTUrFvb",
        "colab_type": "code",
        "colab": {}
      },
      "source": [
        "def untokenize2(s):  \n",
        "    \n",
        "    str1 = \" \" \n",
        "     \n",
        "    return (str1.join(s)) "
      ],
      "execution_count": 46,
      "outputs": []
    },
    {
      "cell_type": "code",
      "metadata": {
        "id": "s6D43A8lrFve",
        "colab_type": "code",
        "colab": {}
      },
      "source": [
        "test=[\"hi\",\"hello\",\"how\",\"are\",\"you\"]"
      ],
      "execution_count": 47,
      "outputs": []
    },
    {
      "cell_type": "code",
      "metadata": {
        "id": "zFKQ9e79rFvj",
        "colab_type": "code",
        "colab": {
          "base_uri": "https://localhost:8080/",
          "height": 50
        },
        "outputId": "434d9936-dde2-4d2c-cd98-65202c245b30"
      },
      "source": [
        "print(untokenize(test))\n",
        "print(untokenize2(test))"
      ],
      "execution_count": 48,
      "outputs": [
        {
          "output_type": "stream",
          "text": [
            "hi hello how are you \n",
            "hi hello how are you\n"
          ],
          "name": "stdout"
        }
      ]
    },
    {
      "cell_type": "code",
      "metadata": {
        "id": "yWX6U50-rFvm",
        "colab_type": "code",
        "colab": {}
      },
      "source": [
        "from sklearn.model_selection import train_test_split"
      ],
      "execution_count": 49,
      "outputs": []
    },
    {
      "cell_type": "code",
      "metadata": {
        "id": "r8SpB4A2u_E3",
        "colab_type": "code",
        "colab": {}
      },
      "source": [
        "dfs2=dfs"
      ],
      "execution_count": null,
      "outputs": []
    },
    {
      "cell_type": "code",
      "metadata": {
        "id": "3jk9tjh6rFvp",
        "colab_type": "code",
        "colab": {}
      },
      "source": [
        "df_train,df_test,Ytrain,Ytest = train_test_split(dfs[\"reviews\"],dfs[\"label\"], test_size=0.2, random_state=101)"
      ],
      "execution_count": 92,
      "outputs": []
    },
    {
      "cell_type": "code",
      "metadata": {
        "id": "kTLLsskarFvy",
        "colab_type": "code",
        "colab": {}
      },
      "source": [
        "df_train=df_train.apply(untokenize2)"
      ],
      "execution_count": 93,
      "outputs": []
    },
    {
      "cell_type": "code",
      "metadata": {
        "id": "Fz84hftarFv1",
        "colab_type": "code",
        "colab": {
          "base_uri": "https://localhost:8080/",
          "height": 35
        },
        "outputId": "f6237a33-f1a0-4cc3-95be-153b60f3923a"
      },
      "source": [
        "df_train[2]"
      ],
      "execution_count": 94,
      "outputs": [
        {
          "output_type": "execute_result",
          "data": {
            "application/vnd.google.colaboratory.intrinsic+json": {
              "type": "string"
            },
            "text/plain": [
              "'purchased swing baby month ha pretty much grown loud swing well beautiful though love color ha lot setting think wa worth money'"
            ]
          },
          "metadata": {
            "tags": []
          },
          "execution_count": 94
        }
      ]
    },
    {
      "cell_type": "code",
      "metadata": {
        "id": "eYBEW7PmrFv4",
        "colab_type": "code",
        "colab": {
          "base_uri": "https://localhost:8080/",
          "height": 218
        },
        "outputId": "6ae73cc3-374f-4be8-82e4-c6becb37e2a6"
      },
      "source": [
        "df_train"
      ],
      "execution_count": 75,
      "outputs": [
        {
          "output_type": "execute_result",
          "data": {
            "text/plain": [
              "18322    love let driver know peaceful buddhist live st...\n",
              "4183     finished reading certainly glad purchased book...\n",
              "15057    love construction quality drawer drawer open s...\n",
              "6018     juligo led headlamp comfortable wear cast nice...\n",
              "449      stand paper towel soft feel like toilet paper ...\n",
              "                               ...                        \n",
              "2971     nothing like quality bed happy material though...\n",
              "15747    bought shoe size chrat said size u eur receive...\n",
              "6774     good price good size bought student sure love ...\n",
              "9563     great game perfect beginner even veteran still...\n",
              "16774    make short travel want organized buy today rig...\n",
              "Name: reviews, Length: 13168, dtype: object"
            ]
          },
          "metadata": {
            "tags": []
          },
          "execution_count": 75
        }
      ]
    },
    {
      "cell_type": "code",
      "metadata": {
        "id": "DW7h284nrFv6",
        "colab_type": "code",
        "colab": {}
      },
      "source": [
        "\n",
        "from tensorflow.keras.preprocessing.text import Tokenizer\n",
        "from tensorflow.keras.preprocessing.sequence import pad_sequences\n",
        "from tensorflow.keras.layers import Dense, Input, GlobalMaxPooling1D\n",
        "from tensorflow.keras.layers import LSTM, Embedding\n",
        "from tensorflow.keras.models import Model"
      ],
      "execution_count": 76,
      "outputs": []
    },
    {
      "cell_type": "code",
      "metadata": {
        "id": "jP28b18jrFv8",
        "colab_type": "code",
        "colab": {}
      },
      "source": [
        "MAX_VOCAB_SIZE=20000\n",
        "tokenizer = Tokenizer(num_words=MAX_VOCAB_SIZE)\n",
        "tokenizer.fit_on_texts(df_train)\n",
        "sequences_train = tokenizer.texts_to_sequences(df_train)\n",
        "sequences_test = tokenizer.texts_to_sequences(df_test)"
      ],
      "execution_count": 95,
      "outputs": []
    },
    {
      "cell_type": "code",
      "metadata": {
        "id": "AwbFBKntrFv-",
        "colab_type": "code",
        "colab": {}
      },
      "source": [
        "word2idx = tokenizer.word_index\n",
        "V = len(word2idx)"
      ],
      "execution_count": 96,
      "outputs": []
    },
    {
      "cell_type": "code",
      "metadata": {
        "id": "d2NCoR8WrFwB",
        "colab_type": "code",
        "colab": {
          "base_uri": "https://localhost:8080/",
          "height": 34
        },
        "outputId": "31c5df13-42c1-45ac-d012-ea10524eb621"
      },
      "source": [
        "\n",
        "# pad sequences so that we get a N x T matrix\n",
        "data_train = pad_sequences(sequences_train)\n",
        "print('Shape of data train tensor:',data_train.shape)\n",
        "\n",
        "# get sequence length\n",
        "T = data_train.shape[1]"
      ],
      "execution_count": 79,
      "outputs": [
        {
          "output_type": "stream",
          "text": [
            "Shape of data train tensor: (13168, 40)\n"
          ],
          "name": "stdout"
        }
      ]
    },
    {
      "cell_type": "code",
      "metadata": {
        "id": "k1xZie5ArFwD",
        "colab_type": "code",
        "colab": {
          "base_uri": "https://localhost:8080/",
          "height": 34
        },
        "outputId": "18b8dd3d-17cc-467f-a91b-ede6717baf95"
      },
      "source": [
        "\n",
        "data_test = pad_sequences(sequences_test,maxlen=T)\n",
        "print('Shape of data test tensor:',data_test.shape)"
      ],
      "execution_count": 97,
      "outputs": [
        {
          "output_type": "stream",
          "text": [
            "Shape of data test tensor: (3293, 40)\n"
          ],
          "name": "stdout"
        }
      ]
    },
    {
      "cell_type": "code",
      "metadata": {
        "id": "5Dzgs8cnwe8t",
        "colab_type": "code",
        "colab": {
          "base_uri": "https://localhost:8080/",
          "height": 134
        },
        "outputId": "66725fe1-5d5a-49fd-e569-017824fab8fe"
      },
      "source": [
        "data_test"
      ],
      "execution_count": 84,
      "outputs": [
        {
          "output_type": "execute_result",
          "data": {
            "text/plain": [
              "array([[    0,     0,     0, ...,    97,   174,     5],\n",
              "       [    0,     0,     0, ...,   690, 12497,   344],\n",
              "       [    0,     0,     0, ...,  4392,  2388,  2598],\n",
              "       ...,\n",
              "       [    0,     0,     0, ...,   342,  4484,     6],\n",
              "       [    0,     0,     0, ...,     7,   167,   487],\n",
              "       [    0,     0,     0, ...,   112,   282,   166]], dtype=int32)"
            ]
          },
          "metadata": {
            "tags": []
          },
          "execution_count": 84
        }
      ]
    },
    {
      "cell_type": "code",
      "metadata": {
        "id": "Gq7mcXqwrFwI",
        "colab_type": "code",
        "colab": {}
      },
      "source": [
        "# create the model\n",
        "\n",
        "# We get to choose embeding dimensionality\n",
        "D = 20\n",
        "\n",
        "# Hidden stats dimensionality\n",
        "M = 15\n",
        "\n",
        "# Note: we actually want to the size of the embedding to (V+1) x D.\n",
        "# because the first index starts from 1 and not 0.\n",
        "# Thus, if the final index of the embedding matrix is V,\n",
        "# then it actually must have size V+1.\n",
        "\n",
        "i = Input(shape=(T,))\n",
        "x = Embedding(V+1,D)(i)\n",
        "x = LSTM(M,return_sequences=True)(x)\n",
        "x = GlobalMaxPooling1D()(x)\n",
        "x = Dense(1, activation='sigmoid')(x)\n",
        "\n",
        "model = Model(i,x)"
      ],
      "execution_count": 98,
      "outputs": []
    },
    {
      "cell_type": "code",
      "metadata": {
        "id": "lgVGwdbOrFwK",
        "colab_type": "code",
        "colab": {
          "base_uri": "https://localhost:8080/",
          "height": 370
        },
        "outputId": "1dbcb6fd-a368-4561-afba-28c014f3dce4"
      },
      "source": [
        " #Compile and fit\n",
        "model.compile(\n",
        "    loss='binary_crossentropy',\n",
        "    optimizer='adam',\n",
        "    metrics=['accuracy']\n",
        ")\n",
        "print('Training model....')\n",
        "r=model.fit(\n",
        "    data_train,\n",
        "    Ytrain,\n",
        "    epochs=10,\n",
        "    validation_data=(data_test,Ytest)\n",
        ")"
      ],
      "execution_count": 99,
      "outputs": [
        {
          "output_type": "stream",
          "text": [
            "Training model....\n",
            "Epoch 1/10\n",
            "412/412 [==============================] - 7s 17ms/step - loss: 0.6714 - accuracy: 0.5728 - val_loss: 0.6360 - val_accuracy: 0.6338\n",
            "Epoch 2/10\n",
            "412/412 [==============================] - 7s 16ms/step - loss: 0.5726 - accuracy: 0.7031 - val_loss: 0.6482 - val_accuracy: 0.6268\n",
            "Epoch 3/10\n",
            "412/412 [==============================] - 7s 16ms/step - loss: 0.4613 - accuracy: 0.7848 - val_loss: 0.7309 - val_accuracy: 0.6231\n",
            "Epoch 4/10\n",
            "412/412 [==============================] - 7s 17ms/step - loss: 0.3658 - accuracy: 0.8432 - val_loss: 0.7863 - val_accuracy: 0.6289\n",
            "Epoch 5/10\n",
            "412/412 [==============================] - 7s 17ms/step - loss: 0.2857 - accuracy: 0.8843 - val_loss: 0.8855 - val_accuracy: 0.6237\n",
            "Epoch 6/10\n",
            "412/412 [==============================] - 7s 17ms/step - loss: 0.2260 - accuracy: 0.9108 - val_loss: 1.0016 - val_accuracy: 0.6152\n",
            "Epoch 7/10\n",
            "412/412 [==============================] - 7s 17ms/step - loss: 0.1880 - accuracy: 0.9272 - val_loss: 1.1419 - val_accuracy: 0.6146\n",
            "Epoch 8/10\n",
            "412/412 [==============================] - 7s 17ms/step - loss: 0.1581 - accuracy: 0.9402 - val_loss: 1.2310 - val_accuracy: 0.6137\n",
            "Epoch 9/10\n",
            "412/412 [==============================] - 7s 17ms/step - loss: 0.1241 - accuracy: 0.9537 - val_loss: 1.3139 - val_accuracy: 0.6116\n",
            "Epoch 10/10\n",
            "412/412 [==============================] - 7s 17ms/step - loss: 0.1092 - accuracy: 0.9598 - val_loss: 1.4109 - val_accuracy: 0.6022\n"
          ],
          "name": "stdout"
        }
      ]
    },
    {
      "cell_type": "code",
      "metadata": {
        "id": "1dnX--rBrFwM",
        "colab_type": "code",
        "colab": {
          "base_uri": "https://localhost:8080/",
          "height": 282
        },
        "outputId": "105e5350-e79d-4330-b7cc-80c024bdd7ac"
      },
      "source": [
        "# Plot loss per iteration\n",
        "plt.plot(r.history['loss'], label='loss')\n",
        "plt.plot(r.history['val_loss'], label='val_loss')\n",
        "plt.legend()"
      ],
      "execution_count": 100,
      "outputs": [
        {
          "output_type": "execute_result",
          "data": {
            "text/plain": [
              "<matplotlib.legend.Legend at 0x7fd5b03a00b8>"
            ]
          },
          "metadata": {
            "tags": []
          },
          "execution_count": 100
        },
        {
          "output_type": "display_data",
          "data": {
            "image/png": "[encoded data removed]",
            "text/plain": [
              "<Figure size 432x288 with 1 Axes>"
            ]
          },
          "metadata": {
            "tags": [],
            "needs_background": "light"
          }
        }
      ]
    },
    {
      "cell_type": "code",
      "metadata": {
        "id": "oC0u446HrFwQ",
        "colab_type": "code",
        "colab": {
          "base_uri": "https://localhost:8080/",
          "height": 282
        },
        "outputId": "94de1fce-4f14-4bc8-a378-8838b28fc977"
      },
      "source": [
        "plt.plot(r.history['accuracy'], label='accuracy')\n",
        "plt.plot(r.history['val_accuracy'], label='val_accuracy')\n",
        "plt.legend()"
      ],
      "execution_count": 101,
      "outputs": [
        {
          "output_type": "execute_result",
          "data": {
            "text/plain": [
              "<matplotlib.legend.Legend at 0x7fd5b03f7d68>"
            ]
          },
          "metadata": {
            "tags": []
          },
          "execution_count": 101
        },
        {
          "output_type": "display_data",
          "data": {
            "image/png": "[encoded data removed]",
            "text/plain": [
              "<Figure size 432x288 with 1 Axes>"
            ]
          },
          "metadata": {
            "tags": [],
            "needs_background": "light"
          }
        }
      ]
    },
    {
      "cell_type": "code",
      "metadata": {
        "id": "SwHc8EzSzh2M",
        "colab_type": "code",
        "colab": {}
      },
      "source": [
        ""
      ],
      "execution_count": null,
      "outputs": []
    }
  ]
}