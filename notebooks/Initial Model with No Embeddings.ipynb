{
 "cells": [
  {
   "cell_type": "code",
   "execution_count": 1,
   "metadata": {
    "colab": {
     "base_uri": "https://localhost:8080/",
     "height": 70
    },
    "colab_type": "code",
    "id": "Z9W3Az_urFtj",
    "outputId": "548c0575-e849-49e3-ccc6-824dff882da8"
   },
   "outputs": [],
   "source": [
    "import pandas as pd\n",
    "import numpy as np\n",
    "import matplotlib.pyplot as plt\n",
    "import seaborn as sns\n",
    "%matplotlib inline\n",
    "import re"
   ]
  },
  {
   "cell_type": "code",
   "execution_count": 2,
   "metadata": {},
   "outputs": [],
   "source": [
    "import tensorflow as tf"
   ]
  },
  {
   "cell_type": "code",
   "execution_count": 3,
   "metadata": {},
   "outputs": [
    {
     "name": "stdout",
     "output_type": "stream",
     "text": [
      "5\n"
     ]
    }
   ],
   "source": [
    "x=\"Hi hello how are you\"\n",
    "print(len(x.split()))"
   ]
  },
  {
   "cell_type": "code",
   "execution_count": 5,
   "metadata": {
    "colab": {
     "base_uri": "https://localhost:8080/",
     "height": 84
    },
    "colab_type": "code",
    "id": "r1VSebGBrFto",
    "outputId": "8201adb4-78a8-4f33-b42c-feba30296de0"
   },
   "outputs": [
    {
     "name": "stderr",
     "output_type": "stream",
     "text": [
      "[nltk_data] Downloading package stopwords to\n",
      "[nltk_data]     C:\\Users\\soory\\AppData\\Roaming\\nltk_data...\n",
      "[nltk_data]   Unzipping corpora\\stopwords.zip.\n",
      "[nltk_data] Downloading package wordnet to\n",
      "[nltk_data]     C:\\Users\\soory\\AppData\\Roaming\\nltk_data...\n",
      "[nltk_data]   Unzipping corpora\\wordnet.zip.\n"
     ]
    }
   ],
   "source": [
    "import nltk\n",
    "from nltk.tokenize import word_tokenize\n",
    "nltk.download('stopwords')\n",
    "from nltk.corpus import stopwords\n",
    "stopwords=stopwords.words(\"english\")\n",
    "nltk.download('wordnet')\n",
    "from nltk.stem import WordNetLemmatizer\n"
   ]
  },
  {
   "cell_type": "code",
   "execution_count": 9,
   "metadata": {},
   "outputs": [
    {
     "name": "stderr",
     "output_type": "stream",
     "text": [
      "[nltk_data] Downloading package punkt to\n",
      "[nltk_data]     C:\\Users\\soory\\AppData\\Roaming\\nltk_data...\n",
      "[nltk_data]   Unzipping tokenizers\\punkt.zip.\n"
     ]
    },
    {
     "data": {
      "text/plain": [
       "True"
      ]
     },
     "execution_count": 9,
     "metadata": {},
     "output_type": "execute_result"
    }
   ],
   "source": [
    "nltk.download('punkt')"
   ]
  },
  {
   "cell_type": "code",
   "execution_count": 10,
   "metadata": {},
   "outputs": [
    {
     "data": {
      "text/plain": [
       "['Hi', 'hello', 'how', 'are', 'you']"
      ]
     },
     "execution_count": 10,
     "metadata": {},
     "output_type": "execute_result"
    }
   ],
   "source": [
    "word_tokenize(x)"
   ]
  },
  {
   "cell_type": "code",
   "execution_count": 6,
   "metadata": {
    "colab": {},
    "colab_type": "code",
    "id": "uEGJuURWrFtr"
   },
   "outputs": [],
   "source": [
    "url=\"https://raw.githubusercontent.com/Sooryak12/FakeReviewDetectionLSTM/master/selected.txt\"\n"
   ]
  },
  {
   "cell_type": "code",
   "execution_count": 7,
   "metadata": {
    "colab": {
     "base_uri": "https://localhost:8080/",
     "height": 246
    },
    "colab_type": "code",
    "id": "Wy7lhMw9rvNV",
    "outputId": "f5e447a8-7231-4f1f-8d9f-6eb8c1d9faa0"
   },
   "outputs": [
    {
     "data": {
      "text/html": [
       "<div>\n",
       "<style scoped>\n",
       "    .dataframe tbody tr th:only-of-type {\n",
       "        vertical-align: middle;\n",
       "    }\n",
       "\n",
       "    .dataframe tbody tr th {\n",
       "        vertical-align: top;\n",
       "    }\n",
       "\n",
       "    .dataframe thead th {\n",
       "        text-align: right;\n",
       "    }\n",
       "</style>\n",
       "<table border=\"1\" class=\"dataframe\">\n",
       "  <thead>\n",
       "    <tr style=\"text-align: right;\">\n",
       "      <th></th>\n",
       "      <th>DOC_ID</th>\n",
       "      <th>LABEL</th>\n",
       "      <th>RATING</th>\n",
       "      <th>VERIFIED_PURCHASE</th>\n",
       "      <th>PRODUCT_CATEGORY</th>\n",
       "      <th>PRODUCT_ID</th>\n",
       "      <th>PRODUCT_TITLE</th>\n",
       "      <th>REVIEW_TITLE</th>\n",
       "      <th>REVIEW_TEXT</th>\n",
       "    </tr>\n",
       "  </thead>\n",
       "  <tbody>\n",
       "    <tr>\n",
       "      <th>0</th>\n",
       "      <td>1</td>\n",
       "      <td>__label1__</td>\n",
       "      <td>4</td>\n",
       "      <td>N</td>\n",
       "      <td>PC</td>\n",
       "      <td>B00008NG7N</td>\n",
       "      <td>Targus PAUK10U Ultra Mini USB Keypad, Black</td>\n",
       "      <td>useful</td>\n",
       "      <td>When least you think so, this product will sav...</td>\n",
       "    </tr>\n",
       "    <tr>\n",
       "      <th>1</th>\n",
       "      <td>2</td>\n",
       "      <td>__label1__</td>\n",
       "      <td>4</td>\n",
       "      <td>Y</td>\n",
       "      <td>Wireless</td>\n",
       "      <td>B00LH0Y3NM</td>\n",
       "      <td>Note 3 Battery : Stalion Strength Replacement ...</td>\n",
       "      <td>New era for batteries</td>\n",
       "      <td>Lithium batteries are something new introduced...</td>\n",
       "    </tr>\n",
       "    <tr>\n",
       "      <th>2</th>\n",
       "      <td>3</td>\n",
       "      <td>__label1__</td>\n",
       "      <td>3</td>\n",
       "      <td>N</td>\n",
       "      <td>Baby</td>\n",
       "      <td>B000I5UZ1Q</td>\n",
       "      <td>Fisher-Price Papasan Cradle Swing, Starlight</td>\n",
       "      <td>doesn't swing very well.</td>\n",
       "      <td>I purchased this swing for my baby. She is 6 m...</td>\n",
       "    </tr>\n",
       "    <tr>\n",
       "      <th>3</th>\n",
       "      <td>4</td>\n",
       "      <td>__label1__</td>\n",
       "      <td>4</td>\n",
       "      <td>N</td>\n",
       "      <td>Office Products</td>\n",
       "      <td>B003822IRA</td>\n",
       "      <td>Casio MS-80B Standard Function Desktop Calculator</td>\n",
       "      <td>Great computing!</td>\n",
       "      <td>I was looking for an inexpensive desk calcolat...</td>\n",
       "    </tr>\n",
       "    <tr>\n",
       "      <th>4</th>\n",
       "      <td>5</td>\n",
       "      <td>__label1__</td>\n",
       "      <td>4</td>\n",
       "      <td>N</td>\n",
       "      <td>Beauty</td>\n",
       "      <td>B00PWSAXAM</td>\n",
       "      <td>Shine Whitening - Zero Peroxide Teeth Whitenin...</td>\n",
       "      <td>Only use twice a week</td>\n",
       "      <td>I only use it twice a week and the results are...</td>\n",
       "    </tr>\n",
       "  </tbody>\n",
       "</table>\n",
       "</div>"
      ],
      "text/plain": [
       "   DOC_ID       LABEL  RATING VERIFIED_PURCHASE PRODUCT_CATEGORY  PRODUCT_ID  \\\n",
       "0       1  __label1__       4                 N               PC  B00008NG7N   \n",
       "1       2  __label1__       4                 Y         Wireless  B00LH0Y3NM   \n",
       "2       3  __label1__       3                 N             Baby  B000I5UZ1Q   \n",
       "3       4  __label1__       4                 N  Office Products  B003822IRA   \n",
       "4       5  __label1__       4                 N           Beauty  B00PWSAXAM   \n",
       "\n",
       "                                       PRODUCT_TITLE  \\\n",
       "0        Targus PAUK10U Ultra Mini USB Keypad, Black   \n",
       "1  Note 3 Battery : Stalion Strength Replacement ...   \n",
       "2       Fisher-Price Papasan Cradle Swing, Starlight   \n",
       "3  Casio MS-80B Standard Function Desktop Calculator   \n",
       "4  Shine Whitening - Zero Peroxide Teeth Whitenin...   \n",
       "\n",
       "               REVIEW_TITLE                                        REVIEW_TEXT  \n",
       "0                    useful  When least you think so, this product will sav...  \n",
       "1     New era for batteries  Lithium batteries are something new introduced...  \n",
       "2  doesn't swing very well.  I purchased this swing for my baby. She is 6 m...  \n",
       "3          Great computing!  I was looking for an inexpensive desk calcolat...  \n",
       "4     Only use twice a week  I only use it twice a week and the results are...  "
      ]
     },
     "execution_count": 7,
     "metadata": {},
     "output_type": "execute_result"
    }
   ],
   "source": [
    "df=pd.read_csv(url,delimiter=\"\\t\")\n",
    "df.head()"
   ]
  },
  {
   "cell_type": "code",
   "execution_count": 31,
   "metadata": {
    "colab": {
     "base_uri": "https://localhost:8080/",
     "height": 185
    },
    "colab_type": "code",
    "id": "Mzlf6fxHrFtv",
    "outputId": "b73f045d-c15f-4171-addf-bf9e4797b2c5"
   },
   "outputs": [
    {
     "data": {
      "text/plain": [
       "DOC_ID               0\n",
       "LABEL                0\n",
       "RATING               0\n",
       "VERIFIED_PURCHASE    0\n",
       "PRODUCT_CATEGORY     0\n",
       "PRODUCT_ID           0\n",
       "PRODUCT_TITLE        0\n",
       "REVIEW_TITLE         0\n",
       "REVIEW_TEXT          0\n",
       "dtype: int64"
      ]
     },
     "execution_count": 31,
     "metadata": {},
     "output_type": "execute_result"
    }
   ],
   "source": [
    "df.isnull().sum()"
   ]
  },
  {
   "cell_type": "code",
   "execution_count": 32,
   "metadata": {
    "colab": {
     "base_uri": "https://localhost:8080/",
     "height": 538
    },
    "colab_type": "code",
    "id": "3oKTYn9_rFtx",
    "outputId": "62fa9eb6-5b35-4046-bf6d-54821d5d546f"
   },
   "outputs": [
    {
     "data": {
      "text/plain": [
       "Tools                     700\n",
       "Books                     700\n",
       "Jewelry                   700\n",
       "PC                        700\n",
       "Toys                      700\n",
       "Automotive                700\n",
       "Furniture                 700\n",
       "Electronics               700\n",
       "Musical Instruments       700\n",
       "Camera                    700\n",
       "Lawn and Garden           700\n",
       "Home Entertainment        700\n",
       "Health & Personal Care    700\n",
       "Home Improvement          700\n",
       "Grocery                   700\n",
       "Beauty                    700\n",
       "Shoes                     700\n",
       "Wireless                  700\n",
       "Sports                    700\n",
       "Outdoors                  700\n",
       "Kitchen                   700\n",
       "Apparel                   700\n",
       "Office Products           700\n",
       "Home                      700\n",
       "Video Games               700\n",
       "Pet Products              700\n",
       "Baby                      700\n",
       "Luggage                   700\n",
       "Video DVD                 700\n",
       "Watches                   700\n",
       "Name: PRODUCT_CATEGORY, dtype: int64"
      ]
     },
     "execution_count": 32,
     "metadata": {},
     "output_type": "execute_result"
    }
   ],
   "source": [
    "df[\"PRODUCT_CATEGORY\"].value_counts()"
   ]
  },
  {
   "cell_type": "code",
   "execution_count": 11,
   "metadata": {
    "colab": {},
    "colab_type": "code",
    "id": "Ov5DL2lOrFt0"
   },
   "outputs": [],
   "source": [
    "df[\"LABEL\"]=df[\"LABEL\"].replace(['__label2__','__label1__'],['0','1'])\n"
   ]
  },
  {
   "cell_type": "code",
   "execution_count": 12,
   "metadata": {
    "colab": {},
    "colab_type": "code",
    "id": "LtiPSOuYrFt3"
   },
   "outputs": [],
   "source": [
    "dfs=df[[\"REVIEW_TEXT\",\"LABEL\",\"PRODUCT_CATEGORY\"]]\n",
    "dfs = dfs.rename(columns={'REVIEW_TEXT': 'reviews',\"LABEL\":\"label\",\"PRODUCT_CATEGORY\":\"cat\"})"
   ]
  },
  {
   "cell_type": "code",
   "execution_count": 35,
   "metadata": {
    "colab": {
     "base_uri": "https://localhost:8080/",
     "height": 185
    },
    "colab_type": "code",
    "id": "4-dHysdUrFt6",
    "outputId": "812b24df-bb15-4447-bb31-c98e9104e12d"
   },
   "outputs": [
    {
     "name": "stdout",
     "output_type": "stream",
     "text": [
      "<class 'pandas.core.frame.DataFrame'>\n",
      "RangeIndex: 21000 entries, 0 to 20999\n",
      "Data columns (total 3 columns):\n",
      " #   Column   Non-Null Count  Dtype \n",
      "---  ------   --------------  ----- \n",
      " 0   reviews  21000 non-null  object\n",
      " 1   label    21000 non-null  object\n",
      " 2   cat      21000 non-null  object\n",
      "dtypes: object(3)\n",
      "memory usage: 492.3+ KB\n"
     ]
    }
   ],
   "source": [
    "dfs.info()"
   ]
  },
  {
   "cell_type": "code",
   "execution_count": 13,
   "metadata": {
    "colab": {},
    "colab_type": "code",
    "id": "dQ6QrpaerFt9"
   },
   "outputs": [],
   "source": [
    "dfs[\"reviews\"]=dfs[\"reviews\"].apply(lambda x:x.lower())\n",
    "dfs[\"reviews\"] = dfs[\"reviews\"].apply(lambda x: re.sub(\"[^a-zA-Z]\", \" \", x))\n",
    "dfs[\"reviews\"] = dfs[\"reviews\"].apply(lambda x: re.sub(\"\\s+\", \" \", x))"
   ]
  },
  {
   "cell_type": "code",
   "execution_count": 29,
   "metadata": {
    "colab": {
     "base_uri": "https://localhost:8080/",
     "height": 67
    },
    "colab_type": "code",
    "id": "j5Yqq2MhrFuA",
    "outputId": "d16ee63e-230a-4c85-f1c0-2d6dffc7b40f"
   },
   "outputs": [
    {
     "data": {
      "text/plain": [
       "0    10500\n",
       "1    10500\n",
       "Name: label, dtype: int64"
      ]
     },
     "execution_count": 29,
     "metadata": {},
     "output_type": "execute_result"
    }
   ],
   "source": [
    "dfs[\"label\"].value_counts()"
   ]
  },
  {
   "cell_type": "markdown",
   "metadata": {
    "colab_type": "text",
    "id": "dOWWD2TYrFuC"
   },
   "source": [
    "The Data is Unbiased"
   ]
  },
  {
   "cell_type": "code",
   "execution_count": 14,
   "metadata": {
    "colab": {
     "base_uri": "https://localhost:8080/",
     "height": 195
    },
    "colab_type": "code",
    "id": "qHZfhRJyrFuD",
    "outputId": "c7b77c2a-a2ec-44a8-fae2-e0981df30c0d"
   },
   "outputs": [
    {
     "data": {
      "text/html": [
       "<div>\n",
       "<style scoped>\n",
       "    .dataframe tbody tr th:only-of-type {\n",
       "        vertical-align: middle;\n",
       "    }\n",
       "\n",
       "    .dataframe tbody tr th {\n",
       "        vertical-align: top;\n",
       "    }\n",
       "\n",
       "    .dataframe thead th {\n",
       "        text-align: right;\n",
       "    }\n",
       "</style>\n",
       "<table border=\"1\" class=\"dataframe\">\n",
       "  <thead>\n",
       "    <tr style=\"text-align: right;\">\n",
       "      <th></th>\n",
       "      <th>reviews</th>\n",
       "      <th>label</th>\n",
       "      <th>cat</th>\n",
       "    </tr>\n",
       "  </thead>\n",
       "  <tbody>\n",
       "    <tr>\n",
       "      <th>0</th>\n",
       "      <td>when least you think so this product will save...</td>\n",
       "      <td>1</td>\n",
       "      <td>PC</td>\n",
       "    </tr>\n",
       "    <tr>\n",
       "      <th>1</th>\n",
       "      <td>lithium batteries are something new introduced...</td>\n",
       "      <td>1</td>\n",
       "      <td>Wireless</td>\n",
       "    </tr>\n",
       "    <tr>\n",
       "      <th>2</th>\n",
       "      <td>i purchased this swing for my baby she is mont...</td>\n",
       "      <td>1</td>\n",
       "      <td>Baby</td>\n",
       "    </tr>\n",
       "    <tr>\n",
       "      <th>3</th>\n",
       "      <td>i was looking for an inexpensive desk calcolat...</td>\n",
       "      <td>1</td>\n",
       "      <td>Office Products</td>\n",
       "    </tr>\n",
       "    <tr>\n",
       "      <th>4</th>\n",
       "      <td>i only use it twice a week and the results are...</td>\n",
       "      <td>1</td>\n",
       "      <td>Beauty</td>\n",
       "    </tr>\n",
       "  </tbody>\n",
       "</table>\n",
       "</div>"
      ],
      "text/plain": [
       "                                             reviews label              cat\n",
       "0  when least you think so this product will save...     1               PC\n",
       "1  lithium batteries are something new introduced...     1         Wireless\n",
       "2  i purchased this swing for my baby she is mont...     1             Baby\n",
       "3  i was looking for an inexpensive desk calcolat...     1  Office Products\n",
       "4  i only use it twice a week and the results are...     1           Beauty"
      ]
     },
     "execution_count": 14,
     "metadata": {},
     "output_type": "execute_result"
    }
   ],
   "source": [
    "dfs.head()"
   ]
  },
  {
   "cell_type": "code",
   "execution_count": 15,
   "metadata": {
    "colab": {
     "base_uri": "https://localhost:8080/",
     "height": 34
    },
    "colab_type": "code",
    "id": "N8LbnnvGrFuF",
    "outputId": "47ee0bbd-aebf-40eb-f16c-c06840cc69c2"
   },
   "outputs": [
    {
     "data": {
      "text/plain": [
       "True"
      ]
     },
     "execution_count": 15,
     "metadata": {},
     "output_type": "execute_result"
    }
   ],
   "source": [
    "\"not\" in stopwords"
   ]
  },
  {
   "cell_type": "code",
   "execution_count": 14,
   "metadata": {
    "colab": {
     "base_uri": "https://localhost:8080/",
     "height": 50
    },
    "colab_type": "code",
    "id": "7FKtWiryrFuI",
    "outputId": "3cd61e32-6a3e-4843-cc1f-bc4356229331"
   },
   "outputs": [],
   "source": [
    "#nltk.download('punkt')\n",
    "def stop(text):\n",
    "    clean_sent =[]\n",
    "    for w in word_tokenize(text):\n",
    "        if not w in stopwords:\n",
    "            clean_sent.append(w)\n",
    "    return (\" \".join(clean_sent))\n",
    "\n",
    "wordnet_lemmatizer = WordNetLemmatizer()\n",
    "\n",
    "def lemmatize(text):\n",
    "\n",
    "    word_tokens = nltk.word_tokenize(text)\n",
    "    lemmatized_word = [wordnet_lemmatizer.lemmatize(word) for word in word_tokens]\n",
    "    return (\" \".join(lemmatized_word))\n"
   ]
  },
  {
   "cell_type": "code",
   "execution_count": 15,
   "metadata": {
    "colab": {},
    "colab_type": "code",
    "id": "cjN6B7YprFuL"
   },
   "outputs": [],
   "source": [
    "dfs[\"reviews\"]=dfs[\"reviews\"].apply(lemmatize)\n",
    "dfs[\"reviews\"]=dfs[\"reviews\"].apply(stop)"
   ]
  },
  {
   "cell_type": "code",
   "execution_count": 18,
   "metadata": {
    "colab": {
     "base_uri": "https://localhost:8080/",
     "height": 34
    },
    "colab_type": "code",
    "id": "r2tBl1FArFuN",
    "outputId": "f2282e34-90c6-4308-de6b-0e8a9267ce3d"
   },
   "outputs": [
    {
     "data": {
      "text/plain": [
       "'unfortunately work made sick throw two time tried'"
      ]
     },
     "execution_count": 18,
     "metadata": {},
     "output_type": "execute_result"
    }
   ],
   "source": [
    "dfs[\"reviews\"][10]"
   ]
  },
  {
   "cell_type": "code",
   "execution_count": 16,
   "metadata": {
    "colab": {},
    "colab_type": "code",
    "id": "5EMj1QlUrFuP"
   },
   "outputs": [],
   "source": [
    "dfs[\"length\"]=dfs[\"reviews\"].apply(lambda x: len(x.split())) "
   ]
  },
  {
   "cell_type": "code",
   "execution_count": 20,
   "metadata": {},
   "outputs": [
    {
     "data": {
      "text/plain": [
       "0    10\n",
       "1    40\n",
       "2    22\n",
       "3    21\n",
       "4    27\n",
       "Name: length, dtype: int64"
      ]
     },
     "execution_count": 20,
     "metadata": {},
     "output_type": "execute_result"
    }
   ],
   "source": [
    "dfs[\"length\"].head()"
   ]
  },
  {
   "cell_type": "code",
   "execution_count": 21,
   "metadata": {},
   "outputs": [
    {
     "data": {
      "text/plain": [
       "'least think product save day keep around case need something'"
      ]
     },
     "execution_count": 21,
     "metadata": {},
     "output_type": "execute_result"
    }
   ],
   "source": [
    "dfs[\"reviews\"][0]"
   ]
  },
  {
   "cell_type": "code",
   "execution_count": 22,
   "metadata": {
    "colab": {
     "base_uri": "https://localhost:8080/",
     "height": 592
    },
    "colab_type": "code",
    "id": "GyX4TqGBrFuS",
    "outputId": "e9691d32-5982-4381-e720-15e8b76c5a2e"
   },
   "outputs": [
    {
     "data": {
      "image/png": "[encoded data removed]",
      "text/plain": [
       "<Figure size 720x720 with 1 Axes>"
      ]
     },
     "metadata": {
      "needs_background": "light"
     },
     "output_type": "display_data"
    }
   ],
   "source": [
    "plt.figure(figsize=(10,10))\n",
    "sns.countplot(dfs[\"length\"])\n",
    "plt.show()"
   ]
  },
  {
   "cell_type": "code",
   "execution_count": 23,
   "metadata": {},
   "outputs": [
    {
     "data": {
      "text/plain": [
       "35.187714285714286"
      ]
     },
     "execution_count": 23,
     "metadata": {},
     "output_type": "execute_result"
    }
   ],
   "source": [
    "np.mean(dfs[\"length\"])"
   ]
  },
  {
   "cell_type": "markdown",
   "metadata": {
    "colab_type": "text",
    "id": "iojjjiVkrFuU"
   },
   "source": [
    "We see that there are many outliers and the data is heavily left skewed.So we have to do much more analysis to select the proper lenth for the text to embedd."
   ]
  },
  {
   "cell_type": "code",
   "execution_count": 24,
   "metadata": {
    "colab": {},
    "colab_type": "code",
    "id": "6KjC9hmxrFuV"
   },
   "outputs": [],
   "source": [
    "txt=\" mean:{} \\n median:{} \\n maximum length:{} \\n minimum length:{}\".format(np.mean(dfs[\"length\"]),np.median(dfs[\"length\"]),np.max(dfs[\"length\"]),np.min(dfs[\"length\"]))"
   ]
  },
  {
   "cell_type": "code",
   "execution_count": 25,
   "metadata": {
    "colab": {
     "base_uri": "https://localhost:8080/",
     "height": 84
    },
    "colab_type": "code",
    "id": "npz_vaTprFuX",
    "outputId": "1ef98631-8ace-45e9-af82-f84bdecd69d1"
   },
   "outputs": [
    {
     "name": "stdout",
     "output_type": "stream",
     "text": [
      " mean:35.187714285714286 \n",
      " median:22.0 \n",
      " maximum length:1436 \n",
      " minimum length:5\n"
     ]
    }
   ],
   "source": [
    "print(txt)"
   ]
  },
  {
   "cell_type": "code",
   "execution_count": 26,
   "metadata": {
    "colab": {},
    "colab_type": "code",
    "id": "DPYXcWs5rFua"
   },
   "outputs": [],
   "source": [
    "def category(x):\n",
    "    if 0<x<11:\n",
    "        return 5\n",
    "    elif 10<x<21:\n",
    "        return 15\n",
    "    elif 20<x<31:\n",
    "        return 25\n",
    "    elif 30<x<41:\n",
    "        return 35\n",
    "    elif 40<x<50:\n",
    "        return 45\n",
    "    elif 50<x<61:\n",
    "        return 55\n",
    "    elif 60<x<101:\n",
    "        return 80\n",
    "    elif 100<x<301:\n",
    "        return 150\n",
    "    elif 300<x<601:\n",
    "        return 450\n",
    "    elif 600<x<1001:\n",
    "        return 800\n",
    "    elif 1000<x<1501:\n",
    "        return 1250\n",
    "    "
   ]
  },
  {
   "cell_type": "code",
   "execution_count": 27,
   "metadata": {
    "colab": {},
    "colab_type": "code",
    "id": "T86FOb73rFud"
   },
   "outputs": [],
   "source": [
    "dfs[\"textcat\"]=dfs[\"length\"].apply(category)"
   ]
  },
  {
   "cell_type": "code",
   "execution_count": 28,
   "metadata": {
    "colab": {
     "base_uri": "https://localhost:8080/",
     "height": 606
    },
    "colab_type": "code",
    "id": "Z6s4J15zrFug",
    "outputId": "3e5bcb8f-f452-4603-ba50-faeccb47d6e6"
   },
   "outputs": [
    {
     "data": {
      "image/png": "[encoded data removed]",
      "text/plain": [
       "<Figure size 720x720 with 1 Axes>"
      ]
     },
     "metadata": {
      "needs_background": "light"
     },
     "output_type": "display_data"
    }
   ],
   "source": [
    "plt.figure(figsize=(10,10))\n",
    "ax=sns.countplot(dfs[\"textcat\"])\n",
    "ax.set(xlabel=\"Mean Text length\")\n",
    "plt.show()"
   ]
  },
  {
   "cell_type": "markdown",
   "metadata": {},
   "source": [
    "#### To Find an apt length for the text:"
   ]
  },
  {
   "cell_type": "code",
   "execution_count": 29,
   "metadata": {
    "colab": {
     "base_uri": "https://localhost:8080/",
     "height": 34
    },
    "colab_type": "code",
    "id": "Npw3mjC8rFui",
    "outputId": "eb06a704-0e09-4df6-cc1f-4b792677cdfb"
   },
   "outputs": [
    {
     "data": {
      "text/plain": [
       "25.0"
      ]
     },
     "execution_count": 29,
     "metadata": {},
     "output_type": "execute_result"
    }
   ],
   "source": [
    "(15+25+35)/3"
   ]
  },
  {
   "cell_type": "markdown",
   "metadata": {
    "colab_type": "text",
    "id": "pVP3hcA3rFul"
   },
   "source": [
    "Ideal Text size will be of 30-40"
   ]
  },
  {
   "cell_type": "code",
   "execution_count": 30,
   "metadata": {
    "colab": {
     "base_uri": "https://localhost:8080/",
     "height": 34
    },
    "colab_type": "code",
    "id": "L-ta_8YArFul",
    "outputId": "dbc33f23-5464-43ac-d065-f20e4d93a96d"
   },
   "outputs": [
    {
     "name": "stdout",
     "output_type": "stream",
     "text": [
      "7\n"
     ]
    }
   ],
   "source": [
    "c=0\n",
    "for i in dfs[\"length\"]:\n",
    "    if 700<i:\n",
    "      c+=1\n",
    "print(c)"
   ]
  },
  {
   "cell_type": "markdown",
   "metadata": {},
   "source": [
    "Texts with text size >700 is just 7 .We can remove them.\n",
    "The above mentioned values are the index of outliers."
   ]
  },
  {
   "cell_type": "code",
   "execution_count": 31,
   "metadata": {},
   "outputs": [
    {
     "name": "stdout",
     "output_type": "stream",
     "text": [
      "16321\n"
     ]
    }
   ],
   "source": [
    "c=0\n",
    "for i in dfs[\"length\"]:\n",
    "    if 40>i>1:\n",
    "      c+=1\n",
    "print(c)"
   ]
  },
  {
   "cell_type": "code",
   "execution_count": 32,
   "metadata": {
    "colab": {
     "base_uri": "https://localhost:8080/",
     "height": 34
    },
    "colab_type": "code",
    "id": "1uWmnP-PrFup",
    "outputId": "7ad0116f-1416-4bd6-c12e-309ea70244e9"
   },
   "outputs": [
    {
     "data": {
      "text/plain": [
       "21000"
      ]
     },
     "execution_count": 32,
     "metadata": {},
     "output_type": "execute_result"
    }
   ],
   "source": [
    "len(dfs[\"length\"])"
   ]
  },
  {
   "cell_type": "code",
   "execution_count": 33,
   "metadata": {
    "colab": {
     "base_uri": "https://localhost:8080/",
     "height": 34
    },
    "colab_type": "code",
    "id": "xXBf0f5QrFus",
    "outputId": "52b9198d-a895-4345-a7b6-5520de6d1d0b"
   },
   "outputs": [
    {
     "data": {
      "text/plain": [
       "0.9486190476190476"
      ]
     },
     "execution_count": 33,
     "metadata": {},
     "output_type": "execute_result"
    }
   ],
   "source": [
    "19921/21000"
   ]
  },
  {
   "cell_type": "code",
   "execution_count": 34,
   "metadata": {
    "colab": {
     "base_uri": "https://localhost:8080/",
     "height": 34
    },
    "colab_type": "code",
    "id": "dX1GMPZBrFuv",
    "outputId": "41dfb867-f4b7-4e1b-b98d-8d7cd7ea55ae"
   },
   "outputs": [
    {
     "data": {
      "text/plain": [
       "0.7771904761904762"
      ]
     },
     "execution_count": 34,
     "metadata": {},
     "output_type": "execute_result"
    }
   ],
   "source": [
    "16321/21000"
   ]
  },
  {
   "cell_type": "code",
   "execution_count": 35,
   "metadata": {
    "colab": {
     "base_uri": "https://localhost:8080/",
     "height": 34
    },
    "colab_type": "code",
    "id": "BL-Q-l7brFuy",
    "outputId": "26b65456-5fa8-48e1-cece-3a7f5780fe2b"
   },
   "outputs": [
    {
     "data": {
      "text/plain": [
       "0.9061904761904762"
      ]
     },
     "execution_count": 35,
     "metadata": {},
     "output_type": "execute_result"
    }
   ],
   "source": [
    "19030/21000"
   ]
  },
  {
   "cell_type": "markdown",
   "metadata": {
    "colab_type": "text",
    "id": "pXO79l_arFu1"
   },
   "source": [
    "90% of the data lies with text size between 1 and 70.So we can remove all the other data.\n",
    "77% of the data lies with text size between 40.As LSTM takes long time to train .This data is enough i guess."
   ]
  },
  {
   "cell_type": "code",
   "execution_count": 36,
   "metadata": {
    "colab": {
     "base_uri": "https://localhost:8080/",
     "height": 34
    },
    "colab_type": "code",
    "id": "fkLXXX2GrFu2",
    "outputId": "8b3fd629-de51-40af-cb18-0975f40230ad"
   },
   "outputs": [
    {
     "data": {
      "text/plain": [
       "Index(['reviews', 'label', 'cat', 'length', 'textcat'], dtype='object')"
      ]
     },
     "execution_count": 36,
     "metadata": {},
     "output_type": "execute_result"
    }
   ],
   "source": [
    "dfs.columns"
   ]
  },
  {
   "cell_type": "code",
   "execution_count": 37,
   "metadata": {
    "colab": {
     "base_uri": "https://localhost:8080/",
     "height": 195
    },
    "colab_type": "code",
    "id": "2J-_JR94rFu-",
    "outputId": "5851d6f5-7e12-458a-92d3-f2b28f57413b"
   },
   "outputs": [
    {
     "data": {
      "text/html": [
       "<div>\n",
       "<style scoped>\n",
       "    .dataframe tbody tr th:only-of-type {\n",
       "        vertical-align: middle;\n",
       "    }\n",
       "\n",
       "    .dataframe tbody tr th {\n",
       "        vertical-align: top;\n",
       "    }\n",
       "\n",
       "    .dataframe thead th {\n",
       "        text-align: right;\n",
       "    }\n",
       "</style>\n",
       "<table border=\"1\" class=\"dataframe\">\n",
       "  <thead>\n",
       "    <tr style=\"text-align: right;\">\n",
       "      <th></th>\n",
       "      <th>reviews</th>\n",
       "      <th>label</th>\n",
       "      <th>cat</th>\n",
       "      <th>length</th>\n",
       "      <th>textcat</th>\n",
       "    </tr>\n",
       "  </thead>\n",
       "  <tbody>\n",
       "    <tr>\n",
       "      <th>0</th>\n",
       "      <td>least think product save day keep around case ...</td>\n",
       "      <td>1</td>\n",
       "      <td>PC</td>\n",
       "      <td>10</td>\n",
       "      <td>5.0</td>\n",
       "    </tr>\n",
       "    <tr>\n",
       "      <th>1</th>\n",
       "      <td>lithium battery something new introduced marke...</td>\n",
       "      <td>1</td>\n",
       "      <td>Wireless</td>\n",
       "      <td>40</td>\n",
       "      <td>35.0</td>\n",
       "    </tr>\n",
       "    <tr>\n",
       "      <th>2</th>\n",
       "      <td>purchased swing baby month ha pretty much grow...</td>\n",
       "      <td>1</td>\n",
       "      <td>Baby</td>\n",
       "      <td>22</td>\n",
       "      <td>25.0</td>\n",
       "    </tr>\n",
       "    <tr>\n",
       "      <th>3</th>\n",
       "      <td>wa looking inexpensive desk calcolatur work do...</td>\n",
       "      <td>1</td>\n",
       "      <td>Office Products</td>\n",
       "      <td>21</td>\n",
       "      <td>25.0</td>\n",
       "    </tr>\n",
       "    <tr>\n",
       "      <th>4</th>\n",
       "      <td>use twice week result great used teeth whiteni...</td>\n",
       "      <td>1</td>\n",
       "      <td>Beauty</td>\n",
       "      <td>27</td>\n",
       "      <td>25.0</td>\n",
       "    </tr>\n",
       "  </tbody>\n",
       "</table>\n",
       "</div>"
      ],
      "text/plain": [
       "                                             reviews label              cat  \\\n",
       "0  least think product save day keep around case ...     1               PC   \n",
       "1  lithium battery something new introduced marke...     1         Wireless   \n",
       "2  purchased swing baby month ha pretty much grow...     1             Baby   \n",
       "3  wa looking inexpensive desk calcolatur work do...     1  Office Products   \n",
       "4  use twice week result great used teeth whiteni...     1           Beauty   \n",
       "\n",
       "   length  textcat  \n",
       "0      10      5.0  \n",
       "1      40     35.0  \n",
       "2      22     25.0  \n",
       "3      21     25.0  \n",
       "4      27     25.0  "
      ]
     },
     "execution_count": 37,
     "metadata": {},
     "output_type": "execute_result"
    }
   ],
   "source": [
    "dfs.head()"
   ]
  },
  {
   "cell_type": "code",
   "execution_count": 38,
   "metadata": {
    "colab": {
     "base_uri": "https://localhost:8080/",
     "height": 202
    },
    "colab_type": "code",
    "id": "WZ26t8WYrFvB",
    "outputId": "6bba46b2-1e2c-4b6c-8dfc-0a6f4f4b48c8"
   },
   "outputs": [
    {
     "name": "stdout",
     "output_type": "stream",
     "text": [
      "<class 'pandas.core.frame.DataFrame'>\n",
      "RangeIndex: 21000 entries, 0 to 20999\n",
      "Data columns (total 5 columns):\n",
      " #   Column   Non-Null Count  Dtype  \n",
      "---  ------   --------------  -----  \n",
      " 0   reviews  21000 non-null  object \n",
      " 1   label    21000 non-null  object \n",
      " 2   cat      21000 non-null  object \n",
      " 3   length   21000 non-null  int64  \n",
      " 4   textcat  20891 non-null  float64\n",
      "dtypes: float64(1), int64(1), object(3)\n",
      "memory usage: 820.4+ KB\n"
     ]
    }
   ],
   "source": [
    "dfs.info()"
   ]
  },
  {
   "cell_type": "code",
   "execution_count": 17,
   "metadata": {
    "colab": {},
    "colab_type": "code",
    "id": "LEsC3u5drFvE"
   },
   "outputs": [],
   "source": [
    "dfs=dfs[dfs[\"length\"]<41]"
   ]
  },
  {
   "cell_type": "code",
   "execution_count": 18,
   "metadata": {},
   "outputs": [],
   "source": [
    "dfs.reset_index(inplace=True)"
   ]
  },
  {
   "cell_type": "markdown",
   "metadata": {},
   "source": [
    "we removed the outlier texts."
   ]
  },
  {
   "cell_type": "code",
   "execution_count": 19,
   "metadata": {
    "colab": {},
    "colab_type": "code",
    "id": "qz1l84iTrFvH"
   },
   "outputs": [],
   "source": [
    "test_dfs=dfs"
   ]
  },
  {
   "cell_type": "code",
   "execution_count": 41,
   "metadata": {
    "colab": {},
    "colab_type": "code",
    "id": "7k46tjaUxTUX"
   },
   "outputs": [],
   "source": [
    "#dfs=test_dfs"
   ]
  },
  {
   "cell_type": "code",
   "execution_count": 42,
   "metadata": {
    "colab": {
     "base_uri": "https://localhost:8080/",
     "height": 202
    },
    "colab_type": "code",
    "id": "0CAYPVEwrFvM",
    "outputId": "d72efe5a-b0dd-4971-ea18-56a487e6d665"
   },
   "outputs": [
    {
     "name": "stdout",
     "output_type": "stream",
     "text": [
      "<class 'pandas.core.frame.DataFrame'>\n",
      "Int64Index: 16461 entries, 0 to 20998\n",
      "Data columns (total 5 columns):\n",
      " #   Column   Non-Null Count  Dtype  \n",
      "---  ------   --------------  -----  \n",
      " 0   reviews  16461 non-null  object \n",
      " 1   label    16461 non-null  object \n",
      " 2   cat      16461 non-null  object \n",
      " 3   length   16461 non-null  int64  \n",
      " 4   textcat  16461 non-null  float64\n",
      "dtypes: float64(1), int64(1), object(3)\n",
      "memory usage: 771.6+ KB\n"
     ]
    }
   ],
   "source": [
    "dfs.info()"
   ]
  },
  {
   "cell_type": "code",
   "execution_count": 20,
   "metadata": {
    "colab": {},
    "colab_type": "code",
    "id": "gmR8HIRGw37z"
   },
   "outputs": [],
   "source": [
    "dfs[\"label\"]=dfs[\"label\"].astype(np.float32)"
   ]
  },
  {
   "cell_type": "code",
   "execution_count": 21,
   "metadata": {
    "colab": {
     "base_uri": "https://localhost:8080/",
     "height": 538
    },
    "colab_type": "code",
    "id": "AvN5Em6MrFvQ",
    "outputId": "2273923d-5646-4fad-b789-b26af61b264e"
   },
   "outputs": [
    {
     "data": {
      "text/plain": [
       "Jewelry                   648\n",
       "Shoes                     633\n",
       "Apparel                   622\n",
       "Watches                   600\n",
       "Office Products           584\n",
       "Furniture                 580\n",
       "Automotive                573\n",
       "Wireless                  567\n",
       "Home                      567\n",
       "Musical Instruments       561\n",
       "Outdoors                  556\n",
       "Tools                     554\n",
       "Sports                    554\n",
       "Toys                      548\n",
       "Lawn and Garden           546\n",
       "Luggage                   545\n",
       "Health & Personal Care    545\n",
       "Home Improvement          539\n",
       "Grocery                   537\n",
       "Baby                      536\n",
       "Beauty                    536\n",
       "Video Games               534\n",
       "Electronics               532\n",
       "Pet Products              526\n",
       "Kitchen                   524\n",
       "PC                        523\n",
       "Video DVD                 510\n",
       "Camera                    505\n",
       "Home Entertainment        459\n",
       "Books                     417\n",
       "Name: cat, dtype: int64"
      ]
     },
     "execution_count": 21,
     "metadata": {},
     "output_type": "execute_result"
    }
   ],
   "source": [
    "dfs[\"cat\"].value_counts()"
   ]
  },
  {
   "cell_type": "code",
   "execution_count": 45,
   "metadata": {
    "colab": {
     "base_uri": "https://localhost:8080/",
     "height": 67
    },
    "colab_type": "code",
    "id": "v5nxgNuIrFvV",
    "outputId": "c441087e-588f-462e-e272-d8f24eafb8cf"
   },
   "outputs": [
    {
     "data": {
      "text/plain": [
       "1.0    8803\n",
       "0.0    7658\n",
       "Name: label, dtype: int64"
      ]
     },
     "execution_count": 45,
     "metadata": {},
     "output_type": "execute_result"
    }
   ],
   "source": [
    "dfs[\"label\"].value_counts()"
   ]
  },
  {
   "cell_type": "markdown",
   "metadata": {},
   "source": [
    "From the Previous 2 Infos We can see that the data is still unbiased to a great extent and we are good to go"
   ]
  },
  {
   "cell_type": "code",
   "execution_count": 33,
   "metadata": {
    "colab": {
     "base_uri": "https://localhost:8080/",
     "height": 185
    },
    "colab_type": "code",
    "id": "vGw-njwex4E8",
    "outputId": "0a932616-ef33-4cef-fa68-b213fcb43020"
   },
   "outputs": [
    {
     "data": {
      "text/plain": [
       "'least think product save day keep around case need something'"
      ]
     },
     "execution_count": 33,
     "metadata": {},
     "output_type": "execute_result"
    }
   ],
   "source": [
    "dfs[\"reviews\"][0]"
   ]
  },
  {
   "cell_type": "code",
   "execution_count": 22,
   "metadata": {
    "colab": {},
    "colab_type": "code",
    "id": "yWX6U50-rFvm"
   },
   "outputs": [],
   "source": [
    "from sklearn.model_selection import train_test_split"
   ]
  },
  {
   "cell_type": "code",
   "execution_count": 23,
   "metadata": {
    "colab": {},
    "colab_type": "code",
    "id": "r8SpB4A2u_E3"
   },
   "outputs": [],
   "source": [
    "dfs2=dfs #Taking an Copy of Dataset for debugging"
   ]
  },
  {
   "cell_type": "code",
   "execution_count": 24,
   "metadata": {
    "colab": {},
    "colab_type": "code",
    "id": "3jk9tjh6rFvp"
   },
   "outputs": [],
   "source": [
    "df_train,df_test,Ytrain,Ytest = train_test_split(dfs[\"reviews\"],dfs[\"label\"], test_size=0.2, random_state=101)"
   ]
  },
  {
   "cell_type": "code",
   "execution_count": 25,
   "metadata": {
    "colab": {
     "base_uri": "https://localhost:8080/",
     "height": 35
    },
    "colab_type": "code",
    "id": "Fz84hftarFv1",
    "outputId": "f6237a33-f1a0-4cc3-95be-153b60f3923a"
   },
   "outputs": [
    {
     "data": {
      "text/plain": [
       "'least think product save day keep around case need something'"
      ]
     },
     "execution_count": 25,
     "metadata": {},
     "output_type": "execute_result"
    }
   ],
   "source": [
    "df_train[0]"
   ]
  },
  {
   "cell_type": "code",
   "execution_count": 26,
   "metadata": {
    "colab": {
     "base_uri": "https://localhost:8080/",
     "height": 218
    },
    "colab_type": "code",
    "id": "eYBEW7PmrFv4",
    "outputId": "6ae73cc3-374f-4be8-82e4-c6becb37e2a6"
   },
   "outputs": [
    {
     "data": {
      "text/plain": [
       "14372    love let driver know peaceful buddhist live st...\n",
       "3678     finished reading certainly glad purchased book...\n",
       "11805    love construction quality drawer drawer open s...\n",
       "5105     juligo led headlamp comfortable wear cast nice...\n",
       "381      stand paper towel soft feel like toilet paper ...\n",
       "                               ...                        \n",
       "2623     nothing like quality bed happy material though...\n",
       "12363    bought shoe size chrat said size u eur receive...\n",
       "5695     good price good size bought student sure love ...\n",
       "8006     great game perfect beginner even veteran still...\n",
       "13151    make short travel want organized buy today rig...\n",
       "Name: reviews, Length: 13168, dtype: object"
      ]
     },
     "execution_count": 26,
     "metadata": {},
     "output_type": "execute_result"
    }
   ],
   "source": [
    "df_train"
   ]
  },
  {
   "cell_type": "code",
   "execution_count": 27,
   "metadata": {},
   "outputs": [
    {
     "name": "stdout",
     "output_type": "stream",
     "text": [
      "17189\n"
     ]
    }
   ],
   "source": [
    "vocab={'pad':0,\"unk\":1}\n",
    "for review in dfs[\"reviews\"]:\n",
    "    \n",
    "    for word in review.split():\n",
    "        if word not in vocab:\n",
    "            vocab[word]=len(vocab)\n",
    "print(len(vocab))"
   ]
  },
  {
   "cell_type": "code",
   "execution_count": 28,
   "metadata": {
    "colab": {},
    "colab_type": "code",
    "id": "DW7h284nrFv6"
   },
   "outputs": [],
   "source": [
    "from tensorflow.keras.preprocessing.text import Tokenizer\n",
    "from tensorflow.keras.preprocessing.sequence import pad_sequences\n",
    "from tensorflow.keras.layers import Dense, Input, GlobalMaxPooling1D\n",
    "from tensorflow.keras.layers import LSTM, Embedding\n",
    "from tensorflow.keras.models import Model"
   ]
  },
  {
   "cell_type": "code",
   "execution_count": 30,
   "metadata": {},
   "outputs": [
    {
     "data": {
      "text/plain": [
       "14372    love let driver know peaceful buddhist live st...\n",
       "3678     finished reading certainly glad purchased book...\n",
       "11805    love construction quality drawer drawer open s...\n",
       "5105     juligo led headlamp comfortable wear cast nice...\n",
       "381      stand paper towel soft feel like toilet paper ...\n",
       "                               ...                        \n",
       "2623     nothing like quality bed happy material though...\n",
       "12363    bought shoe size chrat said size u eur receive...\n",
       "5695     good price good size bought student sure love ...\n",
       "8006     great game perfect beginner even veteran still...\n",
       "13151    make short travel want organized buy today rig...\n",
       "Name: reviews, Length: 13168, dtype: object"
      ]
     },
     "execution_count": 30,
     "metadata": {},
     "output_type": "execute_result"
    }
   ],
   "source": [
    "df_train"
   ]
  },
  {
   "cell_type": "code",
   "execution_count": 31,
   "metadata": {
    "colab": {},
    "colab_type": "code",
    "id": "jP28b18jrFv8"
   },
   "outputs": [],
   "source": [
    "MAX_VOCAB_SIZE=30000\n",
    "tokenizer = Tokenizer(num_words=MAX_VOCAB_SIZE,oov_token=\"<OOV>\")\n",
    "tokenizer.fit_on_texts(df_train)\n",
    "sequences_train = tokenizer.texts_to_sequences(df_train)\n",
    "sequences_test = tokenizer.texts_to_sequences(df_test)"
   ]
  },
  {
   "cell_type": "code",
   "execution_count": 44,
   "metadata": {},
   "outputs": [
    {
     "data": {
      "text/plain": [
       "4735     pillow really nice wa looking like long time f...\n",
       "9425     music lover bose sounddock finally found place...\n",
       "5314     granddaughter love tune help find pitch sing t...\n",
       "2055     bought price considering paying full synthetic...\n",
       "7112     may expensive chair home worth sturdy keep tip...\n",
       "                               ...                        \n",
       "11499    listen typo blog say need poor los room starte...\n",
       "11314    great case slimmer design due narrow profile e...\n",
       "15637    game came everything needed br game play well ...\n",
       "12798    total quality great feature great fit last yea...\n",
       "5567     wonderful love much would never imagine someth...\n",
       "Name: reviews, Length: 3293, dtype: object"
      ]
     },
     "execution_count": 44,
     "metadata": {},
     "output_type": "execute_result"
    }
   ],
   "source": [
    "df_test"
   ]
  },
  {
   "cell_type": "code",
   "execution_count": 45,
   "metadata": {},
   "outputs": [
    {
     "data": {
      "text/plain": [
       "'pillow really nice wa looking like long time finally founded amazon comfortable soft happy thinking buy future looking pillow right place must give try like'"
      ]
     },
     "execution_count": 45,
     "metadata": {},
     "output_type": "execute_result"
    }
   ],
   "source": [
    "df_test.loc[4735]"
   ]
  },
  {
   "cell_type": "code",
   "execution_count": 39,
   "metadata": {},
   "outputs": [
    {
     "data": {
      "text/plain": [
       "[645,\n",
       " 10,\n",
       " 23,\n",
       " 2,\n",
       " 58,\n",
       " 6,\n",
       " 62,\n",
       " 16,\n",
       " 485,\n",
       " 1,\n",
       " 167,\n",
       " 79,\n",
       " 193,\n",
       " 60,\n",
       " 495,\n",
       " 30,\n",
       " 799,\n",
       " 58,\n",
       " 645,\n",
       " 71,\n",
       " 202,\n",
       " 229,\n",
       " 98,\n",
       " 175,\n",
       " 6]"
      ]
     },
     "execution_count": 39,
     "metadata": {},
     "output_type": "execute_result"
    }
   ],
   "source": [
    "sequences_test[0\n",
    "               ]"
   ]
  },
  {
   "cell_type": "code",
   "execution_count": 37,
   "metadata": {
    "colab": {},
    "colab_type": "code",
    "id": "AwbFBKntrFv-"
   },
   "outputs": [],
   "source": [
    "word2idx = tokenizer.word_index\n",
    "V = len(word2idx)"
   ]
  },
  {
   "cell_type": "code",
   "execution_count": 38,
   "metadata": {},
   "outputs": [
    {
     "data": {
      "text/plain": [
       "{'<OOV>': 1,\n",
       " 'wa': 2,\n",
       " 'great': 3,\n",
       " 'one': 4,\n",
       " 'good': 5,\n",
       " 'like': 6,\n",
       " 'love': 7,\n",
       " 'product': 8,\n",
       " 'br': 9,\n",
       " 'really': 10,\n",
       " 'work': 11,\n",
       " 'well': 12,\n",
       " 'use': 13,\n",
       " 'would': 14,\n",
       " 'quality': 15,\n",
       " 'time': 16,\n",
       " 'get': 17,\n",
       " 'look': 18,\n",
       " 'ha': 19,\n",
       " 'price': 20,\n",
       " 'bought': 21,\n",
       " 'easy': 22,\n",
       " 'nice': 23,\n",
       " 'much': 24,\n",
       " 'fit': 25,\n",
       " 'little': 26,\n",
       " 'recommend': 27,\n",
       " 'got': 28,\n",
       " 'also': 29,\n",
       " 'buy': 30,\n",
       " 'make': 31,\n",
       " 'perfect': 32,\n",
       " 'made': 33,\n",
       " 'used': 34,\n",
       " 'even': 35,\n",
       " 'doe': 36,\n",
       " 'watch': 37,\n",
       " 'day': 38,\n",
       " 'size': 39,\n",
       " 'need': 40,\n",
       " 'thing': 41,\n",
       " 'light': 42,\n",
       " 'lot': 43,\n",
       " 'year': 44,\n",
       " 'better': 45,\n",
       " 'bag': 46,\n",
       " 'color': 47,\n",
       " 'best': 48,\n",
       " 'small': 49,\n",
       " 'using': 50,\n",
       " 'go': 51,\n",
       " 'back': 52,\n",
       " 'put': 53,\n",
       " 'still': 54,\n",
       " 'way': 55,\n",
       " 'set': 56,\n",
       " 'first': 57,\n",
       " 'looking': 58,\n",
       " 'feel': 59,\n",
       " 'happy': 60,\n",
       " 'keep': 61,\n",
       " 'long': 62,\n",
       " 'could': 63,\n",
       " 'new': 64,\n",
       " 'case': 65,\n",
       " 'pretty': 66,\n",
       " 'want': 67,\n",
       " 'problem': 68,\n",
       " 'sound': 69,\n",
       " 'old': 70,\n",
       " 'right': 71,\n",
       " 'come': 72,\n",
       " 'two': 73,\n",
       " 'battery': 74,\n",
       " 'purchase': 75,\n",
       " 'item': 76,\n",
       " 'purchased': 77,\n",
       " 'think': 78,\n",
       " 'comfortable': 79,\n",
       " 'wear': 80,\n",
       " 'say': 81,\n",
       " 'picture': 82,\n",
       " 'take': 83,\n",
       " 'enough': 84,\n",
       " 'bit': 85,\n",
       " 'see': 86,\n",
       " 'far': 87,\n",
       " 'know': 88,\n",
       " 'money': 89,\n",
       " 'month': 90,\n",
       " 'last': 91,\n",
       " 'game': 92,\n",
       " 'since': 93,\n",
       " 'definitely': 94,\n",
       " 'book': 95,\n",
       " 'another': 96,\n",
       " 'gift': 97,\n",
       " 'give': 98,\n",
       " 'worth': 99,\n",
       " 'around': 100,\n",
       " 'without': 101,\n",
       " 'many': 102,\n",
       " 'friend': 103,\n",
       " 'excellent': 104,\n",
       " 'every': 105,\n",
       " 'hold': 106,\n",
       " 'highly': 107,\n",
       " 'big': 108,\n",
       " 'came': 109,\n",
       " 'always': 110,\n",
       " 'needed': 111,\n",
       " 'sure': 112,\n",
       " 'something': 113,\n",
       " 'ordered': 114,\n",
       " 'hard': 115,\n",
       " 'find': 116,\n",
       " 'never': 117,\n",
       " 'movie': 118,\n",
       " 'thought': 119,\n",
       " 'though': 120,\n",
       " 'cheap': 121,\n",
       " 'week': 122,\n",
       " 'phone': 123,\n",
       " 'easily': 124,\n",
       " 'room': 125,\n",
       " 'however': 126,\n",
       " 'worked': 127,\n",
       " 'son': 128,\n",
       " 'awesome': 129,\n",
       " 'expected': 130,\n",
       " 'found': 131,\n",
       " 'high': 132,\n",
       " 'box': 133,\n",
       " 'different': 134,\n",
       " 'kid': 135,\n",
       " 'going': 136,\n",
       " 'fine': 137,\n",
       " 'amazing': 138,\n",
       " 'getting': 139,\n",
       " 'everything': 140,\n",
       " 'perfectly': 141,\n",
       " 'beautiful': 142,\n",
       " 'wanted': 143,\n",
       " 'help': 144,\n",
       " 'ever': 145,\n",
       " 'seems': 146,\n",
       " 'camera': 147,\n",
       " 'dog': 148,\n",
       " 'play': 149,\n",
       " 'job': 150,\n",
       " 'review': 151,\n",
       " 'tried': 152,\n",
       " 'hand': 153,\n",
       " 'design': 154,\n",
       " 'loved': 155,\n",
       " 'brand': 156,\n",
       " 'piece': 157,\n",
       " 'sturdy': 158,\n",
       " 'water': 159,\n",
       " 'daughter': 160,\n",
       " 'bad': 161,\n",
       " 'quite': 162,\n",
       " 'part': 163,\n",
       " 'material': 164,\n",
       " 'received': 165,\n",
       " 'star': 166,\n",
       " 'amazon': 167,\n",
       " 'fast': 168,\n",
       " 'car': 169,\n",
       " 'top': 170,\n",
       " 'store': 171,\n",
       " 'exactly': 172,\n",
       " 'cute': 173,\n",
       " 'read': 174,\n",
       " 'try': 175,\n",
       " 'able': 176,\n",
       " 'actually': 177,\n",
       " 'arrived': 178,\n",
       " 'durable': 179,\n",
       " 'tv': 180,\n",
       " 'together': 181,\n",
       " 'yet': 182,\n",
       " 'anything': 183,\n",
       " 'disappointed': 184,\n",
       " 'fun': 185,\n",
       " 'people': 186,\n",
       " 'super': 187,\n",
       " 'issue': 188,\n",
       " 'husband': 189,\n",
       " 'clean': 190,\n",
       " 'anyone': 191,\n",
       " 'weight': 192,\n",
       " 'soft': 193,\n",
       " 'working': 194,\n",
       " 'side': 195,\n",
       " 'order': 196,\n",
       " 'plastic': 197,\n",
       " 'home': 198,\n",
       " 'cable': 199,\n",
       " 'large': 200,\n",
       " 'tool': 201,\n",
       " 'place': 202,\n",
       " 'recommended': 203,\n",
       " 'away': 204,\n",
       " 'buying': 205,\n",
       " 'heavy': 206,\n",
       " 'shoe': 207,\n",
       " 'took': 208,\n",
       " 'pleased': 209,\n",
       " 'simple': 210,\n",
       " 'wish': 211,\n",
       " 'smell': 212,\n",
       " 'u': 213,\n",
       " 'baby': 214,\n",
       " 'stuff': 215,\n",
       " 'house': 216,\n",
       " 'absolutely': 217,\n",
       " 'second': 218,\n",
       " 'almost': 219,\n",
       " 'real': 220,\n",
       " 'quickly': 221,\n",
       " 'life': 222,\n",
       " 'hour': 223,\n",
       " 'inside': 224,\n",
       " 'black': 225,\n",
       " 'already': 226,\n",
       " 'overall': 227,\n",
       " 'le': 228,\n",
       " 'must': 229,\n",
       " 'night': 230,\n",
       " 'screen': 231,\n",
       " 'wonderful': 232,\n",
       " 'hair': 233,\n",
       " 'taste': 234,\n",
       " 'ring': 235,\n",
       " 'strong': 236,\n",
       " 'gave': 237,\n",
       " 'thanks': 238,\n",
       " 'several': 239,\n",
       " 'cover': 240,\n",
       " 'family': 241,\n",
       " 'value': 242,\n",
       " 'cool': 243,\n",
       " 'glad': 244,\n",
       " 'card': 245,\n",
       " 'toy': 246,\n",
       " 'pocket': 247,\n",
       " 'pair': 248,\n",
       " 'handle': 249,\n",
       " 'carry': 250,\n",
       " 'expensive': 251,\n",
       " 'favorite': 252,\n",
       " 'nothing': 253,\n",
       " 'charge': 254,\n",
       " 'clear': 255,\n",
       " 'extra': 256,\n",
       " 'saw': 257,\n",
       " 'wife': 258,\n",
       " 'show': 259,\n",
       " 'bottle': 260,\n",
       " 'especially': 261,\n",
       " 'skin': 262,\n",
       " 'end': 263,\n",
       " 'power': 264,\n",
       " 'liked': 265,\n",
       " 'feature': 266,\n",
       " 'video': 267,\n",
       " 'said': 268,\n",
       " 'device': 269,\n",
       " 'bright': 270,\n",
       " 'face': 271,\n",
       " 'kind': 272,\n",
       " 'pack': 273,\n",
       " 'stand': 274,\n",
       " 'trip': 275,\n",
       " 'deal': 276,\n",
       " 'leather': 277,\n",
       " 'install': 278,\n",
       " 'cost': 279,\n",
       " 'couple': 280,\n",
       " 'shipping': 281,\n",
       " 'started': 282,\n",
       " 'thank': 283,\n",
       " 'smaller': 284,\n",
       " 'run': 285,\n",
       " 'strap': 286,\n",
       " 'others': 287,\n",
       " 'foot': 288,\n",
       " 'low': 289,\n",
       " 'fan': 290,\n",
       " 'system': 291,\n",
       " 'seem': 292,\n",
       " 'glass': 293,\n",
       " 'longer': 294,\n",
       " 'trying': 295,\n",
       " 'stay': 296,\n",
       " 'table': 297,\n",
       " 'full': 298,\n",
       " 'chair': 299,\n",
       " 'may': 300,\n",
       " 'next': 301,\n",
       " 'whole': 302,\n",
       " 'change': 303,\n",
       " 'fact': 304,\n",
       " 'space': 305,\n",
       " 'fantastic': 306,\n",
       " 'child': 307,\n",
       " 'bed': 308,\n",
       " 'went': 309,\n",
       " 'extremely': 310,\n",
       " 'style': 311,\n",
       " 'head': 312,\n",
       " 'satisfied': 313,\n",
       " 'stick': 314,\n",
       " 'cut': 315,\n",
       " 'broke': 316,\n",
       " 'speaker': 317,\n",
       " 'everyone': 318,\n",
       " 'short': 319,\n",
       " 'looked': 320,\n",
       " 'ok': 321,\n",
       " 'wrong': 322,\n",
       " 'package': 323,\n",
       " 'easier': 324,\n",
       " 'open': 325,\n",
       " 'ago': 326,\n",
       " 'christmas': 327,\n",
       " 'unit': 328,\n",
       " 'return': 329,\n",
       " 'computer': 330,\n",
       " 'original': 331,\n",
       " 'minute': 332,\n",
       " 'maybe': 333,\n",
       " 'tell': 334,\n",
       " 'plus': 335,\n",
       " 'three': 336,\n",
       " 'coffee': 337,\n",
       " 'travel': 338,\n",
       " 'waste': 339,\n",
       " 'service': 340,\n",
       " 'taking': 341,\n",
       " 'wearing': 342,\n",
       " 'add': 343,\n",
       " 'food': 344,\n",
       " 'line': 345,\n",
       " 'enjoy': 346,\n",
       " 'quick': 347,\n",
       " 'result': 348,\n",
       " 'might': 349,\n",
       " 'probably': 350,\n",
       " 'type': 351,\n",
       " 'useful': 352,\n",
       " 'blue': 353,\n",
       " 'solid': 354,\n",
       " 'playing': 355,\n",
       " 'free': 356,\n",
       " 'replacement': 357,\n",
       " 'seen': 358,\n",
       " 'point': 359,\n",
       " 'white': 360,\n",
       " 'air': 361,\n",
       " 'done': 362,\n",
       " 'complaint': 363,\n",
       " 'shape': 364,\n",
       " 'else': 365,\n",
       " 'replace': 366,\n",
       " 'button': 367,\n",
       " 'turn': 368,\n",
       " 'decent': 369,\n",
       " 'mine': 370,\n",
       " 'although': 371,\n",
       " 'hope': 372,\n",
       " 'making': 373,\n",
       " 'cat': 374,\n",
       " 'difference': 375,\n",
       " 'instruction': 376,\n",
       " 'kit': 377,\n",
       " 'close': 378,\n",
       " 'totally': 379,\n",
       " 'necklace': 380,\n",
       " 'least': 381,\n",
       " 'band': 382,\n",
       " 'music': 383,\n",
       " 'nicely': 384,\n",
       " 'guess': 385,\n",
       " 'either': 386,\n",
       " 'wall': 387,\n",
       " 'front': 388,\n",
       " 'dvd': 389,\n",
       " 'hole': 390,\n",
       " 'bigger': 391,\n",
       " 'oil': 392,\n",
       " 'pay': 393,\n",
       " 'bottom': 394,\n",
       " 'start': 395,\n",
       " 'birthday': 396,\n",
       " 'instead': 397,\n",
       " 'company': 398,\n",
       " 'area': 399,\n",
       " 'screw': 400,\n",
       " 'dry': 401,\n",
       " 'headphone': 402,\n",
       " 'cup': 403,\n",
       " 'control': 404,\n",
       " 'key': 405,\n",
       " 'metal': 406,\n",
       " 'support': 407,\n",
       " 'handy': 408,\n",
       " 'inch': 409,\n",
       " 'built': 410,\n",
       " 'eye': 411,\n",
       " 'believe': 412,\n",
       " 'seller': 413,\n",
       " 'save': 414,\n",
       " 'described': 415,\n",
       " 'photo': 416,\n",
       " 'seat': 417,\n",
       " 'charger': 418,\n",
       " 'online': 419,\n",
       " 'half': 420,\n",
       " 'smooth': 421,\n",
       " 'earring': 422,\n",
       " 'cord': 423,\n",
       " 'expect': 424,\n",
       " 'huge': 425,\n",
       " 'lost': 426,\n",
       " 'left': 427,\n",
       " 'thin': 428,\n",
       " 'break': 429,\n",
       " 'advertised': 430,\n",
       " 'regular': 431,\n",
       " 'knife': 432,\n",
       " 'warm': 433,\n",
       " 'surprised': 434,\n",
       " 'apart': 435,\n",
       " 'hot': 436,\n",
       " 'cheaper': 437,\n",
       " 'decided': 438,\n",
       " 'move': 439,\n",
       " 'glove': 440,\n",
       " 'match': 441,\n",
       " 'bar': 442,\n",
       " 'dark': 443,\n",
       " 'pick': 444,\n",
       " 'larger': 445,\n",
       " 'completely': 446,\n",
       " 'soon': 447,\n",
       " 'let': 448,\n",
       " 'reading': 449,\n",
       " 'excited': 450,\n",
       " 'impressed': 451,\n",
       " 'difficult': 452,\n",
       " 'person': 453,\n",
       " 'fall': 454,\n",
       " 'laptop': 455,\n",
       " 'compliment': 456,\n",
       " 'lens': 457,\n",
       " 'tight': 458,\n",
       " 'thick': 459,\n",
       " 'customer': 460,\n",
       " 'someone': 461,\n",
       " 'printer': 462,\n",
       " 'affordable': 463,\n",
       " 'condition': 464,\n",
       " 'everyday': 465,\n",
       " 'packaging': 466,\n",
       " 'mattress': 467,\n",
       " 'function': 468,\n",
       " 'simply': 469,\n",
       " 'touch': 470,\n",
       " 'kitchen': 471,\n",
       " 'ear': 472,\n",
       " 'wait': 473,\n",
       " 'print': 474,\n",
       " 'amount': 475,\n",
       " 'flavor': 476,\n",
       " 'safe': 477,\n",
       " 'story': 478,\n",
       " 'running': 479,\n",
       " 'protection': 480,\n",
       " 'sometimes': 481,\n",
       " 'body': 482,\n",
       " 'along': 483,\n",
       " 'school': 484,\n",
       " 'finally': 485,\n",
       " 'paid': 486,\n",
       " 'rather': 487,\n",
       " 'delivery': 488,\n",
       " 'felt': 489,\n",
       " 'experience': 490,\n",
       " 'idea': 491,\n",
       " 'party': 492,\n",
       " 'etc': 493,\n",
       " 'chain': 494,\n",
       " 'thinking': 495,\n",
       " 'door': 496,\n",
       " 'care': 497,\n",
       " 'purpose': 498,\n",
       " 'player': 499,\n",
       " 'expecting': 500,\n",
       " 'machine': 501,\n",
       " 'within': 502,\n",
       " 'paper': 503,\n",
       " 'sharp': 504,\n",
       " 'mat': 505,\n",
       " 'helped': 506,\n",
       " 'shower': 507,\n",
       " 'reason': 508,\n",
       " 'blade': 509,\n",
       " 'pad': 510,\n",
       " 'otherwise': 511,\n",
       " 'us': 512,\n",
       " 'level': 513,\n",
       " 'storage': 514,\n",
       " 'office': 515,\n",
       " 'finish': 516,\n",
       " 'iphone': 517,\n",
       " 'poor': 518,\n",
       " 'version': 519,\n",
       " 'wood': 520,\n",
       " 'p': 521,\n",
       " 'bracelet': 522,\n",
       " 'worry': 523,\n",
       " 'window': 524,\n",
       " 'loose': 525,\n",
       " 'outside': 526,\n",
       " 'description': 527,\n",
       " 'sleep': 528,\n",
       " 'b': 529,\n",
       " 'floor': 530,\n",
       " 'guy': 531,\n",
       " 'option': 532,\n",
       " 'girl': 533,\n",
       " 'red': 534,\n",
       " 'expectation': 535,\n",
       " 'dress': 536,\n",
       " 'choice': 537,\n",
       " 'often': 538,\n",
       " 'plug': 539,\n",
       " 'installed': 540,\n",
       " 'flat': 541,\n",
       " 'shipped': 542,\n",
       " 'edge': 543,\n",
       " 'ball': 544,\n",
       " 'guitar': 545,\n",
       " 'usually': 546,\n",
       " 'remove': 547,\n",
       " 'ordering': 548,\n",
       " 'live': 549,\n",
       " 'setting': 550,\n",
       " 'wrist': 551,\n",
       " 'supposed': 552,\n",
       " 'broken': 553,\n",
       " 'accurate': 554,\n",
       " 'wash': 555,\n",
       " 'beat': 556,\n",
       " 'usb': 557,\n",
       " 'finger': 558,\n",
       " 'belt': 559,\n",
       " 'noticed': 560,\n",
       " 'local': 561,\n",
       " 'stop': 562,\n",
       " 'effective': 563,\n",
       " 'scratch': 564,\n",
       " 'spend': 565,\n",
       " 'matter': 566,\n",
       " 'watching': 567,\n",
       " 'wallet': 568,\n",
       " 'filter': 569,\n",
       " 'boot': 570,\n",
       " 'given': 571,\n",
       " 'led': 572,\n",
       " 'reasonable': 573,\n",
       " 'unfortunately': 574,\n",
       " 'returned': 575,\n",
       " 'luggage': 576,\n",
       " 'stylish': 577,\n",
       " 'grip': 578,\n",
       " 'kept': 579,\n",
       " 'helpful': 580,\n",
       " 'available': 581,\n",
       " 'rug': 582,\n",
       " 'model': 583,\n",
       " 'tablet': 584,\n",
       " 'lightweight': 585,\n",
       " 'drive': 586,\n",
       " 'okay': 587,\n",
       " 'mean': 588,\n",
       " 'shirt': 589,\n",
       " 'brush': 590,\n",
       " 'past': 591,\n",
       " 'due': 592,\n",
       " 'bike': 593,\n",
       " 'image': 594,\n",
       " 'told': 595,\n",
       " 'fabric': 596,\n",
       " 'tea': 597,\n",
       " 'protector': 598,\n",
       " 'hear': 599,\n",
       " 'pull': 600,\n",
       " 'leg': 601,\n",
       " 'wheel': 602,\n",
       " 'green': 603,\n",
       " 'hit': 604,\n",
       " 'ended': 605,\n",
       " 'drink': 606,\n",
       " 'purchasing': 607,\n",
       " 'mind': 608,\n",
       " 'clip': 609,\n",
       " 'test': 610,\n",
       " 'cold': 611,\n",
       " 'ipad': 612,\n",
       " 'lock': 613,\n",
       " 'later': 614,\n",
       " 'summer': 615,\n",
       " 'four': 616,\n",
       " 'putting': 617,\n",
       " 'coming': 618,\n",
       " 'desk': 619,\n",
       " 'daily': 620,\n",
       " 'opened': 621,\n",
       " 'course': 622,\n",
       " 'true': 623,\n",
       " 'pain': 624,\n",
       " 'plan': 625,\n",
       " 'gold': 626,\n",
       " 'medium': 627,\n",
       " 'twice': 628,\n",
       " 'addition': 629,\n",
       " 'feeling': 630,\n",
       " 'cartridge': 631,\n",
       " 'lose': 632,\n",
       " 'hose': 633,\n",
       " 'walk': 634,\n",
       " 'lovely': 635,\n",
       " 'leave': 636,\n",
       " 'present': 637,\n",
       " 'wire': 638,\n",
       " 'remote': 639,\n",
       " 'enjoyed': 640,\n",
       " 'five': 641,\n",
       " 'zipper': 642,\n",
       " 'assemble': 643,\n",
       " 'yes': 644,\n",
       " 'pillow': 645,\n",
       " 'pump': 646,\n",
       " 'bulb': 647,\n",
       " 'held': 648,\n",
       " 'wide': 649,\n",
       " 'priced': 650,\n",
       " 'flimsy': 651,\n",
       " 'controller': 652,\n",
       " 'delivered': 653,\n",
       " 'backpack': 654,\n",
       " 'properly': 655,\n",
       " 'slightly': 656,\n",
       " 'loud': 657,\n",
       " 'wow': 658,\n",
       " 'recently': 659,\n",
       " 'word': 660,\n",
       " 'standard': 661,\n",
       " 'cant': 662,\n",
       " 'heat': 663,\n",
       " 'figure': 664,\n",
       " 'ink': 665,\n",
       " 'worn': 666,\n",
       " 'mouse': 667,\n",
       " 'spot': 668,\n",
       " 'sister': 669,\n",
       " 'world': 670,\n",
       " 'pen': 671,\n",
       " 'cleaning': 672,\n",
       " 'performance': 673,\n",
       " 'similar': 674,\n",
       " 'installation': 675,\n",
       " 'duty': 676,\n",
       " 'fell': 677,\n",
       " 'hang': 678,\n",
       " 'clothes': 679,\n",
       " 'collection': 680,\n",
       " 'adapter': 681,\n",
       " 'board': 682,\n",
       " 'pound': 683,\n",
       " 'neck': 684,\n",
       " 'plenty': 685,\n",
       " 'unique': 686,\n",
       " 'purse': 687,\n",
       " 'owned': 688,\n",
       " 'x': 689,\n",
       " 'compared': 690,\n",
       " 'hook': 691,\n",
       " 'holding': 692,\n",
       " 'attractive': 693,\n",
       " 'lamp': 694,\n",
       " 'boy': 695,\n",
       " 'included': 696,\n",
       " 'anywhere': 697,\n",
       " 'morning': 698,\n",
       " 'construction': 699,\n",
       " 'string': 700,\n",
       " 'rubber': 701,\n",
       " 'speed': 702,\n",
       " 'turned': 703,\n",
       " 'dont': 704,\n",
       " 'protect': 705,\n",
       " 'professional': 706,\n",
       " 'sweet': 707,\n",
       " 'tip': 708,\n",
       " 'fresh': 709,\n",
       " 'eat': 710,\n",
       " 'length': 711,\n",
       " 'stopped': 712,\n",
       " 'inexpensive': 713,\n",
       " 'effect': 714,\n",
       " 'portable': 715,\n",
       " 'understand': 716,\n",
       " 'grill': 717,\n",
       " 'hate': 718,\n",
       " 'bring': 719,\n",
       " 'surface': 720,\n",
       " 'name': 721,\n",
       " 'film': 722,\n",
       " 'added': 723,\n",
       " 'compact': 724,\n",
       " 'hoping': 725,\n",
       " 'cause': 726,\n",
       " 'mom': 727,\n",
       " 'please': 728,\n",
       " 'sun': 729,\n",
       " 'direction': 730,\n",
       " 'sent': 731,\n",
       " 'series': 732,\n",
       " 'character': 733,\n",
       " 'send': 734,\n",
       " 'knew': 735,\n",
       " 'anyway': 736,\n",
       " 'older': 737,\n",
       " 'memory': 738,\n",
       " 'classic': 739,\n",
       " 'natural': 740,\n",
       " 'brother': 741,\n",
       " 'gotten': 742,\n",
       " 'seemed': 743,\n",
       " 'terrible': 744,\n",
       " 'anymore': 745,\n",
       " 'normal': 746,\n",
       " 'complete': 747,\n",
       " 'cap': 748,\n",
       " 'camping': 749,\n",
       " 'trouble': 750,\n",
       " 'truly': 751,\n",
       " 'today': 752,\n",
       " 'drop': 753,\n",
       " 'packaged': 754,\n",
       " 'season': 755,\n",
       " 'gone': 756,\n",
       " 'man': 757,\n",
       " 'holder': 758,\n",
       " 'display': 759,\n",
       " 'delicious': 760,\n",
       " 'considering': 761,\n",
       " 'number': 762,\n",
       " 'opinion': 763,\n",
       " 'charging': 764,\n",
       " 'audio': 765,\n",
       " 'keeping': 766,\n",
       " 'granddaughter': 767,\n",
       " 'fix': 768,\n",
       " 'giving': 769,\n",
       " 'certainly': 770,\n",
       " 'silver': 771,\n",
       " 'tiny': 772,\n",
       " 'spent': 773,\n",
       " 'special': 774,\n",
       " 'volume': 775,\n",
       " 'allows': 776,\n",
       " 'slide': 777,\n",
       " 'lb': 778,\n",
       " 'multiple': 779,\n",
       " 'range': 780,\n",
       " 'non': 781,\n",
       " 'switch': 782,\n",
       " 'replaced': 783,\n",
       " 'slip': 784,\n",
       " 'based': 785,\n",
       " 'basic': 786,\n",
       " 'mount': 787,\n",
       " 'entire': 788,\n",
       " 'lower': 789,\n",
       " 'setup': 790,\n",
       " 'living': 791,\n",
       " 'age': 792,\n",
       " 'near': 793,\n",
       " 'keyboard': 794,\n",
       " 'check': 795,\n",
       " 'mix': 796,\n",
       " 'convenient': 797,\n",
       " 'steel': 798,\n",
       " 'future': 799,\n",
       " 'hat': 800,\n",
       " 'adjust': 801,\n",
       " 'careful': 802,\n",
       " 'collar': 803,\n",
       " 'charm': 804,\n",
       " 'market': 805,\n",
       " 'label': 806,\n",
       " 'adult': 807,\n",
       " 'lol': 808,\n",
       " 'frame': 809,\n",
       " 'connect': 810,\n",
       " 'secure': 811,\n",
       " 'ray': 812,\n",
       " 'immediately': 813,\n",
       " 'wireless': 814,\n",
       " 'boyfriend': 815,\n",
       " 'funny': 816,\n",
       " 'ready': 817,\n",
       " 'workout': 818,\n",
       " 'stone': 819,\n",
       " 'fairly': 820,\n",
       " 'note': 821,\n",
       " 'learn': 822,\n",
       " 'build': 823,\n",
       " 'corner': 824,\n",
       " 'provides': 825,\n",
       " 'adjustable': 826,\n",
       " 'girlfriend': 827,\n",
       " 'brown': 828,\n",
       " 'mother': 829,\n",
       " 'detail': 830,\n",
       " 'project': 831,\n",
       " 'sunglass': 832,\n",
       " 'rest': 833,\n",
       " 'pant': 834,\n",
       " 'leak': 835,\n",
       " 'connection': 836,\n",
       " 'actual': 837,\n",
       " 'monitor': 838,\n",
       " 'headset': 839,\n",
       " 'prefer': 840,\n",
       " 'roll': 841,\n",
       " 'sock': 842,\n",
       " 'business': 843,\n",
       " 'barely': 844,\n",
       " 'information': 845,\n",
       " 'drawer': 846,\n",
       " 'higher': 847,\n",
       " 'base': 848,\n",
       " 'horrible': 849,\n",
       " 'returning': 850,\n",
       " 'channel': 851,\n",
       " 'played': 852,\n",
       " 'im': 853,\n",
       " 'fully': 854,\n",
       " 'sit': 855,\n",
       " 'except': 856,\n",
       " 'energy': 857,\n",
       " 'sized': 858,\n",
       " 'offer': 859,\n",
       " 'gorgeous': 860,\n",
       " 'lasted': 861,\n",
       " 'dollar': 862,\n",
       " 'useless': 863,\n",
       " 'eating': 864,\n",
       " 'reliable': 865,\n",
       " 'pro': 866,\n",
       " 'wore': 867,\n",
       " 'paint': 868,\n",
       " 'straight': 869,\n",
       " 'important': 870,\n",
       " 'call': 871,\n",
       " 'page': 872,\n",
       " 'variety': 873,\n",
       " 'sorry': 874,\n",
       " 'designed': 875,\n",
       " 'appears': 876,\n",
       " 'bedroom': 877,\n",
       " 'buck': 878,\n",
       " 'shelf': 879,\n",
       " 'forward': 880,\n",
       " 'graphic': 881,\n",
       " 'update': 882,\n",
       " 'whenever': 883,\n",
       " 'instrument': 884,\n",
       " 'ease': 885,\n",
       " 'grandson': 886,\n",
       " 'treat': 887,\n",
       " 'unless': 888,\n",
       " 'middle': 889,\n",
       " 'shoulder': 890,\n",
       " 'lid': 891,\n",
       " 'compartment': 892,\n",
       " 'tape': 893,\n",
       " 'supplement': 894,\n",
       " 'falling': 895,\n",
       " 'nephew': 896,\n",
       " 'shampoo': 897,\n",
       " 'fly': 898,\n",
       " 'taken': 899,\n",
       " 'ton': 900,\n",
       " 'shade': 901,\n",
       " 'sheet': 902,\n",
       " 'cutting': 903,\n",
       " 'seeing': 904,\n",
       " 'yard': 905,\n",
       " 'c': 906,\n",
       " 'deep': 907,\n",
       " 'solution': 908,\n",
       " 'truck': 909,\n",
       " 'opening': 910,\n",
       " 'winter': 911,\n",
       " 'pendant': 912,\n",
       " 'junk': 913,\n",
       " 'previous': 914,\n",
       " 'pet': 915,\n",
       " 'alot': 916,\n",
       " 'samsung': 917,\n",
       " 'notice': 918,\n",
       " 'charged': 919,\n",
       " 'faster': 920,\n",
       " 'mini': 921,\n",
       " 'single': 922,\n",
       " 'crazy': 923,\n",
       " 'oh': 924,\n",
       " 'cloth': 925,\n",
       " 'functional': 926,\n",
       " 'dropped': 927,\n",
       " 'equipment': 928,\n",
       " 'warranty': 929,\n",
       " 'accessory': 930,\n",
       " 'stuck': 931,\n",
       " 'snap': 932,\n",
       " 'woman': 933,\n",
       " 'rate': 934,\n",
       " 'wedding': 935,\n",
       " 'ride': 936,\n",
       " 'date': 937,\n",
       " 'carrying': 938,\n",
       " 'elegant': 939,\n",
       " 'flashlight': 940,\n",
       " 'across': 941,\n",
       " 'bulky': 942,\n",
       " 'dad': 943,\n",
       " 'heard': 944,\n",
       " 'leaf': 945,\n",
       " 'adorable': 946,\n",
       " 'bathroom': 947,\n",
       " 'class': 948,\n",
       " 'ask': 949,\n",
       " 'healthy': 950,\n",
       " 'suggest': 951,\n",
       " 'annoying': 952,\n",
       " 'provide': 953,\n",
       " 'watched': 954,\n",
       " 'jewelry': 955,\n",
       " 'throw': 956,\n",
       " 'attention': 957,\n",
       " 'possible': 958,\n",
       " 'wont': 959,\n",
       " 'pink': 960,\n",
       " 'arm': 961,\n",
       " 'shopping': 962,\n",
       " 'picked': 963,\n",
       " 'bubble': 964,\n",
       " 'receive': 965,\n",
       " 'interesting': 966,\n",
       " 'nail': 967,\n",
       " 'pan': 968,\n",
       " 'main': 969,\n",
       " 'beautifully': 970,\n",
       " 'exercise': 971,\n",
       " 'bass': 972,\n",
       " 'recipe': 973,\n",
       " 'tag': 974,\n",
       " 'meet': 975,\n",
       " 'yellow': 976,\n",
       " 'none': 977,\n",
       " 'tough': 978,\n",
       " 'slow': 979,\n",
       " 'v': 980,\n",
       " 'enjoying': 981,\n",
       " 'powerful': 982,\n",
       " 'sell': 983,\n",
       " 'manufacturer': 984,\n",
       " 'tear': 985,\n",
       " 'remember': 986,\n",
       " 'tree': 987,\n",
       " 'cheaply': 988,\n",
       " 'digital': 989,\n",
       " 'rock': 990,\n",
       " 'chip': 991,\n",
       " 'site': 992,\n",
       " 'young': 993,\n",
       " 'tone': 994,\n",
       " 'hassle': 995,\n",
       " 'microphone': 996,\n",
       " 'suit': 997,\n",
       " 'comment': 998,\n",
       " 'bluetooth': 999,\n",
       " 'texture': 1000,\n",
       " ...}"
      ]
     },
     "execution_count": 38,
     "metadata": {},
     "output_type": "execute_result"
    }
   ],
   "source": [
    "word2idx"
   ]
  },
  {
   "cell_type": "code",
   "execution_count": 25,
   "metadata": {},
   "outputs": [
    {
     "data": {
      "text/plain": [
       "15598"
      ]
     },
     "execution_count": 25,
     "metadata": {},
     "output_type": "execute_result"
    }
   ],
   "source": [
    "len(word2idx)"
   ]
  },
  {
   "cell_type": "code",
   "execution_count": 39,
   "metadata": {},
   "outputs": [
    {
     "name": "stdout",
     "output_type": "stream",
     "text": [
      "10 12\n"
     ]
    }
   ],
   "source": [
    "print(len(df_train[0].split()),len(sequences_train[0]))"
   ]
  },
  {
   "cell_type": "code",
   "execution_count": 40,
   "metadata": {},
   "outputs": [
    {
     "name": "stdout",
     "output_type": "stream",
     "text": [
      "least think product save day keep around case need something\n",
      "[7, 448, 1171, 88, 8468, 6385, 549, 1580, 6386, 1489, 5269, 461]\n",
      "381\n",
      "414\n"
     ]
    }
   ],
   "source": [
    "print(df_train[0])\n",
    "print(sequences_train[0])\n",
    "print(word2idx[\"least\"])\n",
    "print(word2idx[\"save\"])"
   ]
  },
  {
   "cell_type": "markdown",
   "metadata": {},
   "source": [
    "### the Word Least has an index no :  but this number is not there in sequence and the length is also varying.\n",
    "### No shuffling is done\n",
    "### discreprency is noted"
   ]
  },
  {
   "cell_type": "code",
   "execution_count": 29,
   "metadata": {},
   "outputs": [
    {
     "name": "stdout",
     "output_type": "stream",
     "text": [
      "lithium battery something new introduced market average developing cost relatively high stallion compromise quality provides u best low cost br many built technical assistant act like sensor particular fort battery keep phone charged work every voltage high voltage never risked\n",
      "[1300, 449, 770, 244, 77, 95, 12, 1202, 22, 1013, 716, 94, 449, 1229]\n",
      "278\n",
      "14\n",
      "410\n",
      "1612\n"
     ]
    }
   ],
   "source": [
    "print(df_train[1])\n",
    "print(sequences_train[1])\n",
    "print(len(df_train[1]))\n",
    "print(len(sequences_train[1]))\n",
    "print(word2idx[\"built\"])\n",
    "print(word2idx[\"sensor\"])"
   ]
  },
  {
   "cell_type": "code",
   "execution_count": 64,
   "metadata": {},
   "outputs": [
    {
     "name": "stdout",
     "output_type": "stream",
     "text": [
      "use twice week result great used teeth whitening solution result would use least three time week keep using potency solution also technique tray keep everything teeth mouth\n",
      "[274, 503, 1141, 193, 59, 6, 2730, 503, 274, 503, 1141, 115, 564, 1673, 36, 140, 67, 503, 1141, 636, 503, 1141, 2355, 157, 1100, 374, 148]\n",
      "381\n",
      "38\n",
      "8\n",
      "26\n"
     ]
    }
   ],
   "source": [
    "print(df_train[4])\n",
    "print(sequences_train[4])\n",
    "print(word2idx[\"least\"])\n",
    "print(word2idx[\"day\"])\n",
    "print(len(df_train[10].split()))\n",
    "print(len(sequences_train[10]))"
   ]
  },
  {
   "cell_type": "code",
   "execution_count": 32,
   "metadata": {},
   "outputs": [
    {
     "name": "stdout",
     "output_type": "stream",
     "text": [
      "sure supposed would recommend little research culture using pipe plan giving gift using\n",
      "[28, 160, 108, 152, 25, 40, 8471, 42, 676, 3365, 8472, 1542, 17, 1230, 5271, 10, 53, 610, 182]\n",
      "13 19\n",
      "112\n"
     ]
    }
   ],
   "source": [
    "print(df_train[5])\n",
    "print(sequences_train[5])\n",
    "print(len(df_train[5].split()),len(sequences_train[5]))\n",
    "print(word2idx[\"sure\"])\n"
   ]
  },
  {
   "cell_type": "code",
   "execution_count": 65,
   "metadata": {
    "colab": {
     "base_uri": "https://localhost:8080/",
     "height": 34
    },
    "colab_type": "code",
    "id": "d2NCoR8WrFwB",
    "outputId": "31c5df13-42c1-45ac-d012-ea10524eb621"
   },
   "outputs": [
    {
     "name": "stdout",
     "output_type": "stream",
     "text": [
      "Shape of data train tensor: (13168, 40)\n"
     ]
    }
   ],
   "source": [
    "\n",
    "data_train = pad_sequences(sequences_train)\n",
    "print('Shape of data train tensor:',data_train.shape)\n",
    "\n",
    "\n",
    "T = data_train.shape[1]"
   ]
  },
  {
   "cell_type": "code",
   "execution_count": 66,
   "metadata": {},
   "outputs": [
    {
     "name": "stdout",
     "output_type": "stream",
     "text": [
      "least think product save day keep around case need something\n",
      "[   0    0    0    0    0    0    0    0    0    0    0    0    0    0\n",
      "    0    0    0    0    0    0    0    0    0    0    0    0    0    0\n",
      "    7  448 1171   88 8468 6385  549 1580 6386 1489 5269  461]\n"
     ]
    }
   ],
   "source": [
    "print(df_train[0])\n",
    "print(data_train[0])"
   ]
  },
  {
   "cell_type": "code",
   "execution_count": 67,
   "metadata": {
    "colab": {
     "base_uri": "https://localhost:8080/",
     "height": 34
    },
    "colab_type": "code",
    "id": "k1xZie5ArFwD",
    "outputId": "18b8dd3d-17cc-467f-a91b-ede6717baf95"
   },
   "outputs": [
    {
     "name": "stdout",
     "output_type": "stream",
     "text": [
      "Shape of data test tensor: (3293, 40)\n"
     ]
    }
   ],
   "source": [
    "\n",
    "data_test = pad_sequences(sequences_test,maxlen=T)\n",
    "print('Shape of data test tensor:',data_test.shape)"
   ]
  },
  {
   "cell_type": "code",
   "execution_count": 68,
   "metadata": {
    "colab": {
     "base_uri": "https://localhost:8080/",
     "height": 134
    },
    "colab_type": "code",
    "id": "5Dzgs8cnwe8t",
    "outputId": "66725fe1-5d5a-49fd-e569-017824fab8fe"
   },
   "outputs": [
    {
     "data": {
      "text/plain": [
       "array([[    0,     0,     0, ...,    98,   175,     6],\n",
       "       [    0,     0,     0, ...,   691, 12498,   345],\n",
       "       [    0,     0,     0, ...,  4393,  2389,  2599],\n",
       "       ...,\n",
       "       [    0,     0,     0, ...,   343,  4485,     7],\n",
       "       [    0,     0,     0, ...,     8,   168,   488],\n",
       "       [    0,     0,     0, ...,   113,   283,   167]])"
      ]
     },
     "execution_count": 68,
     "metadata": {},
     "output_type": "execute_result"
    }
   ],
   "source": [
    "data_test"
   ]
  },
  {
   "cell_type": "markdown",
   "metadata": {},
   "source": [
    "## Model 1 with Basic LSTM"
   ]
  },
  {
   "cell_type": "code",
   "execution_count": 69,
   "metadata": {
    "colab": {},
    "colab_type": "code",
    "id": "Gq7mcXqwrFwI"
   },
   "outputs": [],
   "source": [
    "# Model  1\n",
    "\n",
    "# embeding dimensionality\n",
    "D = 20\n",
    "\n",
    "i = Input(shape=(T,))\n",
    "x = Embedding(V+1,D)(i)\n",
    "x = LSTM(15,return_sequences=True)(x)\n",
    "x = GlobalMaxPooling1D()(x)\n",
    "x=Dense(64,activation=\"relu\")(x)\n",
    "x = Dense(1, activation='sigmoid')(x)\n",
    "\n",
    "model = Model(i,x)"
   ]
  },
  {
   "cell_type": "code",
   "execution_count": 70,
   "metadata": {
    "colab": {
     "base_uri": "https://localhost:8080/",
     "height": 370
    },
    "colab_type": "code",
    "id": "lgVGwdbOrFwK",
    "outputId": "1dbcb6fd-a368-4561-afba-28c014f3dce4"
   },
   "outputs": [
    {
     "name": "stdout",
     "output_type": "stream",
     "text": [
      "Training model....\n",
      "Train on 13168 samples, validate on 3293 samples\n",
      "Epoch 1/10\n",
      "13168/13168 [==============================] - 6s 475us/sample - loss: 0.6933 - accuracy: 0.4683 - val_loss: 0.6863 - val_accuracy: 0.4534\n",
      "Epoch 2/10\n",
      "13168/13168 [==============================] - 4s 341us/sample - loss: 0.6680 - accuracy: 0.5591 - val_loss: 0.6606 - val_accuracy: 0.6134\n",
      "Epoch 3/10\n",
      "13168/13168 [==============================] - 5s 351us/sample - loss: 0.6235 - accuracy: 0.6962 - val_loss: 0.6613 - val_accuracy: 0.6034\n",
      "Epoch 4/10\n",
      "13168/13168 [==============================] - 5s 342us/sample - loss: 0.5961 - accuracy: 0.7602 - val_loss: 0.6622 - val_accuracy: 0.6058\n",
      "Epoch 5/10\n",
      "13168/13168 [==============================] - 5s 359us/sample - loss: 0.5817 - accuracy: 0.7939 - val_loss: 0.6630 - val_accuracy: 0.6046\n",
      "Epoch 6/10\n",
      "13168/13168 [==============================] - 5s 345us/sample - loss: 0.5718 - accuracy: 0.8189 - val_loss: 0.6655 - val_accuracy: 0.6083\n",
      "Epoch 7/10\n",
      "13168/13168 [==============================] - 5s 359us/sample - loss: 0.5646 - accuracy: 0.8335 - val_loss: 0.6644 - val_accuracy: 0.6095\n",
      "Epoch 8/10\n",
      "13168/13168 [==============================] - 4s 331us/sample - loss: 0.5608 - accuracy: 0.8418 - val_loss: 0.6596 - val_accuracy: 0.6061\n",
      "Epoch 9/10\n",
      "13168/13168 [==============================] - 4s 337us/sample - loss: 0.5569 - accuracy: 0.8501 - val_loss: 0.6688 - val_accuracy: 0.6025\n",
      "Epoch 10/10\n",
      "13168/13168 [==============================] - 5s 349us/sample - loss: 0.5556 - accuracy: 0.8535 - val_loss: 0.6681 - val_accuracy: 0.5979\n"
     ]
    }
   ],
   "source": [
    "\n",
    "model.compile(loss=tf.keras.losses.BinaryCrossentropy(from_logits=True),optimizer='adam',metrics=['accuracy'])\n",
    "print('Training model....')\n",
    "r=model.fit(data_train, Ytrain,batch_size=64,epochs=10,validation_data=(data_test,Ytest))"
   ]
  },
  {
   "cell_type": "code",
   "execution_count": 71,
   "metadata": {
    "colab": {
     "base_uri": "https://localhost:8080/",
     "height": 282
    },
    "colab_type": "code",
    "id": "1dnX--rBrFwM",
    "outputId": "105e5350-e79d-4330-b7cc-80c024bdd7ac"
   },
   "outputs": [
    {
     "data": {
      "text/plain": [
       "<matplotlib.legend.Legend at 0x2b29a348c48>"
      ]
     },
     "execution_count": 71,
     "metadata": {},
     "output_type": "execute_result"
    },
    {
     "data": {
      "image/png": "[encoded data removed]",
      "text/plain": [
       "<Figure size 432x288 with 1 Axes>"
      ]
     },
     "metadata": {
      "needs_background": "light"
     },
     "output_type": "display_data"
    }
   ],
   "source": [
    "# Plot loss per iteration\n",
    "plt.plot(r.history['loss'], label='loss')\n",
    "plt.plot(r.history['val_loss'], label='val_loss')\n",
    "plt.legend()"
   ]
  },
  {
   "cell_type": "code",
   "execution_count": 72,
   "metadata": {
    "colab": {
     "base_uri": "https://localhost:8080/",
     "height": 282
    },
    "colab_type": "code",
    "id": "oC0u446HrFwQ",
    "outputId": "94de1fce-4f14-4bc8-a378-8838b28fc977"
   },
   "outputs": [
    {
     "data": {
      "text/plain": [
       "<matplotlib.legend.Legend at 0x2b29a388348>"
      ]
     },
     "execution_count": 72,
     "metadata": {},
     "output_type": "execute_result"
    },
    {
     "data": {
      "image/png": "[encoded data removed]",
      "text/plain": [
       "<Figure size 432x288 with 1 Axes>"
      ]
     },
     "metadata": {
      "needs_background": "light"
     },
     "output_type": "display_data"
    }
   ],
   "source": [
    "plt.plot(r.history['accuracy'], label='accuracy')\n",
    "plt.plot(r.history['val_accuracy'], label='val_accuracy')\n",
    "plt.legend()"
   ]
  },
  {
   "cell_type": "code",
   "execution_count": 73,
   "metadata": {
    "colab": {},
    "colab_type": "code",
    "id": "SwHc8EzSzh2M"
   },
   "outputs": [],
   "source": [
    "#Without batch_size:\n",
    "#Epoch 10/10\n",
    "#13168/13168 [==============================] - 10s 788us/sample - loss: 0.1205 - accuracy: 0.9572 - val_loss: 1.3333 - val_accuracy: 0.5864\n",
    "#with batch_size=64:\n",
    "#Epoch 10/10\n",
    "#13168/13168 [==============================] - 4s 339us/sample - loss: 0.0331 - accuracy: 0.9891 - val_loss: 2.0885 - val_accuracy: 0.5858\n"
   ]
  },
  {
   "cell_type": "markdown",
   "metadata": {},
   "source": [
    "## Model 2 With Bidirectional LSTMs"
   ]
  },
  {
   "cell_type": "code",
   "execution_count": 74,
   "metadata": {},
   "outputs": [],
   "source": [
    "\n",
    "#Model 2\n",
    "model2=tf.keras.Sequential([\n",
    "tf.keras.layers.Embedding(V+1,64),\n",
    "tf.keras.layers.Bidirectional(tf.keras.layers.LSTM(64,return_sequences=True)),\n",
    "tf.keras.layers.Bidirectional(tf.keras.layers.LSTM(32)),\n",
    "tf.keras.layers.Dense(64,activation=\"relu\"),\n",
    "tf.keras.layers.Dense(1,activation=\"sigmoid\")])\n"
   ]
  },
  {
   "cell_type": "code",
   "execution_count": 75,
   "metadata": {},
   "outputs": [
    {
     "name": "stdout",
     "output_type": "stream",
     "text": [
      "Training model....\n",
      "Train on 13168 samples, validate on 3293 samples\n",
      "Epoch 1/10\n",
      "13168/13168 [==============================] - 22s 2ms/sample - loss: 0.6805 - accuracy: 0.5260 - val_loss: 0.6630 - val_accuracy: 0.5506\n",
      "Epoch 2/10\n",
      "13168/13168 [==============================] - 23s 2ms/sample - loss: 0.6374 - accuracy: 0.6642 - val_loss: 0.6598 - val_accuracy: 0.5824\n",
      "Epoch 3/10\n",
      "13168/13168 [==============================] - 33s 2ms/sample - loss: 0.6065 - accuracy: 0.7357 - val_loss: 0.6661 - val_accuracy: 0.6092\n",
      "Epoch 4/10\n",
      "13168/13168 [==============================] - 32s 2ms/sample - loss: 0.5912 - accuracy: 0.7728 - val_loss: 0.6671 - val_accuracy: 0.6040\n",
      "Epoch 5/10\n",
      "13168/13168 [==============================] - 33s 2ms/sample - loss: 0.5840 - accuracy: 0.7899 - val_loss: 0.6712 - val_accuracy: 0.6098\n",
      "Epoch 6/10\n",
      "13168/13168 [==============================] - 17s 1ms/sample - loss: 0.5752 - accuracy: 0.8089 - val_loss: 0.6741 - val_accuracy: 0.6055\n",
      "Epoch 7/10\n",
      "13168/13168 [==============================] - 27s 2ms/sample - loss: 0.5703 - accuracy: 0.8204 - val_loss: 0.6779 - val_accuracy: 0.5919\n",
      "Epoch 8/10\n",
      "13168/13168 [==============================] - 26s 2ms/sample - loss: 0.5671 - accuracy: 0.8282 - val_loss: 0.6706 - val_accuracy: 0.5852\n",
      "Epoch 9/10\n",
      "13168/13168 [==============================] - 33s 2ms/sample - loss: 0.5655 - accuracy: 0.8294 - val_loss: 0.6740 - val_accuracy: 0.5828\n",
      "Epoch 10/10\n",
      "13168/13168 [==============================] - 33s 2ms/sample - loss: 0.5622 - accuracy: 0.8397 - val_loss: 0.6757 - val_accuracy: 0.5910\n"
     ]
    }
   ],
   "source": [
    "model2.compile(loss=tf.keras.losses.BinaryCrossentropy(from_logits=True),optimizer='adam',metrics=['accuracy'])\n",
    "print('Training model....')\n",
    "r=model2.fit(data_train, Ytrain,batch_size=64,epochs=10,validation_data=(data_test,Ytest))"
   ]
  },
  {
   "cell_type": "code",
   "execution_count": 76,
   "metadata": {},
   "outputs": [
    {
     "data": {
      "text/plain": [
       "<matplotlib.legend.Legend at 0x2b29fb39188>"
      ]
     },
     "execution_count": 76,
     "metadata": {},
     "output_type": "execute_result"
    },
    {
     "data": {
      "image/png": "[encoded data removed]",
      "text/plain": [
       "<Figure size 432x288 with 1 Axes>"
      ]
     },
     "metadata": {
      "needs_background": "light"
     },
     "output_type": "display_data"
    }
   ],
   "source": [
    "plt.plot(r.history['loss'], label='loss')\n",
    "plt.plot(r.history['val_loss'], label='val_loss')\n",
    "plt.legend()"
   ]
  },
  {
   "cell_type": "code",
   "execution_count": 77,
   "metadata": {},
   "outputs": [
    {
     "data": {
      "text/plain": [
       "<matplotlib.legend.Legend at 0x2b29a388788>"
      ]
     },
     "execution_count": 77,
     "metadata": {},
     "output_type": "execute_result"
    },
    {
     "data": {
      "image/png": "[encoded data removed]",
      "text/plain": [
       "<Figure size 432x288 with 1 Axes>"
      ]
     },
     "metadata": {
      "needs_background": "light"
     },
     "output_type": "display_data"
    }
   ],
   "source": [
    "plt.plot(r.history['accuracy'], label='accuracy')\n",
    "plt.plot(r.history['val_accuracy'], label='val_accuracy')\n",
    "plt.legend()"
   ]
  },
  {
   "cell_type": "markdown",
   "metadata": {},
   "source": [
    "## To Debug the Anomaly in the Tokenizer.Im testing it here."
   ]
  },
  {
   "cell_type": "code",
   "execution_count": 84,
   "metadata": {},
   "outputs": [
    {
     "data": {
      "text/plain": [
       "[2, 3, 4, 6, 5]"
      ]
     },
     "execution_count": 84,
     "metadata": {},
     "output_type": "execute_result"
    }
   ],
   "source": [
    "sequences_train2[0]"
   ]
  },
  {
   "cell_type": "code",
   "execution_count": 85,
   "metadata": {},
   "outputs": [
    {
     "name": "stdout",
     "output_type": "stream",
     "text": [
      "I am a good boy\n",
      "[2, 3, 4, 6, 5]\n",
      "I am a bad boy\n",
      "[2, 3, 4, 7, 5]\n",
      "I dont like brinjal\n",
      "[2, 8, 9, 10]\n"
     ]
    }
   ],
   "source": [
    "for i in range(len(test1)):\n",
    "     print(test1[i])\n",
    "     print(sequences_train2[i])\n"
   ]
  },
  {
   "cell_type": "code",
   "execution_count": null,
   "metadata": {},
   "outputs": [],
   "source": [
    "#Tokenizer is working fine over here"
   ]
  },
  {
   "cell_type": "code",
   "execution_count": 54,
   "metadata": {},
   "outputs": [],
   "source": [
    "dfs[\"tester\"]=df[\"REVIEW_TEXT\"][0:12]"
   ]
  },
  {
   "cell_type": "code",
   "execution_count": 55,
   "metadata": {},
   "outputs": [
    {
     "data": {
      "text/plain": [
       "0        When least you think so, this product will sav...\n",
       "1        Lithium batteries are something new introduced...\n",
       "2        I purchased this swing for my baby. She is 6 m...\n",
       "3        I was looking for an inexpensive desk calcolat...\n",
       "4        I only use it twice a week and the results are...\n",
       "                               ...                        \n",
       "20995                                                  NaN\n",
       "20996                                                  NaN\n",
       "20997                                                  NaN\n",
       "20998                                                  NaN\n",
       "20999                                                  NaN\n",
       "Name: tester, Length: 21000, dtype: object"
      ]
     },
     "execution_count": 55,
     "metadata": {},
     "output_type": "execute_result"
    }
   ],
   "source": [
    "dfs[\"tester\"]"
   ]
  },
  {
   "cell_type": "code",
   "execution_count": 56,
   "metadata": {},
   "outputs": [
    {
     "data": {
      "text/plain": [
       "21000"
      ]
     },
     "execution_count": 56,
     "metadata": {},
     "output_type": "execute_result"
    }
   ],
   "source": [
    "len(dfs[\"tester\"])"
   ]
  },
  {
   "cell_type": "code",
   "execution_count": 57,
   "metadata": {},
   "outputs": [],
   "source": [
    "dfs[\"tester\"].dropna(inplace=True)"
   ]
  },
  {
   "cell_type": "code",
   "execution_count": 58,
   "metadata": {},
   "outputs": [
    {
     "data": {
      "text/plain": [
       "12"
      ]
     },
     "execution_count": 58,
     "metadata": {},
     "output_type": "execute_result"
    }
   ],
   "source": [
    "len(dfs[\"tester\"])"
   ]
  },
  {
   "cell_type": "code",
   "execution_count": 59,
   "metadata": {},
   "outputs": [],
   "source": [
    "MAX_VOCAB_SIZE=20000\n",
    "tokenizer3= Tokenizer(num_words=MAX_VOCAB_SIZE)\n",
    "tokenizer3.fit_on_texts(dfs[\"tester\"])\n",
    "sequences_train3 = tokenizer3.texts_to_sequences(dfs[\"tester\"])\n",
    "#sequences_test = tokenizer.texts_to_sequences(df_test)\n",
    "word2idx3=tokenizer3.word_index"
   ]
  },
  {
   "cell_type": "code",
   "execution_count": 60,
   "metadata": {},
   "outputs": [
    {
     "name": "stdout",
     "output_type": "stream",
     "text": [
      "When least you think so, this product will save the day. Just keep it around just in case you need it for something.\n",
      "[32, 33, 11, 34, 16, 8, 80, 35, 81, 2, 36, 37, 38, 1, 82, 37, 12, 83, 11, 39, 1, 9, 40]\n",
      "Lithium batteries are something new introduced in the market there average developing cost is relatively high but Stallion doesn't compromise on quality and provides us with the best at a low cost.<br />There are so many in built technical assistants that act like a sensor in their particular forté. The battery keeps my phone charged up and it works at every voltage and a high voltage is never risked.\n",
      "[84, 85, 17, 40, 86, 87, 12, 2, 88, 41, 89, 90, 42, 7, 43, 44, 14, 91, 45, 92, 18, 93, 4, 94, 95, 46, 2, 96, 19, 3, 97, 42, 98, 41, 17, 16, 47, 12, 99, 100, 101, 15, 102, 48, 3, 103, 12, 22, 104, 105, 2, 106, 49, 13, 107, 108, 50, 4, 1, 51, 19, 109, 52, 4, 3, 44, 52, 7, 110, 111]\n",
      "I purchased this swing for my baby. She is 6 months now and has pretty much out grown it. It is very loud and doesn't swing very well. It is beautiful though. I love the colors and it has a lot of settings, but I don't think it was worth the money.\n",
      "[5, 112, 8, 53, 9, 13, 113, 23, 7, 114, 115, 116, 4, 54, 117, 118, 119, 120, 1, 1, 7, 55, 121, 4, 45, 53, 55, 122, 1, 7, 123, 124, 5, 125, 2, 126, 4, 1, 54, 3, 127, 6, 128, 14, 5, 56, 34, 1, 24, 129, 2, 57]\n",
      "I was looking for an inexpensive desk calcolatur and here it is. It works and does everything I need. Only issue is that it tilts slightly to one side so when I hit any keys it rocks a little bit. Not a big deal.\n",
      "[5, 24, 130, 9, 131, 132, 133, 134, 4, 135, 1, 7, 1, 51, 4, 136, 58, 5, 39, 59, 137, 7, 15, 1, 138, 139, 10, 140, 141, 16, 32, 5, 142, 143, 144, 1, 145, 3, 60, 146, 20, 3, 147, 148]\n",
      "I only use it twice a week and the results are great. I have used other teeth whitening solutions and most of them, for the same results I would have to use it at least three times a week. Will keep using this because of the potency of the solution and also the technique of the trays, it keeps everything in my teeth, in my mouth.\n",
      "[5, 59, 21, 1, 149, 3, 25, 4, 2, 61, 17, 26, 5, 27, 28, 150, 62, 151, 152, 4, 153, 6, 63, 9, 2, 154, 61, 5, 29, 27, 10, 21, 1, 19, 33, 155, 64, 3, 25, 35, 38, 30, 8, 156, 6, 2, 157, 6, 2, 158, 4, 159, 2, 160, 6, 2, 161, 1, 49, 58, 12, 13, 62, 12, 13, 162]\n",
      "I'm not sure what this is supposed to be but I would recommend that you do a little more research into the culture of using pipes if you plan on giving this as a gift or using it yourself.\n",
      "[163, 20, 164, 165, 8, 7, 166, 10, 167, 14, 5, 29, 168, 15, 11, 65, 3, 60, 169, 170, 171, 2, 172, 6, 30, 173, 66, 11, 174, 18, 175, 8, 176, 3, 67, 177, 30, 1, 68]\n",
      "Pleased with ping pong table. 11 year old and 13 year old having a blast, plus lots of family entertainment too. Plus better than kids sitting on video games all day. A friend put it together. I do believe that was a challenge, but nothing they could not handle\n",
      "[178, 46, 179, 180, 181, 182, 69, 70, 4, 183, 69, 70, 71, 3, 184, 72, 185, 6, 186, 187, 73, 72, 188, 74, 189, 190, 18, 191, 192, 193, 36, 3, 194, 195, 1, 196, 5, 65, 197, 15, 24, 3, 198, 14, 199, 31, 200, 20, 201]\n",
      "Great vitamin C serum... I really like the oil feeling, not too sticky. I used it last week on some of my recent bug bites and it helps heal the skin faster than normal.\n",
      "[26, 202, 203, 204, 5, 205, 48, 2, 206, 207, 20, 73, 208, 5, 28, 1, 209, 25, 18, 75, 6, 13, 210, 211, 212, 4, 1, 213, 214, 2, 215, 216, 74, 217]\n",
      "I've used tide pods laundry detergent for many years,its such a great detergent to use having a nice scent and leaver the cloths smelling fresh.\n",
      "[218, 28, 219, 220, 221, 76, 9, 47, 222, 223, 224, 3, 26, 76, 10, 21, 71, 3, 77, 225, 4, 226, 2, 227, 228, 229]\n",
      "Everybody wants to fall for their promises. But this is a relatively unheard of brand, some even say a non existant company. Look at how amateur their labels and products are. You have to ask yourself if you would trust this kind of amateur stuff? No way! Don't waste your money.\n",
      "[230, 231, 10, 232, 9, 22, 233, 14, 8, 7, 3, 43, 234, 6, 235, 75, 236, 237, 3, 238, 239, 240, 241, 19, 242, 78, 22, 243, 4, 244, 17, 11, 27, 10, 245, 68, 66, 11, 29, 246, 8, 247, 6, 78, 248, 249, 250, 56, 251, 252, 57]\n",
      "Unfortunately they didn't work for me. They made me sick and throw up once of the two times I tried them\n",
      "[253, 31, 254, 255, 9, 79, 31, 256, 79, 257, 4, 258, 50, 259, 6, 2, 260, 64, 5, 261, 63]\n",
      "This kettle is a gift for my daughter. She said that it is easy to use. She likes the design of it, so nice and neat.\n",
      "[8, 262, 7, 3, 67, 9, 13, 263, 23, 264, 15, 1, 7, 265, 10, 21, 23, 266, 2, 267, 6, 1, 16, 77, 4, 268]\n"
     ]
    }
   ],
   "source": [
    "for i in range(len(dfs[\"tester\"])):\n",
    "     print(dfs[\"tester\"][i])\n",
    "     print(sequences_train3[i])"
   ]
  },
  {
   "cell_type": "code",
   "execution_count": 61,
   "metadata": {},
   "outputs": [
    {
     "name": "stdout",
     "output_type": "stream",
     "text": [
      "33\n"
     ]
    }
   ],
   "source": [
    "print(word2idx3[\"least\"])"
   ]
  },
  {
   "cell_type": "code",
   "execution_count": 62,
   "metadata": {},
   "outputs": [
    {
     "name": "stdout",
     "output_type": "stream",
     "text": [
      "112\n"
     ]
    }
   ],
   "source": [
    "print(word2idx3[\"purchased\"])"
   ]
  },
  {
   "cell_type": "code",
   "execution_count": 58,
   "metadata": {},
   "outputs": [],
   "source": [
    "from sklearn.feature_extraction.text import CountVectorizer,TfidfVectorizer"
   ]
  },
  {
   "cell_type": "markdown",
   "metadata": {},
   "source": [
    "## First Model.\n",
    "Found Anomaly in Tokenizing.\n",
    "Models with Training Accuracy 84% and Testing 59%."
   ]
  },
  {
   "cell_type": "code",
   "execution_count": 75,
   "metadata": {},
   "outputs": [],
   "source": [
    "doc = \"In the-state-of-art of the NLP field, Embedding is the \\\n",
    "success way to resolve text related problem and outperform \\\n",
    "Bag of Words ( BoW ). Indeed, BoW introduced limitations \\\n",
    "large feature dimension, sparse representation etc.\"\n",
    "x=\"This kettle is a gift for my daughter. She said that it is easy to use. She likes the design of it, so nice and neat.\"\n",
    "y=\"I purchased this swing for my baby. She is 6 months now and has pretty much out grown it. It is very loud and doesn't swing very well. It is beautiful though. I love the colors and it has a lot of settings, but I don't think it was worth the money.\"\n",
    "count_vec = TfidfVectorizer(max_features=5000)\n",
    "count_occurs = count_vec.fit_transform([doc,x,y])\n"
   ]
  },
  {
   "cell_type": "code",
   "execution_count": 76,
   "metadata": {},
   "outputs": [],
   "source": [
    "v=count_occurs.toarray()"
   ]
  },
  {
   "cell_type": "code",
   "execution_count": 77,
   "metadata": {},
   "outputs": [
    {
     "data": {
      "text/plain": [
       "array([[0.09905018, 0.16770653, 0.        , 0.16770653, 0.        ,\n",
       "        0.33541307, 0.        , 0.        , 0.        , 0.        ,\n",
       "        0.16770653, 0.        , 0.        , 0.        , 0.16770653,\n",
       "        0.16770653, 0.16770653, 0.16770653, 0.        , 0.        ,\n",
       "        0.        , 0.        , 0.16770653, 0.16770653, 0.16770653,\n",
       "        0.09905018, 0.        , 0.        , 0.16770653, 0.        ,\n",
       "        0.16770653, 0.        , 0.        , 0.        , 0.        ,\n",
       "        0.        , 0.        , 0.        , 0.        , 0.        ,\n",
       "        0.16770653, 0.        , 0.29715054, 0.        , 0.16770653,\n",
       "        0.        , 0.16770653, 0.        , 0.16770653, 0.16770653,\n",
       "        0.16770653, 0.        , 0.        , 0.        , 0.        ,\n",
       "        0.16770653, 0.16770653, 0.16770653, 0.        , 0.16770653,\n",
       "        0.        , 0.29715054, 0.        , 0.        , 0.        ,\n",
       "        0.12754514, 0.        , 0.        , 0.        , 0.16770653,\n",
       "        0.        , 0.16770653, 0.        ],\n",
       "       [0.12772479, 0.        , 0.        , 0.        , 0.        ,\n",
       "        0.        , 0.        , 0.        , 0.21625686, 0.21625686,\n",
       "        0.        , 0.        , 0.        , 0.21625686, 0.        ,\n",
       "        0.        , 0.        , 0.        , 0.16446892, 0.21625686,\n",
       "        0.        , 0.        , 0.        , 0.        , 0.        ,\n",
       "        0.25544957, 0.32893783, 0.21625686, 0.        , 0.21625686,\n",
       "        0.        , 0.        , 0.        , 0.        , 0.        ,\n",
       "        0.        , 0.        , 0.16446892, 0.21625686, 0.21625686,\n",
       "        0.        , 0.        , 0.12772479, 0.        , 0.        ,\n",
       "        0.        , 0.        , 0.        , 0.        , 0.        ,\n",
       "        0.        , 0.21625686, 0.        , 0.32893783, 0.21625686,\n",
       "        0.        , 0.        , 0.        , 0.        , 0.        ,\n",
       "        0.21625686, 0.12772479, 0.        , 0.16446892, 0.        ,\n",
       "        0.16446892, 0.21625686, 0.        , 0.        , 0.        ,\n",
       "        0.        , 0.        , 0.        ],\n",
       "       [0.22913332, 0.        , 0.12931881, 0.        , 0.12931881,\n",
       "        0.        , 0.12931881, 0.12931881, 0.        , 0.        ,\n",
       "        0.        , 0.12931881, 0.12931881, 0.        , 0.        ,\n",
       "        0.        , 0.        , 0.        , 0.09835029, 0.        ,\n",
       "        0.12931881, 0.25863762, 0.        , 0.        , 0.        ,\n",
       "        0.22913332, 0.49175145, 0.        , 0.        , 0.        ,\n",
       "        0.        , 0.12931881, 0.12931881, 0.12931881, 0.12931881,\n",
       "        0.12931881, 0.12931881, 0.09835029, 0.        , 0.        ,\n",
       "        0.        , 0.12931881, 0.07637777, 0.12931881, 0.        ,\n",
       "        0.12931881, 0.        , 0.12931881, 0.        , 0.        ,\n",
       "        0.        , 0.        , 0.12931881, 0.09835029, 0.        ,\n",
       "        0.        , 0.        , 0.        , 0.25863762, 0.        ,\n",
       "        0.        , 0.15275555, 0.12931881, 0.09835029, 0.12931881,\n",
       "        0.        , 0.        , 0.25863762, 0.12931881, 0.        ,\n",
       "        0.12931881, 0.        , 0.12931881]])"
      ]
     },
     "execution_count": 77,
     "metadata": {},
     "output_type": "execute_result"
    }
   ],
   "source": [
    "v"
   ]
  },
  {
   "cell_type": "code",
   "execution_count": 78,
   "metadata": {},
   "outputs": [
    {
     "data": {
      "text/plain": [
       "73"
      ]
     },
     "execution_count": 78,
     "metadata": {},
     "output_type": "execute_result"
    }
   ],
   "source": [
    "len(v[0])"
   ]
  },
  {
   "cell_type": "code",
   "execution_count": 79,
   "metadata": {},
   "outputs": [
    {
     "data": {
      "text/plain": [
       "['and',\n",
       " 'art',\n",
       " 'baby',\n",
       " 'bag',\n",
       " 'beautiful',\n",
       " 'bow',\n",
       " 'but',\n",
       " 'colors',\n",
       " 'daughter',\n",
       " 'design',\n",
       " 'dimension',\n",
       " 'doesn',\n",
       " 'don',\n",
       " 'easy',\n",
       " 'embedding',\n",
       " 'etc',\n",
       " 'feature',\n",
       " 'field',\n",
       " 'for',\n",
       " 'gift',\n",
       " 'grown',\n",
       " 'has',\n",
       " 'in',\n",
       " 'indeed',\n",
       " 'introduced',\n",
       " 'is',\n",
       " 'it',\n",
       " 'kettle',\n",
       " 'large',\n",
       " 'likes',\n",
       " 'limitations',\n",
       " 'lot',\n",
       " 'loud',\n",
       " 'love',\n",
       " 'money',\n",
       " 'months',\n",
       " 'much',\n",
       " 'my',\n",
       " 'neat',\n",
       " 'nice',\n",
       " 'nlp',\n",
       " 'now',\n",
       " 'of',\n",
       " 'out',\n",
       " 'outperform',\n",
       " 'pretty',\n",
       " 'problem',\n",
       " 'purchased',\n",
       " 'related',\n",
       " 'representation',\n",
       " 'resolve',\n",
       " 'said',\n",
       " 'settings',\n",
       " 'she',\n",
       " 'so',\n",
       " 'sparse',\n",
       " 'state',\n",
       " 'success',\n",
       " 'swing',\n",
       " 'text',\n",
       " 'that',\n",
       " 'the',\n",
       " 'think',\n",
       " 'this',\n",
       " 'though',\n",
       " 'to',\n",
       " 'use',\n",
       " 'very',\n",
       " 'was',\n",
       " 'way',\n",
       " 'well',\n",
       " 'words',\n",
       " 'worth']"
      ]
     },
     "execution_count": 79,
     "metadata": {},
     "output_type": "execute_result"
    }
   ],
   "source": [
    "count_vec.get_feature_names()"
   ]
  },
  {
   "cell_type": "code",
   "execution_count": 72,
   "metadata": {},
   "outputs": [
    {
     "data": {
      "text/plain": [
       "3"
      ]
     },
     "execution_count": 72,
     "metadata": {},
     "output_type": "execute_result"
    }
   ],
   "source": [
    "len(count_vec.get_feature_names())"
   ]
  },
  {
   "cell_type": "code",
   "execution_count": 56,
   "metadata": {},
   "outputs": [
    {
     "name": "stdout",
     "output_type": "stream",
     "text": [
      "1\n",
      "and\n",
      "1\n",
      "art\n",
      "1\n",
      "bag\n",
      "2\n",
      "bow\n",
      "1\n",
      "dimension\n",
      "1\n",
      "embedding\n",
      "1\n",
      "etc\n",
      "1\n",
      "feature\n",
      "1\n",
      "field\n",
      "1\n",
      "in\n",
      "1\n",
      "indeed\n",
      "1\n",
      "introduced\n",
      "1\n",
      "is\n",
      "1\n",
      "large\n",
      "1\n",
      "limitations\n",
      "1\n",
      "nlp\n",
      "3\n",
      "of\n",
      "1\n",
      "outperform\n",
      "1\n",
      "problem\n",
      "1\n",
      "related\n",
      "1\n",
      "representation\n",
      "1\n",
      "resolve\n",
      "1\n",
      "sparse\n",
      "1\n",
      "state\n",
      "1\n",
      "success\n",
      "1\n",
      "text\n",
      "3\n",
      "the\n",
      "1\n",
      "to\n",
      "1\n",
      "way\n",
      "1\n",
      "words\n"
     ]
    }
   ],
   "source": [
    "for word, count in zip(count_occurs.toarray().tolist()[0],count_vec.get_feature_names()):\n",
    "                       print(word)\n",
    "                       print(count)"
   ]
  },
  {
   "cell_type": "code",
   "execution_count": 50,
   "metadata": {},
   "outputs": [
    {
     "name": "stdout",
     "output_type": "stream",
     "text": [
      "  (0, 9)\t1\n",
      "  (0, 26)\t3\n",
      "  (0, 23)\t1\n",
      "  (0, 16)\t3\n",
      "  (0, 1)\t1\n",
      "  (0, 15)\t1\n",
      "  (0, 8)\t1\n",
      "  (0, 5)\t1\n",
      "  (0, 12)\t1\n",
      "  (0, 24)\t1\n",
      "  (0, 28)\t1\n",
      "  (0, 27)\t1\n",
      "  (0, 21)\t1\n",
      "  (0, 25)\t1\n",
      "  (0, 19)\t1\n",
      "  (0, 18)\t1\n",
      "  (0, 0)\t1\n",
      "  (0, 17)\t1\n",
      "  (0, 2)\t1\n",
      "  (0, 29)\t1\n",
      "  (0, 3)\t2\n",
      "  (0, 10)\t1\n",
      "  (0, 11)\t1\n",
      "  (0, 14)\t1\n",
      "  (0, 13)\t1\n",
      "  (0, 7)\t1\n",
      "  (0, 4)\t1\n",
      "  (0, 22)\t1\n",
      "  (0, 20)\t1\n",
      "  (0, 6)\t1\n"
     ]
    }
   ],
   "source": [
    "print(count_occurs)"
   ]
  },
  {
   "cell_type": "code",
   "execution_count": null,
   "metadata": {},
   "outputs": [],
   "source": [
    "count_occur_df = pd.DataFrame(\n",
    "    (count, word) for word, count in\n",
    "     zip(count_occurs.toarray().tolist()[0], \n",
    "    count_vec.get_feature_names()))\n",
    "count_occur_df.columns = ['Word', 'Count']\n",
    "count_occur_df.sort_values('Count', ascending=False, inplace=True)\n",
    "count_occur_df.head()"
   ]
  }
 ],
 "metadata": {
  "colab": {
   "collapsed_sections": [],
   "name": "fakereview2.ipynb",
   "provenance": []
  },
  "kernelspec": {
   "display_name": "Python 3",
   "language": "python",
   "name": "python3"
  },
  "language_info": {
   "codemirror_mode": {
    "name": "ipython",
    "version": 3
   },
   "file_extension": ".py",
   "mimetype": "text/x-python",
   "name": "python",
   "nbconvert_exporter": "python",
   "pygments_lexer": "ipython3",
   "version": "3.6.12"
  }
 },
 "nbformat": 4,
 "nbformat_minor": 1
}
