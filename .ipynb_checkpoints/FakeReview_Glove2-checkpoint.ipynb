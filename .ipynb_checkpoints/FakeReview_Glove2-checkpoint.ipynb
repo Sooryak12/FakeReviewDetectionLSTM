{
 "cells": [
  {
   "cell_type": "code",
   "execution_count": 108,
   "metadata": {},
   "outputs": [],
   "source": [
    "import pandas as pd\n",
    "import numpy as np\n",
    "import matplotlib.pyplot as plt\n",
    "import seaborn as sns\n",
    "%matplotlib inline\n",
    "import re\n",
    "import tensorflow as tf"
   ]
  },
  {
   "cell_type": "code",
   "execution_count": 109,
   "metadata": {},
   "outputs": [],
   "source": [
    "from tensorflow.keras import layers\n",
    "from tensorflow.keras.preprocessing.text import Tokenizer\n",
    "from tensorflow.keras.preprocessing.sequence import pad_sequences\n",
    "from tensorflow.keras.layers import Dense, Input, GlobalMaxPooling1D,Bidirectional,Flatten\n",
    "from tensorflow.keras.layers import LSTM, Embedding,TimeDistributed\n",
    "from tensorflow.keras.models import Model,Sequential"
   ]
  },
  {
   "cell_type": "code",
   "execution_count": 110,
   "metadata": {},
   "outputs": [],
   "source": [
    "contractions_dict={\n",
    "    \"ain't\": \"are not\",\"aren't\": \"are not\",\"can't\": \"can not\", \"can't've\": \"can not have\",\n",
    "    \"'cause\": \"because\",\n",
    "    \"could've\": \"could have\",\n",
    "    \"couldn't\": \"could not\",\n",
    "    \"couldn't've\": \"could not have\",\n",
    "    \"didn't\": \"did not\",\n",
    "    \"doesn't\": \"does not\",\n",
    "    \"don't\": \"do not\",\"hadn't\": \"had not\",\n",
    "    \"hadn't've\": \"had not have\",  \"hasn't\": \"has not\",\n",
    "    \"haven't\": \"have not\",  \"he'd\": \"he would\",\n",
    "    \"he'd've\": \"he would have\",\n",
    "    \"he'll\": \"he will\",\n",
    "    \"he'll've\": \"he will have\",\n",
    "    \"he's\": \"he is\",\n",
    "    \"how'd\": \"how did\",\n",
    "    \"how're\": \"how are\",\n",
    "    \"how'd'y\": \"how do you\",\n",
    "    \"how'll\": \"how will\",\n",
    "    \"how's\": \"how is\",\n",
    "    \"I'd\": \"I would\",\n",
    "    \"I'd've\": \"I would have\",\n",
    "    \"I'll\": \"I will\",\n",
    "    \"I'll've\": \"I will have\",\n",
    "    \"I'm\": \"I am\",\n",
    "    \"I've\": \"I have\",\n",
    "    \"isn't\": \"is not\",\n",
    "    \"it'd\": \"it would\",\n",
    "    \"it'd've\": \"it would have\",\n",
    "    \"it'll\": \"it will\",\n",
    "    \"it'll've\": \"it will have\",\n",
    "    \"it's\": \"it is\",\n",
    "    \"let's\": \"let us\",\n",
    "    \"ma'am\": \"madam\",\n",
    "    \"mayn't\": \"may not\",\n",
    "    \"might've\": \"might have\",\n",
    "    \"mightn't\": \"might not\",\n",
    "    \"mightn't've\": \"might not have\",\n",
    "    \"must've\": \"must have\",\n",
    "    \"mustn't\": \"must not\",\n",
    "    \"mustn't've\": \"must not have\",\n",
    "    \"needn't\": \"need not\",\n",
    "    \"needn't've\": \"need not have\",\n",
    "    \"o'clock\": \"of the clock\",  \"oughtn't\": \"ought not\",\n",
    "    \"oughtn't've\": \"ought not have\", \"shan't\": \"shall not\",\n",
    "    \"sha'n't\": \"shall not\",\n",
    "    \"shan't've\": \"shall not have\", \"she'd\": \"she would\",\n",
    "    \"she'd've\": \"she would have\",\n",
    "    \"she'll\": \"she will\", \"she'll've\": \"she will have\",\n",
    "    \"she's\": \"she is\",\n",
    "    \"should've\": \"should have\",\"shouldn't\": \"should not\",\n",
    "    \"shouldn't've\": \"should not have\",\n",
    "    \"so've\": \"so have\", \"so's\": \"so is\",\n",
    "    \"that'd\": \"that would\", \"that'd've\": \"that would have\",\n",
    "    \"that's\": \"that is\",\n",
    "    \"there'd\": \"there would\",\n",
    "    \"there'd've\": \"there would have\",\n",
    "    \"there's\": \"there is\",\n",
    "    \"they'd\": \"they would\",\n",
    "    \"they'd've\": \"they would have\",\n",
    "    \"they'll\": \"they will\",\n",
    "    \"they'll've\": \"they will have\",\n",
    "    \"they're\": \"they are\",\n",
    "    \"they've\": \"they have\",\n",
    "    \"to've\": \"to have\",\n",
    "    \"wasn't\": \"was not\",\n",
    "    \"we'd\": \"we would\",\n",
    "    \"we'd've\": \"we would have\",\n",
    "    \"we'll\": \"we will\",\n",
    "    \"we'll've\": \"we will have\",\n",
    "    \"we're\": \"we are\",\n",
    "    \"we've\": \"we have\",\n",
    "    \"weren't\": \"were not\",\n",
    "    \"what'll\": \"what will\",\n",
    "    \"what'll've\": \"what will have\",\n",
    "    \"what're\": \"what are\",\n",
    "    \"what's\": \"what is\",\n",
    "    \"what've\": \"what have\",\n",
    "    \"when's\": \"when is\",\n",
    "    \"when've\": \"when have\",\n",
    "    \"where'd\": \"where did\",\n",
    "    \"where's\": \"where is\",\n",
    "    \"where've\": \"where have\",\n",
    "    \"who'll\": \"who will\",\n",
    "    \"who'll've\": \"who will have\",\n",
    "    \"who's\": \"who is\",\n",
    "    \"who've\": \"who have\",\n",
    "    \"why's\": \"why is\",\n",
    "    \"why've\": \"why have\",\n",
    "    \"will've\": \"will have\",\n",
    "    \"won't\": \"will not\",\n",
    "    \"won't've\": \"will not have\",\n",
    "    \"would've\": \"would have\",\n",
    "    \"wouldn't\": \"would not\",\n",
    "    \"wouldn't've\": \"would not have\",\n",
    "    \"y'all\": \"you all\",\n",
    "    \"y'all'd\": \"you all would\",\n",
    "    \"y'all'd've\": \"you all would have\",\n",
    "    \"y'all're\": \"you all are\",\n",
    "    \"y'all've\": \"you all have\",\n",
    "    \"you'd\": \"you would\",\n",
    "    \"you'd've\": \"you would have\",\n",
    "    \"you'll\": \"you will\",\n",
    "    \"you'll've\": \"you shall have\",\n",
    "    \"you're\": \"you are\",\n",
    "    \"you've\": \"you have\"\n",
    "}"
   ]
  },
  {
   "cell_type": "code",
   "execution_count": null,
   "metadata": {},
   "outputs": [],
   "source": [
    "\n",
    "\n"
   ]
  },
  {
   "cell_type": "code",
   "execution_count": 111,
   "metadata": {},
   "outputs": [],
   "source": [
    "x=[\"HI we'll\",\"bye y'all love you you've\"]\n",
    "for i in range(len(x)):\n",
    "    x[i]=expand_contractions(str(x[i]))\n",
    "    "
   ]
  },
  {
   "cell_type": "code",
   "execution_count": 112,
   "metadata": {},
   "outputs": [
    {
     "data": {
      "text/plain": [
       "['HI we will', 'bye you all love you you have']"
      ]
     },
     "execution_count": 112,
     "metadata": {},
     "output_type": "execute_result"
    }
   ],
   "source": [
    "x\n"
   ]
  },
  {
   "cell_type": "code",
   "execution_count": 113,
   "metadata": {},
   "outputs": [
    {
     "name": "stdout",
     "output_type": "stream",
     "text": [
      "5\n"
     ]
    }
   ],
   "source": [
    "x=\"Hi hello how are you\"\n",
    "print(len(x.split()))"
   ]
  },
  {
   "cell_type": "code",
   "execution_count": 114,
   "metadata": {},
   "outputs": [],
   "source": [
    "url=\"https://raw.githubusercontent.com/Sooryak12/FakeReviewDetectionLSTM/master/selected.txt\""
   ]
  },
  {
   "cell_type": "code",
   "execution_count": 115,
   "metadata": {},
   "outputs": [
    {
     "data": {
      "text/html": [
       "<div>\n",
       "<style scoped>\n",
       "    .dataframe tbody tr th:only-of-type {\n",
       "        vertical-align: middle;\n",
       "    }\n",
       "\n",
       "    .dataframe tbody tr th {\n",
       "        vertical-align: top;\n",
       "    }\n",
       "\n",
       "    .dataframe thead th {\n",
       "        text-align: right;\n",
       "    }\n",
       "</style>\n",
       "<table border=\"1\" class=\"dataframe\">\n",
       "  <thead>\n",
       "    <tr style=\"text-align: right;\">\n",
       "      <th></th>\n",
       "      <th>DOC_ID</th>\n",
       "      <th>LABEL</th>\n",
       "      <th>RATING</th>\n",
       "      <th>VERIFIED_PURCHASE</th>\n",
       "      <th>PRODUCT_CATEGORY</th>\n",
       "      <th>PRODUCT_ID</th>\n",
       "      <th>PRODUCT_TITLE</th>\n",
       "      <th>REVIEW_TITLE</th>\n",
       "      <th>REVIEW_TEXT</th>\n",
       "    </tr>\n",
       "  </thead>\n",
       "  <tbody>\n",
       "    <tr>\n",
       "      <th>0</th>\n",
       "      <td>1</td>\n",
       "      <td>__label1__</td>\n",
       "      <td>4</td>\n",
       "      <td>N</td>\n",
       "      <td>PC</td>\n",
       "      <td>B00008NG7N</td>\n",
       "      <td>Targus PAUK10U Ultra Mini USB Keypad, Black</td>\n",
       "      <td>useful</td>\n",
       "      <td>When least you think so, this product will sav...</td>\n",
       "    </tr>\n",
       "    <tr>\n",
       "      <th>1</th>\n",
       "      <td>2</td>\n",
       "      <td>__label1__</td>\n",
       "      <td>4</td>\n",
       "      <td>Y</td>\n",
       "      <td>Wireless</td>\n",
       "      <td>B00LH0Y3NM</td>\n",
       "      <td>Note 3 Battery : Stalion Strength Replacement ...</td>\n",
       "      <td>New era for batteries</td>\n",
       "      <td>Lithium batteries are something new introduced...</td>\n",
       "    </tr>\n",
       "    <tr>\n",
       "      <th>2</th>\n",
       "      <td>3</td>\n",
       "      <td>__label1__</td>\n",
       "      <td>3</td>\n",
       "      <td>N</td>\n",
       "      <td>Baby</td>\n",
       "      <td>B000I5UZ1Q</td>\n",
       "      <td>Fisher-Price Papasan Cradle Swing, Starlight</td>\n",
       "      <td>doesn't swing very well.</td>\n",
       "      <td>I purchased this swing for my baby. She is 6 m...</td>\n",
       "    </tr>\n",
       "    <tr>\n",
       "      <th>3</th>\n",
       "      <td>4</td>\n",
       "      <td>__label1__</td>\n",
       "      <td>4</td>\n",
       "      <td>N</td>\n",
       "      <td>Office Products</td>\n",
       "      <td>B003822IRA</td>\n",
       "      <td>Casio MS-80B Standard Function Desktop Calculator</td>\n",
       "      <td>Great computing!</td>\n",
       "      <td>I was looking for an inexpensive desk calcolat...</td>\n",
       "    </tr>\n",
       "    <tr>\n",
       "      <th>4</th>\n",
       "      <td>5</td>\n",
       "      <td>__label1__</td>\n",
       "      <td>4</td>\n",
       "      <td>N</td>\n",
       "      <td>Beauty</td>\n",
       "      <td>B00PWSAXAM</td>\n",
       "      <td>Shine Whitening - Zero Peroxide Teeth Whitenin...</td>\n",
       "      <td>Only use twice a week</td>\n",
       "      <td>I only use it twice a week and the results are...</td>\n",
       "    </tr>\n",
       "  </tbody>\n",
       "</table>\n",
       "</div>"
      ],
      "text/plain": [
       "   DOC_ID       LABEL  RATING VERIFIED_PURCHASE PRODUCT_CATEGORY  PRODUCT_ID  \\\n",
       "0       1  __label1__       4                 N               PC  B00008NG7N   \n",
       "1       2  __label1__       4                 Y         Wireless  B00LH0Y3NM   \n",
       "2       3  __label1__       3                 N             Baby  B000I5UZ1Q   \n",
       "3       4  __label1__       4                 N  Office Products  B003822IRA   \n",
       "4       5  __label1__       4                 N           Beauty  B00PWSAXAM   \n",
       "\n",
       "                                       PRODUCT_TITLE  \\\n",
       "0        Targus PAUK10U Ultra Mini USB Keypad, Black   \n",
       "1  Note 3 Battery : Stalion Strength Replacement ...   \n",
       "2       Fisher-Price Papasan Cradle Swing, Starlight   \n",
       "3  Casio MS-80B Standard Function Desktop Calculator   \n",
       "4  Shine Whitening - Zero Peroxide Teeth Whitenin...   \n",
       "\n",
       "               REVIEW_TITLE                                        REVIEW_TEXT  \n",
       "0                    useful  When least you think so, this product will sav...  \n",
       "1     New era for batteries  Lithium batteries are something new introduced...  \n",
       "2  doesn't swing very well.  I purchased this swing for my baby. She is 6 m...  \n",
       "3          Great computing!  I was looking for an inexpensive desk calcolat...  \n",
       "4     Only use twice a week  I only use it twice a week and the results are...  "
      ]
     },
     "execution_count": 115,
     "metadata": {},
     "output_type": "execute_result"
    }
   ],
   "source": [
    "df=pd.read_csv(url,delimiter=\"\\t\")\n",
    "df.head()"
   ]
  },
  {
   "cell_type": "code",
   "execution_count": 116,
   "metadata": {},
   "outputs": [
    {
     "data": {
      "text/plain": [
       "DOC_ID               0\n",
       "LABEL                0\n",
       "RATING               0\n",
       "VERIFIED_PURCHASE    0\n",
       "PRODUCT_CATEGORY     0\n",
       "PRODUCT_ID           0\n",
       "PRODUCT_TITLE        0\n",
       "REVIEW_TITLE         0\n",
       "REVIEW_TEXT          0\n",
       "dtype: int64"
      ]
     },
     "execution_count": 116,
     "metadata": {},
     "output_type": "execute_result"
    }
   ],
   "source": [
    "df.isnull().sum()"
   ]
  },
  {
   "cell_type": "code",
   "execution_count": 117,
   "metadata": {},
   "outputs": [
    {
     "data": {
      "text/plain": [
       "Watches                   700\n",
       "Luggage                   700\n",
       "Outdoors                  700\n",
       "Home Improvement          700\n",
       "Kitchen                   700\n",
       "Electronics               700\n",
       "Baby                      700\n",
       "Video Games               700\n",
       "Books                     700\n",
       "Home Entertainment        700\n",
       "Automotive                700\n",
       "Video DVD                 700\n",
       "Tools                     700\n",
       "Office Products           700\n",
       "Camera                    700\n",
       "Apparel                   700\n",
       "Shoes                     700\n",
       "Musical Instruments       700\n",
       "Toys                      700\n",
       "Home                      700\n",
       "PC                        700\n",
       "Beauty                    700\n",
       "Sports                    700\n",
       "Pet Products              700\n",
       "Jewelry                   700\n",
       "Furniture                 700\n",
       "Health & Personal Care    700\n",
       "Wireless                  700\n",
       "Grocery                   700\n",
       "Lawn and Garden           700\n",
       "Name: PRODUCT_CATEGORY, dtype: int64"
      ]
     },
     "execution_count": 117,
     "metadata": {},
     "output_type": "execute_result"
    }
   ],
   "source": [
    "df[\"PRODUCT_CATEGORY\"].value_counts()"
   ]
  },
  {
   "cell_type": "code",
   "execution_count": 118,
   "metadata": {},
   "outputs": [
    {
     "data": {
      "text/plain": [
       "Index(['DOC_ID', 'LABEL', 'RATING', 'VERIFIED_PURCHASE', 'PRODUCT_CATEGORY',\n",
       "       'PRODUCT_ID', 'PRODUCT_TITLE', 'REVIEW_TITLE', 'REVIEW_TEXT'],\n",
       "      dtype='object')"
      ]
     },
     "execution_count": 118,
     "metadata": {},
     "output_type": "execute_result"
    }
   ],
   "source": [
    "df.columns"
   ]
  },
  {
   "cell_type": "code",
   "execution_count": 119,
   "metadata": {},
   "outputs": [
    {
     "data": {
      "text/plain": [
       "DOC_ID                                                               6\n",
       "LABEL                                                       __label1__\n",
       "RATING                                                               3\n",
       "VERIFIED_PURCHASE                                                    N\n",
       "PRODUCT_CATEGORY                                Health & Personal Care\n",
       "PRODUCT_ID                                                  B00686HNUK\n",
       "PRODUCT_TITLE        Tobacco Pipe Stand - Fold-away Portable - Ligh...\n",
       "REVIEW_TITLE                                                  not sure\n",
       "REVIEW_TEXT          I'm not sure what this is supposed to be but I...\n",
       "Name: 5, dtype: object"
      ]
     },
     "execution_count": 119,
     "metadata": {},
     "output_type": "execute_result"
    }
   ],
   "source": [
    "df.iloc[5]"
   ]
  },
  {
   "cell_type": "code",
   "execution_count": 120,
   "metadata": {},
   "outputs": [],
   "source": [
    "df[\"LABEL\"]=df[\"LABEL\"].replace(['__label2__','__label1__'],['0','1'])"
   ]
  },
  {
   "cell_type": "code",
   "execution_count": 122,
   "metadata": {},
   "outputs": [],
   "source": [
    "dfs=df[[\"REVIEW_TEXT\",\"LABEL\",\"PRODUCT_CATEGORY\"]]\n",
    "dfs = dfs.rename(columns={'REVIEW_TEXT': 'reviews',\"LABEL\":\"label\",\"PRODUCT_CATEGORY\":\"cat\"})"
   ]
  },
  {
   "cell_type": "code",
   "execution_count": 123,
   "metadata": {},
   "outputs": [
    {
     "name": "stdout",
     "output_type": "stream",
     "text": [
      "<class 'pandas.core.frame.DataFrame'>\n",
      "RangeIndex: 21000 entries, 0 to 20999\n",
      "Data columns (total 3 columns):\n",
      " #   Column   Non-Null Count  Dtype \n",
      "---  ------   --------------  ----- \n",
      " 0   reviews  21000 non-null  object\n",
      " 1   label    21000 non-null  object\n",
      " 2   cat      21000 non-null  object\n",
      "dtypes: object(3)\n",
      "memory usage: 492.3+ KB\n"
     ]
    }
   ],
   "source": [
    "dfs.info()"
   ]
  },
  {
   "cell_type": "code",
   "execution_count": 124,
   "metadata": {},
   "outputs": [
    {
     "data": {
      "text/plain": [
       "1    10500\n",
       "0    10500\n",
       "Name: label, dtype: int64"
      ]
     },
     "execution_count": 124,
     "metadata": {},
     "output_type": "execute_result"
    }
   ],
   "source": [
    "dfs[\"label\"].value_counts()"
   ]
  },
  {
   "cell_type": "code",
   "execution_count": 125,
   "metadata": {},
   "outputs": [],
   "source": [
    "dfs[\"label\"]=dfs[\"label\"].astype(np.float32)"
   ]
  },
  {
   "cell_type": "code",
   "execution_count": 126,
   "metadata": {},
   "outputs": [],
   "source": [
    "def preprocess_text(sen):\n",
    "    # Removing html tags\n",
    "    sentence = remove_tags(sen)\n",
    "\n",
    "    # Remove punctuations and numbers\n",
    "    sentence = re.sub('[^a-zA-Z]', ' ', sentence)\n",
    "\n",
    "    # Single character removal\n",
    "    sentence = re.sub(r\"\\s+[a-zA-Z]\\s+\", ' ', sentence)\n",
    "\n",
    "    # Removing multiple spaces\n",
    "    sentence = re.sub(r'\\s+', ' ', sentence)\n",
    "\n",
    "    return sentence\n",
    "import re\n",
    "\n",
    "contractions_re = re.compile('(%s)' % '|'.join(contractions_dict.keys()))\n",
    "def expand_contractions(s, contractions_dict=contractions_dict):\n",
    "     def replace(match):\n",
    "        return contractions_dict[match.group(0)]\n",
    "     return contractions_re.sub(replace, s)"
   ]
  },
  {
   "cell_type": "code",
   "execution_count": 127,
   "metadata": {},
   "outputs": [],
   "source": [
    "TAG_RE = re.compile(r'<[^>]+>')\n",
    "\n",
    "def remove_tags(text):\n",
    "    return TAG_RE.sub('', text)"
   ]
  },
  {
   "cell_type": "code",
   "execution_count": 128,
   "metadata": {},
   "outputs": [
    {
     "name": "stderr",
     "output_type": "stream",
     "text": [
      "C:\\Users\\soory\\.conda\\envs\\tf\\lib\\site-packages\\ipykernel_launcher.py:2: SettingWithCopyWarning: \n",
      "A value is trying to be set on a copy of a slice from a DataFrame\n",
      "\n",
      "See the caveats in the documentation: https://pandas.pydata.org/pandas-docs/stable/user_guide/indexing.html#returning-a-view-versus-a-copy\n",
      "  \n"
     ]
    }
   ],
   "source": [
    "for i in range(  len(dfs[\"reviews\"])):\n",
    "    dfs[\"reviews\"][i]=expand_contractions(str(dfs[\"reviews\"][i]))"
   ]
  },
  {
   "cell_type": "code",
   "execution_count": 129,
   "metadata": {},
   "outputs": [],
   "source": [
    "dfs[\"reviews\"]=dfs[\"reviews\"].apply(preprocess_text)"
   ]
  },
  {
   "cell_type": "code",
   "execution_count": 130,
   "metadata": {},
   "outputs": [],
   "source": [
    "dfs[\"reviews\"]=dfs[\"reviews\"].apply(remove_tags)"
   ]
  },
  {
   "cell_type": "code",
   "execution_count": 131,
   "metadata": {},
   "outputs": [
    {
     "data": {
      "text/plain": [
       "0        When least you think so this product will save...\n",
       "1        Lithium batteries are something new introduced...\n",
       "2        I purchased this swing for my baby She is mont...\n",
       "3        I was looking for an inexpensive desk calcolat...\n",
       "4        I only use it twice week and the results are g...\n",
       "                               ...                        \n",
       "20995    I bought these for work have high arches so us...\n",
       "20996    Crocs are one of only two brands of shoes that...\n",
       "20997    I love moccasins This fit like it was custom m...\n",
       "20998    I wish these were little more durable got it c...\n",
       "20999    I have been looking for replacement for my bel...\n",
       "Name: reviews, Length: 21000, dtype: object"
      ]
     },
     "execution_count": 131,
     "metadata": {},
     "output_type": "execute_result"
    }
   ],
   "source": [
    "dfs[\"reviews\"]"
   ]
  },
  {
   "cell_type": "code",
   "execution_count": 132,
   "metadata": {},
   "outputs": [],
   "source": [
    "from nlppreprocess import NLP\n",
    "nlp=NLP\n",
    "obj=NLP(remove_stopwords=True,remove_numbers=True)\n",
    "dfs[\"reviews\"]=dfs[\"reviews\"].apply(obj.process)"
   ]
  },
  {
   "cell_type": "code",
   "execution_count": 133,
   "metadata": {},
   "outputs": [],
   "source": [
    "dfs[\"len_review\"]=dfs[\"reviews\"].apply(lambda x :len(x.split()))"
   ]
  },
  {
   "cell_type": "code",
   "execution_count": 134,
   "metadata": {},
   "outputs": [
    {
     "data": {
      "text/plain": [
       "2056"
      ]
     },
     "execution_count": 134,
     "metadata": {},
     "output_type": "execute_result"
    }
   ],
   "source": [
    "max(dfs[\"len_review\"])"
   ]
  },
  {
   "cell_type": "code",
   "execution_count": 135,
   "metadata": {},
   "outputs": [
    {
     "name": "stdout",
     "output_type": "stream",
     "text": [
      "<class 'pandas.core.frame.DataFrame'>\n",
      "RangeIndex: 21000 entries, 0 to 20999\n",
      "Data columns (total 4 columns):\n",
      " #   Column      Non-Null Count  Dtype  \n",
      "---  ------      --------------  -----  \n",
      " 0   reviews     21000 non-null  object \n",
      " 1   label       21000 non-null  float32\n",
      " 2   cat         21000 non-null  object \n",
      " 3   len_review  21000 non-null  int64  \n",
      "dtypes: float32(1), int64(1), object(2)\n",
      "memory usage: 574.3+ KB\n"
     ]
    }
   ],
   "source": [
    "dfs.info()"
   ]
  },
  {
   "cell_type": "code",
   "execution_count": 136,
   "metadata": {},
   "outputs": [],
   "source": [
    "def category(x):\n",
    "    if 0<x<11:\n",
    "        return 5\n",
    "    elif 10<x<21:\n",
    "        return 15\n",
    "    elif 20<x<31:\n",
    "        return 25\n",
    "    elif 30<x<41:\n",
    "        return 35\n",
    "    elif 40<x<50:\n",
    "        return 45\n",
    "    elif 50<x<61:\n",
    "        return 55\n",
    "    elif 60<x<101:\n",
    "        return 80\n",
    "    elif 100<x<301:\n",
    "        return 150\n",
    "    elif 300<x<601:\n",
    "        return 450\n",
    "    elif 600<x<1001:\n",
    "        return 800\n",
    "    elif 1000<x<1501:\n",
    "        return 1250\n",
    "    elif 1500<x<2001:\n",
    "        return 1750\n",
    "    elif 2000<x<2600:\n",
    "        return 2300\n",
    "    "
   ]
  },
  {
   "cell_type": "code",
   "execution_count": 137,
   "metadata": {},
   "outputs": [
    {
     "data": {
      "image/png": "[encoded data removed]",
      "text/plain": [
       "<Figure size 720x720 with 1 Axes>"
      ]
     },
     "metadata": {
      "needs_background": "light"
     },
     "output_type": "display_data"
    }
   ],
   "source": [
    "dfs[\"textcat\"]=dfs[\"len_review\"].apply(category)\n",
    "plt.figure(figsize=(10,10))\n",
    "ax=sns.countplot(dfs[\"textcat\"])\n",
    "ax.set(xlabel=\"Mean Text length\")\n",
    "plt.show()"
   ]
  },
  {
   "cell_type": "code",
   "execution_count": 138,
   "metadata": {},
   "outputs": [
    {
     "data": {
      "text/plain": [
       "30.0"
      ]
     },
     "execution_count": 138,
     "metadata": {},
     "output_type": "execute_result"
    }
   ],
   "source": [
    "np.median(dfs[\"len_review\"])"
   ]
  },
  {
   "cell_type": "code",
   "execution_count": 141,
   "metadata": {},
   "outputs": [
    {
     "name": "stdout",
     "output_type": "stream",
     "text": [
      "1729\n"
     ]
    }
   ],
   "source": [
    "c=0\n",
    "for i in dfs[\"len_review\"]:\n",
    "    if 100<i:\n",
    "      c+=1\n",
    "print(c)"
   ]
  },
  {
   "cell_type": "code",
   "execution_count": 142,
   "metadata": {},
   "outputs": [
    {
     "data": {
      "text/plain": [
       "0.07214285714285715"
      ]
     },
     "execution_count": 142,
     "metadata": {},
     "output_type": "execute_result"
    }
   ],
   "source": [
    "1515/21000"
   ]
  },
  {
   "cell_type": "code",
   "execution_count": 143,
   "metadata": {},
   "outputs": [],
   "source": [
    "dfse=dfs[dfs[\"len_review\"]<105]"
   ]
  },
  {
   "cell_type": "code",
   "execution_count": 144,
   "metadata": {},
   "outputs": [],
   "source": [
    "dfse.reset_index(drop=True,inplace=True)"
   ]
  },
  {
   "cell_type": "code",
   "execution_count": 145,
   "metadata": {},
   "outputs": [
    {
     "name": "stderr",
     "output_type": "stream",
     "text": [
      "C:\\Users\\soory\\.conda\\envs\\tf\\lib\\site-packages\\ipykernel_launcher.py:1: SettingWithCopyWarning: \n",
      "A value is trying to be set on a copy of a slice from a DataFrame.\n",
      "Try using .loc[row_indexer,col_indexer] = value instead\n",
      "\n",
      "See the caveats in the documentation: https://pandas.pydata.org/pandas-docs/stable/user_guide/indexing.html#returning-a-view-versus-a-copy\n",
      "  \"\"\"Entry point for launching an IPython kernel.\n"
     ]
    }
   ],
   "source": [
    "dfse[\"reviews\"]=dfse[\"reviews\"].str.lower()"
   ]
  },
  {
   "cell_type": "code",
   "execution_count": 146,
   "metadata": {},
   "outputs": [
    {
     "data": {
      "text/plain": [
       "'love great fit my phone and comfy handleit not seem slide downgreat product'"
      ]
     },
     "execution_count": 146,
     "metadata": {},
     "output_type": "execute_result"
    }
   ],
   "source": [
    "dfse[\"reviews\"][789]"
   ]
  },
  {
   "cell_type": "code",
   "execution_count": 147,
   "metadata": {},
   "outputs": [
    {
     "data": {
      "text/plain": [
       "'love great fit my phone and comfy handleit not seem slide downgreat product'"
      ]
     },
     "execution_count": 147,
     "metadata": {},
     "output_type": "execute_result"
    }
   ],
   "source": [
    "dfse[\"reviews\"][789]"
   ]
  },
  {
   "cell_type": "code",
   "execution_count": 148,
   "metadata": {},
   "outputs": [],
   "source": [
    "from sklearn.model_selection import train_test_split"
   ]
  },
  {
   "cell_type": "code",
   "execution_count": 149,
   "metadata": {},
   "outputs": [],
   "source": [
    "embeddings_index = dict()\n",
    "f = open('glove.6B.100d.txt',encoding='utf8')"
   ]
  },
  {
   "cell_type": "code",
   "execution_count": 150,
   "metadata": {},
   "outputs": [],
   "source": [
    "for line in f:\n",
    "    values = line.split()\n",
    "    word = values[0]\n",
    "    coefs = np.asarray(values[1:], dtype='float32')\n",
    "    embeddings_index[word] = coefs\n",
    "f.close()"
   ]
  },
  {
   "cell_type": "code",
   "execution_count": 151,
   "metadata": {},
   "outputs": [],
   "source": [
    "df_train,df_test,Ytrain,Ytest = train_test_split(dfse[\"reviews\"],dfse[\"label\"], test_size=0.2, random_state=43)"
   ]
  },
  {
   "cell_type": "code",
   "execution_count": 152,
   "metadata": {},
   "outputs": [],
   "source": [
    "MAX_VOCAB_SIZE=30000\n",
    "tokenizer = Tokenizer(num_words=MAX_VOCAB_SIZE,oov_token=\"<OOV>\")\n",
    "tokenizer.fit_on_texts(df_train)"
   ]
  },
  {
   "cell_type": "code",
   "execution_count": 154,
   "metadata": {},
   "outputs": [
    {
     "data": {
      "text/plain": [
       "22984"
      ]
     },
     "execution_count": 154,
     "metadata": {},
     "output_type": "execute_result"
    }
   ],
   "source": [
    "word2idx=tokenizer.word_index\n",
    "len(word2idx)"
   ]
  },
  {
   "cell_type": "code",
   "execution_count": 155,
   "metadata": {},
   "outputs": [],
   "source": [
    "sequences_train = tokenizer.texts_to_sequences(df_train)\n",
    "sequences_test = tokenizer.texts_to_sequences(df_test)"
   ]
  },
  {
   "cell_type": "code",
   "execution_count": 156,
   "metadata": {},
   "outputs": [
    {
     "name": "stdout",
     "output_type": "stream",
     "text": [
      "Shape of data train tensor: (15498, 104)\n"
     ]
    }
   ],
   "source": [
    "data_train = pad_sequences(sequences_train,maxlen=104)\n",
    "print('Shape of data train tensor:',data_train.shape)\n",
    "T = data_train.shape[1]"
   ]
  },
  {
   "cell_type": "code",
   "execution_count": 157,
   "metadata": {},
   "outputs": [
    {
     "name": "stdout",
     "output_type": "stream",
     "text": [
      "Shape of data test tensor: (3875, 104)\n"
     ]
    }
   ],
   "source": [
    "data_test = pad_sequences(sequences_test,maxlen=T)\n",
    "print('Shape of data test tensor:',data_test.shape)"
   ]
  },
  {
   "cell_type": "code",
   "execution_count": 158,
   "metadata": {},
   "outputs": [],
   "source": [
    "embedding_matrix = np.zeros((MAX_VOCAB_SIZE, 100))\n",
    "for word, index in tokenizer.word_index.items():\n",
    "    if index > MAX_VOCAB_SIZE - 1:\n",
    "        break\n",
    "    else:\n",
    "        embedding_vector = embeddings_index.get(word)\n",
    "        if embedding_vector is not None:\n",
    "            embedding_matrix[index] = embedding_vector"
   ]
  },
  {
   "cell_type": "code",
   "execution_count": 159,
   "metadata": {},
   "outputs": [],
   "source": [
    "max_len=104"
   ]
  },
  {
   "cell_type": "code",
   "execution_count": 160,
   "metadata": {},
   "outputs": [],
   "source": [
    "from tensorflow.keras.layers import Dropout,Conv1D,MaxPooling1D"
   ]
  },
  {
   "cell_type": "code",
   "execution_count": 161,
   "metadata": {},
   "outputs": [
    {
     "name": "stdout",
     "output_type": "stream",
     "text": [
      "Train on 15498 samples, validate on 3875 samples\n",
      "Epoch 1/20\n",
      "15498/15498 [==============================] - 26s 2ms/sample - loss: 0.6910 - accuracy: 0.4903 - val_loss: 0.6921 - val_accuracy: 0.4779\n",
      "Epoch 2/20\n",
      "15498/15498 [==============================] - 24s 2ms/sample - loss: 0.6772 - accuracy: 0.5511 - val_loss: 0.6769 - val_accuracy: 0.5311\n",
      "Epoch 3/20\n",
      "15498/15498 [==============================] - 23s 1ms/sample - loss: 0.6662 - accuracy: 0.5927 - val_loss: 0.6763 - val_accuracy: 0.6178\n",
      "Epoch 4/20\n",
      "15498/15498 [==============================] - 23s 2ms/sample - loss: 0.6619 - accuracy: 0.6054 - val_loss: 0.6673 - val_accuracy: 0.6103\n",
      "Epoch 5/20\n",
      "15498/15498 [==============================] - 23s 1ms/sample - loss: 0.6564 - accuracy: 0.6171 - val_loss: 0.6677 - val_accuracy: 0.6199\n",
      "Epoch 6/20\n",
      "15498/15498 [==============================] - 23s 1ms/sample - loss: 0.6486 - accuracy: 0.6416 - val_loss: 0.6623 - val_accuracy: 0.6132\n",
      "Epoch 7/20\n",
      "15498/15498 [==============================] - 23s 1ms/sample - loss: 0.6432 - accuracy: 0.6581 - val_loss: 0.6625 - val_accuracy: 0.5954\n",
      "Epoch 8/20\n",
      "15498/15498 [==============================] - 25s 2ms/sample - loss: 0.6373 - accuracy: 0.6734 - val_loss: 0.6662 - val_accuracy: 0.6015\n",
      "Epoch 9/20\n",
      "15498/15498 [==============================] - 23s 1ms/sample - loss: 0.6333 - accuracy: 0.6832 - val_loss: 0.6651 - val_accuracy: 0.6217\n",
      "Epoch 10/20\n",
      "15498/15498 [==============================] - 23s 1ms/sample - loss: 0.6275 - accuracy: 0.6941 - val_loss: 0.6708 - val_accuracy: 0.6263\n",
      "Epoch 11/20\n",
      "15498/15498 [==============================] - 24s 2ms/sample - loss: 0.6217 - accuracy: 0.7118 - val_loss: 0.6787 - val_accuracy: 0.6268\n",
      "Epoch 12/20\n",
      "15498/15498 [==============================] - 23s 2ms/sample - loss: 0.6183 - accuracy: 0.7227 - val_loss: 0.6739 - val_accuracy: 0.6276\n",
      "Epoch 13/20\n",
      "15498/15498 [==============================] - 23s 1ms/sample - loss: 0.6161 - accuracy: 0.7245 - val_loss: 0.6811 - val_accuracy: 0.6258\n",
      "Epoch 14/20\n",
      "15498/15498 [==============================] - 23s 1ms/sample - loss: 0.6099 - accuracy: 0.7386 - val_loss: 0.6625 - val_accuracy: 0.6212\n",
      "Epoch 15/20\n",
      "15498/15498 [==============================] - 23s 1ms/sample - loss: 0.6086 - accuracy: 0.7416 - val_loss: 0.6664 - val_accuracy: 0.6139\n",
      "Epoch 16/20\n",
      "15498/15498 [==============================] - 23s 1ms/sample - loss: 0.6048 - accuracy: 0.7495 - val_loss: 0.6706 - val_accuracy: 0.6279\n",
      "Epoch 17/20\n",
      "15498/15498 [==============================] - 24s 2ms/sample - loss: 0.6053 - accuracy: 0.7518 - val_loss: 0.6683 - val_accuracy: 0.6173\n",
      "Epoch 18/20\n",
      "15498/15498 [==============================] - 25s 2ms/sample - loss: 0.6024 - accuracy: 0.7584 - val_loss: 0.6713 - val_accuracy: 0.6232\n",
      "Epoch 19/20\n",
      "15498/15498 [==============================] - 24s 2ms/sample - loss: 0.5999 - accuracy: 0.7638 - val_loss: 0.6776 - val_accuracy: 0.6168\n",
      "Epoch 20/20\n",
      "15498/15498 [==============================] - 24s 2ms/sample - loss: 0.5974 - accuracy: 0.7697 - val_loss: 0.6821 - val_accuracy: 0.6302\n"
     ]
    }
   ],
   "source": [
    "model_glove = Sequential()\n",
    "model_glove.add(Embedding(MAX_VOCAB_SIZE, 100, input_length=max_len, weights=[embedding_matrix], trainable=False))\n",
    "model_glove.add(Dropout(0.2))\n",
    "model_glove.add(Conv1D(64, 5, activation='relu'))\n",
    "model_glove.add(MaxPooling1D(pool_size=4))\n",
    "model_glove.add(LSTM(100))\n",
    "model_glove.add(Dense(1, activation='sigmoid'))\n",
    "model_glove.compile(loss=tf.keras.losses.BinaryCrossentropy(from_logits=True), optimizer='adam', metrics=['accuracy'])\n",
    "r=model_glove.fit(data_train, np.array(Ytrain), validation_data=(data_test,np.array(Ytest)), epochs = 20)"
   ]
  },
  {
   "cell_type": "code",
   "execution_count": 162,
   "metadata": {},
   "outputs": [
    {
     "data": {
      "text/plain": [
       "<matplotlib.legend.Legend at 0x26542bb7308>"
      ]
     },
     "execution_count": 162,
     "metadata": {},
     "output_type": "execute_result"
    },
    {
     "data": {
      "image/png": "[encoded data removed]",
      "text/plain": [
       "<Figure size 432x288 with 1 Axes>"
      ]
     },
     "metadata": {
      "needs_background": "light"
     },
     "output_type": "display_data"
    }
   ],
   "source": [
    "plt.plot(r.history[\"accuracy\"],label=\"accuracy\")\n",
    "plt.plot(r.history[\"val_accuracy\"],label=\"val_accuracy\")\n",
    "plt.legend()"
   ]
  },
  {
   "cell_type": "code",
   "execution_count": 164,
   "metadata": {},
   "outputs": [
    {
     "name": "stdout",
     "output_type": "stream",
     "text": [
      "Train on 15498 samples, validate on 3875 samples\n",
      "Epoch 1/20\n",
      "15498/15498 [==============================] - 70s 5ms/sample - loss: 0.6877 - accuracy: 0.5022 - val_loss: 0.6817 - val_accuracy: 0.5306\n",
      "Epoch 2/20\n",
      "15498/15498 [==============================] - 59s 4ms/sample - loss: 0.6695 - accuracy: 0.5816 - val_loss: 0.6643 - val_accuracy: 0.5977\n",
      "Epoch 3/20\n",
      "15498/15498 [==============================] - 51s 3ms/sample - loss: 0.6465 - accuracy: 0.6463 - val_loss: 0.6595 - val_accuracy: 0.5969\n",
      "Epoch 4/20\n",
      "15498/15498 [==============================] - 49s 3ms/sample - loss: 0.6266 - accuracy: 0.7003 - val_loss: 0.6556 - val_accuracy: 0.6209\n",
      "Epoch 5/20\n",
      "15498/15498 [==============================] - 58s 4ms/sample - loss: 0.6060 - accuracy: 0.7518 - val_loss: 0.6622 - val_accuracy: 0.6372\n",
      "Epoch 6/20\n",
      "15498/15498 [==============================] - 61s 4ms/sample - loss: 0.5959 - accuracy: 0.7746 - val_loss: 0.6674 - val_accuracy: 0.6369\n",
      "Epoch 7/20\n",
      "15498/15498 [==============================] - 54s 3ms/sample - loss: 0.5839 - accuracy: 0.8015 - val_loss: 0.6602 - val_accuracy: 0.6173\n",
      "Epoch 8/20\n",
      "15498/15498 [==============================] - 52s 3ms/sample - loss: 0.5828 - accuracy: 0.8033 - val_loss: 0.6620 - val_accuracy: 0.6206\n",
      "Epoch 9/20\n",
      "15498/15498 [==============================] - 52s 3ms/sample - loss: 0.5713 - accuracy: 0.8293 - val_loss: 0.6789 - val_accuracy: 0.6436\n",
      "Epoch 10/20\n",
      "15498/15498 [==============================] - 54s 3ms/sample - loss: 0.5673 - accuracy: 0.8395 - val_loss: 0.6695 - val_accuracy: 0.6418\n",
      "Epoch 11/20\n",
      "15498/15498 [==============================] - 54s 3ms/sample - loss: 0.5636 - accuracy: 0.8480 - val_loss: 0.6632 - val_accuracy: 0.6346\n",
      "Epoch 12/20\n",
      "15498/15498 [==============================] - 52s 3ms/sample - loss: 0.5582 - accuracy: 0.8588 - val_loss: 0.6604 - val_accuracy: 0.6243\n",
      "Epoch 13/20\n",
      "15498/15498 [==============================] - 55s 4ms/sample - loss: 0.5559 - accuracy: 0.8640 - val_loss: 0.6724 - val_accuracy: 0.6343\n",
      "Epoch 14/20\n",
      "15498/15498 [==============================] - 55s 4ms/sample - loss: 0.5520 - accuracy: 0.8739 - val_loss: 0.6644 - val_accuracy: 0.6023\n",
      "Epoch 15/20\n",
      "15498/15498 [==============================] - 53s 3ms/sample - loss: 0.5499 - accuracy: 0.8776 - val_loss: 0.6797 - val_accuracy: 0.6346\n",
      "Epoch 16/20\n",
      "15498/15498 [==============================] - 54s 3ms/sample - loss: 0.5464 - accuracy: 0.8864 - val_loss: 0.6743 - val_accuracy: 0.6284\n",
      "Epoch 17/20\n",
      "15498/15498 [==============================] - 55s 4ms/sample - loss: 0.5466 - accuracy: 0.8862 - val_loss: 0.6678 - val_accuracy: 0.6170\n",
      "Epoch 18/20\n",
      "15498/15498 [==============================] - 54s 4ms/sample - loss: 0.5444 - accuracy: 0.8910 - val_loss: 0.6653 - val_accuracy: 0.6271\n",
      "Epoch 19/20\n",
      "15498/15498 [==============================] - 52s 3ms/sample - loss: 0.5401 - accuracy: 0.9015 - val_loss: 0.6718 - val_accuracy: 0.6286\n",
      "Epoch 20/20\n",
      "15498/15498 [==============================] - 57s 4ms/sample - loss: 0.5409 - accuracy: 0.8989 - val_loss: 0.6688 - val_accuracy: 0.6359\n"
     ]
    }
   ],
   "source": [
    "model_glove = Sequential()\n",
    "model_glove.add(Embedding(MAX_VOCAB_SIZE, 100, input_length=max_len, weights=[embedding_matrix], trainable=False))\n",
    "model_glove.add(Dropout(0.2))\n",
    "model_glove.add(Conv1D(64, 5, activation='relu'))\n",
    "model_glove.add(MaxPooling1D(pool_size=4))\n",
    "model_glove.add(Bidirectional(LSTM(100)))\n",
    "model_glove.add(Flatten())\n",
    "model_glove.add(Dense(64, activation='sigmoid'))\n",
    "model_glove.add(Dense(1, activation='sigmoid'))\n",
    "model_glove.compile(loss=tf.keras.losses.BinaryCrossentropy(from_logits=True), optimizer='adam', metrics=['accuracy'])\n",
    "r=model_glove.fit(data_train, np.array(Ytrain), validation_data=(data_test,Ytest), epochs = 20)"
   ]
  },
  {
   "cell_type": "code",
   "execution_count": 166,
   "metadata": {},
   "outputs": [
    {
     "data": {
      "text/plain": [
       "<matplotlib.legend.Legend at 0x26542c43b48>"
      ]
     },
     "execution_count": 166,
     "metadata": {},
     "output_type": "execute_result"
    },
    {
     "data": {
      "image/png": "[encoded data removed]",
      "text/plain": [
       "<Figure size 432x288 with 1 Axes>"
      ]
     },
     "metadata": {
      "needs_background": "light"
     },
     "output_type": "display_data"
    }
   ],
   "source": [
    "plt.plot(r.history[\"accuracy\"],label=\"accuracy\")\n",
    "plt.plot(r.history[\"val_accuracy\"],label=\"val_accuracy\")\n",
    "plt.legend()"
   ]
  },
  {
   "cell_type": "code",
   "execution_count": null,
   "metadata": {},
   "outputs": [],
   "source": []
  }
 ],
 "metadata": {
  "kernelspec": {
   "display_name": "Python 3",
   "language": "python",
   "name": "python3"
  },
  "language_info": {
   "codemirror_mode": {
    "name": "ipython",
    "version": 3
   },
   "file_extension": ".py",
   "mimetype": "text/x-python",
   "name": "python",
   "nbconvert_exporter": "python",
   "pygments_lexer": "ipython3",
   "version": "3.7.7"
  }
 },
 "nbformat": 4,
 "nbformat_minor": 4
}
