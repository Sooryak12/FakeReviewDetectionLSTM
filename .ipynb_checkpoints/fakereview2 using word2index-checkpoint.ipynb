{
 "cells": [
  {
   "cell_type": "code",
   "execution_count": 118,
   "metadata": {
    "colab": {
     "base_uri": "https://localhost:8080/",
     "height": 70
    },
    "colab_type": "code",
    "id": "Z9W3Az_urFtj",
    "outputId": "548c0575-e849-49e3-ccc6-824dff882da8"
   },
   "outputs": [],
   "source": [
    "import pandas as pd\n",
    "import numpy as np\n",
    "import matplotlib.pyplot as plt\n",
    "import seaborn as sns\n",
    "%matplotlib inline\n",
    "import re"
   ]
  },
  {
   "cell_type": "code",
   "execution_count": 119,
   "metadata": {},
   "outputs": [],
   "source": [
    "import tensorflow as tf"
   ]
  },
  {
   "cell_type": "code",
   "execution_count": 120,
   "metadata": {},
   "outputs": [
    {
     "name": "stdout",
     "output_type": "stream",
     "text": [
      "5\n"
     ]
    }
   ],
   "source": [
    "x=\"Hi hello how are you\"\n",
    "print(len(x.split()))"
   ]
  },
  {
   "cell_type": "code",
   "execution_count": 121,
   "metadata": {
    "colab": {
     "base_uri": "https://localhost:8080/",
     "height": 84
    },
    "colab_type": "code",
    "id": "r1VSebGBrFto",
    "outputId": "8201adb4-78a8-4f33-b42c-feba30296de0"
   },
   "outputs": [],
   "source": [
    "import nltk\n",
    "from nltk.tokenize import word_tokenize\n",
    "#nltk.download('stopwords')\n",
    "from nltk.corpus import stopwords\n",
    "stopwords=stopwords.words(\"english\")\n",
    "#nltk.download('wordnet')\n",
    "from nltk.stem import WordNetLemmatizer\n"
   ]
  },
  {
   "cell_type": "code",
   "execution_count": 122,
   "metadata": {
    "colab": {},
    "colab_type": "code",
    "id": "uEGJuURWrFtr"
   },
   "outputs": [],
   "source": [
    "url=\"https://raw.githubusercontent.com/Sooryak12/FakeReviewDetectionLSTM/master/selected.txt\"\n"
   ]
  },
  {
   "cell_type": "code",
   "execution_count": 123,
   "metadata": {
    "colab": {
     "base_uri": "https://localhost:8080/",
     "height": 246
    },
    "colab_type": "code",
    "id": "Wy7lhMw9rvNV",
    "outputId": "f5e447a8-7231-4f1f-8d9f-6eb8c1d9faa0"
   },
   "outputs": [
    {
     "data": {
      "text/html": [
       "<div>\n",
       "<style scoped>\n",
       "    .dataframe tbody tr th:only-of-type {\n",
       "        vertical-align: middle;\n",
       "    }\n",
       "\n",
       "    .dataframe tbody tr th {\n",
       "        vertical-align: top;\n",
       "    }\n",
       "\n",
       "    .dataframe thead th {\n",
       "        text-align: right;\n",
       "    }\n",
       "</style>\n",
       "<table border=\"1\" class=\"dataframe\">\n",
       "  <thead>\n",
       "    <tr style=\"text-align: right;\">\n",
       "      <th></th>\n",
       "      <th>DOC_ID</th>\n",
       "      <th>LABEL</th>\n",
       "      <th>RATING</th>\n",
       "      <th>VERIFIED_PURCHASE</th>\n",
       "      <th>PRODUCT_CATEGORY</th>\n",
       "      <th>PRODUCT_ID</th>\n",
       "      <th>PRODUCT_TITLE</th>\n",
       "      <th>REVIEW_TITLE</th>\n",
       "      <th>REVIEW_TEXT</th>\n",
       "    </tr>\n",
       "  </thead>\n",
       "  <tbody>\n",
       "    <tr>\n",
       "      <th>0</th>\n",
       "      <td>1</td>\n",
       "      <td>__label1__</td>\n",
       "      <td>4</td>\n",
       "      <td>N</td>\n",
       "      <td>PC</td>\n",
       "      <td>B00008NG7N</td>\n",
       "      <td>Targus PAUK10U Ultra Mini USB Keypad, Black</td>\n",
       "      <td>useful</td>\n",
       "      <td>When least you think so, this product will sav...</td>\n",
       "    </tr>\n",
       "    <tr>\n",
       "      <th>1</th>\n",
       "      <td>2</td>\n",
       "      <td>__label1__</td>\n",
       "      <td>4</td>\n",
       "      <td>Y</td>\n",
       "      <td>Wireless</td>\n",
       "      <td>B00LH0Y3NM</td>\n",
       "      <td>Note 3 Battery : Stalion Strength Replacement ...</td>\n",
       "      <td>New era for batteries</td>\n",
       "      <td>Lithium batteries are something new introduced...</td>\n",
       "    </tr>\n",
       "    <tr>\n",
       "      <th>2</th>\n",
       "      <td>3</td>\n",
       "      <td>__label1__</td>\n",
       "      <td>3</td>\n",
       "      <td>N</td>\n",
       "      <td>Baby</td>\n",
       "      <td>B000I5UZ1Q</td>\n",
       "      <td>Fisher-Price Papasan Cradle Swing, Starlight</td>\n",
       "      <td>doesn't swing very well.</td>\n",
       "      <td>I purchased this swing for my baby. She is 6 m...</td>\n",
       "    </tr>\n",
       "    <tr>\n",
       "      <th>3</th>\n",
       "      <td>4</td>\n",
       "      <td>__label1__</td>\n",
       "      <td>4</td>\n",
       "      <td>N</td>\n",
       "      <td>Office Products</td>\n",
       "      <td>B003822IRA</td>\n",
       "      <td>Casio MS-80B Standard Function Desktop Calculator</td>\n",
       "      <td>Great computing!</td>\n",
       "      <td>I was looking for an inexpensive desk calcolat...</td>\n",
       "    </tr>\n",
       "    <tr>\n",
       "      <th>4</th>\n",
       "      <td>5</td>\n",
       "      <td>__label1__</td>\n",
       "      <td>4</td>\n",
       "      <td>N</td>\n",
       "      <td>Beauty</td>\n",
       "      <td>B00PWSAXAM</td>\n",
       "      <td>Shine Whitening - Zero Peroxide Teeth Whitenin...</td>\n",
       "      <td>Only use twice a week</td>\n",
       "      <td>I only use it twice a week and the results are...</td>\n",
       "    </tr>\n",
       "  </tbody>\n",
       "</table>\n",
       "</div>"
      ],
      "text/plain": [
       "   DOC_ID       LABEL  RATING VERIFIED_PURCHASE PRODUCT_CATEGORY  PRODUCT_ID  \\\n",
       "0       1  __label1__       4                 N               PC  B00008NG7N   \n",
       "1       2  __label1__       4                 Y         Wireless  B00LH0Y3NM   \n",
       "2       3  __label1__       3                 N             Baby  B000I5UZ1Q   \n",
       "3       4  __label1__       4                 N  Office Products  B003822IRA   \n",
       "4       5  __label1__       4                 N           Beauty  B00PWSAXAM   \n",
       "\n",
       "                                       PRODUCT_TITLE  \\\n",
       "0        Targus PAUK10U Ultra Mini USB Keypad, Black   \n",
       "1  Note 3 Battery : Stalion Strength Replacement ...   \n",
       "2       Fisher-Price Papasan Cradle Swing, Starlight   \n",
       "3  Casio MS-80B Standard Function Desktop Calculator   \n",
       "4  Shine Whitening - Zero Peroxide Teeth Whitenin...   \n",
       "\n",
       "               REVIEW_TITLE                                        REVIEW_TEXT  \n",
       "0                    useful  When least you think so, this product will sav...  \n",
       "1     New era for batteries  Lithium batteries are something new introduced...  \n",
       "2  doesn't swing very well.  I purchased this swing for my baby. She is 6 m...  \n",
       "3          Great computing!  I was looking for an inexpensive desk calcolat...  \n",
       "4     Only use twice a week  I only use it twice a week and the results are...  "
      ]
     },
     "execution_count": 123,
     "metadata": {},
     "output_type": "execute_result"
    }
   ],
   "source": [
    "df=pd.read_csv(url,delimiter=\"\\t\")\n",
    "df.head()"
   ]
  },
  {
   "cell_type": "code",
   "execution_count": 124,
   "metadata": {
    "colab": {
     "base_uri": "https://localhost:8080/",
     "height": 185
    },
    "colab_type": "code",
    "id": "Mzlf6fxHrFtv",
    "outputId": "b73f045d-c15f-4171-addf-bf9e4797b2c5"
   },
   "outputs": [
    {
     "data": {
      "text/plain": [
       "DOC_ID               0\n",
       "LABEL                0\n",
       "RATING               0\n",
       "VERIFIED_PURCHASE    0\n",
       "PRODUCT_CATEGORY     0\n",
       "PRODUCT_ID           0\n",
       "PRODUCT_TITLE        0\n",
       "REVIEW_TITLE         0\n",
       "REVIEW_TEXT          0\n",
       "dtype: int64"
      ]
     },
     "execution_count": 124,
     "metadata": {},
     "output_type": "execute_result"
    }
   ],
   "source": [
    "df.isnull().sum()"
   ]
  },
  {
   "cell_type": "code",
   "execution_count": 125,
   "metadata": {
    "colab": {
     "base_uri": "https://localhost:8080/",
     "height": 538
    },
    "colab_type": "code",
    "id": "3oKTYn9_rFtx",
    "outputId": "62fa9eb6-5b35-4046-bf6d-54821d5d546f"
   },
   "outputs": [
    {
     "data": {
      "text/plain": [
       "Lawn and Garden           700\n",
       "Musical Instruments       700\n",
       "Health & Personal Care    700\n",
       "Kitchen                   700\n",
       "Camera                    700\n",
       "PC                        700\n",
       "Watches                   700\n",
       "Outdoors                  700\n",
       "Apparel                   700\n",
       "Office Products           700\n",
       "Beauty                    700\n",
       "Tools                     700\n",
       "Toys                      700\n",
       "Baby                      700\n",
       "Sports                    700\n",
       "Home Entertainment        700\n",
       "Books                     700\n",
       "Video DVD                 700\n",
       "Video Games               700\n",
       "Electronics               700\n",
       "Grocery                   700\n",
       "Automotive                700\n",
       "Shoes                     700\n",
       "Home Improvement          700\n",
       "Luggage                   700\n",
       "Wireless                  700\n",
       "Pet Products              700\n",
       "Jewelry                   700\n",
       "Home                      700\n",
       "Furniture                 700\n",
       "Name: PRODUCT_CATEGORY, dtype: int64"
      ]
     },
     "execution_count": 125,
     "metadata": {},
     "output_type": "execute_result"
    }
   ],
   "source": [
    "df[\"PRODUCT_CATEGORY\"].value_counts()"
   ]
  },
  {
   "cell_type": "code",
   "execution_count": 126,
   "metadata": {
    "colab": {},
    "colab_type": "code",
    "id": "Ov5DL2lOrFt0"
   },
   "outputs": [],
   "source": [
    "df[\"LABEL\"]=df[\"LABEL\"].replace(['__label2__','__label1__'],['0','1'])"
   ]
  },
  {
   "cell_type": "code",
   "execution_count": 127,
   "metadata": {
    "colab": {},
    "colab_type": "code",
    "id": "LtiPSOuYrFt3"
   },
   "outputs": [],
   "source": [
    "dfs=df[[\"REVIEW_TEXT\",\"LABEL\",\"PRODUCT_CATEGORY\"]]\n",
    "dfs = dfs.rename(columns={'REVIEW_TEXT': 'reviews',\"LABEL\":\"label\",\"PRODUCT_CATEGORY\":\"cat\"})"
   ]
  },
  {
   "cell_type": "code",
   "execution_count": 128,
   "metadata": {
    "colab": {
     "base_uri": "https://localhost:8080/",
     "height": 185
    },
    "colab_type": "code",
    "id": "4-dHysdUrFt6",
    "outputId": "812b24df-bb15-4447-bb31-c98e9104e12d"
   },
   "outputs": [
    {
     "name": "stdout",
     "output_type": "stream",
     "text": [
      "<class 'pandas.core.frame.DataFrame'>\n",
      "RangeIndex: 21000 entries, 0 to 20999\n",
      "Data columns (total 3 columns):\n",
      " #   Column   Non-Null Count  Dtype \n",
      "---  ------   --------------  ----- \n",
      " 0   reviews  21000 non-null  object\n",
      " 1   label    21000 non-null  object\n",
      " 2   cat      21000 non-null  object\n",
      "dtypes: object(3)\n",
      "memory usage: 492.3+ KB\n"
     ]
    }
   ],
   "source": [
    "dfs.info()"
   ]
  },
  {
   "cell_type": "code",
   "execution_count": 129,
   "metadata": {
    "colab": {},
    "colab_type": "code",
    "id": "dQ6QrpaerFt9"
   },
   "outputs": [],
   "source": [
    "dfs[\"reviews\"]=dfs[\"reviews\"].apply(lambda x:x.lower())\n",
    "dfs[\"reviews\"] = dfs[\"reviews\"].apply(lambda x: re.sub(\"[^a-zA-Z]\", \" \", x))\n",
    "dfs[\"reviews\"] = dfs[\"reviews\"].apply(lambda x: re.sub(\"\\s+\", \" \", x))"
   ]
  },
  {
   "cell_type": "code",
   "execution_count": 130,
   "metadata": {
    "colab": {
     "base_uri": "https://localhost:8080/",
     "height": 67
    },
    "colab_type": "code",
    "id": "j5Yqq2MhrFuA",
    "outputId": "d16ee63e-230a-4c85-f1c0-2d6dffc7b40f"
   },
   "outputs": [
    {
     "data": {
      "text/plain": [
       "1    10500\n",
       "0    10500\n",
       "Name: label, dtype: int64"
      ]
     },
     "execution_count": 130,
     "metadata": {},
     "output_type": "execute_result"
    }
   ],
   "source": [
    "dfs[\"label\"].value_counts()"
   ]
  },
  {
   "cell_type": "markdown",
   "metadata": {
    "colab_type": "text",
    "id": "dOWWD2TYrFuC"
   },
   "source": [
    "The Data is Unbiased"
   ]
  },
  {
   "cell_type": "code",
   "execution_count": 131,
   "metadata": {
    "colab": {
     "base_uri": "https://localhost:8080/",
     "height": 195
    },
    "colab_type": "code",
    "id": "qHZfhRJyrFuD",
    "outputId": "c7b77c2a-a2ec-44a8-fae2-e0981df30c0d"
   },
   "outputs": [
    {
     "data": {
      "text/html": [
       "<div>\n",
       "<style scoped>\n",
       "    .dataframe tbody tr th:only-of-type {\n",
       "        vertical-align: middle;\n",
       "    }\n",
       "\n",
       "    .dataframe tbody tr th {\n",
       "        vertical-align: top;\n",
       "    }\n",
       "\n",
       "    .dataframe thead th {\n",
       "        text-align: right;\n",
       "    }\n",
       "</style>\n",
       "<table border=\"1\" class=\"dataframe\">\n",
       "  <thead>\n",
       "    <tr style=\"text-align: right;\">\n",
       "      <th></th>\n",
       "      <th>reviews</th>\n",
       "      <th>label</th>\n",
       "      <th>cat</th>\n",
       "    </tr>\n",
       "  </thead>\n",
       "  <tbody>\n",
       "    <tr>\n",
       "      <th>0</th>\n",
       "      <td>when least you think so this product will save...</td>\n",
       "      <td>1</td>\n",
       "      <td>PC</td>\n",
       "    </tr>\n",
       "    <tr>\n",
       "      <th>1</th>\n",
       "      <td>lithium batteries are something new introduced...</td>\n",
       "      <td>1</td>\n",
       "      <td>Wireless</td>\n",
       "    </tr>\n",
       "    <tr>\n",
       "      <th>2</th>\n",
       "      <td>i purchased this swing for my baby she is mont...</td>\n",
       "      <td>1</td>\n",
       "      <td>Baby</td>\n",
       "    </tr>\n",
       "    <tr>\n",
       "      <th>3</th>\n",
       "      <td>i was looking for an inexpensive desk calcolat...</td>\n",
       "      <td>1</td>\n",
       "      <td>Office Products</td>\n",
       "    </tr>\n",
       "    <tr>\n",
       "      <th>4</th>\n",
       "      <td>i only use it twice a week and the results are...</td>\n",
       "      <td>1</td>\n",
       "      <td>Beauty</td>\n",
       "    </tr>\n",
       "  </tbody>\n",
       "</table>\n",
       "</div>"
      ],
      "text/plain": [
       "                                             reviews label              cat\n",
       "0  when least you think so this product will save...     1               PC\n",
       "1  lithium batteries are something new introduced...     1         Wireless\n",
       "2  i purchased this swing for my baby she is mont...     1             Baby\n",
       "3  i was looking for an inexpensive desk calcolat...     1  Office Products\n",
       "4  i only use it twice a week and the results are...     1           Beauty"
      ]
     },
     "execution_count": 131,
     "metadata": {},
     "output_type": "execute_result"
    }
   ],
   "source": [
    "dfs.head()"
   ]
  },
  {
   "cell_type": "code",
   "execution_count": 132,
   "metadata": {
    "colab": {
     "base_uri": "https://localhost:8080/",
     "height": 34
    },
    "colab_type": "code",
    "id": "N8LbnnvGrFuF",
    "outputId": "47ee0bbd-aebf-40eb-f16c-c06840cc69c2"
   },
   "outputs": [
    {
     "data": {
      "text/plain": [
       "True"
      ]
     },
     "execution_count": 132,
     "metadata": {},
     "output_type": "execute_result"
    }
   ],
   "source": [
    "\"not\" in stopwords"
   ]
  },
  {
   "cell_type": "code",
   "execution_count": 133,
   "metadata": {
    "colab": {
     "base_uri": "https://localhost:8080/",
     "height": 50
    },
    "colab_type": "code",
    "id": "7FKtWiryrFuI",
    "outputId": "3cd61e32-6a3e-4843-cc1f-bc4356229331"
   },
   "outputs": [],
   "source": [
    "#nltk.download('punkt')\n",
    "def stop(text):\n",
    "    clean_sent =[]\n",
    "    for w in word_tokenize(text):\n",
    "        if not w in stopwords:\n",
    "            clean_sent.append(w)\n",
    "    return (\" \".join(clean_sent))\n",
    "\n",
    "wordnet_lemmatizer = WordNetLemmatizer()\n",
    "\n",
    "def lemmatize(text):\n",
    "\n",
    "    word_tokens = nltk.word_tokenize(text)\n",
    "    lemmatized_word = [wordnet_lemmatizer.lemmatize(word) for word in word_tokens]\n",
    "    return (\" \".join(lemmatized_word))\n"
   ]
  },
  {
   "cell_type": "code",
   "execution_count": 134,
   "metadata": {
    "colab": {},
    "colab_type": "code",
    "id": "cjN6B7YprFuL"
   },
   "outputs": [],
   "source": [
    "dfs[\"reviews\"]=dfs[\"reviews\"].apply(lemmatize)\n",
    "dfs[\"reviews\"]=dfs[\"reviews\"].apply(stop)"
   ]
  },
  {
   "cell_type": "code",
   "execution_count": 135,
   "metadata": {
    "colab": {
     "base_uri": "https://localhost:8080/",
     "height": 34
    },
    "colab_type": "code",
    "id": "r2tBl1FArFuN",
    "outputId": "f2282e34-90c6-4308-de6b-0e8a9267ce3d"
   },
   "outputs": [
    {
     "data": {
      "text/plain": [
       "'unfortunately work made sick throw two time tried'"
      ]
     },
     "execution_count": 135,
     "metadata": {},
     "output_type": "execute_result"
    }
   ],
   "source": [
    "dfs[\"reviews\"][10]"
   ]
  },
  {
   "cell_type": "code",
   "execution_count": 136,
   "metadata": {
    "colab": {},
    "colab_type": "code",
    "id": "5EMj1QlUrFuP"
   },
   "outputs": [],
   "source": [
    "dfs[\"length\"]=dfs[\"reviews\"].apply(lambda x: len(x.split()))"
   ]
  },
  {
   "cell_type": "code",
   "execution_count": 137,
   "metadata": {},
   "outputs": [
    {
     "data": {
      "text/plain": [
       "0    10\n",
       "1    40\n",
       "2    22\n",
       "3    21\n",
       "4    27\n",
       "Name: length, dtype: int64"
      ]
     },
     "execution_count": 137,
     "metadata": {},
     "output_type": "execute_result"
    }
   ],
   "source": [
    "dfs[\"length\"].head()"
   ]
  },
  {
   "cell_type": "code",
   "execution_count": 138,
   "metadata": {},
   "outputs": [
    {
     "data": {
      "text/plain": [
       "'least think product save day keep around case need something'"
      ]
     },
     "execution_count": 138,
     "metadata": {},
     "output_type": "execute_result"
    }
   ],
   "source": [
    "dfs[\"reviews\"][0]"
   ]
  },
  {
   "cell_type": "code",
   "execution_count": 139,
   "metadata": {
    "colab": {
     "base_uri": "https://localhost:8080/",
     "height": 592
    },
    "colab_type": "code",
    "id": "GyX4TqGBrFuS",
    "outputId": "e9691d32-5982-4381-e720-15e8b76c5a2e"
   },
   "outputs": [
    {
     "data": {
      "image/png": "[encoded data removed]",
      "text/plain": [
       "<Figure size 720x720 with 1 Axes>"
      ]
     },
     "metadata": {
      "needs_background": "light"
     },
     "output_type": "display_data"
    }
   ],
   "source": [
    "plt.figure(figsize=(10,10))\n",
    "sns.countplot(dfs[\"length\"])\n",
    "plt.show()"
   ]
  },
  {
   "cell_type": "code",
   "execution_count": 140,
   "metadata": {},
   "outputs": [
    {
     "data": {
      "text/plain": [
       "35.187714285714286"
      ]
     },
     "execution_count": 140,
     "metadata": {},
     "output_type": "execute_result"
    }
   ],
   "source": [
    "np.mean(dfs[\"length\"])"
   ]
  },
  {
   "cell_type": "markdown",
   "metadata": {
    "colab_type": "text",
    "id": "iojjjiVkrFuU"
   },
   "source": [
    "We see that there are many outliers and the data is heavily left skewed.So we have to do much more analysis to select the proper lenth for the text to embedd."
   ]
  },
  {
   "cell_type": "code",
   "execution_count": 141,
   "metadata": {
    "colab": {},
    "colab_type": "code",
    "id": "6KjC9hmxrFuV"
   },
   "outputs": [],
   "source": [
    "txt=\" mean:{} \\n median:{} \\n maximum length:{} \\n minimum length:{}\".format(np.mean(dfs[\"length\"]),np.median(dfs[\"length\"]),np.max(dfs[\"length\"]),np.min(dfs[\"length\"]))"
   ]
  },
  {
   "cell_type": "code",
   "execution_count": 142,
   "metadata": {
    "colab": {
     "base_uri": "https://localhost:8080/",
     "height": 84
    },
    "colab_type": "code",
    "id": "npz_vaTprFuX",
    "outputId": "1ef98631-8ace-45e9-af82-f84bdecd69d1"
   },
   "outputs": [
    {
     "name": "stdout",
     "output_type": "stream",
     "text": [
      " mean:35.187714285714286 \n",
      " median:22.0 \n",
      " maximum length:1436 \n",
      " minimum length:5\n"
     ]
    }
   ],
   "source": [
    "print(txt)"
   ]
  },
  {
   "cell_type": "code",
   "execution_count": 143,
   "metadata": {
    "colab": {},
    "colab_type": "code",
    "id": "DPYXcWs5rFua"
   },
   "outputs": [],
   "source": [
    "def category(x):\n",
    "    if 0<x<11:\n",
    "        return 5\n",
    "    elif 10<x<21:\n",
    "        return 15\n",
    "    elif 20<x<31:\n",
    "        return 25\n",
    "    elif 30<x<41:\n",
    "        return 35\n",
    "    elif 40<x<50:\n",
    "        return 45\n",
    "    elif 50<x<61:\n",
    "        return 55\n",
    "    elif 60<x<101:\n",
    "        return 80\n",
    "    elif 100<x<301:\n",
    "        return 150\n",
    "    elif 300<x<601:\n",
    "        return 450\n",
    "    elif 600<x<1001:\n",
    "        return 800\n",
    "    elif 1000<x<1501:\n",
    "        return 1250\n",
    "    "
   ]
  },
  {
   "cell_type": "code",
   "execution_count": 144,
   "metadata": {
    "colab": {},
    "colab_type": "code",
    "id": "T86FOb73rFud"
   },
   "outputs": [],
   "source": [
    "dfs[\"textcat\"]=dfs[\"length\"].apply(category)"
   ]
  },
  {
   "cell_type": "code",
   "execution_count": 145,
   "metadata": {
    "colab": {
     "base_uri": "https://localhost:8080/",
     "height": 606
    },
    "colab_type": "code",
    "id": "Z6s4J15zrFug",
    "outputId": "3e5bcb8f-f452-4603-ba50-faeccb47d6e6"
   },
   "outputs": [
    {
     "data": {
      "image/png": "[encoded data removed]",
      "text/plain": [
       "<Figure size 720x720 with 1 Axes>"
      ]
     },
     "metadata": {
      "needs_background": "light"
     },
     "output_type": "display_data"
    }
   ],
   "source": [
    "plt.figure(figsize=(10,10))\n",
    "ax=sns.countplot(dfs[\"textcat\"])\n",
    "ax.set(xlabel=\"Mean Text length\")\n",
    "plt.show()"
   ]
  },
  {
   "cell_type": "code",
   "execution_count": 146,
   "metadata": {
    "colab": {
     "base_uri": "https://localhost:8080/",
     "height": 34
    },
    "colab_type": "code",
    "id": "Npw3mjC8rFui",
    "outputId": "eb06a704-0e09-4df6-cc1f-4b792677cdfb"
   },
   "outputs": [
    {
     "data": {
      "text/plain": [
       "25.0"
      ]
     },
     "execution_count": 146,
     "metadata": {},
     "output_type": "execute_result"
    }
   ],
   "source": [
    "(15+25+35)/3"
   ]
  },
  {
   "cell_type": "markdown",
   "metadata": {
    "colab_type": "text",
    "id": "pVP3hcA3rFul"
   },
   "source": [
    "Ideal Text size will be of 30-40"
   ]
  },
  {
   "cell_type": "code",
   "execution_count": 147,
   "metadata": {
    "colab": {
     "base_uri": "https://localhost:8080/",
     "height": 34
    },
    "colab_type": "code",
    "id": "L-ta_8YArFul",
    "outputId": "dbc33f23-5464-43ac-d065-f20e4d93a96d"
   },
   "outputs": [
    {
     "name": "stdout",
     "output_type": "stream",
     "text": [
      "7\n"
     ]
    }
   ],
   "source": [
    "c=0\n",
    "for i in dfs[\"length\"]:\n",
    "    if 700<i:\n",
    "      c+=1\n",
    "print(c)"
   ]
  },
  {
   "cell_type": "markdown",
   "metadata": {},
   "source": [
    "Texts with text size >700 is just 7 .We can remove them.\n",
    "The above mentioned values are the index of outliers."
   ]
  },
  {
   "cell_type": "code",
   "execution_count": 148,
   "metadata": {},
   "outputs": [
    {
     "name": "stdout",
     "output_type": "stream",
     "text": [
      "16321\n"
     ]
    }
   ],
   "source": [
    "c=0\n",
    "for i in dfs[\"length\"]:\n",
    "    if 40>i>1:\n",
    "      c+=1\n",
    "print(c)"
   ]
  },
  {
   "cell_type": "code",
   "execution_count": 149,
   "metadata": {
    "colab": {
     "base_uri": "https://localhost:8080/",
     "height": 34
    },
    "colab_type": "code",
    "id": "1uWmnP-PrFup",
    "outputId": "7ad0116f-1416-4bd6-c12e-309ea70244e9"
   },
   "outputs": [
    {
     "data": {
      "text/plain": [
       "21000"
      ]
     },
     "execution_count": 149,
     "metadata": {},
     "output_type": "execute_result"
    }
   ],
   "source": [
    "len(dfs[\"length\"])"
   ]
  },
  {
   "cell_type": "code",
   "execution_count": 150,
   "metadata": {
    "colab": {
     "base_uri": "https://localhost:8080/",
     "height": 34
    },
    "colab_type": "code",
    "id": "xXBf0f5QrFus",
    "outputId": "52b9198d-a895-4345-a7b6-5520de6d1d0b"
   },
   "outputs": [
    {
     "data": {
      "text/plain": [
       "0.9486190476190476"
      ]
     },
     "execution_count": 150,
     "metadata": {},
     "output_type": "execute_result"
    }
   ],
   "source": [
    "19921/21000"
   ]
  },
  {
   "cell_type": "code",
   "execution_count": 151,
   "metadata": {
    "colab": {
     "base_uri": "https://localhost:8080/",
     "height": 34
    },
    "colab_type": "code",
    "id": "dX1GMPZBrFuv",
    "outputId": "41dfb867-f4b7-4e1b-b98d-8d7cd7ea55ae"
   },
   "outputs": [
    {
     "data": {
      "text/plain": [
       "0.7771904761904762"
      ]
     },
     "execution_count": 151,
     "metadata": {},
     "output_type": "execute_result"
    }
   ],
   "source": [
    "16321/21000"
   ]
  },
  {
   "cell_type": "code",
   "execution_count": 152,
   "metadata": {
    "colab": {
     "base_uri": "https://localhost:8080/",
     "height": 34
    },
    "colab_type": "code",
    "id": "BL-Q-l7brFuy",
    "outputId": "26b65456-5fa8-48e1-cece-3a7f5780fe2b"
   },
   "outputs": [
    {
     "data": {
      "text/plain": [
       "0.9061904761904762"
      ]
     },
     "execution_count": 152,
     "metadata": {},
     "output_type": "execute_result"
    }
   ],
   "source": [
    "19030/21000"
   ]
  },
  {
   "cell_type": "markdown",
   "metadata": {
    "colab_type": "text",
    "id": "pXO79l_arFu1"
   },
   "source": [
    "90% of the data lies with text size between 1 and 70.So we can remove all the other data.\n",
    "77% of the data lies with text size between 40.As LSTM takes long time to train .This data is enough i guess."
   ]
  },
  {
   "cell_type": "code",
   "execution_count": 153,
   "metadata": {
    "colab": {
     "base_uri": "https://localhost:8080/",
     "height": 34
    },
    "colab_type": "code",
    "id": "fkLXXX2GrFu2",
    "outputId": "8b3fd629-de51-40af-cb18-0975f40230ad"
   },
   "outputs": [
    {
     "data": {
      "text/plain": [
       "Index(['reviews', 'label', 'cat', 'length', 'textcat'], dtype='object')"
      ]
     },
     "execution_count": 153,
     "metadata": {},
     "output_type": "execute_result"
    }
   ],
   "source": [
    "dfs.columns"
   ]
  },
  {
   "cell_type": "code",
   "execution_count": 154,
   "metadata": {
    "colab": {
     "base_uri": "https://localhost:8080/",
     "height": 195
    },
    "colab_type": "code",
    "id": "2J-_JR94rFu-",
    "outputId": "5851d6f5-7e12-458a-92d3-f2b28f57413b"
   },
   "outputs": [
    {
     "data": {
      "text/html": [
       "<div>\n",
       "<style scoped>\n",
       "    .dataframe tbody tr th:only-of-type {\n",
       "        vertical-align: middle;\n",
       "    }\n",
       "\n",
       "    .dataframe tbody tr th {\n",
       "        vertical-align: top;\n",
       "    }\n",
       "\n",
       "    .dataframe thead th {\n",
       "        text-align: right;\n",
       "    }\n",
       "</style>\n",
       "<table border=\"1\" class=\"dataframe\">\n",
       "  <thead>\n",
       "    <tr style=\"text-align: right;\">\n",
       "      <th></th>\n",
       "      <th>reviews</th>\n",
       "      <th>label</th>\n",
       "      <th>cat</th>\n",
       "      <th>length</th>\n",
       "      <th>textcat</th>\n",
       "    </tr>\n",
       "  </thead>\n",
       "  <tbody>\n",
       "    <tr>\n",
       "      <th>0</th>\n",
       "      <td>least think product save day keep around case ...</td>\n",
       "      <td>1</td>\n",
       "      <td>PC</td>\n",
       "      <td>10</td>\n",
       "      <td>5.0</td>\n",
       "    </tr>\n",
       "    <tr>\n",
       "      <th>1</th>\n",
       "      <td>lithium battery something new introduced marke...</td>\n",
       "      <td>1</td>\n",
       "      <td>Wireless</td>\n",
       "      <td>40</td>\n",
       "      <td>35.0</td>\n",
       "    </tr>\n",
       "    <tr>\n",
       "      <th>2</th>\n",
       "      <td>purchased swing baby month ha pretty much grow...</td>\n",
       "      <td>1</td>\n",
       "      <td>Baby</td>\n",
       "      <td>22</td>\n",
       "      <td>25.0</td>\n",
       "    </tr>\n",
       "    <tr>\n",
       "      <th>3</th>\n",
       "      <td>wa looking inexpensive desk calcolatur work do...</td>\n",
       "      <td>1</td>\n",
       "      <td>Office Products</td>\n",
       "      <td>21</td>\n",
       "      <td>25.0</td>\n",
       "    </tr>\n",
       "    <tr>\n",
       "      <th>4</th>\n",
       "      <td>use twice week result great used teeth whiteni...</td>\n",
       "      <td>1</td>\n",
       "      <td>Beauty</td>\n",
       "      <td>27</td>\n",
       "      <td>25.0</td>\n",
       "    </tr>\n",
       "  </tbody>\n",
       "</table>\n",
       "</div>"
      ],
      "text/plain": [
       "                                             reviews label              cat  \\\n",
       "0  least think product save day keep around case ...     1               PC   \n",
       "1  lithium battery something new introduced marke...     1         Wireless   \n",
       "2  purchased swing baby month ha pretty much grow...     1             Baby   \n",
       "3  wa looking inexpensive desk calcolatur work do...     1  Office Products   \n",
       "4  use twice week result great used teeth whiteni...     1           Beauty   \n",
       "\n",
       "   length  textcat  \n",
       "0      10      5.0  \n",
       "1      40     35.0  \n",
       "2      22     25.0  \n",
       "3      21     25.0  \n",
       "4      27     25.0  "
      ]
     },
     "execution_count": 154,
     "metadata": {},
     "output_type": "execute_result"
    }
   ],
   "source": [
    "dfs.head()"
   ]
  },
  {
   "cell_type": "code",
   "execution_count": 155,
   "metadata": {
    "colab": {
     "base_uri": "https://localhost:8080/",
     "height": 202
    },
    "colab_type": "code",
    "id": "WZ26t8WYrFvB",
    "outputId": "6bba46b2-1e2c-4b6c-8dfc-0a6f4f4b48c8"
   },
   "outputs": [
    {
     "name": "stdout",
     "output_type": "stream",
     "text": [
      "<class 'pandas.core.frame.DataFrame'>\n",
      "RangeIndex: 21000 entries, 0 to 20999\n",
      "Data columns (total 5 columns):\n",
      " #   Column   Non-Null Count  Dtype  \n",
      "---  ------   --------------  -----  \n",
      " 0   reviews  21000 non-null  object \n",
      " 1   label    21000 non-null  object \n",
      " 2   cat      21000 non-null  object \n",
      " 3   length   21000 non-null  int64  \n",
      " 4   textcat  20891 non-null  float64\n",
      "dtypes: float64(1), int64(1), object(3)\n",
      "memory usage: 820.4+ KB\n"
     ]
    }
   ],
   "source": [
    "dfs.info()"
   ]
  },
  {
   "cell_type": "code",
   "execution_count": 156,
   "metadata": {
    "colab": {},
    "colab_type": "code",
    "id": "LEsC3u5drFvE"
   },
   "outputs": [],
   "source": [
    "dfs=dfs[dfs[\"length\"]<41]"
   ]
  },
  {
   "cell_type": "markdown",
   "metadata": {},
   "source": [
    "we removed the outlier texts."
   ]
  },
  {
   "cell_type": "code",
   "execution_count": 157,
   "metadata": {
    "colab": {},
    "colab_type": "code",
    "id": "qz1l84iTrFvH"
   },
   "outputs": [],
   "source": [
    "test_dfs=dfs"
   ]
  },
  {
   "cell_type": "code",
   "execution_count": 158,
   "metadata": {
    "colab": {},
    "colab_type": "code",
    "id": "7k46tjaUxTUX"
   },
   "outputs": [],
   "source": [
    "#dfs=test_dfs"
   ]
  },
  {
   "cell_type": "code",
   "execution_count": 159,
   "metadata": {
    "colab": {
     "base_uri": "https://localhost:8080/",
     "height": 202
    },
    "colab_type": "code",
    "id": "0CAYPVEwrFvM",
    "outputId": "d72efe5a-b0dd-4971-ea18-56a487e6d665"
   },
   "outputs": [
    {
     "name": "stdout",
     "output_type": "stream",
     "text": [
      "<class 'pandas.core.frame.DataFrame'>\n",
      "Int64Index: 16461 entries, 0 to 20998\n",
      "Data columns (total 5 columns):\n",
      " #   Column   Non-Null Count  Dtype  \n",
      "---  ------   --------------  -----  \n",
      " 0   reviews  16461 non-null  object \n",
      " 1   label    16461 non-null  object \n",
      " 2   cat      16461 non-null  object \n",
      " 3   length   16461 non-null  int64  \n",
      " 4   textcat  16461 non-null  float64\n",
      "dtypes: float64(1), int64(1), object(3)\n",
      "memory usage: 771.6+ KB\n"
     ]
    }
   ],
   "source": [
    "dfs.info()"
   ]
  },
  {
   "cell_type": "code",
   "execution_count": 160,
   "metadata": {
    "colab": {},
    "colab_type": "code",
    "id": "gmR8HIRGw37z"
   },
   "outputs": [],
   "source": [
    "dfs[\"label\"]=dfs[\"label\"].astype(np.float32)"
   ]
  },
  {
   "cell_type": "code",
   "execution_count": 161,
   "metadata": {
    "colab": {
     "base_uri": "https://localhost:8080/",
     "height": 538
    },
    "colab_type": "code",
    "id": "AvN5Em6MrFvQ",
    "outputId": "2273923d-5646-4fad-b789-b26af61b264e"
   },
   "outputs": [
    {
     "data": {
      "text/plain": [
       "Jewelry                   648\n",
       "Shoes                     633\n",
       "Apparel                   622\n",
       "Watches                   600\n",
       "Office Products           584\n",
       "Furniture                 580\n",
       "Automotive                573\n",
       "Home                      567\n",
       "Wireless                  567\n",
       "Musical Instruments       561\n",
       "Outdoors                  556\n",
       "Tools                     554\n",
       "Sports                    554\n",
       "Toys                      548\n",
       "Lawn and Garden           546\n",
       "Luggage                   545\n",
       "Health & Personal Care    545\n",
       "Home Improvement          539\n",
       "Grocery                   537\n",
       "Baby                      536\n",
       "Beauty                    536\n",
       "Video Games               534\n",
       "Electronics               532\n",
       "Pet Products              526\n",
       "Kitchen                   524\n",
       "PC                        523\n",
       "Video DVD                 510\n",
       "Camera                    505\n",
       "Home Entertainment        459\n",
       "Books                     417\n",
       "Name: cat, dtype: int64"
      ]
     },
     "execution_count": 161,
     "metadata": {},
     "output_type": "execute_result"
    }
   ],
   "source": [
    "dfs[\"cat\"].value_counts()"
   ]
  },
  {
   "cell_type": "code",
   "execution_count": 162,
   "metadata": {
    "colab": {
     "base_uri": "https://localhost:8080/",
     "height": 67
    },
    "colab_type": "code",
    "id": "v5nxgNuIrFvV",
    "outputId": "c441087e-588f-462e-e272-d8f24eafb8cf"
   },
   "outputs": [
    {
     "data": {
      "text/plain": [
       "1.0    8803\n",
       "0.0    7658\n",
       "Name: label, dtype: int64"
      ]
     },
     "execution_count": 162,
     "metadata": {},
     "output_type": "execute_result"
    }
   ],
   "source": [
    "dfs[\"label\"].value_counts()"
   ]
  },
  {
   "cell_type": "markdown",
   "metadata": {},
   "source": [
    "From the Previous 2 Infos We can see that the data is still unbiased to a great extent and we are good to go"
   ]
  },
  {
   "cell_type": "code",
   "execution_count": 163,
   "metadata": {
    "colab": {
     "base_uri": "https://localhost:8080/",
     "height": 185
    },
    "colab_type": "code",
    "id": "vGw-njwex4E8",
    "outputId": "0a932616-ef33-4cef-fa68-b213fcb43020"
   },
   "outputs": [
    {
     "data": {
      "text/plain": [
       "'least think product save day keep around case need something'"
      ]
     },
     "execution_count": 163,
     "metadata": {},
     "output_type": "execute_result"
    }
   ],
   "source": [
    "dfs[\"reviews\"][0]"
   ]
  },
  {
   "cell_type": "code",
   "execution_count": 164,
   "metadata": {
    "colab": {},
    "colab_type": "code",
    "id": "yWX6U50-rFvm"
   },
   "outputs": [],
   "source": [
    "from sklearn.model_selection import train_test_split"
   ]
  },
  {
   "cell_type": "code",
   "execution_count": 165,
   "metadata": {
    "colab": {},
    "colab_type": "code",
    "id": "r8SpB4A2u_E3"
   },
   "outputs": [],
   "source": [
    "dfs2=dfs #Taking an Copy of Dataset for debugging"
   ]
  },
  {
   "cell_type": "code",
   "execution_count": 166,
   "metadata": {
    "colab": {},
    "colab_type": "code",
    "id": "3jk9tjh6rFvp"
   },
   "outputs": [],
   "source": [
    "df_train,df_test,Ytrain,Ytest = train_test_split(dfs[\"reviews\"],dfs[\"label\"], test_size=0.2, random_state=101)"
   ]
  },
  {
   "cell_type": "code",
   "execution_count": 167,
   "metadata": {
    "colab": {
     "base_uri": "https://localhost:8080/",
     "height": 35
    },
    "colab_type": "code",
    "id": "Fz84hftarFv1",
    "outputId": "f6237a33-f1a0-4cc3-95be-153b60f3923a"
   },
   "outputs": [
    {
     "data": {
      "text/plain": [
       "'purchased swing baby month ha pretty much grown loud swing well beautiful though love color ha lot setting think wa worth money'"
      ]
     },
     "execution_count": 167,
     "metadata": {},
     "output_type": "execute_result"
    }
   ],
   "source": [
    "df_train[2]"
   ]
  },
  {
   "cell_type": "code",
   "execution_count": 168,
   "metadata": {
    "colab": {
     "base_uri": "https://localhost:8080/",
     "height": 218
    },
    "colab_type": "code",
    "id": "eYBEW7PmrFv4",
    "outputId": "6ae73cc3-374f-4be8-82e4-c6becb37e2a6"
   },
   "outputs": [
    {
     "data": {
      "text/plain": [
       "18322    love let driver know peaceful buddhist live st...\n",
       "4183     finished reading certainly glad purchased book...\n",
       "15057    love construction quality drawer drawer open s...\n",
       "6018     juligo led headlamp comfortable wear cast nice...\n",
       "449      stand paper towel soft feel like toilet paper ...\n",
       "                               ...                        \n",
       "2971     nothing like quality bed happy material though...\n",
       "15747    bought shoe size chrat said size u eur receive...\n",
       "6774     good price good size bought student sure love ...\n",
       "9563     great game perfect beginner even veteran still...\n",
       "16774    make short travel want organized buy today rig...\n",
       "Name: reviews, Length: 13168, dtype: object"
      ]
     },
     "execution_count": 168,
     "metadata": {},
     "output_type": "execute_result"
    }
   ],
   "source": [
    "df_train"
   ]
  },
  {
   "cell_type": "code",
   "execution_count": 169,
   "metadata": {},
   "outputs": [
    {
     "name": "stdout",
     "output_type": "stream",
     "text": [
      "17189\n"
     ]
    }
   ],
   "source": [
    "vocab={'pad':0,\"unk\":1}\n",
    "for review in dfs[\"reviews\"]:\n",
    "    \n",
    "    for word in review.split():\n",
    "        if word not in vocab:\n",
    "            vocab[word]=len(vocab)\n",
    "print(len(vocab))"
   ]
  },
  {
   "cell_type": "code",
   "execution_count": 170,
   "metadata": {
    "colab": {},
    "colab_type": "code",
    "id": "DW7h284nrFv6"
   },
   "outputs": [],
   "source": [
    "from tensorflow.keras.preprocessing.text import Tokenizer\n",
    "from tensorflow.keras.preprocessing.sequence import pad_sequences\n",
    "from tensorflow.keras.layers import Dense, Input, GlobalMaxPooling1D\n",
    "from tensorflow.keras.layers import LSTM, Embedding\n",
    "from tensorflow.keras.models import Model"
   ]
  },
  {
   "cell_type": "code",
   "execution_count": 171,
   "metadata": {
    "colab": {},
    "colab_type": "code",
    "id": "jP28b18jrFv8"
   },
   "outputs": [],
   "source": [
    "MAX_VOCAB_SIZE=30000\n",
    "tokenizer = Tokenizer(num_words=MAX_VOCAB_SIZE,oov_token=\"<OOV>\")\n",
    "tokenizer.fit_on_texts(df_train)\n",
    "sequences_train = tokenizer.texts_to_sequences(df_train)\n",
    "sequences_test = tokenizer.texts_to_sequences(df_test)"
   ]
  },
  {
   "cell_type": "code",
   "execution_count": 172,
   "metadata": {
    "colab": {},
    "colab_type": "code",
    "id": "AwbFBKntrFv-"
   },
   "outputs": [],
   "source": [
    "word2idx = tokenizer.word_index\n",
    "V = len(word2idx)"
   ]
  },
  {
   "cell_type": "code",
   "execution_count": 173,
   "metadata": {},
   "outputs": [
    {
     "data": {
      "text/plain": [
       "15598"
      ]
     },
     "execution_count": 173,
     "metadata": {},
     "output_type": "execute_result"
    }
   ],
   "source": [
    "len(word2idx)"
   ]
  },
  {
   "cell_type": "code",
   "execution_count": 174,
   "metadata": {},
   "outputs": [
    {
     "name": "stdout",
     "output_type": "stream",
     "text": [
      "60 12\n"
     ]
    }
   ],
   "source": [
    "print(len(df_train[0]),len(sequences_train[0]))"
   ]
  },
  {
   "cell_type": "code",
   "execution_count": 175,
   "metadata": {},
   "outputs": [
    {
     "name": "stdout",
     "output_type": "stream",
     "text": [
      "least think product save day keep around case need something\n",
      "[7, 448, 1171, 88, 8468, 6385, 549, 1580, 6386, 1489, 5269, 461]\n",
      "381\n"
     ]
    },
    {
     "ename": "NameError",
     "evalue": "name 'word2idc' is not defined",
     "output_type": "error",
     "traceback": [
      "\u001b[1;31m---------------------------------------------------------------------------\u001b[0m",
      "\u001b[1;31mNameError\u001b[0m                                 Traceback (most recent call last)",
      "\u001b[1;32m<ipython-input-175-16b373eeb7fc>\u001b[0m in \u001b[0;36m<module>\u001b[1;34m\u001b[0m\n\u001b[0;32m      2\u001b[0m \u001b[0mprint\u001b[0m\u001b[1;33m(\u001b[0m\u001b[0msequences_train\u001b[0m\u001b[1;33m[\u001b[0m\u001b[1;36m0\u001b[0m\u001b[1;33m]\u001b[0m\u001b[1;33m)\u001b[0m\u001b[1;33m\u001b[0m\u001b[1;33m\u001b[0m\u001b[0m\n\u001b[0;32m      3\u001b[0m \u001b[0mprint\u001b[0m\u001b[1;33m(\u001b[0m\u001b[0mword2idx\u001b[0m\u001b[1;33m[\u001b[0m\u001b[1;34m\"least\"\u001b[0m\u001b[1;33m]\u001b[0m\u001b[1;33m)\u001b[0m\u001b[1;33m\u001b[0m\u001b[1;33m\u001b[0m\u001b[0m\n\u001b[1;32m----> 4\u001b[1;33m \u001b[0mprint\u001b[0m\u001b[1;33m(\u001b[0m\u001b[0mword2idc\u001b[0m\u001b[1;33m[\u001b[0m\u001b[1;34m\"save\"\u001b[0m\u001b[1;33m]\u001b[0m\u001b[1;33m)\u001b[0m\u001b[1;33m\u001b[0m\u001b[1;33m\u001b[0m\u001b[0m\n\u001b[0m",
      "\u001b[1;31mNameError\u001b[0m: name 'word2idc' is not defined"
     ]
    }
   ],
   "source": [
    "print(df_train[0])\n",
    "print(sequences_train[0])\n",
    "print(word2idx[\"least\"])\n",
    "print(word2idc[\"save\"])"
   ]
  },
  {
   "cell_type": "code",
   "execution_count": null,
   "metadata": {},
   "outputs": [],
   "source": [
    "#the Word Least has an index no :  but this number is not there in sequence and the length is also varying.\n",
    "#No shuffling is done\n",
    "#discreprency is noted"
   ]
  },
  {
   "cell_type": "code",
   "execution_count": null,
   "metadata": {},
   "outputs": [],
   "source": [
    "print(df_train[1])\n",
    "print(sequences_train[1])\n",
    "print(len(df_train[1])\n",
    "print(len(sequences_train[1]))\n",
    "print(word2idx[\"built\"])\n",
    "print(word2idc[\"sensor\"])"
   ]
  },
  {
   "cell_type": "code",
   "execution_count": null,
   "metadata": {},
   "outputs": [],
   "source": []
  },
  {
   "cell_type": "code",
   "execution_count": null,
   "metadata": {},
   "outputs": [],
   "source": [
    "print(df_train[4])\n",
    "print(sequences_train[4])\n",
    "print(word2idx[\"least\"])\n",
    "print(word2idx[\"day\"])\n",
    "print(len(df_train[10].split()))\n",
    "print(len(sequences_train[10]))"
   ]
  },
  {
   "cell_type": "code",
   "execution_count": null,
   "metadata": {
    "colab": {
     "base_uri": "https://localhost:8080/",
     "height": 34
    },
    "colab_type": "code",
    "id": "d2NCoR8WrFwB",
    "outputId": "31c5df13-42c1-45ac-d012-ea10524eb621"
   },
   "outputs": [],
   "source": [
    "\n",
    "data_train = pad_sequences(sequences_train)\n",
    "print('Shape of data train tensor:',data_train.shape)\n",
    "\n",
    "\n",
    "T = data_train.shape[1]"
   ]
  },
  {
   "cell_type": "code",
   "execution_count": null,
   "metadata": {},
   "outputs": [],
   "source": [
    "print(df_train[0])\n",
    "print(data_train[0])"
   ]
  },
  {
   "cell_type": "code",
   "execution_count": null,
   "metadata": {
    "colab": {
     "base_uri": "https://localhost:8080/",
     "height": 34
    },
    "colab_type": "code",
    "id": "k1xZie5ArFwD",
    "outputId": "18b8dd3d-17cc-467f-a91b-ede6717baf95"
   },
   "outputs": [],
   "source": [
    "\n",
    "data_test = pad_sequences(sequences_test,maxlen=T)\n",
    "print('Shape of data test tensor:',data_test.shape)"
   ]
  },
  {
   "cell_type": "code",
   "execution_count": null,
   "metadata": {
    "colab": {
     "base_uri": "https://localhost:8080/",
     "height": 134
    },
    "colab_type": "code",
    "id": "5Dzgs8cnwe8t",
    "outputId": "66725fe1-5d5a-49fd-e569-017824fab8fe"
   },
   "outputs": [],
   "source": [
    "data_test"
   ]
  },
  {
   "cell_type": "markdown",
   "metadata": {},
   "source": [
    "## Model 1 with Basic LSTM"
   ]
  },
  {
   "cell_type": "code",
   "execution_count": null,
   "metadata": {
    "colab": {},
    "colab_type": "code",
    "id": "Gq7mcXqwrFwI"
   },
   "outputs": [],
   "source": [
    "# Model  1\n",
    "\n",
    "# embeding dimensionality\n",
    "D = 20\n",
    "\n",
    "i = Input(shape=(T,))\n",
    "x = Embedding(V+1,D)(i)\n",
    "x = LSTM(15,return_sequences=True)(x)\n",
    "x = GlobalMaxPooling1D()(x)\n",
    "x=Dense(64,activation=\"relu\")(x)\n",
    "x = Dense(1, activation='sigmoid')(x)\n",
    "\n",
    "model = Model(i,x)"
   ]
  },
  {
   "cell_type": "code",
   "execution_count": null,
   "metadata": {
    "colab": {
     "base_uri": "https://localhost:8080/",
     "height": 370
    },
    "colab_type": "code",
    "id": "lgVGwdbOrFwK",
    "outputId": "1dbcb6fd-a368-4561-afba-28c014f3dce4"
   },
   "outputs": [],
   "source": [
    "\n",
    "model.compile(loss=tf.keras.losses.BinaryCrossentropy(from_logits=True),optimizer='adam',metrics=['accuracy'])\n",
    "print('Training model....')\n",
    "r=model.fit(data_train, Ytrain,batch_size=64,epochs=10,validation_data=(data_test,Ytest))"
   ]
  },
  {
   "cell_type": "code",
   "execution_count": null,
   "metadata": {
    "colab": {
     "base_uri": "https://localhost:8080/",
     "height": 282
    },
    "colab_type": "code",
    "id": "1dnX--rBrFwM",
    "outputId": "105e5350-e79d-4330-b7cc-80c024bdd7ac"
   },
   "outputs": [],
   "source": [
    "# Plot loss per iteration\n",
    "plt.plot(r.history['loss'], label='loss')\n",
    "plt.plot(r.history['val_loss'], label='val_loss')\n",
    "plt.legend()"
   ]
  },
  {
   "cell_type": "code",
   "execution_count": null,
   "metadata": {
    "colab": {
     "base_uri": "https://localhost:8080/",
     "height": 282
    },
    "colab_type": "code",
    "id": "oC0u446HrFwQ",
    "outputId": "94de1fce-4f14-4bc8-a378-8838b28fc977"
   },
   "outputs": [],
   "source": [
    "plt.plot(r.history['accuracy'], label='accuracy')\n",
    "plt.plot(r.history['val_accuracy'], label='val_accuracy')\n",
    "plt.legend()"
   ]
  },
  {
   "cell_type": "code",
   "execution_count": null,
   "metadata": {
    "colab": {},
    "colab_type": "code",
    "id": "SwHc8EzSzh2M"
   },
   "outputs": [],
   "source": [
    "#Without batch_size:\n",
    "#Epoch 10/10\n",
    "#13168/13168 [==============================] - 10s 788us/sample - loss: 0.1205 - accuracy: 0.9572 - val_loss: 1.3333 - val_accuracy: 0.5864\n",
    "#with batch_size=64:\n",
    "#Epoch 10/10\n",
    "#13168/13168 [==============================] - 4s 339us/sample - loss: 0.0331 - accuracy: 0.9891 - val_loss: 2.0885 - val_accuracy: 0.5858\n"
   ]
  },
  {
   "cell_type": "markdown",
   "metadata": {},
   "source": [
    "## Model 2 With Bidirectional LSTMs"
   ]
  },
  {
   "cell_type": "code",
   "execution_count": null,
   "metadata": {},
   "outputs": [],
   "source": [
    "\n",
    "#Model 2\n",
    "model2=tf.keras.Sequential([\n",
    "tf.keras.layers.Embedding(V+1,64),\n",
    "tf.keras.layers.Bidirectional(tf.keras.layers.LSTM(64,return_sequences=True)),\n",
    "tf.keras.layers.Bidirectional(tf.keras.layers.LSTM(32)),\n",
    "tf.keras.layers.Dense(64,activation=\"relu\"),\n",
    "tf.keras.layers.Dense(1,activation=\"sigmoid\")])\n"
   ]
  },
  {
   "cell_type": "code",
   "execution_count": null,
   "metadata": {},
   "outputs": [],
   "source": [
    "model2.compile(loss=tf.keras.losses.BinaryCrossentropy(from_logits=True),optimizer='adam',metrics=['accuracy'])\n",
    "print('Training model....')\n",
    "r=model2.fit(data_train, Ytrain,batch_size=64,epochs=10,validation_data=(data_test,Ytest))"
   ]
  },
  {
   "cell_type": "code",
   "execution_count": null,
   "metadata": {},
   "outputs": [],
   "source": [
    "plt.plot(r.history['loss'], label='loss')\n",
    "plt.plot(r.history['val_loss'], label='val_loss')\n",
    "plt.legend()"
   ]
  },
  {
   "cell_type": "code",
   "execution_count": null,
   "metadata": {},
   "outputs": [],
   "source": [
    "plt.plot(r.history['accuracy'], label='accuracy')\n",
    "plt.plot(r.history['val_accuracy'], label='val_accuracy')\n",
    "plt.legend()"
   ]
  },
  {
   "cell_type": "markdown",
   "metadata": {},
   "source": [
    "## To Debug the Anomaly in the Tokenizer.Im testing it here."
   ]
  },
  {
   "cell_type": "code",
   "execution_count": null,
   "metadata": {},
   "outputs": [],
   "source": [
    "MAX_VOCAB_SIZE=20\n",
    "tokenizer2 = Tokenizer(num_words=MAX_VOCAB_SIZE,oov_token=\"<OOV>\")\n",
    "tokenizer2.fit_on_texts(test1)\n",
    "sequences_train2 = tokenizer2.texts_to_sequences(test1)\n",
    "#sequences_test = tokenizer.texts_to_sequences(df_test)"
   ]
  },
  {
   "cell_type": "code",
   "execution_count": null,
   "metadata": {},
   "outputs": [],
   "source": [
    "test1=[\"I am a good boy\",\"I am a bad boy\",\"I dont like girls\"]"
   ]
  },
  {
   "cell_type": "code",
   "execution_count": null,
   "metadata": {},
   "outputs": [],
   "source": [
    "test1[0]"
   ]
  },
  {
   "cell_type": "code",
   "execution_count": null,
   "metadata": {},
   "outputs": [],
   "source": [
    "sequences_train2[0]"
   ]
  },
  {
   "cell_type": "code",
   "execution_count": null,
   "metadata": {},
   "outputs": [],
   "source": [
    "for i in range(len(test1)):\n",
    "     print(test1[i])\n",
    "     print(sequences_train2[i])\n"
   ]
  },
  {
   "cell_type": "code",
   "execution_count": null,
   "metadata": {},
   "outputs": [],
   "source": [
    "dfs[\"tester\"]=dfs[\"reviews\"][0:10]"
   ]
  },
  {
   "cell_type": "code",
   "execution_count": null,
   "metadata": {},
   "outputs": [],
   "source": [
    "dfs[\"tester\"]"
   ]
  },
  {
   "cell_type": "code",
   "execution_count": null,
   "metadata": {},
   "outputs": [],
   "source": [
    "len(dfs[\"tester\"])"
   ]
  },
  {
   "cell_type": "code",
   "execution_count": null,
   "metadata": {},
   "outputs": [],
   "source": [
    "dfs[\"tester\"].dropna(inplace=True)"
   ]
  },
  {
   "cell_type": "code",
   "execution_count": null,
   "metadata": {},
   "outputs": [],
   "source": [
    "MAX_VOCAB_SIZE=2000\n",
    "tokenizer3= Tokenizer(num_words=MAX_VOCAB_SIZE)\n",
    "tokenizer3.fit_on_texts(dfs[\"tester\"])\n",
    "sequences_train3 = tokenizer2.texts_to_sequences(dfs[\"tester\"])\n",
    "#sequences_test = tokenizer.texts_to_sequences(df_test)"
   ]
  },
  {
   "cell_type": "code",
   "execution_count": null,
   "metadata": {},
   "outputs": [],
   "source": [
    "for i in range(len(dfs[\"tester\"])):\n",
    "     print(dfs[\"tester\"][i])\n",
    "     print(sequences_train3[i])"
   ]
  },
  {
   "cell_type": "markdown",
   "metadata": {},
   "source": [
    "# Major mistakes are Noted .The Low accuracy many be due to this"
   ]
  },
  {
   "cell_type": "markdown",
   "metadata": {},
   "source": [
    "### Testing with CNN Model under progress"
   ]
  },
  {
   "cell_type": "code",
   "execution_count": null,
   "metadata": {},
   "outputs": [],
   "source": [
    "\n",
    "from keras.layers import Dense, Input , LSTM , Embedding, Dropout , Activation,Conv1D\n",
    "from keras.layers import Bidirectional, GlobalMaxPool1D, MaxPooling1D , GlobalMaxPooling1D\n",
    "from keras.models import Model, Sequential\n",
    "from keras import optimizers"
   ]
  },
  {
   "cell_type": "code",
   "execution_count": null,
   "metadata": {},
   "outputs": [],
   "source": [
    "#New Model To Try\n",
    "\n",
    "\"\"\"D=20\n",
    "i=Input(shape=(T,))\n",
    "x=Embedding(V+1,D)(i)\n",
    "x=Conv1D(32,3,activation=\"relu\")(x)\n",
    "x=MaxPooling1D(3)(x)\n",
    "x=Conv1D(64,3,activation=\"relu\")(x)\n",
    "x=MaxPooling1D(3)(x)\n",
    "x=Conv1D(128,3,activation=\"relu\")(x)\n",
    "x=GlobalMaxPooling1D(3)(x)\n",
    "x=Dense(1,activation=\"sigmoid\")(x)\n",
    "model=Model(i,x)\n",
    "model.compile(loss=tf.keras.losses.BinaryCrossentropy(from_logits=True),optimizer='adam',metrics=['accuracy'])\n",
    "print('Training model....')\n",
    "r=model.fit(data_train, Ytrain,batch_size=64,epochs=10,validation_data=(data_test,Ytest))\n",
    "\"\"\"\n"
   ]
  },
  {
   "cell_type": "code",
   "execution_count": null,
   "metadata": {},
   "outputs": [],
   "source": []
  },
  {
   "cell_type": "code",
   "execution_count": null,
   "metadata": {},
   "outputs": [],
   "source": []
  },
  {
   "cell_type": "code",
   "execution_count": null,
   "metadata": {},
   "outputs": [],
   "source": []
  }
 ],
 "metadata": {
  "colab": {
   "collapsed_sections": [],
   "name": "fakereview2.ipynb",
   "provenance": []
  },
  "kernelspec": {
   "display_name": "Python 3",
   "language": "python",
   "name": "python3"
  },
  "language_info": {
   "codemirror_mode": {
    "name": "ipython",
    "version": 3
   },
   "file_extension": ".py",
   "mimetype": "text/x-python",
   "name": "python",
   "nbconvert_exporter": "python",
   "pygments_lexer": "ipython3",
   "version": "3.7.7"
  }
 },
 "nbformat": 4,
 "nbformat_minor": 1
}
