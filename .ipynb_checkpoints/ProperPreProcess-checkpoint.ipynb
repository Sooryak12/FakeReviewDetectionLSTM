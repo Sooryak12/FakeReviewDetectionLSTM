{
 "cells": [
  {
   "cell_type": "code",
   "execution_count": 5,
   "metadata": {
    "colab": {
     "base_uri": "https://localhost:8080/",
     "height": 423
    },
    "colab_type": "code",
    "id": "cXKUVsdWkvR-",
    "outputId": "a24da26f-1289-4892-e529-0a244bd9f34e"
   },
   "outputs": [],
   "source": [
    "import pandas as pd\n",
    "import numpy as np\n",
    "import matplotlib.pyplot as plt\n",
    "import seaborn as sns\n",
    "%matplotlib inline\n",
    "import re\n",
    "import tensorflow as tf"
   ]
  },
  {
   "cell_type": "code",
   "execution_count": 6,
   "metadata": {},
   "outputs": [],
   "source": [
    "contractions = { \n",
    "\"ain't\": \"am not / are not / is not / has not / have not\",\n",
    "\"aren't\": \"are not / am not\",\n",
    "\"can't\": \"cannot\",\n",
    "\"can't've\": \"cannot have\",\n",
    "\"'cause\": \"because\",\n",
    "\"could've\": \"could have\",\n",
    "\"couldn't\": \"could not\",\n",
    "\"couldn't've\": \"could not have\",\n",
    "\"didn't\": \"did not\",\n",
    "\"doesn't\": \"does not\",\n",
    "\"don't\": \"do not\",\n",
    "\"hadn't\": \"had not\",\n",
    "\"hadn't've\": \"had not have\",\n",
    "\"hasn't\": \"has not\",\n",
    "\"haven't\": \"have not\",\n",
    "\"he'd\": \"he had / he would\",\n",
    "\"he'd've\": \"he would have\",\n",
    "\"he'll\": \"he shall / he will\",\n",
    "\"he'll've\": \"he shall have / he will have\",\n",
    "\"he's\": \"he has / he is\",\n",
    "\"how'd\": \"how did\",\n",
    "\"how'd'y\": \"how do you\",\n",
    "\"how'll\": \"how will\",\n",
    "\"how's\": \"how has / how is / how does\",\n",
    "\"I'd\": \"I had / I would\",\n",
    "\"I'd've\": \"I would have\",\n",
    "\"I'll\": \"I shall / I will\",\n",
    "\"I'll've\": \"I shall have / I will have\",\n",
    "\"I'm\": \"I am\",\n",
    "\"I've\": \"I have\",\n",
    "\"isn't\": \"is not\",\n",
    "\"it'd\": \"it had / it would\",\n",
    "\"it'd've\": \"it would have\",\n",
    "\"it'll\": \"it shall / it will\",\n",
    "\"it'll've\": \"it shall have / it will have\",\n",
    "\"it's\": \"it has / it is\",\n",
    "\"let's\": \"let us\",\n",
    "\"ma'am\": \"madam\",\n",
    "\"mayn't\": \"may not\",\n",
    "\"might've\": \"might have\",\n",
    "\"mightn't\": \"might not\",\n",
    "\"mightn't've\": \"might not have\",\n",
    "\"must've\": \"must have\",\n",
    "\"mustn't\": \"must not\",\n",
    "\"mustn't've\": \"must not have\",\n",
    "\"needn't\": \"need not\",\n",
    "\"needn't've\": \"need not have\",\n",
    "\"o'clock\": \"of the clock\",\n",
    "\"oughtn't\": \"ought not\",\n",
    "\"oughtn't've\": \"ought not have\",\n",
    "\"shan't\": \"shall not\",\n",
    "\"sha'n't\": \"shall not\",\n",
    "\"shan't've\": \"shall not have\",\n",
    "\"she'd\": \"she had / she would\",\n",
    "\"she'd've\": \"she would have\",\n",
    "\"she'll\": \"she shall / she will\",\n",
    "\"she'll've\": \"she shall have / she will have\",\n",
    "\"she's\": \"she has / she is\",\n",
    "\"should've\": \"should have\",\n",
    "\"shouldn't\": \"should not\",\n",
    "\"shouldn't've\": \"should not have\",\n",
    "\"so've\": \"so have\",\n",
    "\"so's\": \"so as / so is\",\n",
    "\"that'd\": \"that would / that had\",\n",
    "\"that'd've\": \"that would have\",\n",
    "\"that's\": \"that has / that is\",\n",
    "\"there'd\": \"there had / there would\",\n",
    "\"there'd've\": \"there would have\",\n",
    "\"there's\": \"there has / there is\",\n",
    "\"they'd\": \"they had / they would\",\n",
    "\"they'd've\": \"they would have\",\n",
    "\"they'll\": \"they shall / they will\",\n",
    "\"they'll've\": \"they shall have / they will have\",\n",
    "\"they're\": \"they are\",\n",
    "\"they've\": \"they have\",\n",
    "\"to've\": \"to have\",\n",
    "\"wasn't\": \"was not\",\n",
    "\"we'd\": \"we had / we would\",\n",
    "\"we'd've\": \"we would have\",\n",
    "\"we'll\": \"we will\",\n",
    "\"we'll've\": \"we will have\",\n",
    "\"we're\": \"we are\",\n",
    "\"we've\": \"we have\",\n",
    "\"weren't\": \"were not\",\n",
    "\"what'll\": \"what shall / what will\",\n",
    "\"what'll've\": \"what shall have / what will have\",\n",
    "\"what're\": \"what are\",\n",
    "\"what's\": \"what has / what is\",\n",
    "\"what've\": \"what have\",\n",
    "\"when's\": \"when has / when is\",\n",
    "\"when've\": \"when have\",\n",
    "\"where'd\": \"where did\",\n",
    "\"where's\": \"where has / where is\",\n",
    "\"where've\": \"where have\",\n",
    "\"who'll\": \"who shall / who will\",\n",
    "\"who'll've\": \"who shall have / who will have\",\n",
    "\"who's\": \"who has / who is\",\n",
    "\"who've\": \"who have\",\n",
    "\"why's\": \"why has / why is\",\n",
    "\"why've\": \"why have\",\n",
    "\"will've\": \"will have\",\n",
    "\"won't\": \"will not\",\n",
    "\"won't've\": \"will not have\",\n",
    "\"would've\": \"would have\",\n",
    "\"wouldn't\": \"would not\",\n",
    "\"wouldn't've\": \"would not have\",\n",
    "\"y'all\": \"you all\",\n",
    "\"y'all'd\": \"you all would\",\n",
    "\"y'all'd've\": \"you all would have\",\n",
    "\"y'all're\": \"you all are\",\n",
    "\"y'all've\": \"you all have\",\n",
    "\"you'd\": \"you had / you would\",\n",
    "\"you'd've\": \"you would have\",\n",
    "\"you'll\": \"you shall / you will\",\n",
    "\"you'll've\": \"you shall have / you will have\",\n",
    "\"you're\": \"you are\",\n",
    "\"you've\": \"you have\"\n",
    "}"
   ]
  },
  {
   "cell_type": "code",
   "execution_count": 7,
   "metadata": {},
   "outputs": [
    {
     "name": "stdout",
     "output_type": "stream",
     "text": [
      "Requirement already satisfied: textcleaner in c:\\users\\soory\\.conda\\envs\\tf\\lib\\site-packages (0.4.26)\n",
      "Requirement already satisfied: regex in c:\\users\\soory\\.conda\\envs\\tf\\lib\\site-packages (from textcleaner) (2020.7.14)\n",
      "Requirement already satisfied: nltk in c:\\users\\soory\\.conda\\envs\\tf\\lib\\site-packages (from textcleaner) (3.5)Note: you may need to restart the kernel to use updated packages.\n",
      "Requirement already satisfied: click in c:\\users\\soory\\.conda\\envs\\tf\\lib\\site-packages (from nltk->textcleaner) (7.1.2)\n",
      "Requirement already satisfied: tqdm in c:\\users\\soory\\.conda\\envs\\tf\\lib\\site-packages (from nltk->textcleaner) (4.48.2)\n",
      "Requirement already satisfied: joblib in c:\\users\\soory\\.conda\\envs\\tf\\lib\\site-packages (from nltk->textcleaner) (0.16.0)\n",
      "\n"
     ]
    }
   ],
   "source": [
    "pip install textcleaner"
   ]
  },
  {
   "cell_type": "code",
   "execution_count": 40,
   "metadata": {
    "colab": {
     "base_uri": "https://localhost:8080/",
     "height": 246
    },
    "colab_type": "code",
    "id": "wgMveFfmk-r1",
    "outputId": "5a8424ca-8294-4962-d0fa-4ec0e1f2debb"
   },
   "outputs": [
    {
     "data": {
      "text/html": [
       "<div>\n",
       "<style scoped>\n",
       "    .dataframe tbody tr th:only-of-type {\n",
       "        vertical-align: middle;\n",
       "    }\n",
       "\n",
       "    .dataframe tbody tr th {\n",
       "        vertical-align: top;\n",
       "    }\n",
       "\n",
       "    .dataframe thead th {\n",
       "        text-align: right;\n",
       "    }\n",
       "</style>\n",
       "<table border=\"1\" class=\"dataframe\">\n",
       "  <thead>\n",
       "    <tr style=\"text-align: right;\">\n",
       "      <th></th>\n",
       "      <th>DOC_ID</th>\n",
       "      <th>LABEL</th>\n",
       "      <th>RATING</th>\n",
       "      <th>VERIFIED_PURCHASE</th>\n",
       "      <th>PRODUCT_CATEGORY</th>\n",
       "      <th>PRODUCT_ID</th>\n",
       "      <th>PRODUCT_TITLE</th>\n",
       "      <th>REVIEW_TITLE</th>\n",
       "      <th>REVIEW_TEXT</th>\n",
       "    </tr>\n",
       "  </thead>\n",
       "  <tbody>\n",
       "    <tr>\n",
       "      <th>0</th>\n",
       "      <td>1</td>\n",
       "      <td>__label1__</td>\n",
       "      <td>4</td>\n",
       "      <td>N</td>\n",
       "      <td>PC</td>\n",
       "      <td>B00008NG7N</td>\n",
       "      <td>Targus PAUK10U Ultra Mini USB Keypad, Black</td>\n",
       "      <td>useful</td>\n",
       "      <td>When least you think so, this product will sav...</td>\n",
       "    </tr>\n",
       "    <tr>\n",
       "      <th>1</th>\n",
       "      <td>2</td>\n",
       "      <td>__label1__</td>\n",
       "      <td>4</td>\n",
       "      <td>Y</td>\n",
       "      <td>Wireless</td>\n",
       "      <td>B00LH0Y3NM</td>\n",
       "      <td>Note 3 Battery : Stalion Strength Replacement ...</td>\n",
       "      <td>New era for batteries</td>\n",
       "      <td>Lithium batteries are something new introduced...</td>\n",
       "    </tr>\n",
       "    <tr>\n",
       "      <th>2</th>\n",
       "      <td>3</td>\n",
       "      <td>__label1__</td>\n",
       "      <td>3</td>\n",
       "      <td>N</td>\n",
       "      <td>Baby</td>\n",
       "      <td>B000I5UZ1Q</td>\n",
       "      <td>Fisher-Price Papasan Cradle Swing, Starlight</td>\n",
       "      <td>doesn't swing very well.</td>\n",
       "      <td>I purchased this swing for my baby. She is 6 m...</td>\n",
       "    </tr>\n",
       "    <tr>\n",
       "      <th>3</th>\n",
       "      <td>4</td>\n",
       "      <td>__label1__</td>\n",
       "      <td>4</td>\n",
       "      <td>N</td>\n",
       "      <td>Office Products</td>\n",
       "      <td>B003822IRA</td>\n",
       "      <td>Casio MS-80B Standard Function Desktop Calculator</td>\n",
       "      <td>Great computing!</td>\n",
       "      <td>I was looking for an inexpensive desk calcolat...</td>\n",
       "    </tr>\n",
       "    <tr>\n",
       "      <th>4</th>\n",
       "      <td>5</td>\n",
       "      <td>__label1__</td>\n",
       "      <td>4</td>\n",
       "      <td>N</td>\n",
       "      <td>Beauty</td>\n",
       "      <td>B00PWSAXAM</td>\n",
       "      <td>Shine Whitening - Zero Peroxide Teeth Whitenin...</td>\n",
       "      <td>Only use twice a week</td>\n",
       "      <td>I only use it twice a week and the results are...</td>\n",
       "    </tr>\n",
       "  </tbody>\n",
       "</table>\n",
       "</div>"
      ],
      "text/plain": [
       "   DOC_ID       LABEL  RATING VERIFIED_PURCHASE PRODUCT_CATEGORY  PRODUCT_ID  \\\n",
       "0       1  __label1__       4                 N               PC  B00008NG7N   \n",
       "1       2  __label1__       4                 Y         Wireless  B00LH0Y3NM   \n",
       "2       3  __label1__       3                 N             Baby  B000I5UZ1Q   \n",
       "3       4  __label1__       4                 N  Office Products  B003822IRA   \n",
       "4       5  __label1__       4                 N           Beauty  B00PWSAXAM   \n",
       "\n",
       "                                       PRODUCT_TITLE  \\\n",
       "0        Targus PAUK10U Ultra Mini USB Keypad, Black   \n",
       "1  Note 3 Battery : Stalion Strength Replacement ...   \n",
       "2       Fisher-Price Papasan Cradle Swing, Starlight   \n",
       "3  Casio MS-80B Standard Function Desktop Calculator   \n",
       "4  Shine Whitening - Zero Peroxide Teeth Whitenin...   \n",
       "\n",
       "               REVIEW_TITLE                                        REVIEW_TEXT  \n",
       "0                    useful  When least you think so, this product will sav...  \n",
       "1     New era for batteries  Lithium batteries are something new introduced...  \n",
       "2  doesn't swing very well.  I purchased this swing for my baby. She is 6 m...  \n",
       "3          Great computing!  I was looking for an inexpensive desk calcolat...  \n",
       "4     Only use twice a week  I only use it twice a week and the results are...  "
      ]
     },
     "execution_count": 40,
     "metadata": {},
     "output_type": "execute_result"
    }
   ],
   "source": [
    "url=\"https://raw.githubusercontent.com/Sooryak12/FakeReviewDetectionLSTM/master/selected.txt\"\n",
    "df=pd.read_csv(url,delimiter=\"\\t\")\n",
    "df.head()"
   ]
  },
  {
   "cell_type": "code",
   "execution_count": 41,
   "metadata": {
    "colab": {},
    "colab_type": "code",
    "id": "819aWQjGlCDD"
   },
   "outputs": [],
   "source": [
    "df[\"LABEL\"]=df[\"LABEL\"].replace(['__label2__','__label1__'],['0','1'])\n",
    "df[\"LABEL\"]=df[\"LABEL\"].astype(np.float32)\n",
    "dfs=df[[\"REVIEW_TEXT\",\"LABEL\",\"PRODUCT_CATEGORY\"]]\n",
    "dfs = dfs.rename(columns={'REVIEW_TEXT': 'reviews',\"LABEL\":\"label\",\"PRODUCT_CATEGORY\":\"cat\"})"
   ]
  },
  {
   "cell_type": "code",
   "execution_count": 42,
   "metadata": {
    "colab": {},
    "colab_type": "code",
    "id": "F1pWjqKblKyA"
   },
   "outputs": [],
   "source": [
    "def preprocess_text(sen):\n",
    "    # Removing html tags\n",
    "    sentence = remove_tags(sen)\n",
    "\n",
    "    # Remove punctuations and numbers\n",
    "    sentence = re.sub('[^a-zA-Z]', ' ', sentence)\n",
    "\n",
    "    # Single character removal\n",
    "    sentence = re.sub(r\"\\s+[a-zA-Z]\\s+\", ' ', sentence)\n",
    "\n",
    "    # Removing multiple spaces\n",
    "    sentence = re.sub(r'\\s+', ' ', sentence)\n",
    "\n",
    "    return sentence\n",
    "TAG_RE = re.compile(r'<[^>]+>')\n",
    "\n",
    "def remove_tags(text):\n",
    "    return TAG_RE.sub('', text)\n",
    "#import contractions\n",
    "#def contract(text):\n",
    " # return(contractions.fix(text))\n",
    "from nlppreprocess import NLP\n",
    "NLP=NLP\n",
    "obj=NLP(remove_stopwords=True,remove_numbers=True,replace_words=True,lemmatize=True,\n",
    "    lemmatize_method='wordnet')"
   ]
  },
  {
   "cell_type": "code",
   "execution_count": 43,
   "metadata": {
    "colab": {},
    "colab_type": "code",
    "id": "e8WdSxqYlZa9"
   },
   "outputs": [],
   "source": [
    "dfs[\"reviews\"]=dfs[\"reviews\"].str.lower()\n",
    "#replace_contraction(dfs[\"reviews\"])\n",
    "#dfs[\"reviews\"]=dfs[\"reviews\"].apply(expand_contractions)\n",
    "dfs[\"reviews\"]=dfs[\"reviews\"].apply(preprocess_text)\n",
    "dfs[\"reviews\"]=dfs[\"reviews\"].apply(remove_tags)\n",
    "dfs[\"reviews\"]=dfs[\"reviews\"].apply(obj.process)\n"
   ]
  },
  {
   "cell_type": "code",
   "execution_count": 44,
   "metadata": {
    "colab": {},
    "colab_type": "code",
    "id": "9GreCkJql89E"
   },
   "outputs": [],
   "source": [
    "dfs[\"len_review\"]=dfs[\"reviews\"].apply(lambda x :len(x.split()))"
   ]
  },
  {
   "cell_type": "code",
   "execution_count": 45,
   "metadata": {
    "colab": {
     "base_uri": "https://localhost:8080/",
     "height": 34
    },
    "colab_type": "code",
    "id": "idyMoPtZmG4o",
    "outputId": "b51c4cc6-5f2e-42af-bee1-718eb65ec3a4"
   },
   "outputs": [
    {
     "name": "stdout",
     "output_type": "stream",
     "text": [
      "1727\n"
     ]
    }
   ],
   "source": [
    "c=0\n",
    "for i in dfs[\"len_review\"]:\n",
    "    if 100<i:\n",
    "      c+=1\n",
    "print(c)"
   ]
  },
  {
   "cell_type": "code",
   "execution_count": 46,
   "metadata": {
    "colab": {
     "base_uri": "https://localhost:8080/",
     "height": 202
    },
    "colab_type": "code",
    "id": "AxdWnY9Dm0WA",
    "outputId": "98556011-a55c-4f73-ec6c-169ed84fc267"
   },
   "outputs": [
    {
     "name": "stdout",
     "output_type": "stream",
     "text": [
      "<class 'pandas.core.frame.DataFrame'>\n",
      "RangeIndex: 21000 entries, 0 to 20999\n",
      "Data columns (total 4 columns):\n",
      " #   Column      Non-Null Count  Dtype  \n",
      "---  ------      --------------  -----  \n",
      " 0   reviews     21000 non-null  object \n",
      " 1   label       21000 non-null  float32\n",
      " 2   cat         21000 non-null  object \n",
      " 3   len_review  21000 non-null  int64  \n",
      "dtypes: float32(1), int64(1), object(2)\n",
      "memory usage: 574.3+ KB\n"
     ]
    }
   ],
   "source": [
    "dfs.info()"
   ]
  },
  {
   "cell_type": "code",
   "execution_count": 47,
   "metadata": {
    "colab": {},
    "colab_type": "code",
    "id": "NkwOB1GsmEQQ"
   },
   "outputs": [],
   "source": [
    "dfse=dfs[dfs[\"len_review\"]<100]"
   ]
  },
  {
   "cell_type": "code",
   "execution_count": 48,
   "metadata": {
    "colab": {},
    "colab_type": "code",
    "id": "Om49arTsm_Nj"
   },
   "outputs": [],
   "source": [
    "dfse.reset_index(drop=True,inplace=True)\n"
   ]
  },
  {
   "cell_type": "code",
   "execution_count": 49,
   "metadata": {
    "colab": {
     "base_uri": "https://localhost:8080/",
     "height": 118
    },
    "colab_type": "code",
    "id": "_uSh2UrToRew",
    "outputId": "90cf3e98-7bed-4600-ec0c-f3b9a8f9a4c4"
   },
   "outputs": [
    {
     "name": "stderr",
     "output_type": "stream",
     "text": [
      "C:\\Users\\soory\\.conda\\envs\\tf\\lib\\site-packages\\ipykernel_launcher.py:1: SettingWithCopyWarning: \n",
      "A value is trying to be set on a copy of a slice from a DataFrame.\n",
      "Try using .loc[row_indexer,col_indexer] = value instead\n",
      "\n",
      "See the caveats in the documentation: https://pandas.pydata.org/pandas-docs/stable/user_guide/indexing.html#returning-a-view-versus-a-copy\n",
      "  \"\"\"Entry point for launching an IPython kernel.\n"
     ]
    }
   ],
   "source": [
    "dfse[\"label\"]=dfse[\"label\"].astype(np.int64)"
   ]
  },
  {
   "cell_type": "code",
   "execution_count": 50,
   "metadata": {
    "colab": {
     "base_uri": "https://localhost:8080/",
     "height": 202
    },
    "colab_type": "code",
    "id": "eNl-epqtoURG",
    "outputId": "0b900861-dcc2-4873-ce7f-ef954f91f71b"
   },
   "outputs": [
    {
     "name": "stdout",
     "output_type": "stream",
     "text": [
      "<class 'pandas.core.frame.DataFrame'>\n",
      "RangeIndex: 19250 entries, 0 to 19249\n",
      "Data columns (total 4 columns):\n",
      " #   Column      Non-Null Count  Dtype \n",
      "---  ------      --------------  ----- \n",
      " 0   reviews     19250 non-null  object\n",
      " 1   label       19250 non-null  int64 \n",
      " 2   cat         19250 non-null  object\n",
      " 3   len_review  19250 non-null  int64 \n",
      "dtypes: int64(2), object(2)\n",
      "memory usage: 601.7+ KB\n"
     ]
    }
   ],
   "source": [
    "dfse.info()"
   ]
  },
  {
   "cell_type": "code",
   "execution_count": 51,
   "metadata": {},
   "outputs": [],
   "source": [
    "from sklearn import model_selection"
   ]
  },
  {
   "cell_type": "code",
   "execution_count": 52,
   "metadata": {
    "colab": {},
    "colab_type": "code",
    "id": "Cqo3SjKuzXD4"
   },
   "outputs": [],
   "source": [
    "Train_X, Test_X, Train_Y, Test_Y = model_selection.train_test_split(dfse[\"reviews\"],dfse[\"label\"],test_size=0.2)"
   ]
  },
  {
   "cell_type": "code",
   "execution_count": 53,
   "metadata": {},
   "outputs": [],
   "source": [
    "from sklearn.feature_extraction.text import TfidfVectorizer "
   ]
  },
  {
   "cell_type": "code",
   "execution_count": 67,
   "metadata": {},
   "outputs": [],
   "source": [
    "Tfidf_vect = TfidfVectorizer(max_features=5000)\n",
    "Tfidf_vect.fit(dfse[\"reviews\"])\n",
    "Train_X_Tfidf = Tfidf_vect.transform(Train_X)\n",
    "Test_X_Tfidf = Tfidf_vect.transform(Test_X)"
   ]
  },
  {
   "cell_type": "code",
   "execution_count": 68,
   "metadata": {},
   "outputs": [
    {
     "name": "stdout",
     "output_type": "stream",
     "text": [
      "{'when': 4867, 'least': 2442, 'you': 4982, 'think': 4448, 'product': 3322, 'will': 4888, 'save': 3713, 'day': 1107, 'just': 2329, 'keep': 2334, 'around': 216, 'in': 2178, 'case': 651, 'need': 2838, 'something': 4034, 'battery': 341, 'are': 207, 'new': 2855, 'introduced': 2263, 'market': 2626, 'there': 4434, 'average': 278, 'cost': 982, 'relatively': 3517, 'high': 2056, 'but': 579, 'doesn': 1266, 'quality': 3389, 'and': 153, 'provides': 3357, 'with': 4909, 'best': 398, 'low': 2560, 'many': 2616, 'built': 557, 'technical': 4379, 'act': 35, 'like': 2481, 'sensor': 3803, 'their': 4425, 'particular': 3064, 'my': 2814, 'phone': 3133, 'charged': 697, 'up': 4685, 'work': 4927, 'every': 1473, 'voltage': 4778, 'never': 2853, 'purchased': 3375, 'swing': 4327, 'baby': 288, 'month': 2768, 'now': 2902, 'pretty': 3290, 'much': 2798, 'out': 2992, 'grown': 1934, 'very': 4745, 'loud': 2552, 'well': 4855, 'beautiful': 357, 'though': 4455, 'love': 2555, 'color': 834, 'lot': 2550, 'setting': 3821, 'don': 1271, 'worth': 4941, 'money': 2764, 'looking': 2540, 'inexpensive': 2201, 'desk': 1179, 'everything': 1477, 'only': 2953, 'issue': 2283, 'tilt': 4484, 'slightly': 3964, 'one': 2950, 'side': 3904, 'hit': 2073, 'key': 2341, 'rock': 3635, 'little': 2511, 'bit': 424, 'not': 2890, 'big': 410, 'deal': 1112, 'use': 4705, 'twice': 4630, 'week': 4844, 'result': 3589, 'great': 1908, 'used': 4706, 'teeth': 4387, 'solution': 4028, 'most': 2776, 'them': 4427, 'would': 4945, 'three': 4460, 'time': 4486, 'using': 4710, 'because': 361, 'also': 130, 'technique': 4381, 'tray': 4578, 'mouth': 2787, 'sure': 4299, 'what': 4861, 'supposed': 4298, 'recommend': 3475, 'more': 2773, 'research': 3571, 'into': 2261, 'culture': 1055, 'pipe': 3160, 'plan': 3171, 'giving': 1849, 'gift': 1842, 'yourself': 4987, 'pleased': 3192, 'table': 4339, 'year': 4972, 'old': 2943, 'having': 1999, 'blast': 434, 'plus': 3201, 'family': 1567, 'entertainment': 1440, 'too': 4521, 'better': 400, 'than': 4415, 'kid': 2347, 'sitting': 3932, 'video': 4753, 'game': 1803, 'friend': 1763, 'put': 3384, 'together': 4507, 'believe': 384, 'challenge': 685, 'nothing': 2895, 'they': 4439, 'could': 987, 'handle': 1967, 'vitamin': 4773, 'serum': 3814, 'really': 3452, 'oil': 2939, 'feeling': 1600, 'sticky': 4165, 'last': 2404, 'recent': 3464, 'bug': 554, 'bite': 425, 'help': 2038, 'heal': 2013, 'skin': 3944, 'faster': 1580, 'normal': 2885, 've': 4730, 'pod': 3205, 'laundry': 2417, 'it': 2284, 'such': 4258, 'nice': 2862, 'scent': 3734, 'cloth': 799, 'smelling': 3982, 'fresh': 1758, 'everybody': 1474, 'want': 4798, 'fall': 1562, 'promise': 3332, 'brand': 502, 'even': 1467, 'say': 3718, 'non': 2880, 'company': 864, 'look': 2538, 'how': 2118, 'amateur': 136, 'label': 2379, 'ask': 234, 'trust': 4604, 'kind': 2353, 'stuff': 4233, 'no': 2876, 'way': 4830, 'waste': 4819, 'your': 4986, 'unfortunately': 4663, 'didn': 1202, 'made': 2578, 'sick': 3903, 'throw': 4467, 'once': 2949, 'two': 4634, 'tried': 4591, 'daughter': 1105, 'said': 3690, 'easy': 1363, 'design': 1174, 'neat': 2831, 'tumbler': 4615, 'drink': 1308, 'warm': 4804, 'cold': 823, 'good': 1873, 'period': 3120, 'sturdy': 4241, 'get': 1837, 'complement': 882, 'sleek': 3952, 'especially': 1458, 'leave': 2445, 'fingerprint': 1635, 'highly': 2060, 'suggestion': 4272, 'washing': 4816, 'lid': 2467, 'shake': 3836, 'dry': 1324, 'prevent': 3291, 'star': 4133, 'cheap': 703, 'mild': 2714, 'effect': 1379, 'useless': 4708, 'stress': 4207, 'anxiety': 171, 'panic': 3053, 'attack': 258, 'ad': 46, 'night': 2868, 'difference': 1207, 'asin': 233, 'dietary': 1206, 'supplement': 4289, 'reduces': 3490, 'symptom': 4333, 'depression': 1166, 'boost': 471, 'mood': 2770, 'increase': 2186, 'relaxation': 3519, 'beat': 355, 'kava': 2332, 'back': 289, 'guarantee': 1936, 'bought': 487, 'these': 4438, 'brown': 539, 'mechanism': 2668, 'might': 2712, 'fail': 1552, 'over': 3006, 'otherwise': 2986, 'accurate': 26, 'description': 1172, 'padding': 3034, 'definitely': 1141, 'chair': 682, 'lounge': 2554, 'bar': 315, 'counter': 990, 'kitchen': 2360, 'wonderful': 4918, 'headphone': 2011, 'had': 1953, 'price': 3296, 'sound': 4054, 'clear': 775, 'soft': 4013, 'ear': 1348, 'mention': 2684, 'sony': 4042, 'superb': 4286, 'fit': 1648, 'fine': 1632, 'real': 3447, 'mirror': 2731, 'gripe': 1923, 'wish': 4907, 'camera': 607, 'by': 587, 'due': 1331, 'where': 4869, 'left': 2449, 'place': 3167, 'wasted': 4820, 'recording': 3484, 'room': 3647, 'start': 4135, 'turn': 4622, 'towards': 4544, 'driver': 1313, 'happy': 1982, 'far': 1573, 'sling': 3966, 'shot': 3885, 'go': 1863, 'enough': 1435, 'purpose': 3379, 'preferred': 3269, 'grip': 1922, 'fair': 1557, 'slicer': 3958, 'idea': 2148, 'trick': 4589, 'mean': 2658, 'manual': 2610, 'been': 370, 'helpful': 2040, 'saying': 3719, 'negative': 2842, 'about': 5, 'however': 2119, 'took': 4522, 'almost': 124, 'trying': 4608, 'learn': 2438, 'cutting': 1078, 'different': 1208, 'vegetable': 4731, 'may': 2654, 'box': 491, 'showing': 3893, 'properly': 3341, 'tablet': 4340, 'secure': 3774, 'dental': 1158, 'adhesive': 61, 'father': 1582, 'satisfied': 3709, 'decent': 1123, 'shown': 3894, 'photo': 3134, 'thank': 4416, 'amazon': 140, 'saved': 3714, 'paint': 3041, 'type': 4635, 'costly': 983, 'print': 3305, 'find': 1629, 'older': 2944, 'harder': 1984, 'lose': 2545, 'weight': 4849, 'gotten': 1881, 'taking': 4347, 'garcinia': 1811, 'take': 4345, 'before': 373, 'breakfast': 508, 'lunch': 2569, 'after': 88, 'tend': 4396, 'eat': 1364, 'late': 2409, 'evening': 1468, 'cut': 1073, 'appetite': 190, 'lost': 2549, 'lb': 2426, 'which': 4872, 'long': 2535, 'picture': 3148, 'recommended': 3478, 'buy': 584, 'suggested': 4271, 'felt': 1603, 'extra': 1534, 'energy': 1420, 'loss': 2548, 'pound': 3252, 'actual': 44, 'power': 3256, 'supply': 4292, 'cable': 590, 'harness': 1990, 'completely': 885, 'taken': 4346, 'apart': 180, 're': 3438, 'avoid': 280, 'bird': 420, 'backwards': 296, 'wiring': 4905, 'tower': 4546, 'test': 4406, 'see': 3779, 'fact': 1547, 'can': 612, 'easily': 1360, 'read': 3443, 'measurement': 2663, 'those': 4454, 'eye': 1538, 'aren': 209, 'lol': 2534, 'tired': 4498, 'number': 2905, 'others': 2985, 'cup': 1057, 'several': 3826, 'from': 1765, 'seller': 3794, 'green': 1912, 'coffee': 820, 'exactly': 1483, 'am': 135, 'purchase': 3374, 'another': 164, 'finished': 1637, 'bottle': 484, 'extremely': 1537, 'electric': 1392, 'blanket': 433, 'we': 4831, 'cannot': 619, 'feel': 1599, 'wire': 4902, 'material': 2646, 'luxurious': 2570, 'quite': 3402, 'pricey': 3298, 'being': 382, 'indicates': 2193, 'lover': 2558, 'rich': 3609, 'flavor': 1669, 'clean': 769, 'figured': 1618, 'able': 4, 'water': 4825, 'set': 3820, 'aesthetic': 82, 'allow': 119, 'beauty': 359, 'white': 4874, 'already': 128, 'owned': 3017, 'plain': 3170, 'rim': 3619, 'nicer': 2864, 'match': 2641, 'tan': 4355, 'became': 360, 'part': 3061, 'unpleasant': 4677, 'since': 3922, 'pain': 3039, 'facial': 1544, 'hair': 1956, 'remover': 3545, 'hurt': 2139, 'off': 2930, 'face': 1542, 'hate': 1996, 'fuzz': 1795, 'wearing': 4836, 'foundation': 1737, 'tweezer': 4628, 'okay': 2942, 'loved': 2556, 'hard': 1983, 'package': 3026, 'bubble': 546, 'wrapped': 4951, 'cute': 1074, 'got': 1879, 'process': 3316, 'shipping': 3873, 'customer': 1071, 'service': 3817, 'bag': 300, 'smaller': 3976, 'version': 4741, 'show': 3890, 'describes': 1171, 'hold': 2077, 'found': 1736, 'accommodate': 20, 'lens': 2456, 'along': 126, 'charger': 698, 'gel': 1824, 'longer': 2536, 'liked': 2482, 'apply': 196, 'mask': 2635, 'keeping': 2336, 'light': 2475, 'turning': 4624, 'getting': 1838, 'ive': 2291, 'sleeping': 3954, 'through': 4465, 'mini': 2723, 'bra': 494, 'traditional': 4555, 'flat': 1667, 'sleep': 3953, 'lay': 2421, 'touch': 4539, 'itchy': 2289, 'reason': 3455, 'give': 1847, 'whenever': 4868, 'turned': 4623, 'kinda': 2354, 'uncomfortable': 4651, 'make': 2597, 'stay': 4146, 'cool': 966, 'vintage': 4759, 'awesome': 283, 'review': 3600, 'fake': 1561, 'buyer': 585, 'ware': 4802, 'blood': 446, 'stool': 4179, 'stopped': 4181, 'right': 3617, 'away': 282, 'positive': 3239, 'thing': 4447, 'reviewer': 3602, 'anyone': 174, 'write': 4957, 'burning': 574, 'fat': 1581, 'losing': 2547, 'care': 636, 'contains': 941, 'going': 1867, 'worked': 4928, 'expected': 1508, 'lightweight': 2480, 'durable': 1336, 'length': 2455, 'perfect': 3111, 'wife': 4882, 'although': 132, 'still': 4167, 'spare': 4066, 'stylus': 4245, 'pen': 3102, 'know': 2371, 'true': 4601, 'recommendable': 3476, 'pill': 3153, 'daily': 1085, 'tall': 4353, 'glass': 1853, 'within': 4910, 'softer': 4014, 'glow': 1858, 'shower': 3892, 'curtain': 1065, 'thinner': 4450, 'liner': 2491, 'behind': 380, 'darker': 1098, 'dark': 1097, 'added': 50, 'towel': 4545, 'rug': 3668, 'shade': 3834, 'bring': 527, 'speaker': 4071, 'dorm': 1276, 'budget': 552, 'surprisingly': 4307, 'max': 2652, 'volume': 4779, 'bass': 333, 'roommate': 3648, 'party': 3068, 'rather': 3429, 'stylish': 4244, 'either': 1388, 'appearance': 187, 'needed': 2839, 'searched': 3763, 'large': 2399, 'oven': 3005, 'meat': 2665, 'grease': 1906, 'stove': 4191, 'ability': 3, 'transfer': 4563, 'soup': 4058, 'cleanup': 774, 'hope': 2099, 'shampoo': 3839, 'instead': 2240, 'le': 2428, 'then': 4431, 'further': 1790, 'continue': 945, 'return': 3595, 'refund': 3500, 'begun': 378, 'book': 466, 'huge': 2126, 'doing': 1268, 'meditation': 2674, 'slowly': 3974, 'working': 4930, 'replacing': 3559, 'life': 2469, 'improved': 2174, 'should': 3886, 'try': 4607, 'conjunction': 911, 'art': 224, 'paper': 3055, 'present': 3281, 'younger': 4984, 'brother': 536, 'draw': 1295, 'anything': 175, 'air': 103, 'tight': 4475, 'sugar': 4269, 'chip': 730, 'cracker': 1006, 'stale': 4127, 'taste': 4364, 'container': 940, 'seem': 3782, 'pasta': 3077, 'rice': 3608, 'cereal': 676, 'eaten': 1365, 'quickly': 3397, 'question': 3394, 'goodness': 1874, 'except': 1488, 'warranty': 4811, 'factory': 1549, 'rest': 3587, 'faith': 1560, 'slide': 3960, 'pocket': 3204, 'perfectly': 3112, 'protected': 3344, 'ago': 98, 'recently': 3465, 'during': 1337, 'thick': 4441, 'seems': 3784, 'looked': 2539, 'step': 4156, 'possibly': 3242, 'grow': 1932, 'rapidly': 3421, 'gone': 1871, 'cry': 1049, 'excited': 1495, 'prefer': 3267, 'small': 3975, 'mm': 2744, 'tip': 4495, 'screen': 3750, 'comfortable': 848, 'silicone': 3913, 'check': 707, 'vision': 4766, 'poor': 3222, 'total': 4536, 'darkness': 1099, 'booster': 472, 'led': 2447, 'car': 631, 'protect': 3343, 'heat': 2022, 'sun': 4279, 'travel': 4573, 'attach': 254, 'window': 4892, 'stuck': 4227, 'christmas': 744, 'kept': 2337, 'fabric': 1540, 'luck': 2563, 'produce': 3319, 'steam': 4152, 'drive': 1312, 'problem': 3314, 'yet': 4977, 'delivery': 1155, 'fast': 1579, 'actually': 45, 'helped': 2039, 'area': 208, 'particularly': 3065, 'workout': 4932, 'performance': 3114, 'concerned': 898, 'expecting': 1509, 'burn': 571, 'maybe': 2655, 'wrong': 4962, 'smoking': 3986, 'hot': 2112, 'second': 3771, 'unit': 4668, 'first': 1644, 'plug': 3198, 'watch': 4822, 'somewhere': 4038, 'charge': 696, 'cycle': 1080, 'pop': 3224, 'smoke': 3984, 'charging': 699, 'reading': 3445, 'pay': 3088, 'risk': 3625, 'house': 2115, 'junk': 2328, 'genuine': 1834, 'apple': 191, 'yes': 4975, 'suck': 4259, 'http': 2123, 'www': 4964, 'vote': 4780, 'gp': 1882, 'half': 1957, 'wanted': 4799, 'wrote': 4963, 'totally': 4537, 'young': 4983, 'lady': 2386, 'trip': 4596, 'wanting': 4800, 'sit': 3929, 'outside': 3002, 'damaging': 1089, 'thought': 4456, 'following': 1710, 'direction': 1225, 'stated': 4141, 'hint': 2068, 'fun': 1779, 'gadget': 1798, 'camper': 610, 'described': 1170, 'short': 3883, 'easier': 1358, 'understand': 4654, 'instruction': 2241, 'accompanied': 21, 'operate': 2960, 'tool': 4523, 'included': 2182, 'few': 1608, 'recipe': 3470, 'expensive': 1511, 'mind': 2721, 'pleasantly': 3190, 'shocked': 3876, 'grade': 1885, 'metal': 2695, 'construction': 931, 'piece': 3151, 'doubt': 1280, 'lifetime': 2472, 'stinky': 4169, 'whatsoever': 4864, 'awhile': 285, 'wasn': 4817, 'hospital': 2111, 'realized': 3451, 'blew': 440, 'buck': 547, 'doc': 1261, 'asked': 235, 'told': 4510, 'him': 2065, 'thinking': 4449, 'cause': 663, 'fear': 1590, 'promptly': 3336, 'cheesy': 712, 'smile': 3983, 'oh': 2938, 'shame': 3838, 'matched': 2643, 'exact': 1482, 'tough': 4542, 'beginning': 377, 'digital': 1215, 'photographer': 3136, 'familiar': 1566, 'feature': 1592, 'taught': 4368, 'absolutely': 7, 'disappointed': 1232, 'honestly': 2091, 'skip': 3946, 'hand': 1963, 'pump': 3366, 'tremendous': 4586, 'value': 4721, 'always': 134, 'struggling': 4226, 'college': 832, 'battle': 342, 'mostly': 2777, 'food': 1714, 'beer': 372, 'decided': 1125, 'track': 4551, 'started': 4136, 'run': 3673, 'hitting': 2075, 'speed': 4080, 'cambogia': 604, 'dropped': 1318, 'sold': 4020, 'texture': 4412, 'content': 943, 'lazy': 2425, 'served': 3816, 'involved': 2270, 'throwing': 4468, 'picky': 3146, 'drinker': 1309, 'considered': 922, 'machine': 2575, 'heck': 2030, 'plastic': 3180, 'smell': 3980, 'mentioned': 2685, 'display': 1250, 'lit': 2506, 'dim': 1216, 'sight': 3906, 'position': 3237, 'live': 2512, 'necklace': 2837, 'order': 2972, 'accessory': 17, 'item': 2290, 'guess': 1939, 'complain': 877, 'appears': 189, 'strength': 4206, 'job': 2312, 'toast': 4503, 'bread': 505, 'haven': 1998, 'uneven': 4660, 'heavy': 2029, 'seat': 3767, 'driving': 1315, 'distance': 1254, 'ordered': 2973, 'support': 4293, 'computer': 893, 'cover': 996, 'relaxed': 3520, 'pull': 3362, 'forward': 1733, 'decision': 1126, 'buying': 586, 'cushion': 1068, 'worried': 4936, 'durability': 1335, 'sag': 3689, 'couple': 992, 'probably': 3313, 'coming': 853, 'whole': 4876, 'absorbs': 10, 'leaf': 2432, 'smooth': 3987, 'cucumber': 1052, 'greasy': 1907, 'rain': 3411, 'head': 2005, 'seen': 3785, 'surprise': 4304, 'arrived': 221, 'tiny': 4494, 'standard': 4130, 'bigger': 411, 'returned': 3596, 'earring': 1355, 'style': 4242, 'downside': 1286, 'curved': 1067, 'won': 4916, 'come': 845, 'natural': 2822, 'girl': 1845, 'pleasant': 3189, 'quick': 3395, 'method': 2698, 'dropper': 1319, 'holiday': 2081, 'maintain': 2593, 'eating': 1367, 'crazy': 1022, 'sign': 3907, 'notice': 2896, 'wont': 4921, 'odd': 2926, 'slipper': 3968, 'shrunk': 3899, 'stretched': 4210, 'sized': 3936, 'foot': 1716, 'wide': 4879, 'loose': 2542, 'walking': 4793, 'man': 2603, 'else': 1402, 'organizer': 2980, 'today': 4504, 'soon': 4044, 'opened': 2957, 'rated': 3428, 'acrylic': 34, 'ever': 1472, 'sad': 3682, 'returning': 3597, 'tomorrow': 4514, 'belly': 387, 'magic': 2581, 'must': 2810, 'nose': 2888, 'bleed': 437, 'waking': 4788, 'chose': 740, 'moisture': 2756, 'tell': 4391, 'her': 2044, 'control': 951, 'regimen': 3508, 'mg': 2700, 'swallow': 4314, 'size': 3935, 'bad': 298, 'usual': 4711, 'mechanical': 2667, 'sort': 4052, 'feedback': 1596, 'without': 4911, 'noise': 2878, 'spring': 4110, 'cherry': 715, 'girlfriend': 1846, 'mess': 2688, 'again': 93, 'stick': 4162, 'proof': 3338, 'floor': 1686, 'broke': 533, 'replace': 3556, 'enjoy': 1429, 'nap': 2819, 'home': 2086, 'ruin': 3670, 'makeup': 2599, 'shape': 3840, 'survive': 4310, 'poorly': 3223, 'damaged': 1088, 'delivered': 1152, 'son': 4039, 'camp': 608, 'roll': 3641, 'thin': 4446, 'rivet': 3627, 'missing': 2735, 'dent': 1157, 'simplicity': 3920, 'ingredient': 2214, 'list': 2500, 'capsule': 628, 'veggie': 4732, 'confusing': 910, 'blend': 438, 'root': 3650, 'extract': 1535, 'noticed': 2898, 'brain': 499, 'become': 362, 'remember': 3536, 'normally': 2886, 'forget': 1722, 'heaven': 2026, 'morning': 2774, 'stop': 4180, 'online': 2952, 'function': 1780, 'clay': 768, 'changed': 690, 'formula': 1730, 'lab': 2378, 'hasn': 1993, 'scalp': 3722, 'flake': 1659, 'reasonable': 3456, 'compared': 867, 'wished': 4908, 'update': 4687, 'upgrade': 4689, 'receiver': 3462, 'option': 2970, 'com': 839, 'ref': 3494, 'li': 2464, 'tl': 4502, 'ie': 2153, 'utf': 4714, 'creative': 1031, 'creativeasin': 1032, 'linkcode': 2494, 'tag': 4343, 'running': 3675, 'cooler': 967, 'usually': 4712, 'laptop': 2398, 'larger': 2400, 'printer': 3307, 'correctly': 980, 'speedy': 4081, 'ink': 2218, 'free': 1750, 'pack': 3025, 'given': 1848, 'couldn': 988, 'packaging': 3028, 'amazing': 138, 'station': 4144, 'ac': 12, 'adapter': 47, 'dock': 1262, 'controller': 952, 'everyone': 1476, 'difficult': 1209, 'regular': 3512, 'ice': 2145, 'circle': 752, 'circular': 754, 'four': 1739, 'cube': 1051, 'isn': 2281, 'nearly': 2830, 'somewhat': 4037, 'fill': 1620, 'fitted': 1651, 'summer': 4278, 'soooo': 4047, 'yummy': 4991, 'effective': 1380, 'change': 689, 'super': 4285, 'strong': 4221, 'early': 1352, 'compatible': 873, 'mac': 2573, 'pro': 3312, 'def': 1134, 'bedroom': 367, 'excellent': 1487, 'near': 2828, 'future': 1794, 'fan': 1569, 'freaking': 1749, 'laughed': 2415, 'serious': 3812, 'beard': 352, 'connecting': 914, 'forever': 1721, 'exercising': 1501, 'enjoying': 1432, 'shea': 3855, 'scrape': 3745, 'let': 2458, 'melt': 2678, 'elbow': 1391, 'full': 1776, 'close': 792, 'niece': 2867, 'll': 2516, 'store': 4185, 'nearby': 2829, 'scale': 3721, 'fishing': 1647, 'minimal': 2724, 'overall': 3007, 'hear': 2018, 'heard': 2019, 'clearly': 777, 'headset': 2012, 'bluetooth': 454, 'clarity': 760, 'walker': 4792, 'standing': 4131, 'upright': 4694, 'adding': 53, 'healing': 2014, 'gonna': 1872, 'break': 506, 'child': 723, 'band': 312, 'bracelet': 496, 'pattern': 3085, 'dye': 1343, 'each': 1347, 'creation': 1030, 'unique': 4666, 'uniform': 4665, 'inside': 2225, 'lining': 2492, 'strange': 4196, 'ready': 3446, 'send': 3797, 'disappeared': 1230, 'middle': 2711, 'aged': 96, 'woman': 4915, 'multiple': 2804, 'success': 4255, 'yoga': 4980, 'swimming': 4325, 'training': 4562, 'session': 3819, 'diet': 1205, 'bean': 350, 'raspberry': 3425, 'ketone': 2339, 'fee': 1594, 'peel': 3098, 'our': 2990, 'fridge': 1762, 'anymore': 173, 'cracked': 1005, 'im': 2159, 'glad': 1850, 'adequate': 59, 'installed': 2234, 'screw': 3751, 'separately': 3808, 'drawer': 1297, 'front': 1766, 'mounting': 2785, 'stud': 4228, 'hole': 2080, 'center': 673, 'mouse': 2786, 'basic': 328, 'system': 4337, 'simple': 3918, 'plugging': 3200, 'waiting': 4786, 'minute': 2729, 'rope': 3651, 'sometimes': 4036, 'stiff': 4166, 'toy': 4549, 'routine': 3662, 'everyday': 1475, 'trim': 4593, 'bumper': 566, 'addition': 54, 'image': 2160, 'raised': 3415, 'dot': 1278, 'zipper': 4994, 'broken': 534, 'purchasing': 3376, 'acne': 31, 'stone': 4177, 'came': 606, 'condition': 903, 'wait': 4784, 'sweet': 4322, 'arrives': 222, 'advised': 81, 'original': 2982, 'resource': 3581, 'rip': 3622, 'opposite': 2967, 'reader': 3444, 'seriously': 3813, 'gain': 1799, 'earphone': 1354, 'purse': 3380, 'mom': 2760, 'experienced': 1513, 'foam': 1698, 'cream': 1023, 'top': 4526, 'dandruff': 1094, 'vita': 4772, 'shine': 3867, 'inch': 2180, 'previous': 3294, 'nail': 2817, 'healthier': 2016, 'growing': 1933, 'truly': 4602, 'remedy': 3535, 'cheaper': 704, 'belt': 389, 'sent': 3804, 'ship': 3870, 'ill': 2156, 'making': 2600, 'share': 3842, 'potato': 3247, 'salad': 3691, 'park': 3059, 'weekend': 4845, 'spot': 4103, 'profile': 3326, 'ended': 1416, 'steel': 4153, 'sadly': 3683, 'meet': 2676, 'expectation': 1507, 'lacking': 2384, 'personal': 3123, 'experience': 1512, 'fold': 1703, 'policy': 3215, 'ran': 3416, 'moved': 2790, 'model': 2749, 'skull': 3948, 'candy': 615, 'shorter': 3884, 'novel': 2899, 'called': 599, 'analysis': 150, 'printed': 3306, 'name': 2818, 'end': 1415, 'rating': 3430, 'gold': 1868, 'dad': 1084, 'call': 598, 'age': 95, 'dead': 1111, 'imagination': 2161, 'author': 271, 'genre': 1832, 'compliment': 889, 'title': 4500, 'slow': 3972, 'motion': 2779, 'absorb': 8, 'done': 1272, 'robert': 3632, 'designed': 1175, 'went': 4856, 'decor': 1128, 'lamp': 2391, 'assembly': 242, 'ridiculous': 3612, 'strain': 4194, 'base': 325, 'ring': 3620, 'entire': 1442, 'paying': 3089, 'bud': 550, 'wise': 4906, 'overnight': 3011, 'unable': 4647, 'accident': 18, 'balm': 308, 'miracle': 2730, 'finally': 1628, 'starting': 4138, 'evenly': 1469, 'nicely': 2863, 'acting': 36, 'term': 4401, 'special': 4074, 'topic': 4527, 'addictive': 52, 'hour': 2114, 'wing': 4896, 'wild': 4887, 'streaming': 4204, 'fuel': 1775, 'tree': 4584, 'trunk': 4603, 'forest': 1720, 'fire': 1639, 'death': 1117, 'prepare': 3277, 'soil': 4017, 'chris': 742, 'god': 1865, 'basement': 327, 'nd': 2827, 'fyi': 1797, 'conditioner': 904, 'thru': 4470, 'sell': 3793, 'staying': 4148, 'spin': 4090, 'flower': 1691, 'realistic': 3448, 'neighbor': 2843, 'skeptical': 3940, 'coat': 814, 'country': 991, 'saw': 3717, 'sister': 3928, 'handy': 1971, 'excuse': 1499, 'juice': 2323, 'furniture': 1789, 'hassle': 1994, 'line': 2489, 'drilling': 1307, 'safe': 3684, 'thanks': 4419, 'honey': 2093, 'till': 4483, 'organic': 2976, 'bee': 368, 'various': 4728, 'scrap': 3744, 'advertised': 76, 'alternative': 131, 'fluffy': 1692, 'received': 3461, 'vibrant': 4750, 'wouldn': 4946, 'died': 1204, 'dealing': 1114, 'myself': 2815, 'single': 3925, 'wear': 4835, 'pair': 3044, 'amzn': 148, 'sharing': 3844, 'regret': 3511, 'dog': 1267, 'allergy': 118, 'wasnt': 4818, 'seemed': 3783, 'itching': 2288, 'wondering': 4920, 'mary': 2632, 'wonder': 4917, 'sex': 3832, 'next': 2860, 'port': 3232, 'mother': 2778, 'europe': 1465, 'lock': 2528, 'hook': 2095, 'storyline': 4190, 'substance': 4250, 'absolute': 6, 'law': 2419, 'polish': 3216, 'finger': 1634, 'dryer': 1325, 'initial': 2215, 'reaction': 3442, 'genius': 1831, 'exercise': 1500, 'remains': 3533, 'aspect': 238, 'flap': 1661, 'pressed': 3286, 'sweat': 4317, 'surprised': 4305, 'packaged': 3027, 'mold': 2758, 'grandmother': 1894, 'fabulous': 1541, 'pan': 3048, 'record': 3481, 'overpowering': 3012, 'oily': 2940, 'slippery': 3969, 'essential': 1460, 'bottom': 486, 'moment': 2761, 'headache': 2006, 'interested': 2253, 'dollar': 1270, 'worry': 4937, 'people': 3106, 'paid': 3037, 'complete': 883, 'frustration': 1771, 'shouldn': 3888, 'funny': 1786, 'rotate': 3653, 'gave': 1821, 'gluten': 1862, 'general': 1827, 'info': 2208, 'living': 2515, 'improve': 2173, 'choice': 735, 'multi': 2802, 'laser': 2402, 'scanner': 3725, 'dual': 1328, 'sided': 3905, 'printing': 3308, 'scanning': 3726, 'parent': 3058, 'office': 2934, 'resolution': 3580, 'pic': 3141, 'output': 3000, 'specially': 4075, 'aware': 281, 'dial': 1197, 'warning': 4810, 'toner': 4518, 'youtube': 4989, 'reset': 3574, 'jar': 2301, 'leakage': 2434, 'ensure': 1436, 'tighten': 4476, 'spout': 4104, 'filling': 1623, 'brew': 517, 'serving': 3818, 'lotion': 2551, 'suite': 4276, 'variety': 4727, 'bay': 343, 'leg': 2451, 'ordering': 2974, 'weather': 4837, 'access': 15, 'app': 182, 'armband': 212, 'considering': 923, 'goggles': 1866, 'professional': 3324, 'improvement': 2175, 'switched': 4330, 'pure': 3377, 'anti': 168, 'aging': 97, 'proven': 3353, 'dr': 1290, 'oz': 3021, 'certainly': 678, 'benefit': 393, 'rid': 3610, 'wrinkle': 4954, 'improving': 2177, 'redness': 3487, 'reduced': 3489, 'slower': 3973, 'household': 2116, 'bell': 386, 'downstairs': 1287, 'tune': 4617, 'laid': 2388, 'lying': 2572, 'worse': 4939, 'scratch': 3746, 'everywhere': 1479, 'granddaughter': 1891, 'birthday': 422, 'roomy': 3649, 'grand': 1889, 'swear': 4316, 'brow': 538, 'fantastic': 1572, 'individual': 2196, 'thicker': 4442, 'stronger': 4222, 'hadn': 1954, 'suggest': 4270, 'adjustable': 63, 'lowest': 2562, 'calorie': 602, 'highest': 2058, 'fiber': 1611, 'protein': 3350, 'caring': 640, 'tasty': 4367, 'healthy': 2017, 'winter': 4899, 'sheet': 3861, 'sharp': 3846, 'straight': 4192, 'pulled': 3363, 'personally': 3125, 'synthetic': 4335, 'ok': 2941, 'his': 2070, 'muffin': 2800, 'mix': 2740, 'batter': 340, 'anyway': 177, 'mommy': 2762, 'trash': 4572, 'available': 277, 'similar': 3917, 'quantity': 3390, 'simply': 3921, 'compare': 866, 'concentration': 895, 'main': 2591, 'responsible': 3585, 'potent': 3248, 'form': 1726, 'bulk': 559, 'powder': 3255, 'testosterone': 4409, 'level': 2461, 'tightly': 4480, 'hoped': 2100, 'wiggle': 4885, 'range': 3419, 'talking': 4352, 'expect': 1506, 'knew': 2365, 'substantial': 4251, 'spacious': 4064, 'space': 4063, 'door': 1274, 'neatly': 2832, 'note': 2892, 'manufacturer': 2614, 'please': 3191, 'finishing': 1638, 'corner': 978, 'america': 141, 'failure': 1555, 'certain': 677, 'awful': 284, 'shed': 3858, 'advise': 80, 'macbook': 2574, 'replacement': 3558, 'oem': 2929, 'honest': 2090, 'st': 4117, 'soothing': 4048, 'hey': 2052, 'ton': 4515, 'backing': 292, 'galaxy': 1801, 'dropping': 1320, 'held': 2033, 'terrific': 4405, 'needle': 2841, 'click': 779, 'compact': 862, 'carry': 646, 'black': 428, 'matte': 2649, 'finish': 1636, 'gorgeous': 1877, 'typical': 4636, 'chrome': 745, 'handling': 1969, 'con': 894, 'lighter': 2476, 'usage': 4703, 'empty': 1410, 'flame': 1660, 'vary': 4729, 'height': 2032, 'intensity': 2250, 'fluid': 1693, 'frequently': 1757, 'often': 2937, 'becomes': 363, 'necessary': 2834, 'pc': 3091, 'card': 634, 'format': 1728, 'extreme': 1536, 'data': 1102, 'defective': 1137, 'leaking': 2436, 'hose': 2110, 'flow': 1690, 'soap': 4004, 'unless': 4673, 'spending': 4083, 'stand': 4129, 'impressive': 2172, 'men': 2682, 'fragrance': 1744, 'site': 3930, 'seattle': 3769, 'community': 861, 'date': 1103, 'provided': 3355, 'allen': 116, 'wrench': 4953, 'tedious': 4383, 'breaking': 509, 'useful': 4707, 'soda': 4010, 'degree': 1144, 'tolerate': 4511, 'besides': 397, 'snow': 4000, 'cone': 905, 'tea': 4371, 'body': 460, 'meaning': 2659, 'energetic': 1419, 'course': 994, 'under': 4652, 'purple': 3378, 'constantly': 929, 'discontinued': 1240, 'faded': 1551, 'toned': 4517, 'allergic': 117, 'salon': 3693, 'shiny': 3869, 'switching': 4331, 'settle': 3822, 'picked': 3143, 'holding': 2079, 'unlike': 4674, 'bothered': 483, 'seeing': 3781, 'bare': 318, 'applying': 197, 'eyelash': 1539, 'extension': 1530, 'attempt': 259, 'holder': 2078, 'strap': 4198, 'easiest': 1359, 'snack': 3994, 'protects': 3349, 'someone': 4033, 'newly': 2858, 'vinyl': 4760, 'marking': 2628, 'install': 2232, 'sliding': 3961, 'across': 33, 'mark': 2623, 'surface': 4301, 'rapid': 3420, 'add': 49, 'moderate': 2751, 'iphone': 2273, 'pressing': 3287, 'metallic': 2696, 'button': 583, 'bank': 314, 'wasting': 4821, 'discolored': 1237, 'interesting': 2254, 'sale': 3692, 'pillow': 3154, 'currently': 1064, 'intended': 2248, 'point': 3206, 'wedge': 4842, 'recognize': 3472, 'receive': 3460, 'text': 4411, 'message': 2689, 'including': 2184, 'micro': 2704, 'channel': 692, 'etc': 1463, 'pushed': 3382, 'android': 154, 'beyond': 403, 'mobile': 2746, 'connected': 913, 'via': 4749, 'internet': 2259, 'pick': 3142, 'push': 3381, 'missed': 2734, 'news': 2859, 'activated': 39, 'enter': 1437, 'sooo': 4046, 'sensitive': 3801, 'immediately': 2164, 'required': 3567, 'wood': 4922, 'stable': 4120, 'drawback': 1296, 'basically': 329, 'noticeable': 2897, 'wooden': 4923, 'frame': 1745, 'underneath': 4653, 'spray': 4105, 'spa': 4062, 'homework': 2088, 'guy': 1949, 'setup': 3824, 'mineral': 2722, 'sea': 3758, 'shipped': 3872, 'prime': 3303, 'cleanser': 773, 'download': 1284, 'que': 3392, 'en': 1411, 'el': 1389, 'de': 1110, 'ya': 4969, 'attention': 262, 'horrible': 2107, 'began': 374, 'blue': 453, 'wall': 4794, 'painted': 3042, 'utility': 4715, 'blade': 430, 'knife': 2366, 'iron': 2277, 'lucky': 2565, 'board': 457, 'playing': 3187, 'refill': 3496, 'offer': 2931, 'mud': 2799, 'pore': 3230, 'grandkids': 1892, 'hilarious': 2063, 'word': 4925, 'mixed': 2741, 'fight': 1615, 'bright': 522, 'program': 3327, 'trainer': 4561, 'disappear': 1229, 'clock': 789, 'thus': 4472, 'pooch': 3219, 'bark': 321, 'throughout': 4466, 'spent': 4084, 'barking': 322, 'carrot': 645, 'minor': 2726, 'recommending': 3479, 'delicious': 1147, 'appealing': 185, 'exquisite': 1525, 'craft': 1008, 'realize': 3450, 'build': 555, 'graphic': 1899, 'editing': 1375, 'alone': 125, 'locked': 2529, 'annoying': 163, 'movie': 2792, 'pressure': 3288, 'chicken': 721, 'moist': 2755, 'rod': 3638, 'core': 974, 'fell': 1601, 'cook': 959, 'major': 2595, 'placed': 3168, 'object': 2916, 'tennis': 4398, 'cord': 973, 'complaint': 881, 'indoor': 2197, 'plated': 3182, 'manufacture': 2612, 'matching': 2644, 'spoon': 4100, 'feather': 1591, 'mat': 2640, 'chain': 681, 'touched': 4540, 'opening': 2959, 'glitch': 1854, 'release': 3522, 'five': 1653, 'weak': 4832, 'kick': 2344, 'security': 3778, 'engine': 1424, 'external': 1533, 'music': 2807, 'separate': 3806, 'transport': 4569, 'happen': 1975, 'helping': 2041, 'slip': 3967, 'creating': 1029, 'gap': 1808, 'lip': 2497, 'drop': 1317, 'brighter': 523, 'pink': 3159, 'hoping': 2103, 'increased': 2187, 'focus': 1699, 'rate': 3427, 'reorder': 3549, 'sorry': 4051, 'afford': 85, 'medical': 2671, 'silly': 3915, 'count': 989, 'priced': 3297, 'outdoors': 2995, 'mosquito': 2775, 'disgusting': 1244, 'cleaning': 772, 'lack': 2382, 'physical': 3138, 'activity': 41, 'caused': 664, 'cellulite': 671, 'thigh': 4445, 'none': 2881, 'caffeine': 592, 'basis': 330, 'significant': 3909, 'ate': 252, 'sushi': 4312, 'effort': 1384, 'meal': 2657, 'boom': 470, 'thats': 4421, 'happier': 1979, 'happening': 1977, 'twin': 4631, 'boy': 492, 'play': 3184, 'hardly': 1985, 'amount': 144, 'wrist': 4956, 'bone': 464, 'matter': 2650, 'cuff': 1053, 'opinion': 2964, 'western': 4859, 'actor': 42, 'watched': 4823, 'haha': 1955, 'stuffed': 4234, 'animal': 158, 'wash': 4812, 'tends': 4397, 'appliance': 192, 'pleasure': 3194, 'handsome': 1970, 'functional': 1781, 'wallet': 4795, 'perhaps': 3119, 'reference': 3495, 'intense': 2249, 'story': 4189, 'disappointment': 1234, 'candle': 614, 'elegant': 1398, 'timer': 4489, 'location': 2527, 'tv': 4627, 'page': 3036, 'follow': 1708, 'waterproof': 4826, 'garden': 1812, 'squirrel': 4114, 'mug': 2801, 'daylight': 1108, 'backup': 295, 'spend': 4082, 'peace': 3092, 'knowing': 2372, 'asus': 251, 'sunlight': 4282, 'classy': 766, 'adjust': 62, 'self': 3791, 'helmet': 2037, 'incredibly': 2189, 'husband': 2141, 'cycling': 1081, 'initially': 2216, 'signal': 3908, 'transmitter': 4567, 'producing': 3321, 'snugly': 4002, 'filter': 1625, 'acceptable': 14, 'packed': 3029, 'functionality': 1782, 'leaked': 2435, 'interest': 2252, 'website': 4840, 'samsung': 3698, 'mah': 2588, 'information': 2209, 'brush': 542, 'tangle': 4356, 'wet': 4860, 'mid': 2710, 'twenty': 4629, 'affect': 83, 'dslr': 1327, 'versatile': 4740, 'angle': 156, 'cap': 623, 'grass': 1900, 'business': 576, 'written': 4961, 'notebook': 2893, 'strike': 4213, 'ahead': 100, 'monitor': 2765, 'plugged': 3199, 'shut': 3900, 'cuz': 1079, 'dime': 1217, 'neck': 2836, 'drying': 1326, 'tighter': 4479, 'firm': 1641, 'hidden': 2054, 'higher': 2057, 'memory': 2681, 'alcohol': 111, 'confused': 909, 'yesterday': 4976, 'literally': 2508, 'offered': 2932, 'luggage': 2567, 'town': 4547, 'wheel': 4866, 'aside': 232, 'stock': 4173, 'combination': 841, 'grandson': 1896, 'caution': 666, 'careful': 638, 'gentle': 1833, 'exclusively': 1498, 'solid': 4025, 'per': 3109, 'burner': 573, 'advanced': 73, 'aid': 101, 'cheese': 711, 'grater': 1903, 'grate': 1901, 'homemade': 2087, 'pizza': 3166, 'bowl': 490, 'plate': 3181, 'dishwasher': 1246, 'storage': 4184, 'pouch': 3251, 'utensil': 4713, 'usb': 4704, 'glance': 1851, 'load': 2518, 'fairly': 1558, 'shave': 3852, 'charcoal': 695, 'convenience': 953, 'met': 2694, 'silky': 3914, 'hydrated': 2142, 'fancy': 1571, 'envelope': 1446, 'letter': 2459, 'deep': 1131, 'lasted': 2405, 'round': 3658, 'puppy': 3373, 'kong': 2375, 'pup': 3371, 'chew': 718, 'smelled': 3981, 'vanilla': 4724, 'describe': 1169, 'apparent': 183, 'sample': 3696, 'vibrate': 4751, 'philip': 3131, 'saving': 3716, 'walmart': 4796, 'specifically': 4077, 'flash': 1662, 'spinning': 4092, 'breeze': 516, 'enjoyed': 1431, 'softness': 4015, 'lovely': 2557, 'favorite': 1588, 'cooking': 964, 'impossible': 2168, 'temperature': 4394, 'pre': 3263, 'usable': 4702, 'omega': 2947, 'fish': 1646, 'aftertaste': 91, 'discovered': 1242, 'narrow': 2820, 'lie': 2468, 'hammock': 1962, 'possible': 3241, 'beating': 356, 'treatment': 4583, 'despite': 1181, 'barely': 319, 'fly': 1696, 'confidence': 906, 'guide': 1943, 'shaving': 3854, 'electrical': 1393, 'shock': 3875, 'shelf': 3862, 'shattered': 3851, 'million': 2719, 'sending': 3798, 'attempted': 260, 'bc': 346, 'convinced': 958, 'swap': 4315, 'clip': 785, 'placing': 3169, 'originally': 2983, 'mail': 2589, 'putting': 3385, 'stage': 4123, 'apparently': 184, 'informative': 2210, 'link': 2493, 'connect': 912, 'amplifier': 147, 'obviously': 2920, 'understanding': 4655, 'learned': 2439, 'successful': 4256, 'insert': 2224, 'weekly': 4846, 'maker': 2598, 'ease': 1357, 'keurig': 2340, 'thermometer': 4437, 'past': 3076, 'removable': 3541, 'panel': 3052, 'solar': 4019, 'accessible': 16, 'verify': 4738, 'consistently': 926, 'terminal': 4402, 'device': 1194, 'bristle': 530, 'falling': 1564, 'generic': 1830, 'indeed': 2190, 'focused': 1700, 'checking': 709, 'irritated': 2278, 'climate': 781, 'passport': 3074, 'labeled': 2380, 'project': 3330, 'perform': 3113, 'egg': 1386, 'frying': 1773, 'ours': 2991, 'guest': 1941, 'conversation': 955, 'task': 4363, 'scared': 3729, 'torn': 4531, 'syrup': 4336, 'nexus': 2861, 'ultra': 4644, 'flimsy': 1681, 'scratched': 3747, 'collar': 826, 'dirt': 1227, 'confident': 907, 'ipad': 2272, 'liquid': 2499, 'padded': 3033, 'serf': 3810, 'divider': 1257, 'appreciated': 199, 'combined': 843, 'person': 3122, 'apartment': 181, 'bed': 365, 'retrieve': 3593, 'concern': 897, 'block': 444, 'stack': 4121, 'tho': 4452, 'environment': 1447, 'wore': 4926, 'cutout': 1076, 'protector': 3348, 'bucket': 548, 'growth': 1935, 'waited': 4785, 'lasting': 2406, 'changing': 691, 'wanna': 4797, 'sponge': 4098, 'twist': 4632, 'em': 1404, 'beautifully': 358, 'exposed': 1522, 'boston': 481, 'premise': 3273, 'unusual': 4683, 'cast': 655, 'character': 694, 'laying': 2423, 'painting': 3043, 'whatever': 4862, 'taped': 4361, 'underwear': 4658, 'bear': 351, 'fix': 1654, 'stopping': 4183, 'cosmetic': 981, 'wouldnt': 4947, 'heavier': 2027, 'compass': 871, 'locking': 2530, 'tightening': 4478, 'hike': 2061, 'pool': 3220, 'important': 2166, 'hell': 2035, 'tradition': 4554, 'bible': 407, 'entirely': 1443, 'guidance': 1942, 'likely': 2483, 'kindle': 2355, 'spiritual': 4093, 'religion': 3529, 'soul': 4053, 'exciting': 1497, 'optic': 2968, 'achieve': 29, 'canon': 620, 'equivalent': 1453, 'photography': 3137, 'wrap': 4950, 'superior': 4287, 'clipper': 787, 'pictured': 3149, 'crystal': 1050, 'entrance': 1444, 'powerful': 3258, 'buddy': 551, 'united': 4669, 'interior': 2256, 'designer': 1176, 'rough': 3656, 'watching': 4824, 'ding': 1220, 'shoulder': 3887, 'lesson': 2457, 'writing': 4960, 'example': 1485, 'vacation': 4718, 'soak': 4003, 'assortment': 245, 'switch': 4329, 'later': 2411, 'traveling': 4576, 'ab': 2, 'alot': 127, 'reminds': 3539, 'spider': 4087, 'logo': 2533, 'luxury': 2571, 'figure': 1617, 'onto': 2955, 'rc': 3435, 'helicopter': 2034, 'showed': 3891, 'firstly': 1645, 'choose': 736, 'radio': 3409, 'mental': 2683, 'bracket': 497, 'choosing': 737, 'slight': 3962, 'move': 2789, 'walk': 4790, 'complimented': 890, 'warned': 4809, 'warn': 4808, 'pet': 3128, 'die': 1203, 'assemble': 239, 'study': 4231, 'universal': 4670, 'accurately': 27, 'movement': 2791, 'gaming': 1807, 'linkid': 2495, 'rotating': 3654, 'practical': 3259, 'fifth': 1614, 'vacuum': 4719, 'washed': 4814, 'cotton': 985, 'shrink': 3898, 'breathe': 514, 'kit': 2359, 'remove': 3543, 'professionally': 3325, 'jam': 2294, 'literature': 2509, 'toilet': 4508, 'sparkle': 4068, 'lint': 2496, 'cat': 657, 'capacity': 626, 'trial': 4588, 'turmeric': 4621, 'loving': 2559, 'selfie': 3792, 'fitting': 1652, 'unstable': 4679, 'connection': 915, 'crib': 1035, 'local': 2523, 'sense': 3800, 'contacted': 937, 'bb': 344, 'answer': 165, 'happened': 1976, 'protective': 3347, 'pointless': 3210, 'boring': 476, 'song': 4040, 'anywhere': 179, 'sounded': 4056, 'hence': 2043, 'waffle': 4781, 'solely': 4024, 'installing': 2235, 'fuss': 1792, 'couch': 986, 'bolt': 462, 'picking': 3144, 'skinny': 3945, 'creates': 1028, 'meant': 2660, 'promised': 3333, 'report': 3561, 'final': 1627, 'finding': 1631, 'appreciate': 198, 'suppose': 4297, 'ideal': 2149, 'depth': 1167, 'width': 4881, 'tacky': 4341, 'dressing': 1303, 'mainly': 2592, 'blender': 439, 'dvd': 1340, 'followed': 1709, 'nutrition': 2911, 'stomach': 4176, 'reviewed': 3601, 'comment': 855, 'based': 326, 'pulling': 3364, 'waist': 4782, 'pant': 3054, 'surely': 4300, 'legging': 2452, 'overpriced': 3013, 'bitter': 426, 'chewing': 719, 'random': 3417, 'charm': 700, 'habit': 1952, 'wedding': 4841, 'yeah': 4971, 'messed': 2690, 'includes': 2183, 'beginner': 376, 'serve': 3815, 'traveler': 4575, 'efficiently': 1383, 'wireless': 4904, 'hesitate': 2050, 'neither': 2845, 'forced': 1718, 'selection': 3790, 'criterion': 1039, 'allows': 122, 'accidentally': 19, 'obvious': 2919, 'engaging': 1423, 'studio': 4230, 'washer': 4815, 'fallen': 1563, 'snap': 3995, 'rattle': 3431, 'storing': 4187, 'quilt': 3400, 'clothes': 800, 'us': 4700, 'rescue': 3570, 'truck': 4600, 'detail': 1184, 'intact': 2245, 'attractive': 265, 'gathering': 1819, 'keyboard': 2342, 'bulky': 560, 'smart': 3978, 'bother': 482, 'messing': 2692, 'brought': 537, 'youngest': 4985, 'toiletry': 4509, 'installation': 2233, 'player': 3186, 'open': 2956, 'cabinet': 589, 'friendly': 1764, 'lemon': 2454, 'electronic': 1395, 'desired': 1178, 'student': 4229, 'teen': 4384, 'wake': 4787, 'videoid': 4754, 'mo': 2745, 'bezel': 404, 'closed': 793, 'rack': 3407, 'worrying': 4938, 'latte': 2413, 'milk': 2718, 'soy': 4061, 'iced': 2146, 'everytime': 1478, 'dose': 1277, 'electronics': 1396, 'fragile': 1743, 'sub': 4247, 'decorative': 1130, 'cross': 1043, 'kicking': 2345, 'stroller': 4220, 'outing': 2998, 'select': 3788, 'section': 3773, 'cell': 669, 'improves': 2176, 'hype': 2144, 'situation': 3933, 'express': 1523, 'noisy': 2879, 'cooling': 969, 'pad': 3032, 'hang': 1972, 'edge': 1374, 'lap': 2397, 'quiet': 3398, 'plenty': 3195, 'comb': 840, 'transparent': 4568, 'becoming': 364, 'ten': 4395, 'six': 3934, 'view': 4755, 'sticker': 4163, 'impact': 2165, 'comforter': 850, 'bedding': 366, 'educational': 1378, 'ball': 306, 'bath': 336, 'salt': 3694, 'bathroom': 338, 'al': 107, 'bill': 416, 'navy': 2826, 'swim': 4324, 'claim': 758, 'approved': 202, 'train': 4559, 'portable': 3234, 'coverage': 997, 'whoever': 4875, 'network': 2851, 'stretchy': 4212, 'tasting': 4366, 'drinking': 1310, 'admit': 68, 'ford': 1719, 'remote': 3540, 'ugly': 4639, 'greatest': 1910, 'anytime': 176, 'bikini': 415, 'drove': 1321, 'directed': 1224, 'diamond': 1200, 'hesitant': 2049, 'delighted': 1149, 'voice': 4776, 'glowing': 1859, 'upon': 4692, 'closer': 795, 'inspection': 2228, 'basket': 331, 'espresso': 1459, 'disappointing': 1233, 'hug': 2125, 'anniversary': 161, 'joy': 2320, 'queen': 3393, 'backpack': 293, 'airport': 106, 'parking': 3060, 'plane': 3172, 'carried': 643, 'insole': 2227, 'shoe': 3878, 'magnet': 2584, 'located': 2526, 'stainless': 4125, 'rust': 3677, 'consider': 919, 'impression': 2171, 'provide': 3354, 'lighting': 2477, 'flexible': 1677, 'arm': 211, 'twisted': 4633, 'argan': 210, 'fourth': 1740, 'visible': 4765, 'gotta': 1880, 'lead': 2429, 'treat': 4581, 'enjoys': 1434, 'road': 3628, 'faulty': 1585, 'intend': 2247, 'tangled': 4357, 'listen': 2502, 'outstanding': 3003, 'thankfully': 4418, 'dying': 1344, 'recieved': 3469, 'search': 3762, 'quote': 3403, 'protection': 3346, 'decoration': 1129, 'potential': 3249, 'marine': 2621, 'circumstance': 755, 'herb': 2045, 'spoiled': 4096, 'manufactured': 2613, 'advertisement': 77, 'false': 1565, 'spoke': 4097, 'listed': 2501, 'ottoman': 2988, 'sofa': 4012, 'stitching': 4172, 'grey': 1915, 'seating': 3768, 'adult': 72, 'wow': 4949, 'impressed': 2170, 'history': 2072, 'blank': 432, 'reliable': 3525, 'practice': 3261, 'exam': 1484, 'wipe': 4900, 'stretch': 4209, 'porch': 3229, 'drilled': 1306, 'lined': 2490, 'red': 3486, 'wine': 4895, 'win': 4890, 'related': 3514, 'determine': 1189, 'beverage': 401, 'tile': 4482, 'puzzle': 3386, 'baking': 303, 'hobby': 2076, 'scam': 3723, 'verizon': 4739, 'nope': 2883, 'alright': 129, 'caught': 662, 'secret': 3772, 'compartment': 870, 'race': 3405, 'state': 4140, 'excitement': 1496, 'attract': 264, 'headband': 2007, 'solo': 4027, 'english': 1427, 'map': 2617, 'explain': 1518, 'venue': 4737, 'anybody': 172, 'visit': 4767, 'region': 3509, 'tube': 4611, 'tooth': 4524, 'sensitivity': 3802, 'gum': 1947, 'batch': 335, 'expand': 1504, 'casual': 656, 'constructed': 930, 'rubber': 3666, 'delay': 1145, 'elsewhere': 1403, 'blackberry': 429, 'speak': 4070, 'dirty': 1228, 'proper': 3340, 'owner': 3018, 'microwave': 2708, 'suitcase': 4275, 'tsa': 4609, 'massive': 2638, 'stripped': 4217, 'spice': 4085, 'pleasing': 3193, 'grind': 1919, 'triple': 4597, 'eventually': 1471, 'crank': 1013, 'angel': 155, 'sharper': 3849, 'butt': 580, 'rounded': 3659, 'precision': 3266, 'trimming': 4595, 'zucchini': 4999, 'popped': 3226, 'regularly': 3513, 'additional': 55, 'respond': 3583, 'quicker': 3396, 'command': 854, 'himself': 2066, 'stranger': 4197, 'male': 2601, 'breed': 515, 'user': 4709, 'gb': 1822, 'boot': 473, 'common': 858, 'operation': 2963, 'contact': 936, 'monster': 2767, 'passion': 3073, 'king': 2357, 'spread': 4109, 'heart': 2021, 'touching': 4541, 'supportive': 4296, 'boyfriend': 493, 'statement': 4142, 'apron': 205, 'tie': 4474, 'breast': 511, 'researched': 3572, 'third': 4451, 'slice': 3957, 'doctor': 1263, 'tested': 4407, 'source': 4059, 'sufficient': 4268, 'damage': 1087, 'clipped': 786, 'kickstand': 2346, 'calling': 600, 'deliver': 1151, 'hoop': 2097, 'snapped': 3996, 'teacher': 4373, 'pencil': 3103, 'prize': 3311, 'withstand': 4912, 'press': 3285, 'consumption': 935, 'toothbrush': 4525, 'causing': 665, 'excessive': 1493, 'vibration': 4752, 'painful': 3040, 'ride': 3611, 'stink': 4168, 'refreshing': 3498, 'sweaty': 4320, 'toddler': 4505, 'sticking': 4164, 'vent': 4736, 'subwoofer': 4254, 'receipt': 3459, 'searching': 3764, 'leather': 2443, 'drug': 1322, 'climbing': 783, 'obstacle': 2918, 'fraction': 1742, 'omg': 2948, 'grinding': 1921, 'handled': 1968, 'threw': 4461, 'binoculars': 419, 'fuzzy': 1796, 'wind': 4891, 'scare': 3728, 'themselves': 4430, 'disconnect': 1239, 'compatibility': 872, 'antenna': 167, 'survival': 4309, 'competitor': 876, 'jug': 2322, 'tank': 4358, 'ceiling': 668, 'blow': 448, 'horizontally': 2105, 'vertically': 4744, 'finest': 1633, 'hers': 2047, 'hanging': 1974, 'shoot': 3879, 'direct': 1223, 'shooting': 3880, 'tote': 4538, 'affordable': 86, 'hood': 2094, 'cash': 652, 'assure': 249, 'potty': 3250, 'absorbent': 9, 'reviewing': 3603, 'lower': 2561, 'th': 4414, 'teenager': 4386, 'carpet': 642, 'cleaned': 770, 'attachment': 257, 'faucet': 1583, 'tracking': 4552, 'patient': 3083, 'patience': 3082, 'unhappy': 4664, 'cheaply': 706, 'magnetic': 2585, 'flying': 1697, 'nightmare': 2869, 'somehow': 4032, 'dust': 1338, 'reach': 3439, 'viewing': 4757, 'enjoyable': 1430, 'opener': 2958, 'fossil': 1735, 'scissors': 3738, 'cutter': 1077, 'glitter': 1855, 'formal': 1727, 'reduce': 3488, 'david': 1106, 'christian': 743, 'believer': 385, 'definately': 1139, 'brilliant': 525, 'slot': 3971, 'catch': 658, 'sack': 3680, 'dy': 1342, 'lag': 2387, 'mod': 2747, 'simpler': 3919, 'auto': 272, 'sewing': 3830, 'school': 3736, 'ruined': 3671, 'chocolate': 734, 'strongly': 4223, 'smoothly': 3990, 'colored': 835, 'bulb': 558, 'zero': 4992, 'hungry': 2134, 'knock': 2368, 'selling': 3795, 'hat': 1995, 'cancer': 613, 'ray': 3433, 'jogging': 2314, 'suspect': 4313, 'whether': 4871, 'ergonomic': 1455, 'worst': 4940, 'adjustment': 66, 'listening': 2504, 'hd': 2002, 'spark': 4067, 'mattress': 2651, 'pm': 3203, 'happens': 1978, 'campaign': 609, 'nevertheless': 2854, 'awkward': 286, 'nephew': 2847, 'hopefully': 2102, 'hubby': 2124, 'sandal': 3701, 'current': 1063, 'military': 2717, 'cardboard': 635, 'crafted': 1009, 'plot': 3197, 'audience': 266, 'difficulty': 1210, 'prompt': 3335, 'cant': 621, 'guitar': 1946, 'curb': 1059, 'peeler': 3099, 'silver': 3916, 'mounted': 2784, 'east': 1361, 'phillips': 3132, 'aluminum': 133, 'bargain': 320, 'aroma': 215, 'coconut': 818, 'therefore': 4435, 'feeding': 1598, 'diaper': 1201, 'epson': 1449, 'scan': 3724, 'disc': 1236, 'velcro': 4734, 'donut': 1273, 'fruit': 1768, 'presented': 3283, 'pepper': 3107, 'army': 214, 'trapped': 4571, 'distortion': 1255, 'tone': 4516, 'complexion': 887, 'classic': 764, 'crime': 1037, 'event': 1470, 'clothing': 801, 'incredible': 2188, 'safety': 3687, 'comfort': 847, 'agree': 99, 'handed': 1965, 'practically': 3260, 'stupid': 4239, 'duty': 1339, 'stunning': 4238, 'casio': 654, 'notch': 2891, 'prepared': 3278, 'splash': 4094, 'guard': 1938, 'chart': 701, 'certified': 680, 'certification': 679, 'pas': 3069, 'prep': 3275, 'chipping': 732, 'taller': 4354, 'chill': 726, 'pinch': 3158, 'sprayed': 4106, 'pancake': 3050, 'pumpkin': 3368, 'desktop': 1180, 'pointed': 3207, 'loses': 2546, 'surprising': 4306, 'resistance': 3578, 'blind': 441, 'fool': 1715, 'ebay': 1369, 'coin': 822, 'file': 1619, 'busy': 578, 'invaluable': 2265, 'allowing': 121, 'organizing': 2981, 'intrigued': 2262, 'proved': 3352, 'trouble': 4599, 'nervous': 2848, 'clasp': 762, 'mistake': 2738, 'misleading': 2732, 'error': 1456, 'preparation': 3276, 'mouthpiece': 2788, 'continuously': 949, 'willing': 4889, 'thoroughly': 4453, 'force': 1717, 'known': 2374, 'dull': 1334, 'dress': 1300, 'refurbished': 3502, 'patch': 3080, 'coating': 816, 'xbox': 4966, 'bang': 313, 'functioned': 1783, 'cooker': 962, 'oatmeal': 2915, 'suit': 4273, 'library': 2465, 'unbelievable': 4649, 'abuse': 11, 'dozen': 1288, 'unsure': 4680, 'yellow': 4974, 'cousin': 995, 'span': 4065, 'expiration': 1517, 'medicine': 2672, 'tossed': 4535, 'software': 4016, 'operating': 2962, 'television': 4390, 'speaking': 4072, 'organize': 2978, 'bunch': 567, 'crap': 1014, 'weapon': 4834, 'group': 1930, 'butter': 581, 'crack': 1004, 'fountain': 1738, 'fails': 1554, 'brings': 529, 'artwork': 228, 'reality': 3449, 'lame': 2390, 'silent': 3911, 'newborn': 2856, 'eight': 1387, 'jacket': 2293, 'discomfort': 1238, 'thumb': 4471, 'dangerous': 1096, 'folk': 1707, 'active': 40, 'sharpen': 3847, 'skill': 3942, 'performs': 3117, 'arthritis': 225, 'credit': 1033, 'license': 2466, 'allowed': 120, 'disappoint': 1231, 'webcam': 4839, 'weren': 4857, 'cam': 603, 'recorded': 3482, 'garage': 1809, 'screwdriver': 3752, 'imagine': 2162, 'athletic': 253, 'tape': 4360, 'ankle': 160, 'basketball': 332, 'nasty': 2821, 'guessing': 1940, 'halloween': 1960, 'styrofoam': 4246, 'china': 728, 'flea': 1674, 'vet': 4747, 'workmanship': 4931, 'tension': 4399, 'assembling': 241, 'tom': 4512, 'leftover': 2450, 'clearer': 776, 'trimmer': 4594, 'medium': 2675, 'land': 2393, 'consistent': 925, 'umbrella': 4645, 'concrete': 902, 'square': 4111, 'stepping': 4157, 'sauce': 3712, 'depending': 1163, 'hopeful': 2101, 'web': 4838, 'garlic': 1814, 'grocery': 1925, 'comfy': 851, 'coach': 811, 'hp': 2120, 'cartridge': 650, 'limited': 2488, 'scene': 3733, 'functioning': 1784, 'struggle': 4225, 'chemical': 714, 'defect': 1136, 'managed': 2605, 'mixer': 2742, 'elsa': 1401, 'exceeded': 1486, 'instant': 2238, 'foil': 1702, 'tasted': 4365, 'rival': 3626, 'sweetener': 4323, 'temp': 4393, 'gray': 1905, 'harsh': 1992, 'attached': 256, 'flexibility': 1676, 'identical': 2150, 'suddenly': 4264, 'sync': 4334, 'nut': 2909, 'processed': 3317, 'liking': 2484, 'suffering': 4267, 'cushioning': 1069, 'arrive': 220, 'safely': 3685, 'overwhelming': 3015, 'scarf': 3730, 'fellow': 1602, 'ash': 231, 'holy': 2085, 'war': 4801, 'building': 556, 'snug': 4001, 'requires': 3569, 'frustrating': 1770, 'fixed': 1655, 'artist': 227, 'inferior': 2203, 'pb': 3090, 'peanut': 3094, 'filled': 1621, 'bookshelf': 469, 'extends': 1529, 'ups': 4695, 'joint': 2316, 'capture': 629, 'collector': 831, 'relationship': 3515, 'comedy': 846, 'researching': 3573, 'fascinating': 1575, 'approach': 200, 'behavior': 379, 'granted': 1898, 'binder': 418, 'minus': 2728, 'tear': 4376, 'theatre': 4423, 'create': 1026, 'ladder': 2385, 'heating': 2025, 'slick': 3959, 'stevia': 4161, 'additive': 57, 'shaker': 3837, 'require': 3566, 'corn': 977, 'van': 4723, 'upgrading': 4691, 'exhaust': 1502, 'upset': 4696, 'era': 1454, 'learning': 2440, 'ceramic': 675, 'lord': 2544, 'carefully': 639, 'pin': 3157, 'impress': 2169, 'jean': 2304, 'shop': 3881, 'collection': 830, 'vivid': 4774, 'historical': 2071, 'wonderfully': 4919, 'grab': 1884, 'bringing': 528, 'sooner': 4045, 'folding': 1706, 'cake': 594, 'jump': 2325, 'sharpness': 3850, 'hall': 1959, 'colour': 838, 'worthless': 4942, 'outlet': 2999, 'connects': 918, 'motor': 2780, 'burned': 572, 'stitch': 4170, 'collecting': 829, 'hdmi': 2003, 'amp': 145, 'industry': 2200, 'relaxing': 3521, 'nowhere': 2903, 'solder': 4021, 'worn': 4935, 'starter': 4137, 'stored': 4186, 'emergency': 1408, 'cd': 667, 'wired': 4903, 'router': 3661, 'doll': 1269, 'exceptional': 1490, 'pricing': 3299, 'account': 24, 'john': 2315, 'film': 1624, 'dialogue': 1198, 'breath': 512, 'tomato': 4513, 'paste': 3078, 'recipient': 3471, 'mint': 2727, 'burnt': 575, 'grill': 1917, 'lake': 2389, 'razor': 3434, 'modem': 2750, 'organization': 2977, 'emailed': 1406, 'explained': 1519, 'replaced': 3557, 'beep': 371, 'calculator': 595, 'hunting': 2137, 'nozzle': 2904, 'greatly': 1911, 'outdoor': 2994, 'shadow': 3835, 'flag': 1658, 'yard': 4970, 'alert': 112, 'indoors': 2198, 'testing': 4408, 'complicated': 888, 'entertaining': 1439, 'world': 4934, 'concept': 896, 'sizing': 3937, 'moderately': 2752, 'church': 748, 'nursery': 2907, 'surge': 4302, 'efficient': 1382, 'heater': 2024, 'fence': 1606, 'investment': 2267, 'assistance': 244, 'rubbing': 3667, 'scratching': 3748, 'accent': 13, 'casing': 653, 'thrilled': 4462, 'aunt': 269, 'princess': 3304, 'sterling': 4159, 'nick': 2866, 'plier': 3196, 'strand': 4195, 'dimmer': 1219, 'performed': 3115, 'rear': 3454, 'audio': 267, 'upper': 4693, 'email': 1405, 'freeze': 1752, 'min': 2720, 'suffered': 4266, 'tutorial': 4626, 'spectacular': 4079, 'pearl': 3095, 'mile': 2716, 'horizontal': 2104, 'rotation': 3655, 'robe': 3631, 'feeder': 1597, 'pole': 3214, 'shirt': 3874, 'cracking': 1007, 'irritating': 2279, 'string': 4214, 'grandma': 1893, 'ridiculously': 3613, 'kill': 2349, 'instantly': 2239, 'torch': 4529, 'rechargeable': 3468, 'horror': 2108, 'appear': 186, 'armor': 213, 'transit': 4566, 'duffel': 1332, 'hundred': 2132, 'baggage': 301, 'shell': 3863, 'vehicle': 4733, 'anyways': 178, 'cologne': 833, 'fade': 1550, 'heated': 2023, 'popping': 3227, 'spill': 4088, 'noodle': 2882, 'terrible': 4403, 'exchange': 1494, 'talk': 4350, 'cigar': 749, 'hinge': 2067, 'flex': 1675, 'regardless': 3507, 'chinese': 729, 'insight': 2226, 'element': 1399, 'england': 1426, 'preserve': 3284, 'terribly': 4404, 'teaching': 4374, 'opportunity': 2965, 'thankful': 4417, 'gradually': 1886, 'mp': 2795, 'extended': 1527, 'begin': 375, 'mall': 2602, 'google': 1875, 'hardware': 1986, 'folded': 1704, 'crease': 1025, 'stamp': 4128, 'flashing': 1664, 'backdrop': 290, 'thrilling': 4464, 'texas': 4410, 'hawaii': 2000, 'bathing': 337, 'randomly': 3418, 'meeting': 2677, 'checked': 708, 'fork': 1725, 'ssd': 4116, 'seal': 3759, 'leak': 2433, 'steal': 4151, 'master': 2639, 'squeeze': 4112, 'settled': 3823, 'delivers': 1154, 'bundle': 568, 'vanity': 4725, 'capability': 624, 'specification': 4078, 'trusted': 4605, 'balance': 304, 'encountered': 1413, 'planning': 3176, 'briefcase': 521, 'harmful': 1989, 'contain': 938, 'posted': 3244, 'hearing': 2020, 'afterwards': 92, 'dried': 1304, 'gamer': 1805, 'unfortunate': 4662, 'slim': 3965, 'repeatedly': 3554, 'satisfying': 3710, 'mount': 2782, 'suction': 4262, 'textured': 4413, 'dash': 1101, 'glue': 1860, 'gun': 1948, 'bbq': 345, 'ample': 146, 'convenient': 954, 'htc': 2122, 'occasion': 2921, 'roughly': 3657, 'shipment': 3871, 'partner': 3067, 'wifi': 4883, 'comparison': 869, 'monthly': 2769, 'provider': 3356, 'warming': 4806, 'saver': 3715, 'fin': 1626, 'scope': 3741, 'commercial': 857, 'health': 2015, 'encourage': 1414, 'flashcard': 1663, 'strip': 4215, 'stain': 4124, 'continually': 944, 'shopping': 3882, 'attend': 261, 'sunglass': 4281, 'sat': 3704, 'german': 1836, 'city': 757, 'farm': 1574, 'measure': 2661, 'overly': 3010, 'crunchy': 1046, 'stability': 4118, 'weird': 4851, 'odor': 2928, 'messy': 2693, 'amazed': 137, 'covered': 998, 'reliability': 3524, 'tab': 4338, 'whose': 4877, 'language': 2395, 'removed': 3544, 'bow': 489, 'rca': 3436, 'socket': 4009, 'constant': 928, 'displayed': 1251, 'marinade': 2620, 'xl': 4967, 'packing': 3031, 'futon': 1793, 'series': 3811, 'sexy': 3833, 'honda': 2089, 'headlight': 2010, 'moisturizer': 2757, 'album': 110, 'against': 94, 'sits': 3931, 'alarm': 109, 'concise': 900, 'thread': 4458, 'loosen': 2543, 'recovery': 3485, 'necessarily': 2833, 'capo': 627, 'olive': 2945, 'burger': 570, 'fry': 1772, 'apps': 203, 'response': 3584, 'lo': 2517, 'knee': 2364, 'dimension': 1218, 'thickness': 4443, 'rolling': 3644, 'supported': 4294, 'straightforward': 4193, 'appropriate': 201, 'correct': 979, 'jack': 2292, 'prop': 3339, 'steady': 4149, 'sand': 3700, 'beach': 347, 'spool': 4099, 'adjusted': 64, 'teach': 4372, 'human': 2128, 'thousand': 4457, 'lacked': 2383, 'nature': 2824, 'litter': 2510, 'citrus': 756, 'aux': 275, 'sequel': 3809, 'deeper': 1132, 'unnecessary': 4676, 'critical': 1040, 'bookcase': 467, 'lean': 2437, 'female': 1604, 'glare': 1852, 'carrying': 647, 'harry': 1991, 'chapter': 693, 'follows': 1711, 'closely': 794, 'exception': 1489, 'action': 37, 'presentation': 3282, 'somebody': 4031, 'depot': 1165, 'fog': 1701, 'menu': 2686, 'intuitive': 2264, 'input': 2221, 'brightness': 524, 'contrast': 950, 'minimum': 2725, 'directly': 1226, 'watt': 4827, 'dell': 1156, 'tad': 4342, 'indicator': 2194, 'engaged': 1421, 'pastel': 3079, 'bold': 461, 'majority': 2596, 'repair': 3551, 'smudge': 3993, 'sweating': 4319, 'sunscreen': 4284, 'safer': 3686, 'remain': 3531, 'rolled': 3642, 'suffer': 4265, 'shredded': 3896, 'earth': 1356, 'kitty': 2363, 'curve': 1066, 'providing': 3358, 'granite': 1897, 'modern': 2753, 'picnic': 3147, 'grandchild': 1890, 'orange': 2971, 'pokemon': 3212, 'supporting': 4295, 'securely': 3776, 'florida': 1689, 'id': 2147, 'lg': 2463, 'hooked': 2096, 'surround': 4308, 'regard': 3505, 'lately': 2410, 'pandora': 3051, 'drain': 1292, 'bull': 561, 'garbage': 1810, 'seasoning': 3766, 'south': 4060, 'chili': 725, 'unknown': 4672, 'treated': 4582, 'respect': 3582, 'hide': 2055, 'cufflink': 1054, 'damn': 1090, 'overcome': 3008, 'path': 3081, 'reliably': 3526, 'street': 4205, 'fitness': 1650, 'cruise': 1045, 'custom': 1070, 'flaw': 1671, 'doorbell': 1275, 'captured': 630, 'alive': 115, 'experiencing': 1514, 'crisp': 1038, 'worthwhile': 4943, 'co': 810, 'derdigki': 1168, 'acid': 30, 'explains': 1520, 'detailed': 1185, 'identify': 2152, 'james': 2295, 'university': 4671, 'goal': 1864, 'closet': 796, 'reported': 3562, 'passed': 3071, 'murder': 2805, 'failed': 1553, 'occasionally': 2923, 'hop': 2098, 'riding': 3614, 'enjoyment': 1433, 'factor': 1548, 'completed': 884, 'sink': 3926, 'biggest': 412, 'delicate': 1146, 'occupied': 2924, 'permanent': 3121, 'desire': 1177, 'cocoa': 817, 'cooked': 961, 'flush': 1694, 'craftsmanship': 1011, 'advantage': 74, 'favor': 1587, 'almond': 123, 'reasonably': 3457, 'moving': 2793, 'sec': 3770, 'cleaner': 771, 'deck': 1127, 'odds': 2927, 'pot': 3246, 'continues': 947, 'inflate': 2206, 'traveled': 4574, 'largest': 2401, 'fully': 1778, 'blown': 451, 'authentic': 270, 'roasted': 3630, 'hated': 1997, 'sucked': 4260, 'definite': 1140, 'prone': 3337, 'yr': 4990, 'washable': 4813, 'ripped': 3623, 'compressor': 892, 'tire': 4497, 'airline': 104, 'jewelry': 2311, 'precious': 3264, 'stayed': 4147, 'windshield': 4893, 'flipping': 1683, 'peeling': 3100, 'grain': 1888, 'effectively': 1381, 'squeezer': 4113, 'magazine': 2580, 'brake': 500, 'adores': 71, 'bike': 413, 'escape': 1457, 'jane': 2297, 'copy': 972, 'cheapest': 705, 'trend': 4587, 'installs': 2236, 'component': 891, 'request': 3564, 'prettier': 3289, 'louder': 2553, 'classroom': 765, 'previously': 3295, 'listened': 2503, 'handbag': 1964, 'pie': 3150, 'season': 3765, 'stereo': 4158, 'sealed': 3760, 'partly': 3066, 'fault': 1584, 'patio': 3084, 'theft': 4424, 'shrimp': 3897, 'filler': 1622, 'collect': 828, 'dainty': 1086, 'rv': 3679, 'cling': 784, 'mi': 2701, 'feed': 1595, 'lived': 2513, 'complaining': 879, 'slept': 3956, 'chopping': 738, 'cent': 672, 'log': 2531, 'gas': 1816, 'tub': 4610, 'address': 58, 'shred': 3895, 'organized': 2979, 'unwanted': 4684, 'pest': 3127, 'writer': 4958, 'accuracy': 25, 'raw': 3432, 'segment': 3786, 'penny': 3105, 'drawing': 1298, 'code': 819, 'border': 474, 'net': 2849, 'diabetic': 1196, 'curious': 1060, 'specific': 4076, 'smallest': 3977, 'melted': 2679, 'packet': 3030, 'berry': 395, 'document': 1264, 'nightstand': 2870, 'caramel': 632, 'leader': 2430, 'trailer': 4558, 'psi': 3359, 'comfortably': 849, 'premium': 3274, 'gym': 1950, 'telling': 4392, 'portion': 3235, 'embarrassed': 1407, 'flavored': 1670, 'cookie': 963, 'fanatic': 1570, 'beware': 402, 'generation': 1829, 'shared': 3843, 'prior': 3309, 'retailer': 3591, 'fortunately': 1732, 'eats': 1368, 'planned': 3174, 'raise': 3414, 'meter': 2697, 'infant': 2202, 'seam': 3761, 'retail': 3590, 'sporting': 4102, 'lawn': 2420, 'mower': 2794, 'application': 193, 'harm': 1988, 'plant': 3177, 'experiment': 1515, 'continuous': 948, 'blame': 431, 'extend': 1526, 'climb': 782, 'dining': 1221, 'palm': 3047, 'consumer': 933, 'trigger': 4592, 'firmware': 1643, 'continued': 946, 'luckily': 2564, 'recommendation': 3477, 'updated': 4688, 'outage': 2993, 'assuming': 248, 'valve': 4722, 'zoom': 4998, 'mode': 2748, 'dream': 1299, 'judge': 2321, 'forgot': 1723, 'violin': 4762, 'bent': 394, 'bonus': 465, 'equipment': 1452, 'elegance': 1397, 'gardening': 1813, 'nobody': 2877, 'hotel': 2113, 'bamboo': 309, 'rub': 3664, 'brushing': 544, 'sore': 4050, 'bottled': 485, 'powered': 3257, 'mission': 2736, 'pail': 3038, 'firmly': 1642, 'imagined': 2163, 'massage': 2637, 'ribbon': 3607, 'ipod': 2274, 'spec': 4073, 'coloring': 837, 'dear': 1116, 'martin': 2631, 'mystery': 2816, 'among': 143, 'miss': 2733, 'remarkable': 3534, 'isnt': 2282, 'gal': 1800, 'driveway': 1314, 'steep': 4154, 'disposable': 1252, 'entertained': 1438, 'adhere': 60, 'necessity': 2835, 'sport': 4101, 'wax': 4829, 'indicated': 2192, 'tech': 4378, 'informed': 2211, 'frequency': 1755, 'fur': 1787, 'friction': 1760, 'suited': 4277, 'rush': 3676, 'guilty': 1945, 'progress': 3329, 'bend': 391, 'delivering': 1153, 'emotion': 1409, 'hero': 2046, 'theme': 4428, 'anticipated': 169, 'quarter': 3391, 'refuse': 3503, 'adaptor': 48, 'tick': 4473, 'brittle': 532, 'logitech': 2532, 'circuit': 753, 'lever': 2462, 'afraid': 87, 'downloaded': 1285, 'clumsy': 806, 'laughing': 2416, 'hr': 2121, 'tonight': 4520, 'ache': 28, 'stabilizer': 4119, 'static': 4143, 'covering': 999, 'torque': 4532, 'tint': 4493, 'fixture': 1657, 'played': 3185, 'mph': 2796, 'mountain': 2783, 'projector': 3331, 'staff': 4122, 'manner': 2609, 'latch': 2408, 'bump': 564, 'dealt': 1115, 'decide': 1124, 'relief': 3527, 'mag': 2579, 'workshop': 4933, 'golf': 1870, 'bib': 406, 'vest': 4746, 'realy': 3453, 'manager': 2606, 'april': 204, 'coz': 1001, 'crown': 1044, 'limit': 2486, 'saturday': 3711, 'glove': 1857, 'navigation': 2825, 'gps': 1883, 'bloody': 447, 'trap': 4570, 'ant': 166, 'perspective': 3126, 'oversized': 3014, 'carousel': 641, 'estimated': 1462, 'electricity': 1394, 'numerous': 2906, 'structure': 4224, 'protecting': 3345, 'roof': 3646, 'chipped': 731, 'tap': 4359, 'blu': 452, 'asap': 230, 'spraying': 4108, 'resetting': 3575, 'teenage': 4385, 'mute': 2813, 'hill': 2064, 'nutrient': 2910, 'heavily': 2028, 'wrapping': 4952, 'marketing': 2627, 'zip': 4993, 'nylon': 2914, 'leaving': 2446, 'tongue': 4519, 'cutest': 1075, 'addicted': 51, 'musical': 2808, 'instrument': 2243, 'pacifier': 3024, 'avail': 276, 'earlier': 1351, 'assist': 243, 'competition': 874, 'cooky': 965, 'robust': 3634, 'poke': 3211, 'mon': 2763, 'weakness': 4833, 'lift': 2473, 'deceiving': 1121, 'chime': 727, 'grid': 1916, 'chalkboard': 684, 'math': 2647, 'solve': 4029, 'hi': 2053, 'unbeatable': 4648, 'class': 763, 'interface': 2255, 'supplier': 4291, 'borrowed': 478, 'applied': 194, 'nipple': 2875, 'drill': 1305, 'hello': 2036, 'canvas': 622, 'perfume': 3118, 'sd': 3757, 'solidly': 4026, 'hiking': 2062, 'plush': 3202, 'cart': 648, 'grilling': 1918, 'balloon': 307, 'blaster': 435, 'afternoon': 90, 'rash': 3424, 'passage': 3070, 'carrier': 644, 'ikea': 2155, 'manage': 2604, 'hammer': 1961, 'torso': 4533, 'rifle': 3615, 'staple': 4132, 'punch': 3370, 'receiving': 3463, 'career': 637, 'tent': 4400, 'silicon': 3912, 'pulse': 3365, 'shutter': 3901, 'generally': 1828, 'spilling': 4089, 'robot': 3633, 'manly': 2608, 'science': 3737, 'loaded': 2519, 'justice': 2330, 'nyc': 2913, 'rabbit': 3404, 'happily': 1980, 'camping': 611, 'unexpected': 4661, 'karaoke': 2331, 'nine': 2872, 'microphone': 2706, 'relative': 3516, 'sing': 3923, 'insect': 2223, 'killer': 2351, 'irritation': 2280, 'considerably': 920, 'created': 1027, 'lite': 2507, 'hung': 2133, 'windy': 4894, 'sharpener': 3848, 'extender': 1528, 'subtle': 4253, 'oxo': 3020, 'reputation': 3563, 'puff': 3361, 'secured': 3775, 'drag': 1291, 'browsing': 541, 'stumbled': 4237, 'laugh': 2414, 'steve': 4160, 'crappy': 1015, 'subscribe': 4249, 'toxic': 4548, 'monopod': 2766, 'coil': 821, 'virtually': 4763, 'register': 3510, 'flashlight': 1665, 'include': 2181, 'worker': 4929, 'visual': 4770, 'chance': 688, 'welding': 4854, 'annoyed': 162, 'assembled': 240, 'mic': 2702, 'microsoft': 2707, 'prevents': 3293, 'adjusting': 65, 'warmer': 4805, 'excess': 1492, 'schedule': 3735, 'aim': 102, 'attic': 263, 'petite': 3129, 'upside': 4697, 'easter': 1362, 'hunt': 2135, 'hurting': 2140, 'busted': 577, 'occasional': 2922, 'quit': 3401, 'tail': 4344, 'shaped': 3841, 'timely': 4488, 'rental': 3548, 'analog': 149, 'tricky': 4590, 'freezer': 1753, 'refrigerator': 3499, 'gasket': 1817, 'companion': 863, 'inspired': 2230, 'violence': 4761, 'recommends': 3480, 'assured': 250, 'calm': 601, 'bending': 392, 'opposed': 2966, 'sock': 4008, 'prefers': 3270, 'split': 4095, 'sleeve': 3955, 'keeper': 2335, 'tread': 4579, 'inner': 2219, 'layer': 2422, 'undone': 4659, 'shining': 3868, 'bench': 390, 'episode': 1448, 'downfall': 1283, 'separated': 3807, 'resistant': 3579, 'integrated': 2246, 'requirement': 3568, 'pedal': 3096, 'delight': 1148, 'fighting': 1616, 'onion': 2951, 'dressed': 1301, 'heel': 2031, 'pixel': 3165, 'appeared': 188, 'frozen': 1767, 'convert': 956, 'blowing': 450, 'social': 4006, 'pregnant': 3272, 'advice': 79, 'mildew': 2715, 'headboard': 2008, 'console': 927, 'clogged': 791, 'tearing': 4377, 'evil': 1480, 'outer': 2996, 'giant': 1840, 'backyard': 297, 'satisfactory': 3708, 'unisex': 4667, 'connectivity': 916, 'retractable': 3592, 'leash': 2441, 'kidding': 2348, 'gallon': 1802, 'responsive': 3586, 'chuck': 746, 'costume': 984, 'deer': 1133, 'gameplay': 1804, 'stressed': 4208, 'playstation': 3188, 'modification': 2754, 'wiped': 4901, 'technician': 4380, 'bounce': 488, 'preparing': 3279, 'practicing': 3262, 'score': 3742, 'activate': 38, 'nicest': 2865, 'writes': 4959, 'inspirational': 2229, 'muscle': 2806, 'gross': 1928, 'expense': 1510, 'mario': 2622, 'rhinestone': 3605, 'importantly': 2167, 'disaster': 1235, 'travelling': 4577, 'depend': 1161, 'cellphone': 670, 'stood': 4178, 'jet': 2309, 'expert': 1516, 'double': 1279, 'la': 2377, 'jan': 2296, 'chosen': 741, 'toe': 4506, 'client': 780, 'owns': 3019, 'tightened': 4477, 'bleach': 436, 'smartphone': 3979, 'coated': 815, 'talked': 4351, 'adorable': 69, 'featured': 1593, 'groove': 1927, 'wool': 4924, 'shedding': 3859, 'sole': 4023, 'crate': 1018, 'un': 4646, 'humidifier': 2129, 'obsessed': 2917, 'repeat': 3553, 'manually': 2611, 'rocker': 3636, 'dp': 1289, 'upgraded': 4690, 'forth': 1731, 'camcorder': 605, 'operated': 2961, 'seven': 3825, 'paperweight': 3056, 'released': 3523, 'branded': 503, 'senior': 3799, 'technology': 4382, 'calf': 596, 'bummed': 562, 'knowledge': 2373, 'scooter': 3740, 'steering': 4155, 'skateboard': 3939, 'develop': 1191, 'acoustic': 32, 'economical': 1371, 'born': 477, 'medela': 2670, 'connector': 917, 'planting': 3178, 'mop': 2772, 'mr': 2797, 'beam': 349, 'ghost': 1839, 'fairy': 1559, 'colorful': 836, 'complained': 878, 'housing': 2117, 'fashion': 1576, 'communicate': 859, 'european': 1466, 'greenhouse': 1913, 'roller': 3643, 'wobbly': 4914, 'pork': 3231, 'understood': 4656, 'landscape': 2394, 'breaker': 507, 'franchise': 1747, 'facing': 1546, 'complex': 886, 'frequent': 1756, 'frustrated': 1769, 'herself': 2048, 'dud': 1330, 'rugged': 3669, 'residue': 3576, 'reverse': 3599, 'wider': 4880, 'ft': 1774, 'jeep': 2305, 'stuffing': 4236, 'skate': 3938, 'humor': 2131, 'hardwood': 1987, 'teething': 4388, 'innovation': 2220, 'crooked': 1042, 'closure': 798, 'whistle': 4873, 'pitch': 3164, 'flute': 1695, 'bet': 399, 'rubbed': 3665, 'sheer': 3860, 'according': 23, 'crash': 1016, 'loafer': 2521, 'solved': 4030, 'refunded': 3501, 'dish': 1245, 'particle': 3063, 'official': 2935, 'jelly': 2306, 'statue': 4145, 'eliminate': 1400, 'reception': 3466, 'sacrifice': 3681, 'explanation': 1521, 'braided': 498, 'faux': 1586, 'angry': 157, 'dough': 1281, 'floppy': 1688, 'member': 2680, 'chunk': 747, 'maze': 2656, 'internal': 2257, 'theater': 4422, 'hip': 2069, 'disney': 1248, 'unplug': 4678, 'metric': 2699, 'pointing': 3209, 'challenging': 686, 'matcha': 2642, 'article': 226, 'consuming': 934, 'btw': 545, 'japanese': 2300, 'semi': 3796, 'lego': 2453, 'brushed': 543, 'measured': 2662, 'reached': 3440, 'significantly': 3910, 'popular': 3228, 'produced': 3320, 'wound': 4948, 'sew': 3829, 'supplied': 4290, 'scary': 3731, 'procedure': 3315, 'sr': 4115, 'suitable': 4274, 'bummer': 563, 'partially': 3062, 'dvr': 1341, 'property': 3342, 'conclusion': 901, 'flip': 1682, 'canister': 617, 'dance': 1092, 'severe': 3827, 'inflammation': 2204, 'maintenance': 2594, 'facility': 1545, 'maple': 2618, 'neighborhood': 2844, 'public': 3360, 'naturally': 2823, 'recharge': 3467, 'positioned': 3238, 'par': 3057, 'discover': 1241, 'sounding': 4057, 'mics': 2709, 'field': 1613, 'duffle': 1333, 'satisfaction': 3707, 'post': 3243, 'satellite': 3706, 'brick': 518, 'streak': 4202, 'requested': 3565, 'infuser': 2213, 'sometime': 4035, 'zippered': 4995, 'shovel': 3889, 'storm': 4188, 'upcoming': 4686, 'regarding': 3506, 'pushing': 3383, 'weighs': 4848, 'claw': 767, 'motorcycle': 2781, 'cartoon': 649, 'yo': 4979, 'poop': 3221, 'mad': 2577, 'expandable': 1505, 'engagement': 1422, 'bumped': 565, 'ground': 1929, 'asleep': 237, 'amazingly': 139, 'pendant': 3104, 'diffuser': 1211, 'graduation': 1887, 'identification': 2151, 'glued': 1861, 'chest': 716, 'detect': 1187, 'moon': 2771, 'exterior': 1532, 'visibility': 4764, 'pour': 3253, 'detailing': 1186, 'kitten': 2362, 'shelter': 3864, 'letting': 2460, 'remaining': 3532, 'outrageous': 3001, 'background': 291, 'joke': 2317, 'cloud': 802, 'nor': 2884, 'sucker': 4261, 'outfit': 2997, 'supermarket': 4288, 'password': 3075, 'dispenser': 1249, 'rusted': 3678, 'dresser': 1302, 'rail': 3410, 'waistband': 4783, 'straw': 4200, 'sip': 3927, 'substitute': 4252, 'nursing': 2908, 'knob': 2367, 'recomend': 3474, 'halfway': 1958, 'entry': 1445, 'relieved': 3528, 'folder': 1705, 'stolen': 4175, 'ordinary': 2975, 'repaired': 3552, 'gorilla': 1878, 'proud': 3351, 'trek': 4585, 'visually': 4771, 'recorder': 3483, 'singing': 3924, 'offering': 2933, 'turtle': 4625, 'injury': 2217, 'gauge': 1820, 'samsonite': 3697, 'diving': 1258, 'carbon': 633, 'department': 1160, 'tuner': 4619, 'cage': 593, 'hollow': 2082, 'chord': 739, 'weigh': 4847, 'gate': 1818, 'instance': 2237, 'buffet': 553, 'eco': 1370, 'ea': 1346, 'hesitation': 2051, 'crawl': 1020, 'disk': 1247, 'refused': 3504, 'clutch': 808, 'stocking': 4174, 'optical': 2969, 'actress': 43, 'loading': 2520, 'relax': 3518, 'jumping': 2327, 'cabin': 588, 'grandparent': 1895, 'blister': 443, 'floating': 1685, 'american': 142, 'tale': 4348, 'animation': 159, 'winner': 4898, 'applies': 195, 'crushed': 1047, 'underwater': 4657, 'titanium': 4499, 'align': 113, 'runner': 3674, 'boat': 458, 'instructor': 2242, 'styling': 4243, 'adjusts': 67, 'pumping': 3367, 'hurry': 2138, 'trail': 4557, 'cumbersome': 1056, 'dinner': 1222, 'peg': 3101, 'polished': 3217, 'pregnancy': 3271, 'backpacking': 294, 'warfare': 4803, 'coarse': 812, 'grinder': 1920, 'dependable': 1162, 'buckle': 549, 'quieter': 3399, 'industrial': 2199, 'french': 1754, 'welder': 4853, 'offs': 2936, 'advertising': 78, 'bored': 475, 'beige': 381, 'fewer': 1609, 'viewer': 4756, 'happiness': 1981, 'booklet': 468, 'chick': 720, 'flick': 1678, 'smoothness': 3991, 'sunday': 4280, 'paddle': 3035, 'sky': 3949, 'illumination': 2157, 'sewn': 3831, 'magnificent': 2587, 'destroyed': 1182, 'pit': 3163, 'coolest': 968, 'swivel': 4332, 'earned': 1353, 'rely': 3530, 'physically': 3139, 'float': 1684, 'jumped': 2326, 'gear': 1823, 'novice': 2901, 'bridge': 519, 'ethernet': 1464, 'wheat': 4865, 'flight': 1680, 'expression': 1524, 'manufacturing': 2615, 'reel': 3493, 'journey': 2319, 'hollywood': 2083, 'production': 3323, 'valuable': 4720, 'transferred': 4564, 'vhs': 4748, 'japan': 2299, 'shark': 3845, 'polarized': 3213, 'additionally': 56, 'rarely': 3423, 'sunny': 4283, 'combo': 844, 'pace': 3023, 'west': 4858, 'warmth': 4807, 'usa': 4701, 'bf': 405, 'invest': 2266, 'bake': 302, 'locally': 2524, 'tripod': 4598, 'gripping': 1924, 'role': 3640, 'sparkly': 4069, 'bling': 442, 'fixing': 1656, 'bearing': 353, 'theyre': 4440, 'former': 1729, 'lug': 2566, 'nikon': 2871, 'aa': 0, 'lantern': 2396, 'grateful': 1902, 'avid': 279, 'fuse': 1791, 'diy': 1259, 'york': 4981, 'polyester': 3218, 'listing': 2505, 'timeless': 4487, 'scenario': 3732, 'assume': 246, 'bond': 463, 'repetitive': 3555, 'joe': 2313, 'truth': 4606, 'sol': 4018, 'tipped': 4496, 'seed': 3780, 'insane': 2222, 'guideline': 1944, 'possibility': 3240, 'dig': 1212, 'beside': 396, 'mesh': 2687, 'ex': 1481, 'arrival': 219, 'duck': 1329, 'lobster': 2522, 'oval': 3004, 'popcorn': 3225, 'fashionable': 1577, 'comic': 852, 'recognized': 3473, 'dc': 1109, 'array': 218, 'clutter': 809, 'weighted': 4850, 'tougher': 4543, 'bluray': 455, 'wink': 4897, 'primarily': 3301, 'flop': 1687, 'tuned': 4618, 'edition': 1376, 'knocked': 2369, 'fitbit': 1649, 'badly': 299, 'accomplish': 22, 'theory': 4432, 'row': 3663, 'assumed': 247, 'maximum': 2653, 'kinect': 2356, 'thriller': 4463, 'coaster': 813, 'leatherman': 2444, 'adventure': 75, 'chihuahua': 722, 'hanger': 1973, 'team': 4375, 'crashed': 1017, 'flawlessly': 1673, 'platform': 3183, 'vinegar': 4758, 'sodium': 4011, 'unbelievably': 4650, 'cinnamon': 751, 'batman': 339, 'rent': 3547, 'society': 4007, 'coupon': 993, 'vertical': 4743, 'cozy': 1002, 'education': 1377, 'toyota': 4550, 'paired': 3045, 'hazard': 2001, 'configuration': 908, 'as': 229, 'lash': 2403, 'documentary': 1265, 'illustration': 2158, 'plasma': 3179, 'invisible': 2269, 'interview': 2260, 'stuffer': 4235, 'deserves': 1173, 'processor': 3318, 'subject': 4248, 'bmw': 456, 'dealer': 1113, 'contemporary': 942, 'newer': 2857, 'jerky': 2307, 'development': 1193, 'successfully': 4257, 'contained': 939, 'precise': 3265, 'cinema': 750, 'colleague': 827, 'concert': 899, 'inflated': 2207, 'xbmc': 4965, 'stream': 4203, 'whats': 4863, 'ski': 3941, 'deflector': 1143, 'beef': 369, 'panasonic': 3049, 'closing': 797, 'cz': 1083, 'thrown': 4469, 'loop': 2541, 'tucked': 4614, 'reflective': 3497, 'beast': 354, 'shoddy': 3877, 'mist': 2737, 'itch': 2287, 'george': 1835, 'poured': 3254, 'mechanic': 2666, 'rule': 3672, 'insulation': 2244, 'drum': 1323, 'cymbal': 1082, 'inconvenient': 2185, 'automatic': 273, 'shield': 3865, 'kudos': 2376, 'vac': 4717, 'ornament': 2984, 'decal': 1120, 'traffic': 4556, 'roku': 3639, 'uv': 4716, 'mediocre': 2673, 'knot': 2370, 'pile': 3152, 'ii': 2154, 'arch': 206, 'wii': 4886, 'hdtv': 2004, 'greater': 1909, 'tin': 4492, 'glossy': 1856, 'musician': 2809, 'bat': 334, 'sudden': 4263, 'seiko': 3787, 'horn': 2106, 'ban': 310, 'tax': 4369, 'copper': 971, 'zone': 4997, 'programmed': 3328, 'lifesaver': 2470, 'comparing': 868, 'skirt': 3947, 'lastly': 2407, 'adore': 70, 'exceptionally': 1491, 'unusable': 4681, 'foscam': 1734, 'xmas': 4968, 'grommet': 1926, 'brief': 520, 'france': 1746, 'survived': 4311, 'garment': 1815, 'rose': 3652, 'wherever': 4870, 'piano': 3140, 'smoothie': 3989, 'jaw': 2302, 'wobble': 4913, 'faint': 1556, 'clamp': 759, 'marked': 2624, 'chevy': 717, 'multiplayer': 2803, 'soldering': 4022, 'slipping': 3970, 'cheer': 710, 'ratchet': 3426, 'fashioned': 1578, 'med': 2669, 'killing': 2352, 'typically': 4637, 'friday': 1761, 'north': 2887, 'nintendo': 2874, 'lightly': 2478, 'flicker': 1679, 'strobe': 4219, 'ir': 2275, 'dive': 1256, 'lan': 2392, 'developed': 1192, 'microfiber': 2705, 'definition': 1142, 'capable': 625, 'preference': 3268, 'attache': 255, 'shift': 3866, 'crayon': 1021, 'gifted': 1843, 'rainbow': 3412, 'bunny': 569, 'rd': 3437, 'central': 674, 'crew': 1034, 'elastic': 1390, 'novelty': 2900, 'tuning': 4620, 'essentially': 1461, 'tore': 4530, 'stitched': 4171, 'sapphire': 3703, 'mike': 2713, 'dj': 1260, 'arrangement': 217, 'layout': 2424, 'toss': 4534, 'childhood': 724, 'ounce': 2989, 'biking': 414, 'automatically': 274, 'screwed': 3753, 'ip': 2271, 'trained': 4560, 'belonging': 388, 'scream': 3749, 'jeweler': 2310, 'butterfly': 582, 'rinse': 3621, 'target': 4362, 'rfid': 3604, 'blocking': 445, 'collapse': 825, 'balanced': 305, 'yield': 4978, 'marker': 2625, 'caddy': 591, 'netflix': 2850, 'browser': 540, 'unused': 4682, 'nostalgic': 2889, 'aaa': 1, 'transformer': 4565, 'smoker': 3985, 'steak': 4150, 'damp': 1091, 'poster': 3245, 'fi': 1610, 'club': 803, 'communication': 860, 'kink': 2358, 'tights': 4481, 'scoop': 3739, 'leading': 2431, 'july': 2324, 'dissolve': 1253, 'clog': 790, 'sprayer': 4107, 'studying': 4232, 'stripper': 4218, 'swiss': 4328, 'copied': 970, 'depicted': 1164, 'pee': 3097, 'sonic': 4041, 'wave': 4828, 'worthy': 4944, 'scotch': 3743, 'versus': 4742, 'talented': 4349, 'hydrating': 2143, 'stair': 4126, 'magical': 2582, 'lifting': 2474, 'percent': 3110, 'guaranteed': 1937, 'dancing': 1093, 'complains': 880, 'rare': 3422, 'mitt': 2739, 'clever': 778, 'inflammatory': 2205, 'faced': 1543, 'august': 268, 'dynamic': 1345, 'droid': 1316, 'banana': 311, 'limitation': 2487, 'combine': 842, 'famous': 1568, 'stopper': 4182, 'removing': 3546, 'disease': 1243, 'hemp': 2042, 'mustache': 2811, 'lifestyle': 2471, 'digestive': 1213, 'detox': 1190, 'married': 2629, 'treadmill': 4580, 'comparable': 865, 'gem': 1825, 'telephone': 4389, 'smoother': 3988, 'nutritional': 2912, 'reusable': 3598, 'promotion': 3334, 'delightful': 1150, 'flawless': 1672, 'ultimate': 4642, 'roast': 3629, 'consistency': 924, 'creamy': 1024, 'enabled': 1412, 'international': 2258, 'drip': 1311, 'otterbox': 2987, 'priority': 3310, 'alike': 114, 'ancient': 152, 'commented': 856, 'reducing': 3491, 'longevity': 2537, 'resist': 3577, 'bidet': 409, 'rigid': 3618, 'needing': 2840, 'customize': 1072, 'scar': 3727, 'craving': 1019, 'cupcake': 1058, 'forgotten': 1724, 'phenomenal': 3130, 'welcome': 4852, 'surgery': 4303, 'topper': 4528, 'variation': 4726, 'reccomend': 3458, 'fuller': 1777, 'endless': 1418, 'mate': 2645, 'jealous': 2303, 'liver': 2514, 'michael': 2703, 'favourite': 1589, 'preventing': 3292, 'mixing': 2743, 'italian': 2285, 'clue': 804, 'noted': 2894, 'pimple': 3156, 'holster': 2084, 'lcd': 2427, 'securing': 3777, 'rise': 3624, 'earbuds': 1349, 'smoothy': 3992, 'timing': 4491, 'ultimately': 4643, 'dewalt': 1195, 'january': 2298, 'gen': 1826, 'tim': 4485, 'honesty': 2092, 'aftermarket': 89, 'barn': 323, 'lime': 2485, 'soo': 4043, 'handheld': 1966, 'prescription': 3280, 'extensive': 1531, 'fiction': 1612, 'lumen': 2568, 'youth': 4988, 'curly': 1062, 'planet': 3173, 'mascara': 2633, 'clump': 805, 'ha': 1951, 'peppermint': 3108, 'rocking': 3637, 'detector': 1188, 'freedom': 1751, 'journal': 2318, 'personality': 3124, 'fond': 1712, 'typing': 4638, 'champ': 687, 'strategy': 4199, 'bob': 459, 'darn': 1100, 'breakout': 510, 'pvc': 3387, 'blower': 449, 'corkscrew': 976, 'remind': 3537, 'thermal': 4436, 'latest': 2412, 'chef': 713, 'infrared': 2212, 'volt': 4777, 'snorkeling': 3999, 'decade': 1119, 'bicycle': 408, 'theirs': 4426, 'font': 1713, 'cork': 975, 'mass': 2636, 'lipstick': 2498, 'curl': 1061, 'radiator': 3408, 'flask': 1666, 'funnel': 1785, 'drama': 1294, 'down': 1282, 'ending': 1417, 'deodorant': 1159, 'gamers': 1806, 'slightest': 3963, 'scrub': 3755, 'hitch': 2074, 'gopro': 1876, 'consideration': 921, 'locate': 2525, 'ocean': 2925, 'visiting': 4768, 'pose': 3236, 'barbecue': 316, 'danger': 1095, 'si': 3902, 'peak': 3093, 'headlamp': 2009, 'bos': 479, 'cookbook': 960, 'swimsuit': 4326, 'photograph': 3135, 'paleo': 3046, 'uk': 4640, 'clipping': 788, 'paul': 3086, 'killed': 2350, 'san': 3699, 'route': 3660, 'tummy': 4616, 'tuck': 4613, 'crane': 1012, 'highlight': 2059, 'matt': 2648, 'removal': 3542, 'belief': 383, 'equally': 1451, 'vendor': 4735, 'category': 661, 'stripe': 4216, 'inspiring': 2231, 'sneaker': 3997, 'maneuver': 2607, 'chasing': 702, 'lightning': 2479, 'unlock': 4675, 'pyle': 3388, 'overhead': 3009, 'hunter': 2136, 'saffron': 3688, 'enthusiast': 1441, 'freak': 1748, 'racing': 3406, 'converter': 957, 'debris': 1118, 'pickup': 3145, 'fireplace': 1640, 'broom': 535, 'competitive': 875, 'snorkel': 3998, 'sandwich': 3702, 'wi': 4878, 'tubing': 4612, 'equal': 1450, 'measuring': 2664, 'caliper': 597, 'grew': 1914, 'detachable': 1183, 'therapist': 4433, 'brace': 495, 'finder': 1630, 'skype': 3950, 'airplane': 105, 'flattering': 1668, 'catching': 660, 'sophisticated': 4049, 'eater': 1366, 'effortlessly': 1385, 'default': 1135, 'crust': 1048, 'soccer': 4005, 'chalk': 683, 'india': 2191, 'brass': 504, 'starbucks': 4134, 'restaurant': 3588, 'skillet': 3943, 'asking': 236, 'pilot': 3155, 'digging': 1214, 'pistol': 3162, 'tb': 4370, 'rainy': 3413, 'rig': 3616, 'reaching': 3441, 'humidity': 2130, 'ninja': 2873, 'pa': 3022, 'golden': 1869, 'romantic': 3645, 'edc': 1373, 'kayak': 2333, 'sheath': 3857, 'messenger': 2691, 'grout': 1931, 'stash': 4139, 'consume': 932, 'replay': 3560, 'affected': 84, 'gig': 1844, 'horse': 2109, 'defense': 1138, 'passenger': 3072, 'urine': 4699, 'barbie': 317, 'sentence': 3805, 'craftsman': 1010, 'dated': 1104, 'shear': 3856, 'portability': 3233, 'maglite': 2583, 'earings': 1350, 'primary': 3302, 'breathable': 513, 'cried': 1036, 'cow': 1000, 'masculine': 2634, 'weed': 4843, 'strawberry': 4201, 'thief': 4444, 'axe': 287, 'upstairs': 4698, 'barrier': 324, 'paw': 3087, 'engineer': 1425, 'thanksgiving': 4420, 'drainage': 1293, 'bead': 348, 'ect': 1372, 'performing': 3116, 'pointer': 3208, 'engraving': 1428, 'gravel': 1904, 'ala': 108, 'rep': 3550, 'mustard': 2812, 'hulu': 2127, 'bose': 480, 'themed': 4429, 'fps': 1741, 'chlorine': 733, 'timex': 4490, 'existing': 1503, 'antique': 170, 'incandescent': 2179, 'retro': 3594, 'interaction': 2251, 'spicy': 4086, 'puppet': 3372, 'keychain': 2343, 'rib': 3606, 'scuff': 3756, 'brim': 526, 'jesus': 2308, 'december': 1122, 'cr': 1003, 'olympus': 2946, 'shaver': 3853, 'sturdier': 4240, 'branch': 501, 'feminine': 1605, 'lace': 2381, 'owl': 3016, 'bitterness': 427, 'scroll': 3754, 'diameter': 1199, 'pirate': 3161, 'birth': 421, 'neon': 2846, 'wrinkled': 4955, 'sam': 3695, 'zombie': 4996, 'mailer': 2590, 'ukulele': 4641, 'neutral': 2852, 'pun': 3369, 'biscuit': 423, 'catcher': 659, 'fret': 1759, 'reminder': 3538, 'fender': 1607, 'stretching': 4211, 'british': 531, 'spinner': 4091, 'gibson': 1841, 'sweater': 4318, 'selected': 3789, 'sweep': 4321, 'march': 2619, 'irish': 2276, 'indiglo': 2195, 'threaded': 4459, 'planner': 3175, 'trade': 4553, 'lee': 2448, 'cole': 824, 'magnification': 2586, 'crocs': 1041, 'ons': 2954, 'wal': 4789, 'mart': 2630, 'soundbar': 4055, 'clunky': 807, 'bin': 417, 'vizio': 4775, 'invicta': 2268, 'pricy': 3300, 'wig': 4884, 'lavender': 2418, 'canned': 618, 'furnace': 1788, 'arrow': 223, 'walked': 4791, 'cane': 616, 'mole': 2759, 'severely': 3828, 'sata': 3705, 'reed': 3492, 'anchor': 151, 'macro': 2576, 'ketchup': 2338, 'kite': 2361, 'italy': 2286, 'clark': 761, 'scabbard': 3720, 'yeast': 4973, 'slat': 3951, 'visor': 4769, 'tivo': 4501}\n"
     ]
    }
   ],
   "source": [
    "print(Tfidf_vect.vocabulary_)"
   ]
  },
  {
   "cell_type": "code",
   "execution_count": 69,
   "metadata": {},
   "outputs": [],
   "source": [
    "from sklearn import  naive_bayes ,svm"
   ]
  },
  {
   "cell_type": "code",
   "execution_count": 70,
   "metadata": {},
   "outputs": [],
   "source": [
    "from sklearn.metrics import accuracy_score"
   ]
  },
  {
   "cell_type": "code",
   "execution_count": 73,
   "metadata": {},
   "outputs": [
    {
     "name": "stdout",
     "output_type": "stream",
     "text": [
      "Naive Bayes Accuracy Score ->  63.48051948051948\n"
     ]
    }
   ],
   "source": [
    "Naive = naive_bayes.MultinomialNB()\n",
    "Naive.fit(Train_X_Tfidf,Train_Y)\n",
    "# predict the labels on validation dataset\n",
    "predictions_NB = Naive.predict(Test_X_Tfidf)\n",
    "# Use accuracy_score function to get the accuracy\n",
    "print(\"Naive Bayes Accuracy Score -> \",accuracy_score(predictions_NB, Test_Y)*100)"
   ]
  },
  {
   "cell_type": "code",
   "execution_count": 72,
   "metadata": {},
   "outputs": [
    {
     "name": "stdout",
     "output_type": "stream",
     "text": [
      "SVM Accuracy Score ->  62.80519480519481\n"
     ]
    }
   ],
   "source": [
    "SVM = svm.SVC(C=1.0, kernel='linear', degree=3, gamma='auto')\n",
    "SVM.fit(Train_X_Tfidf,Train_Y)\n",
    "# predict the labels on validation dataset\n",
    "predictions_SVM = SVM.predict(Test_X_Tfidf)\n",
    "# Use accuracy_score function to get the accuracy\n",
    "print(\"SVM Accuracy Score -> \",accuracy_score(predictions_SVM, Test_Y)*100)"
   ]
  },
  {
   "cell_type": "code",
   "execution_count": null,
   "metadata": {},
   "outputs": [],
   "source": []
  }
 ],
 "metadata": {
  "accelerator": "GPU",
  "colab": {
   "name": "ProperPreProcess.ipynb",
   "provenance": []
  },
  "kernelspec": {
   "display_name": "Python 3",
   "language": "python",
   "name": "python3"
  },
  "language_info": {
   "codemirror_mode": {
    "name": "ipython",
    "version": 3
   },
   "file_extension": ".py",
   "mimetype": "text/x-python",
   "name": "python",
   "nbconvert_exporter": "python",
   "pygments_lexer": "ipython3",
   "version": "3.7.7"
  },
  "widgets": {
   "application/vnd.jupyter.widget-state+json": {
    "026baa4eb1f04bf48b3d1cef6b01f8cc": {
     "model_module": "@jupyter-widgets/controls",
     "model_name": "FloatProgressModel",
     "state": {
      "_dom_classes": [],
      "_model_module": "@jupyter-widgets/controls",
      "_model_module_version": "1.5.0",
      "_model_name": "FloatProgressModel",
      "_view_count": null,
      "_view_module": "@jupyter-widgets/controls",
      "_view_module_version": "1.5.0",
      "_view_name": "ProgressView",
      "bar_style": "success",
      "description": "Downloading: 100%",
      "description_tooltip": null,
      "layout": "IPY_MODEL_c56b8cbbacd1495d8cef36f713faaf96",
      "max": 440473133,
      "min": 0,
      "orientation": "horizontal",
      "style": "IPY_MODEL_d8e8a30e120a473ab5288a99f8335636",
      "value": 440473133
     }
    },
    "0795f800878d4110ac37da44b0683d6d": {
     "model_module": "@jupyter-widgets/controls",
     "model_name": "HBoxModel",
     "state": {
      "_dom_classes": [],
      "_model_module": "@jupyter-widgets/controls",
      "_model_module_version": "1.5.0",
      "_model_name": "HBoxModel",
      "_view_count": null,
      "_view_module": "@jupyter-widgets/controls",
      "_view_module_version": "1.5.0",
      "_view_name": "HBoxView",
      "box_style": "",
      "children": [
       "IPY_MODEL_026baa4eb1f04bf48b3d1cef6b01f8cc",
       "IPY_MODEL_ba9f4252fb43414ba0ae05cdca4c2bd9"
      ],
      "layout": "IPY_MODEL_d58675463c8d4ffcb3b78c3f20f4d21e"
     }
    },
    "124966dae2b04459a12a8f30208a66dd": {
     "model_module": "@jupyter-widgets/controls",
     "model_name": "ProgressStyleModel",
     "state": {
      "_model_module": "@jupyter-widgets/controls",
      "_model_module_version": "1.5.0",
      "_model_name": "ProgressStyleModel",
      "_view_count": null,
      "_view_module": "@jupyter-widgets/base",
      "_view_module_version": "1.2.0",
      "_view_name": "StyleView",
      "bar_color": null,
      "description_width": "initial"
     }
    },
    "39d850aba9264859b99b866e183b3ec8": {
     "model_module": "@jupyter-widgets/base",
     "model_name": "LayoutModel",
     "state": {
      "_model_module": "@jupyter-widgets/base",
      "_model_module_version": "1.2.0",
      "_model_name": "LayoutModel",
      "_view_count": null,
      "_view_module": "@jupyter-widgets/base",
      "_view_module_version": "1.2.0",
      "_view_name": "LayoutView",
      "align_content": null,
      "align_items": null,
      "align_self": null,
      "border": null,
      "bottom": null,
      "display": null,
      "flex": null,
      "flex_flow": null,
      "grid_area": null,
      "grid_auto_columns": null,
      "grid_auto_flow": null,
      "grid_auto_rows": null,
      "grid_column": null,
      "grid_gap": null,
      "grid_row": null,
      "grid_template_areas": null,
      "grid_template_columns": null,
      "grid_template_rows": null,
      "height": null,
      "justify_content": null,
      "justify_items": null,
      "left": null,
      "margin": null,
      "max_height": null,
      "max_width": null,
      "min_height": null,
      "min_width": null,
      "object_fit": null,
      "object_position": null,
      "order": null,
      "overflow": null,
      "overflow_x": null,
      "overflow_y": null,
      "padding": null,
      "right": null,
      "top": null,
      "visibility": null,
      "width": null
     }
    },
    "457f3a3d9ca2454cbafb010919e09ece": {
     "model_module": "@jupyter-widgets/base",
     "model_name": "LayoutModel",
     "state": {
      "_model_module": "@jupyter-widgets/base",
      "_model_module_version": "1.2.0",
      "_model_name": "LayoutModel",
      "_view_count": null,
      "_view_module": "@jupyter-widgets/base",
      "_view_module_version": "1.2.0",
      "_view_name": "LayoutView",
      "align_content": null,
      "align_items": null,
      "align_self": null,
      "border": null,
      "bottom": null,
      "display": null,
      "flex": null,
      "flex_flow": null,
      "grid_area": null,
      "grid_auto_columns": null,
      "grid_auto_flow": null,
      "grid_auto_rows": null,
      "grid_column": null,
      "grid_gap": null,
      "grid_row": null,
      "grid_template_areas": null,
      "grid_template_columns": null,
      "grid_template_rows": null,
      "height": null,
      "justify_content": null,
      "justify_items": null,
      "left": null,
      "margin": null,
      "max_height": null,
      "max_width": null,
      "min_height": null,
      "min_width": null,
      "object_fit": null,
      "object_position": null,
      "order": null,
      "overflow": null,
      "overflow_x": null,
      "overflow_y": null,
      "padding": null,
      "right": null,
      "top": null,
      "visibility": null,
      "width": null
     }
    },
    "4c34d6afe2dc49e7981848ecdb6aa67c": {
     "model_module": "@jupyter-widgets/controls",
     "model_name": "HTMLModel",
     "state": {
      "_dom_classes": [],
      "_model_module": "@jupyter-widgets/controls",
      "_model_module_version": "1.5.0",
      "_model_name": "HTMLModel",
      "_view_count": null,
      "_view_module": "@jupyter-widgets/controls",
      "_view_module_version": "1.5.0",
      "_view_name": "HTMLView",
      "description": "",
      "description_tooltip": null,
      "layout": "IPY_MODEL_39d850aba9264859b99b866e183b3ec8",
      "placeholder": "​",
      "style": "IPY_MODEL_52419aa0ce9340ada4289f0a70726842",
      "value": " 433/433 [00:00&lt;00:00, 3.65kB/s]"
     }
    },
    "52419aa0ce9340ada4289f0a70726842": {
     "model_module": "@jupyter-widgets/controls",
     "model_name": "DescriptionStyleModel",
     "state": {
      "_model_module": "@jupyter-widgets/controls",
      "_model_module_version": "1.5.0",
      "_model_name": "DescriptionStyleModel",
      "_view_count": null,
      "_view_module": "@jupyter-widgets/base",
      "_view_module_version": "1.2.0",
      "_view_name": "StyleView",
      "description_width": ""
     }
    },
    "61cf0b45257c408eb68a81dad7fbbc94": {
     "model_module": "@jupyter-widgets/base",
     "model_name": "LayoutModel",
     "state": {
      "_model_module": "@jupyter-widgets/base",
      "_model_module_version": "1.2.0",
      "_model_name": "LayoutModel",
      "_view_count": null,
      "_view_module": "@jupyter-widgets/base",
      "_view_module_version": "1.2.0",
      "_view_name": "LayoutView",
      "align_content": null,
      "align_items": null,
      "align_self": null,
      "border": null,
      "bottom": null,
      "display": null,
      "flex": null,
      "flex_flow": null,
      "grid_area": null,
      "grid_auto_columns": null,
      "grid_auto_flow": null,
      "grid_auto_rows": null,
      "grid_column": null,
      "grid_gap": null,
      "grid_row": null,
      "grid_template_areas": null,
      "grid_template_columns": null,
      "grid_template_rows": null,
      "height": null,
      "justify_content": null,
      "justify_items": null,
      "left": null,
      "margin": null,
      "max_height": null,
      "max_width": null,
      "min_height": null,
      "min_width": null,
      "object_fit": null,
      "object_position": null,
      "order": null,
      "overflow": null,
      "overflow_x": null,
      "overflow_y": null,
      "padding": null,
      "right": null,
      "top": null,
      "visibility": null,
      "width": null
     }
    },
    "9ba80b0560ae4530938fc8322cb48479": {
     "model_module": "@jupyter-widgets/controls",
     "model_name": "HBoxModel",
     "state": {
      "_dom_classes": [],
      "_model_module": "@jupyter-widgets/controls",
      "_model_module_version": "1.5.0",
      "_model_name": "HBoxModel",
      "_view_count": null,
      "_view_module": "@jupyter-widgets/controls",
      "_view_module_version": "1.5.0",
      "_view_name": "HBoxView",
      "box_style": "",
      "children": [
       "IPY_MODEL_a1a03bcfe81c4326b45ca692bf429c51",
       "IPY_MODEL_4c34d6afe2dc49e7981848ecdb6aa67c"
      ],
      "layout": "IPY_MODEL_61cf0b45257c408eb68a81dad7fbbc94"
     }
    },
    "a1a03bcfe81c4326b45ca692bf429c51": {
     "model_module": "@jupyter-widgets/controls",
     "model_name": "FloatProgressModel",
     "state": {
      "_dom_classes": [],
      "_model_module": "@jupyter-widgets/controls",
      "_model_module_version": "1.5.0",
      "_model_name": "FloatProgressModel",
      "_view_count": null,
      "_view_module": "@jupyter-widgets/controls",
      "_view_module_version": "1.5.0",
      "_view_name": "ProgressView",
      "bar_style": "success",
      "description": "Downloading: 100%",
      "description_tooltip": null,
      "layout": "IPY_MODEL_457f3a3d9ca2454cbafb010919e09ece",
      "max": 433,
      "min": 0,
      "orientation": "horizontal",
      "style": "IPY_MODEL_124966dae2b04459a12a8f30208a66dd",
      "value": 433
     }
    },
    "b040f852fa9a42cebcf24cf0b5ef94df": {
     "model_module": "@jupyter-widgets/base",
     "model_name": "LayoutModel",
     "state": {
      "_model_module": "@jupyter-widgets/base",
      "_model_module_version": "1.2.0",
      "_model_name": "LayoutModel",
      "_view_count": null,
      "_view_module": "@jupyter-widgets/base",
      "_view_module_version": "1.2.0",
      "_view_name": "LayoutView",
      "align_content": null,
      "align_items": null,
      "align_self": null,
      "border": null,
      "bottom": null,
      "display": null,
      "flex": null,
      "flex_flow": null,
      "grid_area": null,
      "grid_auto_columns": null,
      "grid_auto_flow": null,
      "grid_auto_rows": null,
      "grid_column": null,
      "grid_gap": null,
      "grid_row": null,
      "grid_template_areas": null,
      "grid_template_columns": null,
      "grid_template_rows": null,
      "height": null,
      "justify_content": null,
      "justify_items": null,
      "left": null,
      "margin": null,
      "max_height": null,
      "max_width": null,
      "min_height": null,
      "min_width": null,
      "object_fit": null,
      "object_position": null,
      "order": null,
      "overflow": null,
      "overflow_x": null,
      "overflow_y": null,
      "padding": null,
      "right": null,
      "top": null,
      "visibility": null,
      "width": null
     }
    },
    "ba9f4252fb43414ba0ae05cdca4c2bd9": {
     "model_module": "@jupyter-widgets/controls",
     "model_name": "HTMLModel",
     "state": {
      "_dom_classes": [],
      "_model_module": "@jupyter-widgets/controls",
      "_model_module_version": "1.5.0",
      "_model_name": "HTMLModel",
      "_view_count": null,
      "_view_module": "@jupyter-widgets/controls",
      "_view_module_version": "1.5.0",
      "_view_name": "HTMLView",
      "description": "",
      "description_tooltip": null,
      "layout": "IPY_MODEL_b040f852fa9a42cebcf24cf0b5ef94df",
      "placeholder": "​",
      "style": "IPY_MODEL_fd7b8076750145aa9b5d8b48224b97b5",
      "value": " 440M/440M [01:51&lt;00:00, 3.95MB/s]"
     }
    },
    "c56b8cbbacd1495d8cef36f713faaf96": {
     "model_module": "@jupyter-widgets/base",
     "model_name": "LayoutModel",
     "state": {
      "_model_module": "@jupyter-widgets/base",
      "_model_module_version": "1.2.0",
      "_model_name": "LayoutModel",
      "_view_count": null,
      "_view_module": "@jupyter-widgets/base",
      "_view_module_version": "1.2.0",
      "_view_name": "LayoutView",
      "align_content": null,
      "align_items": null,
      "align_self": null,
      "border": null,
      "bottom": null,
      "display": null,
      "flex": null,
      "flex_flow": null,
      "grid_area": null,
      "grid_auto_columns": null,
      "grid_auto_flow": null,
      "grid_auto_rows": null,
      "grid_column": null,
      "grid_gap": null,
      "grid_row": null,
      "grid_template_areas": null,
      "grid_template_columns": null,
      "grid_template_rows": null,
      "height": null,
      "justify_content": null,
      "justify_items": null,
      "left": null,
      "margin": null,
      "max_height": null,
      "max_width": null,
      "min_height": null,
      "min_width": null,
      "object_fit": null,
      "object_position": null,
      "order": null,
      "overflow": null,
      "overflow_x": null,
      "overflow_y": null,
      "padding": null,
      "right": null,
      "top": null,
      "visibility": null,
      "width": null
     }
    },
    "d58675463c8d4ffcb3b78c3f20f4d21e": {
     "model_module": "@jupyter-widgets/base",
     "model_name": "LayoutModel",
     "state": {
      "_model_module": "@jupyter-widgets/base",
      "_model_module_version": "1.2.0",
      "_model_name": "LayoutModel",
      "_view_count": null,
      "_view_module": "@jupyter-widgets/base",
      "_view_module_version": "1.2.0",
      "_view_name": "LayoutView",
      "align_content": null,
      "align_items": null,
      "align_self": null,
      "border": null,
      "bottom": null,
      "display": null,
      "flex": null,
      "flex_flow": null,
      "grid_area": null,
      "grid_auto_columns": null,
      "grid_auto_flow": null,
      "grid_auto_rows": null,
      "grid_column": null,
      "grid_gap": null,
      "grid_row": null,
      "grid_template_areas": null,
      "grid_template_columns": null,
      "grid_template_rows": null,
      "height": null,
      "justify_content": null,
      "justify_items": null,
      "left": null,
      "margin": null,
      "max_height": null,
      "max_width": null,
      "min_height": null,
      "min_width": null,
      "object_fit": null,
      "object_position": null,
      "order": null,
      "overflow": null,
      "overflow_x": null,
      "overflow_y": null,
      "padding": null,
      "right": null,
      "top": null,
      "visibility": null,
      "width": null
     }
    },
    "d8e8a30e120a473ab5288a99f8335636": {
     "model_module": "@jupyter-widgets/controls",
     "model_name": "ProgressStyleModel",
     "state": {
      "_model_module": "@jupyter-widgets/controls",
      "_model_module_version": "1.5.0",
      "_model_name": "ProgressStyleModel",
      "_view_count": null,
      "_view_module": "@jupyter-widgets/base",
      "_view_module_version": "1.2.0",
      "_view_name": "StyleView",
      "bar_color": null,
      "description_width": "initial"
     }
    },
    "fd7b8076750145aa9b5d8b48224b97b5": {
     "model_module": "@jupyter-widgets/controls",
     "model_name": "DescriptionStyleModel",
     "state": {
      "_model_module": "@jupyter-widgets/controls",
      "_model_module_version": "1.5.0",
      "_model_name": "DescriptionStyleModel",
      "_view_count": null,
      "_view_module": "@jupyter-widgets/base",
      "_view_module_version": "1.2.0",
      "_view_name": "StyleView",
      "description_width": ""
     }
    }
   }
  }
 },
 "nbformat": 4,
 "nbformat_minor": 1
}
