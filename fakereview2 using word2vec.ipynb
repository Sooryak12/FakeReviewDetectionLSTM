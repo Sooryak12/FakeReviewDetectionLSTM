{
 "cells": [
  {
   "cell_type": "code",
   "execution_count": 4,
   "metadata": {
    "colab": {
     "base_uri": "https://localhost:8080/",
     "height": 70
    },
    "colab_type": "code",
    "id": "Z9W3Az_urFtj",
    "outputId": "548c0575-e849-49e3-ccc6-824dff882da8"
   },
   "outputs": [],
   "source": [
    "import pandas as pd\n",
    "import numpy as np\n",
    "import matplotlib.pyplot as plt\n",
    "import seaborn as sns\n",
    "%matplotlib inline\n",
    "import re"
   ]
  },
  {
   "cell_type": "code",
   "execution_count": 5,
   "metadata": {},
   "outputs": [],
   "source": [
    "import tensorflow as tf"
   ]
  },
  {
   "cell_type": "code",
   "execution_count": 6,
   "metadata": {},
   "outputs": [
    {
     "name": "stdout",
     "output_type": "stream",
     "text": [
      "5\n"
     ]
    }
   ],
   "source": [
    "x=\"Hi hello how are you\"\n",
    "print(len(x.split()))"
   ]
  },
  {
   "cell_type": "code",
   "execution_count": 7,
   "metadata": {
    "colab": {
     "base_uri": "https://localhost:8080/",
     "height": 84
    },
    "colab_type": "code",
    "id": "r1VSebGBrFto",
    "outputId": "8201adb4-78a8-4f33-b42c-feba30296de0"
   },
   "outputs": [],
   "source": [
    "import nltk\n",
    "from nltk.tokenize import word_tokenize\n",
    "#nltk.download('stopwords')\n",
    "from nltk.corpus import stopwords\n",
    "stopwords=stopwords.words(\"english\")\n",
    "#nltk.download('wordnet')\n",
    "from nltk.stem import WordNetLemmatizer\n"
   ]
  },
  {
   "cell_type": "code",
   "execution_count": 8,
   "metadata": {
    "colab": {},
    "colab_type": "code",
    "id": "uEGJuURWrFtr"
   },
   "outputs": [],
   "source": [
    "url=\"https://raw.githubusercontent.com/Sooryak12/FakeReviewDetectionLSTM/master/selected.txt\"\n"
   ]
  },
  {
   "cell_type": "code",
   "execution_count": 9,
   "metadata": {
    "colab": {
     "base_uri": "https://localhost:8080/",
     "height": 246
    },
    "colab_type": "code",
    "id": "Wy7lhMw9rvNV",
    "outputId": "f5e447a8-7231-4f1f-8d9f-6eb8c1d9faa0"
   },
   "outputs": [
    {
     "data": {
      "text/html": [
       "<div>\n",
       "<style scoped>\n",
       "    .dataframe tbody tr th:only-of-type {\n",
       "        vertical-align: middle;\n",
       "    }\n",
       "\n",
       "    .dataframe tbody tr th {\n",
       "        vertical-align: top;\n",
       "    }\n",
       "\n",
       "    .dataframe thead th {\n",
       "        text-align: right;\n",
       "    }\n",
       "</style>\n",
       "<table border=\"1\" class=\"dataframe\">\n",
       "  <thead>\n",
       "    <tr style=\"text-align: right;\">\n",
       "      <th></th>\n",
       "      <th>DOC_ID</th>\n",
       "      <th>LABEL</th>\n",
       "      <th>RATING</th>\n",
       "      <th>VERIFIED_PURCHASE</th>\n",
       "      <th>PRODUCT_CATEGORY</th>\n",
       "      <th>PRODUCT_ID</th>\n",
       "      <th>PRODUCT_TITLE</th>\n",
       "      <th>REVIEW_TITLE</th>\n",
       "      <th>REVIEW_TEXT</th>\n",
       "    </tr>\n",
       "  </thead>\n",
       "  <tbody>\n",
       "    <tr>\n",
       "      <th>0</th>\n",
       "      <td>1</td>\n",
       "      <td>__label1__</td>\n",
       "      <td>4</td>\n",
       "      <td>N</td>\n",
       "      <td>PC</td>\n",
       "      <td>B00008NG7N</td>\n",
       "      <td>Targus PAUK10U Ultra Mini USB Keypad, Black</td>\n",
       "      <td>useful</td>\n",
       "      <td>When least you think so, this product will sav...</td>\n",
       "    </tr>\n",
       "    <tr>\n",
       "      <th>1</th>\n",
       "      <td>2</td>\n",
       "      <td>__label1__</td>\n",
       "      <td>4</td>\n",
       "      <td>Y</td>\n",
       "      <td>Wireless</td>\n",
       "      <td>B00LH0Y3NM</td>\n",
       "      <td>Note 3 Battery : Stalion Strength Replacement ...</td>\n",
       "      <td>New era for batteries</td>\n",
       "      <td>Lithium batteries are something new introduced...</td>\n",
       "    </tr>\n",
       "    <tr>\n",
       "      <th>2</th>\n",
       "      <td>3</td>\n",
       "      <td>__label1__</td>\n",
       "      <td>3</td>\n",
       "      <td>N</td>\n",
       "      <td>Baby</td>\n",
       "      <td>B000I5UZ1Q</td>\n",
       "      <td>Fisher-Price Papasan Cradle Swing, Starlight</td>\n",
       "      <td>doesn't swing very well.</td>\n",
       "      <td>I purchased this swing for my baby. She is 6 m...</td>\n",
       "    </tr>\n",
       "    <tr>\n",
       "      <th>3</th>\n",
       "      <td>4</td>\n",
       "      <td>__label1__</td>\n",
       "      <td>4</td>\n",
       "      <td>N</td>\n",
       "      <td>Office Products</td>\n",
       "      <td>B003822IRA</td>\n",
       "      <td>Casio MS-80B Standard Function Desktop Calculator</td>\n",
       "      <td>Great computing!</td>\n",
       "      <td>I was looking for an inexpensive desk calcolat...</td>\n",
       "    </tr>\n",
       "    <tr>\n",
       "      <th>4</th>\n",
       "      <td>5</td>\n",
       "      <td>__label1__</td>\n",
       "      <td>4</td>\n",
       "      <td>N</td>\n",
       "      <td>Beauty</td>\n",
       "      <td>B00PWSAXAM</td>\n",
       "      <td>Shine Whitening - Zero Peroxide Teeth Whitenin...</td>\n",
       "      <td>Only use twice a week</td>\n",
       "      <td>I only use it twice a week and the results are...</td>\n",
       "    </tr>\n",
       "  </tbody>\n",
       "</table>\n",
       "</div>"
      ],
      "text/plain": [
       "   DOC_ID       LABEL  RATING VERIFIED_PURCHASE PRODUCT_CATEGORY  PRODUCT_ID  \\\n",
       "0       1  __label1__       4                 N               PC  B00008NG7N   \n",
       "1       2  __label1__       4                 Y         Wireless  B00LH0Y3NM   \n",
       "2       3  __label1__       3                 N             Baby  B000I5UZ1Q   \n",
       "3       4  __label1__       4                 N  Office Products  B003822IRA   \n",
       "4       5  __label1__       4                 N           Beauty  B00PWSAXAM   \n",
       "\n",
       "                                       PRODUCT_TITLE  \\\n",
       "0        Targus PAUK10U Ultra Mini USB Keypad, Black   \n",
       "1  Note 3 Battery : Stalion Strength Replacement ...   \n",
       "2       Fisher-Price Papasan Cradle Swing, Starlight   \n",
       "3  Casio MS-80B Standard Function Desktop Calculator   \n",
       "4  Shine Whitening - Zero Peroxide Teeth Whitenin...   \n",
       "\n",
       "               REVIEW_TITLE                                        REVIEW_TEXT  \n",
       "0                    useful  When least you think so, this product will sav...  \n",
       "1     New era for batteries  Lithium batteries are something new introduced...  \n",
       "2  doesn't swing very well.  I purchased this swing for my baby. She is 6 m...  \n",
       "3          Great computing!  I was looking for an inexpensive desk calcolat...  \n",
       "4     Only use twice a week  I only use it twice a week and the results are...  "
      ]
     },
     "execution_count": 9,
     "metadata": {},
     "output_type": "execute_result"
    }
   ],
   "source": [
    "df=pd.read_csv(url,delimiter=\"\\t\")\n",
    "df.head()"
   ]
  },
  {
   "cell_type": "code",
   "execution_count": 10,
   "metadata": {
    "colab": {
     "base_uri": "https://localhost:8080/",
     "height": 185
    },
    "colab_type": "code",
    "id": "Mzlf6fxHrFtv",
    "outputId": "b73f045d-c15f-4171-addf-bf9e4797b2c5"
   },
   "outputs": [
    {
     "data": {
      "text/plain": [
       "DOC_ID               0\n",
       "LABEL                0\n",
       "RATING               0\n",
       "VERIFIED_PURCHASE    0\n",
       "PRODUCT_CATEGORY     0\n",
       "PRODUCT_ID           0\n",
       "PRODUCT_TITLE        0\n",
       "REVIEW_TITLE         0\n",
       "REVIEW_TEXT          0\n",
       "dtype: int64"
      ]
     },
     "execution_count": 10,
     "metadata": {},
     "output_type": "execute_result"
    }
   ],
   "source": [
    "df.isnull().sum()"
   ]
  },
  {
   "cell_type": "code",
   "execution_count": 11,
   "metadata": {
    "colab": {
     "base_uri": "https://localhost:8080/",
     "height": 538
    },
    "colab_type": "code",
    "id": "3oKTYn9_rFtx",
    "outputId": "62fa9eb6-5b35-4046-bf6d-54821d5d546f"
   },
   "outputs": [
    {
     "data": {
      "text/plain": [
       "Video DVD                 700\n",
       "Musical Instruments       700\n",
       "Watches                   700\n",
       "Video Games               700\n",
       "Sports                    700\n",
       "Home Entertainment        700\n",
       "Electronics               700\n",
       "Kitchen                   700\n",
       "Beauty                    700\n",
       "Home Improvement          700\n",
       "Outdoors                  700\n",
       "Health & Personal Care    700\n",
       "Grocery                   700\n",
       "Automotive                700\n",
       "Office Products           700\n",
       "Camera                    700\n",
       "Pet Products              700\n",
       "Toys                      700\n",
       "Apparel                   700\n",
       "Books                     700\n",
       "Jewelry                   700\n",
       "Tools                     700\n",
       "Furniture                 700\n",
       "Baby                      700\n",
       "Luggage                   700\n",
       "Home                      700\n",
       "PC                        700\n",
       "Lawn and Garden           700\n",
       "Wireless                  700\n",
       "Shoes                     700\n",
       "Name: PRODUCT_CATEGORY, dtype: int64"
      ]
     },
     "execution_count": 11,
     "metadata": {},
     "output_type": "execute_result"
    }
   ],
   "source": [
    "df[\"PRODUCT_CATEGORY\"].value_counts()"
   ]
  },
  {
   "cell_type": "code",
   "execution_count": 12,
   "metadata": {
    "colab": {},
    "colab_type": "code",
    "id": "Ov5DL2lOrFt0"
   },
   "outputs": [],
   "source": [
    "df[\"LABEL\"]=df[\"LABEL\"].replace(['__label2__','__label1__'],['0','1'])"
   ]
  },
  {
   "cell_type": "code",
   "execution_count": 13,
   "metadata": {
    "colab": {},
    "colab_type": "code",
    "id": "LtiPSOuYrFt3"
   },
   "outputs": [],
   "source": [
    "dfs=df[[\"REVIEW_TEXT\",\"LABEL\",\"PRODUCT_CATEGORY\"]]\n",
    "dfs = dfs.rename(columns={'REVIEW_TEXT': 'reviews',\"LABEL\":\"label\",\"PRODUCT_CATEGORY\":\"cat\"})"
   ]
  },
  {
   "cell_type": "code",
   "execution_count": 14,
   "metadata": {
    "colab": {
     "base_uri": "https://localhost:8080/",
     "height": 185
    },
    "colab_type": "code",
    "id": "4-dHysdUrFt6",
    "outputId": "812b24df-bb15-4447-bb31-c98e9104e12d"
   },
   "outputs": [
    {
     "name": "stdout",
     "output_type": "stream",
     "text": [
      "<class 'pandas.core.frame.DataFrame'>\n",
      "RangeIndex: 21000 entries, 0 to 20999\n",
      "Data columns (total 3 columns):\n",
      " #   Column   Non-Null Count  Dtype \n",
      "---  ------   --------------  ----- \n",
      " 0   reviews  21000 non-null  object\n",
      " 1   label    21000 non-null  object\n",
      " 2   cat      21000 non-null  object\n",
      "dtypes: object(3)\n",
      "memory usage: 492.3+ KB\n"
     ]
    }
   ],
   "source": [
    "dfs.info()"
   ]
  },
  {
   "cell_type": "code",
   "execution_count": 15,
   "metadata": {
    "colab": {},
    "colab_type": "code",
    "id": "dQ6QrpaerFt9"
   },
   "outputs": [],
   "source": [
    "dfs[\"reviews\"]=dfs[\"reviews\"].apply(lambda x:x.lower())\n",
    "dfs[\"reviews\"] = dfs[\"reviews\"].apply(lambda x: re.sub(\"[^a-zA-Z]\", \" \", x))\n",
    "dfs[\"reviews\"] = dfs[\"reviews\"].apply(lambda x: re.sub(\"\\s+\", \" \", x))"
   ]
  },
  {
   "cell_type": "code",
   "execution_count": 16,
   "metadata": {
    "colab": {
     "base_uri": "https://localhost:8080/",
     "height": 67
    },
    "colab_type": "code",
    "id": "j5Yqq2MhrFuA",
    "outputId": "d16ee63e-230a-4c85-f1c0-2d6dffc7b40f"
   },
   "outputs": [
    {
     "data": {
      "text/plain": [
       "1    10500\n",
       "0    10500\n",
       "Name: label, dtype: int64"
      ]
     },
     "execution_count": 16,
     "metadata": {},
     "output_type": "execute_result"
    }
   ],
   "source": [
    "dfs[\"label\"].value_counts()"
   ]
  },
  {
   "cell_type": "markdown",
   "metadata": {
    "colab_type": "text",
    "id": "dOWWD2TYrFuC"
   },
   "source": [
    "The Data is Unbiased"
   ]
  },
  {
   "cell_type": "code",
   "execution_count": 17,
   "metadata": {
    "colab": {
     "base_uri": "https://localhost:8080/",
     "height": 195
    },
    "colab_type": "code",
    "id": "qHZfhRJyrFuD",
    "outputId": "c7b77c2a-a2ec-44a8-fae2-e0981df30c0d"
   },
   "outputs": [
    {
     "data": {
      "text/html": [
       "<div>\n",
       "<style scoped>\n",
       "    .dataframe tbody tr th:only-of-type {\n",
       "        vertical-align: middle;\n",
       "    }\n",
       "\n",
       "    .dataframe tbody tr th {\n",
       "        vertical-align: top;\n",
       "    }\n",
       "\n",
       "    .dataframe thead th {\n",
       "        text-align: right;\n",
       "    }\n",
       "</style>\n",
       "<table border=\"1\" class=\"dataframe\">\n",
       "  <thead>\n",
       "    <tr style=\"text-align: right;\">\n",
       "      <th></th>\n",
       "      <th>reviews</th>\n",
       "      <th>label</th>\n",
       "      <th>cat</th>\n",
       "    </tr>\n",
       "  </thead>\n",
       "  <tbody>\n",
       "    <tr>\n",
       "      <th>0</th>\n",
       "      <td>when least you think so this product will save...</td>\n",
       "      <td>1</td>\n",
       "      <td>PC</td>\n",
       "    </tr>\n",
       "    <tr>\n",
       "      <th>1</th>\n",
       "      <td>lithium batteries are something new introduced...</td>\n",
       "      <td>1</td>\n",
       "      <td>Wireless</td>\n",
       "    </tr>\n",
       "    <tr>\n",
       "      <th>2</th>\n",
       "      <td>i purchased this swing for my baby she is mont...</td>\n",
       "      <td>1</td>\n",
       "      <td>Baby</td>\n",
       "    </tr>\n",
       "    <tr>\n",
       "      <th>3</th>\n",
       "      <td>i was looking for an inexpensive desk calcolat...</td>\n",
       "      <td>1</td>\n",
       "      <td>Office Products</td>\n",
       "    </tr>\n",
       "    <tr>\n",
       "      <th>4</th>\n",
       "      <td>i only use it twice a week and the results are...</td>\n",
       "      <td>1</td>\n",
       "      <td>Beauty</td>\n",
       "    </tr>\n",
       "  </tbody>\n",
       "</table>\n",
       "</div>"
      ],
      "text/plain": [
       "                                             reviews label              cat\n",
       "0  when least you think so this product will save...     1               PC\n",
       "1  lithium batteries are something new introduced...     1         Wireless\n",
       "2  i purchased this swing for my baby she is mont...     1             Baby\n",
       "3  i was looking for an inexpensive desk calcolat...     1  Office Products\n",
       "4  i only use it twice a week and the results are...     1           Beauty"
      ]
     },
     "execution_count": 17,
     "metadata": {},
     "output_type": "execute_result"
    }
   ],
   "source": [
    "dfs.head()"
   ]
  },
  {
   "cell_type": "code",
   "execution_count": 18,
   "metadata": {
    "colab": {
     "base_uri": "https://localhost:8080/",
     "height": 34
    },
    "colab_type": "code",
    "id": "N8LbnnvGrFuF",
    "outputId": "47ee0bbd-aebf-40eb-f16c-c06840cc69c2"
   },
   "outputs": [
    {
     "data": {
      "text/plain": [
       "True"
      ]
     },
     "execution_count": 18,
     "metadata": {},
     "output_type": "execute_result"
    }
   ],
   "source": [
    "\"not\" in stopwords"
   ]
  },
  {
   "cell_type": "code",
   "execution_count": 19,
   "metadata": {
    "colab": {
     "base_uri": "https://localhost:8080/",
     "height": 50
    },
    "colab_type": "code",
    "id": "7FKtWiryrFuI",
    "outputId": "3cd61e32-6a3e-4843-cc1f-bc4356229331"
   },
   "outputs": [],
   "source": [
    "#nltk.download('punkt')\n",
    "def stop(text):\n",
    "    clean_sent =[]\n",
    "    for w in word_tokenize(text):\n",
    "        if not w in stopwords:\n",
    "            clean_sent.append(w)\n",
    "    return (\" \".join(clean_sent))\n",
    "\n",
    "wordnet_lemmatizer = WordNetLemmatizer()\n",
    "\n",
    "def lemmatize(text):\n",
    "\n",
    "    word_tokens = nltk.word_tokenize(text)\n",
    "    lemmatized_word = [wordnet_lemmatizer.lemmatize(word) for word in word_tokens]\n",
    "    return (\" \".join(lemmatized_word))\n"
   ]
  },
  {
   "cell_type": "code",
   "execution_count": 20,
   "metadata": {
    "colab": {},
    "colab_type": "code",
    "id": "cjN6B7YprFuL"
   },
   "outputs": [],
   "source": [
    "#dfs[\"reviews\"]=dfs[\"reviews\"].apply(lemmatize)\n",
    "dfs[\"reviews\"]=dfs[\"reviews\"].apply(stop)"
   ]
  },
  {
   "cell_type": "code",
   "execution_count": 21,
   "metadata": {
    "colab": {
     "base_uri": "https://localhost:8080/",
     "height": 34
    },
    "colab_type": "code",
    "id": "r2tBl1FArFuN",
    "outputId": "f2282e34-90c6-4308-de6b-0e8a9267ce3d"
   },
   "outputs": [
    {
     "data": {
      "text/plain": [
       "'unfortunately work made sick throw two times tried'"
      ]
     },
     "execution_count": 21,
     "metadata": {},
     "output_type": "execute_result"
    }
   ],
   "source": [
    "dfs[\"reviews\"][10]"
   ]
  },
  {
   "cell_type": "code",
   "execution_count": 22,
   "metadata": {
    "colab": {},
    "colab_type": "code",
    "id": "5EMj1QlUrFuP"
   },
   "outputs": [],
   "source": [
    "dfs[\"length\"]=dfs[\"reviews\"].apply(lambda x: len(x.split()))"
   ]
  },
  {
   "cell_type": "code",
   "execution_count": 23,
   "metadata": {},
   "outputs": [
    {
     "data": {
      "text/plain": [
       "0    10\n",
       "1    40\n",
       "2    19\n",
       "3    19\n",
       "4    27\n",
       "Name: length, dtype: int64"
      ]
     },
     "execution_count": 23,
     "metadata": {},
     "output_type": "execute_result"
    }
   ],
   "source": [
    "dfs[\"length\"].head()"
   ]
  },
  {
   "cell_type": "code",
   "execution_count": 24,
   "metadata": {},
   "outputs": [
    {
     "data": {
      "text/plain": [
       "'least think product save day keep around case need something'"
      ]
     },
     "execution_count": 24,
     "metadata": {},
     "output_type": "execute_result"
    }
   ],
   "source": [
    "dfs[\"reviews\"][0]"
   ]
  },
  {
   "cell_type": "code",
   "execution_count": 25,
   "metadata": {
    "colab": {
     "base_uri": "https://localhost:8080/",
     "height": 592
    },
    "colab_type": "code",
    "id": "GyX4TqGBrFuS",
    "outputId": "e9691d32-5982-4381-e720-15e8b76c5a2e"
   },
   "outputs": [
    {
     "data": {
      "image/png": "[encoded data removed]",
      "text/plain": [
       "<Figure size 720x720 with 1 Axes>"
      ]
     },
     "metadata": {
      "needs_background": "light"
     },
     "output_type": "display_data"
    }
   ],
   "source": [
    "plt.figure(figsize=(10,10))\n",
    "sns.countplot(dfs[\"length\"])\n",
    "plt.show()"
   ]
  },
  {
   "cell_type": "code",
   "execution_count": 26,
   "metadata": {},
   "outputs": [
    {
     "data": {
      "text/plain": [
       "34.400285714285715"
      ]
     },
     "execution_count": 26,
     "metadata": {},
     "output_type": "execute_result"
    }
   ],
   "source": [
    "np.mean(dfs[\"length\"])"
   ]
  },
  {
   "cell_type": "markdown",
   "metadata": {
    "colab_type": "text",
    "id": "iojjjiVkrFuU"
   },
   "source": [
    "We see that there are many outliers and the data is heavily left skewed.So we have to do much more analysis to select the proper lenth for the text to embedd."
   ]
  },
  {
   "cell_type": "code",
   "execution_count": 27,
   "metadata": {
    "colab": {},
    "colab_type": "code",
    "id": "6KjC9hmxrFuV"
   },
   "outputs": [],
   "source": [
    "txt=\" mean:{} \\n median:{} \\n maximum length:{} \\n minimum length:{}\".format(np.mean(dfs[\"length\"]),np.median(dfs[\"length\"]),np.max(dfs[\"length\"]),np.min(dfs[\"length\"]))"
   ]
  },
  {
   "cell_type": "code",
   "execution_count": 28,
   "metadata": {
    "colab": {
     "base_uri": "https://localhost:8080/",
     "height": 84
    },
    "colab_type": "code",
    "id": "npz_vaTprFuX",
    "outputId": "1ef98631-8ace-45e9-af82-f84bdecd69d1"
   },
   "outputs": [
    {
     "name": "stdout",
     "output_type": "stream",
     "text": [
      " mean:34.400285714285715 \n",
      " median:22.0 \n",
      " maximum length:1421 \n",
      " minimum length:5\n"
     ]
    }
   ],
   "source": [
    "print(txt)"
   ]
  },
  {
   "cell_type": "code",
   "execution_count": 29,
   "metadata": {
    "colab": {},
    "colab_type": "code",
    "id": "DPYXcWs5rFua"
   },
   "outputs": [],
   "source": [
    "def category(x):\n",
    "    if 0<x<11:\n",
    "        return 5\n",
    "    elif 10<x<21:\n",
    "        return 15\n",
    "    elif 20<x<31:\n",
    "        return 25\n",
    "    elif 30<x<41:\n",
    "        return 35\n",
    "    elif 40<x<50:\n",
    "        return 45\n",
    "    elif 50<x<61:\n",
    "        return 55\n",
    "    elif 60<x<101:\n",
    "        return 80\n",
    "    elif 100<x<301:\n",
    "        return 150\n",
    "    elif 300<x<601:\n",
    "        return 450\n",
    "    elif 600<x<1001:\n",
    "        return 800\n",
    "    elif 1000<x<1501:\n",
    "        return 1250\n",
    "    "
   ]
  },
  {
   "cell_type": "code",
   "execution_count": 30,
   "metadata": {
    "colab": {},
    "colab_type": "code",
    "id": "T86FOb73rFud"
   },
   "outputs": [],
   "source": [
    "dfs[\"textcat\"]=dfs[\"length\"].apply(category)"
   ]
  },
  {
   "cell_type": "code",
   "execution_count": 31,
   "metadata": {
    "colab": {
     "base_uri": "https://localhost:8080/",
     "height": 606
    },
    "colab_type": "code",
    "id": "Z6s4J15zrFug",
    "outputId": "3e5bcb8f-f452-4603-ba50-faeccb47d6e6"
   },
   "outputs": [
    {
     "data": {
      "image/png": "[encoded data removed]",
      "text/plain": [
       "<Figure size 720x720 with 1 Axes>"
      ]
     },
     "metadata": {
      "needs_background": "light"
     },
     "output_type": "display_data"
    }
   ],
   "source": [
    "plt.figure(figsize=(10,10))\n",
    "ax=sns.countplot(dfs[\"textcat\"])\n",
    "ax.set(xlabel=\"Mean Text length\")\n",
    "plt.show()"
   ]
  },
  {
   "cell_type": "code",
   "execution_count": 32,
   "metadata": {
    "colab": {
     "base_uri": "https://localhost:8080/",
     "height": 34
    },
    "colab_type": "code",
    "id": "Npw3mjC8rFui",
    "outputId": "eb06a704-0e09-4df6-cc1f-4b792677cdfb"
   },
   "outputs": [
    {
     "data": {
      "text/plain": [
       "25.0"
      ]
     },
     "execution_count": 32,
     "metadata": {},
     "output_type": "execute_result"
    }
   ],
   "source": [
    "(15+25+35)/3"
   ]
  },
  {
   "cell_type": "markdown",
   "metadata": {
    "colab_type": "text",
    "id": "pVP3hcA3rFul"
   },
   "source": [
    "Ideal Text size will be of 30-40"
   ]
  },
  {
   "cell_type": "code",
   "execution_count": 33,
   "metadata": {
    "colab": {
     "base_uri": "https://localhost:8080/",
     "height": 34
    },
    "colab_type": "code",
    "id": "L-ta_8YArFul",
    "outputId": "dbc33f23-5464-43ac-d065-f20e4d93a96d"
   },
   "outputs": [
    {
     "name": "stdout",
     "output_type": "stream",
     "text": [
      "7\n"
     ]
    }
   ],
   "source": [
    "c=0\n",
    "for i in dfs[\"length\"]:\n",
    "    if 700<i:\n",
    "      c+=1\n",
    "print(c)"
   ]
  },
  {
   "cell_type": "markdown",
   "metadata": {},
   "source": [
    "Texts with text size >700 is just 7 .We can remove them.\n",
    "The above mentioned values are the index of outliers."
   ]
  },
  {
   "cell_type": "code",
   "execution_count": 34,
   "metadata": {},
   "outputs": [
    {
     "name": "stdout",
     "output_type": "stream",
     "text": [
      "16463\n"
     ]
    }
   ],
   "source": [
    "c=0\n",
    "for i in dfs[\"length\"]:\n",
    "    if 40>i>1:\n",
    "      c+=1\n",
    "print(c)"
   ]
  },
  {
   "cell_type": "code",
   "execution_count": 35,
   "metadata": {
    "colab": {
     "base_uri": "https://localhost:8080/",
     "height": 34
    },
    "colab_type": "code",
    "id": "1uWmnP-PrFup",
    "outputId": "7ad0116f-1416-4bd6-c12e-309ea70244e9"
   },
   "outputs": [
    {
     "data": {
      "text/plain": [
       "21000"
      ]
     },
     "execution_count": 35,
     "metadata": {},
     "output_type": "execute_result"
    }
   ],
   "source": [
    "len(dfs[\"length\"])"
   ]
  },
  {
   "cell_type": "code",
   "execution_count": 36,
   "metadata": {
    "colab": {
     "base_uri": "https://localhost:8080/",
     "height": 34
    },
    "colab_type": "code",
    "id": "xXBf0f5QrFus",
    "outputId": "52b9198d-a895-4345-a7b6-5520de6d1d0b"
   },
   "outputs": [
    {
     "data": {
      "text/plain": [
       "0.9486190476190476"
      ]
     },
     "execution_count": 36,
     "metadata": {},
     "output_type": "execute_result"
    }
   ],
   "source": [
    "19921/21000"
   ]
  },
  {
   "cell_type": "code",
   "execution_count": 37,
   "metadata": {
    "colab": {
     "base_uri": "https://localhost:8080/",
     "height": 34
    },
    "colab_type": "code",
    "id": "dX1GMPZBrFuv",
    "outputId": "41dfb867-f4b7-4e1b-b98d-8d7cd7ea55ae"
   },
   "outputs": [
    {
     "data": {
      "text/plain": [
       "0.7771904761904762"
      ]
     },
     "execution_count": 37,
     "metadata": {},
     "output_type": "execute_result"
    }
   ],
   "source": [
    "16321/21000"
   ]
  },
  {
   "cell_type": "code",
   "execution_count": 38,
   "metadata": {
    "colab": {
     "base_uri": "https://localhost:8080/",
     "height": 34
    },
    "colab_type": "code",
    "id": "BL-Q-l7brFuy",
    "outputId": "26b65456-5fa8-48e1-cece-3a7f5780fe2b"
   },
   "outputs": [
    {
     "data": {
      "text/plain": [
       "0.9061904761904762"
      ]
     },
     "execution_count": 38,
     "metadata": {},
     "output_type": "execute_result"
    }
   ],
   "source": [
    "19030/21000"
   ]
  },
  {
   "cell_type": "markdown",
   "metadata": {
    "colab_type": "text",
    "id": "pXO79l_arFu1"
   },
   "source": [
    "90% of the data lies with text size between 1 and 70.So we can remove all the other data.\n",
    "77% of the data lies with text size between 40.As LSTM takes long time to train .This data is enough i guess."
   ]
  },
  {
   "cell_type": "code",
   "execution_count": 39,
   "metadata": {
    "colab": {
     "base_uri": "https://localhost:8080/",
     "height": 34
    },
    "colab_type": "code",
    "id": "fkLXXX2GrFu2",
    "outputId": "8b3fd629-de51-40af-cb18-0975f40230ad"
   },
   "outputs": [
    {
     "data": {
      "text/plain": [
       "Index(['reviews', 'label', 'cat', 'length', 'textcat'], dtype='object')"
      ]
     },
     "execution_count": 39,
     "metadata": {},
     "output_type": "execute_result"
    }
   ],
   "source": [
    "dfs.columns"
   ]
  },
  {
   "cell_type": "code",
   "execution_count": 40,
   "metadata": {
    "colab": {
     "base_uri": "https://localhost:8080/",
     "height": 195
    },
    "colab_type": "code",
    "id": "2J-_JR94rFu-",
    "outputId": "5851d6f5-7e12-458a-92d3-f2b28f57413b"
   },
   "outputs": [
    {
     "data": {
      "text/html": [
       "<div>\n",
       "<style scoped>\n",
       "    .dataframe tbody tr th:only-of-type {\n",
       "        vertical-align: middle;\n",
       "    }\n",
       "\n",
       "    .dataframe tbody tr th {\n",
       "        vertical-align: top;\n",
       "    }\n",
       "\n",
       "    .dataframe thead th {\n",
       "        text-align: right;\n",
       "    }\n",
       "</style>\n",
       "<table border=\"1\" class=\"dataframe\">\n",
       "  <thead>\n",
       "    <tr style=\"text-align: right;\">\n",
       "      <th></th>\n",
       "      <th>reviews</th>\n",
       "      <th>label</th>\n",
       "      <th>cat</th>\n",
       "      <th>length</th>\n",
       "      <th>textcat</th>\n",
       "    </tr>\n",
       "  </thead>\n",
       "  <tbody>\n",
       "    <tr>\n",
       "      <th>0</th>\n",
       "      <td>least think product save day keep around case ...</td>\n",
       "      <td>1</td>\n",
       "      <td>PC</td>\n",
       "      <td>10</td>\n",
       "      <td>5.0</td>\n",
       "    </tr>\n",
       "    <tr>\n",
       "      <th>1</th>\n",
       "      <td>lithium batteries something new introduced mar...</td>\n",
       "      <td>1</td>\n",
       "      <td>Wireless</td>\n",
       "      <td>40</td>\n",
       "      <td>35.0</td>\n",
       "    </tr>\n",
       "    <tr>\n",
       "      <th>2</th>\n",
       "      <td>purchased swing baby months pretty much grown ...</td>\n",
       "      <td>1</td>\n",
       "      <td>Baby</td>\n",
       "      <td>19</td>\n",
       "      <td>15.0</td>\n",
       "    </tr>\n",
       "    <tr>\n",
       "      <th>3</th>\n",
       "      <td>looking inexpensive desk calcolatur works ever...</td>\n",
       "      <td>1</td>\n",
       "      <td>Office Products</td>\n",
       "      <td>19</td>\n",
       "      <td>15.0</td>\n",
       "    </tr>\n",
       "    <tr>\n",
       "      <th>4</th>\n",
       "      <td>use twice week results great used teeth whiten...</td>\n",
       "      <td>1</td>\n",
       "      <td>Beauty</td>\n",
       "      <td>27</td>\n",
       "      <td>25.0</td>\n",
       "    </tr>\n",
       "  </tbody>\n",
       "</table>\n",
       "</div>"
      ],
      "text/plain": [
       "                                             reviews label              cat  \\\n",
       "0  least think product save day keep around case ...     1               PC   \n",
       "1  lithium batteries something new introduced mar...     1         Wireless   \n",
       "2  purchased swing baby months pretty much grown ...     1             Baby   \n",
       "3  looking inexpensive desk calcolatur works ever...     1  Office Products   \n",
       "4  use twice week results great used teeth whiten...     1           Beauty   \n",
       "\n",
       "   length  textcat  \n",
       "0      10      5.0  \n",
       "1      40     35.0  \n",
       "2      19     15.0  \n",
       "3      19     15.0  \n",
       "4      27     25.0  "
      ]
     },
     "execution_count": 40,
     "metadata": {},
     "output_type": "execute_result"
    }
   ],
   "source": [
    "dfs.head()"
   ]
  },
  {
   "cell_type": "code",
   "execution_count": 41,
   "metadata": {
    "colab": {
     "base_uri": "https://localhost:8080/",
     "height": 202
    },
    "colab_type": "code",
    "id": "WZ26t8WYrFvB",
    "outputId": "6bba46b2-1e2c-4b6c-8dfc-0a6f4f4b48c8"
   },
   "outputs": [
    {
     "name": "stdout",
     "output_type": "stream",
     "text": [
      "<class 'pandas.core.frame.DataFrame'>\n",
      "RangeIndex: 21000 entries, 0 to 20999\n",
      "Data columns (total 5 columns):\n",
      " #   Column   Non-Null Count  Dtype  \n",
      "---  ------   --------------  -----  \n",
      " 0   reviews  21000 non-null  object \n",
      " 1   label    21000 non-null  object \n",
      " 2   cat      21000 non-null  object \n",
      " 3   length   21000 non-null  int64  \n",
      " 4   textcat  20896 non-null  float64\n",
      "dtypes: float64(1), int64(1), object(3)\n",
      "memory usage: 820.4+ KB\n"
     ]
    }
   ],
   "source": [
    "dfs.info()"
   ]
  },
  {
   "cell_type": "code",
   "execution_count": 42,
   "metadata": {
    "colab": {},
    "colab_type": "code",
    "id": "LEsC3u5drFvE"
   },
   "outputs": [],
   "source": [
    "dfs=dfs[dfs[\"length\"]<41]"
   ]
  },
  {
   "cell_type": "code",
   "execution_count": 43,
   "metadata": {
    "colab": {},
    "colab_type": "code",
    "id": "qz1l84iTrFvH"
   },
   "outputs": [],
   "source": [
    "test_dfs=dfs"
   ]
  },
  {
   "cell_type": "code",
   "execution_count": 44,
   "metadata": {
    "colab": {},
    "colab_type": "code",
    "id": "7k46tjaUxTUX"
   },
   "outputs": [],
   "source": [
    "#dfs=test_dfs"
   ]
  },
  {
   "cell_type": "code",
   "execution_count": 45,
   "metadata": {
    "colab": {
     "base_uri": "https://localhost:8080/",
     "height": 202
    },
    "colab_type": "code",
    "id": "0CAYPVEwrFvM",
    "outputId": "d72efe5a-b0dd-4971-ea18-56a487e6d665"
   },
   "outputs": [
    {
     "name": "stdout",
     "output_type": "stream",
     "text": [
      "<class 'pandas.core.frame.DataFrame'>\n",
      "Int64Index: 16601 entries, 0 to 20998\n",
      "Data columns (total 5 columns):\n",
      " #   Column   Non-Null Count  Dtype  \n",
      "---  ------   --------------  -----  \n",
      " 0   reviews  16601 non-null  object \n",
      " 1   label    16601 non-null  object \n",
      " 2   cat      16601 non-null  object \n",
      " 3   length   16601 non-null  int64  \n",
      " 4   textcat  16601 non-null  float64\n",
      "dtypes: float64(1), int64(1), object(3)\n",
      "memory usage: 778.2+ KB\n"
     ]
    }
   ],
   "source": [
    "dfs.info()"
   ]
  },
  {
   "cell_type": "code",
   "execution_count": 46,
   "metadata": {
    "colab": {},
    "colab_type": "code",
    "id": "gmR8HIRGw37z"
   },
   "outputs": [],
   "source": [
    "dfs[\"label\"]=dfs[\"label\"].astype(np.float32)"
   ]
  },
  {
   "cell_type": "markdown",
   "metadata": {
    "colab_type": "text",
    "id": "QgvqsH4UrFvQ"
   },
   "source": [
    "we removed the outlier texts."
   ]
  },
  {
   "cell_type": "code",
   "execution_count": 47,
   "metadata": {
    "colab": {
     "base_uri": "https://localhost:8080/",
     "height": 538
    },
    "colab_type": "code",
    "id": "AvN5Em6MrFvQ",
    "outputId": "2273923d-5646-4fad-b789-b26af61b264e"
   },
   "outputs": [
    {
     "data": {
      "text/plain": [
       "Jewelry                   652\n",
       "Shoes                     636\n",
       "Apparel                   626\n",
       "Watches                   603\n",
       "Office Products           590\n",
       "Furniture                 585\n",
       "Automotive                577\n",
       "Home                      576\n",
       "Wireless                  571\n",
       "Musical Instruments       567\n",
       "Outdoors                  563\n",
       "Sports                    559\n",
       "Tools                     557\n",
       "Toys                      554\n",
       "Lawn and Garden           551\n",
       "Luggage                   550\n",
       "Health & Personal Care    549\n",
       "Beauty                    543\n",
       "Home Improvement          542\n",
       "Baby                      540\n",
       "Grocery                   538\n",
       "Pet Products              537\n",
       "Video Games               536\n",
       "Electronics               532\n",
       "PC                        530\n",
       "Kitchen                   525\n",
       "Video DVD                 515\n",
       "Camera                    511\n",
       "Home Entertainment        463\n",
       "Books                     423\n",
       "Name: cat, dtype: int64"
      ]
     },
     "execution_count": 47,
     "metadata": {},
     "output_type": "execute_result"
    }
   ],
   "source": [
    "dfs[\"cat\"].value_counts()"
   ]
  },
  {
   "cell_type": "code",
   "execution_count": 48,
   "metadata": {
    "colab": {
     "base_uri": "https://localhost:8080/",
     "height": 67
    },
    "colab_type": "code",
    "id": "v5nxgNuIrFvV",
    "outputId": "c441087e-588f-462e-e272-d8f24eafb8cf"
   },
   "outputs": [
    {
     "data": {
      "text/plain": [
       "1.0    8882\n",
       "0.0    7719\n",
       "Name: label, dtype: int64"
      ]
     },
     "execution_count": 48,
     "metadata": {},
     "output_type": "execute_result"
    }
   ],
   "source": [
    "dfs[\"label\"].value_counts()"
   ]
  },
  {
   "cell_type": "code",
   "execution_count": 49,
   "metadata": {
    "colab": {
     "base_uri": "https://localhost:8080/",
     "height": 185
    },
    "colab_type": "code",
    "id": "vGw-njwex4E8",
    "outputId": "0a932616-ef33-4cef-fa68-b213fcb43020"
   },
   "outputs": [
    {
     "data": {
      "text/plain": [
       "'least think product save day keep around case need something'"
      ]
     },
     "execution_count": 49,
     "metadata": {},
     "output_type": "execute_result"
    }
   ],
   "source": [
    "dfs[\"reviews\"][0]"
   ]
  },
  {
   "cell_type": "code",
   "execution_count": 50,
   "metadata": {
    "colab": {},
    "colab_type": "code",
    "id": "yWX6U50-rFvm"
   },
   "outputs": [],
   "source": [
    "from sklearn.model_selection import train_test_split"
   ]
  },
  {
   "cell_type": "code",
   "execution_count": 51,
   "metadata": {
    "colab": {},
    "colab_type": "code",
    "id": "r8SpB4A2u_E3"
   },
   "outputs": [],
   "source": [
    "dfs2=dfs"
   ]
  },
  {
   "cell_type": "code",
   "execution_count": 52,
   "metadata": {
    "colab": {},
    "colab_type": "code",
    "id": "3jk9tjh6rFvp"
   },
   "outputs": [],
   "source": [
    "df_train,df_test,Ytrain,Ytest = train_test_split(dfs[\"reviews\"],dfs[\"label\"], test_size=0.2, random_state=101)"
   ]
  },
  {
   "cell_type": "code",
   "execution_count": 53,
   "metadata": {
    "colab": {
     "base_uri": "https://localhost:8080/",
     "height": 35
    },
    "colab_type": "code",
    "id": "Fz84hftarFv1",
    "outputId": "f6237a33-f1a0-4cc3-95be-153b60f3923a"
   },
   "outputs": [
    {
     "data": {
      "text/plain": [
       "'purchased swing baby months pretty much grown loud swing well beautiful though love colors lot settings think worth money'"
      ]
     },
     "execution_count": 53,
     "metadata": {},
     "output_type": "execute_result"
    }
   ],
   "source": [
    "df_train[2]"
   ]
  },
  {
   "cell_type": "code",
   "execution_count": 54,
   "metadata": {
    "colab": {
     "base_uri": "https://localhost:8080/",
     "height": 218
    },
    "colab_type": "code",
    "id": "eYBEW7PmrFv4",
    "outputId": "6ae73cc3-374f-4be8-82e4-c6becb37e2a6"
   },
   "outputs": [
    {
     "data": {
      "text/plain": [
       "2079     purchased item took three weeks delivered stor...\n",
       "6697     husband head try connect nature book great sou...\n",
       "15818    made solar lights sam live thank happy batteri...\n",
       "7200     bought son really loves exceptional quality mu...\n",
       "18571    straight wolf head received flat oval surround...\n",
       "                               ...                        \n",
       "2953     first awful improvement still load garbage was...\n",
       "15618    greatest bubbles easy year old blow bubbles ye...\n",
       "6704     product awesome sparky habit barking day night...\n",
       "9477     tell story bad guy longer bad guy despicable e...\n",
       "16630    ordered st time arrived without detachable cup...\n",
       "Name: reviews, Length: 13280, dtype: object"
      ]
     },
     "execution_count": 54,
     "metadata": {},
     "output_type": "execute_result"
    }
   ],
   "source": [
    "df_train"
   ]
  },
  {
   "cell_type": "code",
   "execution_count": 55,
   "metadata": {},
   "outputs": [
    {
     "name": "stdout",
     "output_type": "stream",
     "text": [
      "19927\n"
     ]
    }
   ],
   "source": [
    "vocab={'pad':0,\"unk\":1}\n",
    "for review in dfs[\"reviews\"]:\n",
    "    \n",
    "    for word in review.split():\n",
    "        if word not in vocab:\n",
    "            vocab[word]=len(vocab)\n",
    "print(len(vocab))"
   ]
  },
  {
   "cell_type": "code",
   "execution_count": 56,
   "metadata": {},
   "outputs": [],
   "source": [
    "import gensim"
   ]
  },
  {
   "cell_type": "code",
   "execution_count": 58,
   "metadata": {},
   "outputs": [],
   "source": [
    "embed_dim=4"
   ]
  },
  {
   "cell_type": "code",
   "execution_count": 63,
   "metadata": {},
   "outputs": [
    {
     "data": {
      "text/plain": [
       "0        least think product save day keep around case ...\n",
       "1        lithium batteries something new introduced mar...\n",
       "2        purchased swing baby months pretty much grown ...\n",
       "3        looking inexpensive desk calcolatur works ever...\n",
       "4        use twice week results great used teeth whiten...\n",
       "                               ...                        \n",
       "20994    slippers soft warm cozy wear size b size fits ...\n",
       "20995    bought work high arches use arch support heels...\n",
       "20996    crocs one two brands shoes feet day work love ...\n",
       "20997    love moccasins fit like custom made br soft co...\n",
       "20998    wish little durable got caught bolt crossing b...\n",
       "Name: reviews, Length: 16601, dtype: object"
      ]
     },
     "execution_count": 63,
     "metadata": {},
     "output_type": "execute_result"
    }
   ],
   "source": [
    "dfs[\"reviews\"]"
   ]
  },
  {
   "cell_type": "code",
   "execution_count": 62,
   "metadata": {},
   "outputs": [
    {
     "name": "stdout",
     "output_type": "stream",
     "text": [
      "27\n"
     ]
    }
   ],
   "source": [
    "wordmodel=gensim.models.Word2Vec(sentences=dfs[\"reviews\"],min_count=1,size=embed_dim,window=5,workers=4)\n",
    "words=list(wordmodel.wv.vocab)\n",
    "print(len(words))"
   ]
  },
  {
   "cell_type": "code",
   "execution_count": 111,
   "metadata": {
    "colab": {},
    "colab_type": "code",
    "id": "DW7h284nrFv6"
   },
   "outputs": [],
   "source": [
    "from tensorflow.keras.preprocessing.text import Tokenizer\n",
    "from tensorflow.keras.preprocessing.sequence import pad_sequences\n",
    "from tensorflow.keras.layers import Dense, Input, GlobalMaxPooling1D\n",
    "from tensorflow.keras.layers import LSTM, Embedding\n",
    "from tensorflow.keras.models import Model"
   ]
  },
  {
   "cell_type": "code",
   "execution_count": null,
   "metadata": {},
   "outputs": [],
   "source": []
  }
 ],
 "metadata": {
  "colab": {
   "collapsed_sections": [],
   "name": "fakereview2.ipynb",
   "provenance": []
  },
  "kernelspec": {
   "display_name": "Python 3",
   "language": "python",
   "name": "python3"
  },
  "language_info": {
   "codemirror_mode": {
    "name": "ipython",
    "version": 3
   },
   "file_extension": ".py",
   "mimetype": "text/x-python",
   "name": "python",
   "nbconvert_exporter": "python",
   "pygments_lexer": "ipython3",
   "version": "3.7.7"
  }
 },
 "nbformat": 4,
 "nbformat_minor": 1
}
